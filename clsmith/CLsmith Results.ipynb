{
 "cells": [
  {
   "cell_type": "markdown",
   "metadata": {},
   "source": [
    "# CLSmith Results\n",
    "\n",
    "To generate results:\n",
    "\n",
    "```\n",
    "# make programs\n",
    "$ ./mkprograms -H cc1 -n 10000\n",
    "# list available OpenCL platforms and devices\n",
    "$ ./clinfo\n",
    "# run programs on platform ID and device ID\n",
    "$ ./runprograms -H cc1 0 0\n",
    "```\n",
    "\n",
    "Connect to results database:"
   ]
  },
  {
   "cell_type": "code",
   "execution_count": 1,
   "metadata": {
    "collapsed": false
   },
   "outputs": [
    {
     "data": {
      "text/plain": [
       "'mysql://cc1:3306/clsmith'"
      ]
     },
     "execution_count": 1,
     "metadata": {},
     "output_type": "execute_result"
    }
   ],
   "source": [
    "import db\n",
    "from db import Program, Testbed, Params, Result, Session\n",
    "\n",
    "hostname = \"cc1\"\n",
    "db.init(hostname)"
   ]
  },
  {
   "cell_type": "markdown",
   "metadata": {},
   "source": [
    "## Overview"
   ]
  },
  {
   "cell_type": "code",
   "execution_count": 2,
   "metadata": {
    "collapsed": false
   },
   "outputs": [
    {
     "data": {
      "text/html": [
       "<div>\n",
       "<table border=\"1\" class=\"dataframe\">\n",
       "  <thead>\n",
       "    <tr style=\"text-align: right;\">\n",
       "      <th></th>\n",
       "      <th></th>\n",
       "      <th>Count</th>\n",
       "    </tr>\n",
       "  </thead>\n",
       "  <tbody>\n",
       "    <tr>\n",
       "      <th>0</th>\n",
       "      <td>Programs</td>\n",
       "      <td>10001</td>\n",
       "    </tr>\n",
       "    <tr>\n",
       "      <th>1</th>\n",
       "      <td>Testbeds</td>\n",
       "      <td>2</td>\n",
       "    </tr>\n",
       "    <tr>\n",
       "      <th>2</th>\n",
       "      <td>Params</td>\n",
       "      <td>3</td>\n",
       "    </tr>\n",
       "    <tr>\n",
       "      <th>3</th>\n",
       "      <td>Results</td>\n",
       "      <td>21170</td>\n",
       "    </tr>\n",
       "  </tbody>\n",
       "</table>\n",
       "</div>"
      ],
      "text/plain": [
       "             Count\n",
       "0  Programs  10001\n",
       "1  Testbeds      2\n",
       "2    Params      3\n",
       "3   Results  21170"
      ]
     },
     "execution_count": 2,
     "metadata": {},
     "output_type": "execute_result"
    }
   ],
   "source": [
    "import pandas as pd\n",
    "\n",
    "data = []\n",
    "with Session() as session:\n",
    "    data.append((\"Programs\", session.query(Program).count()))\n",
    "    data.append((\"Testbeds\", session.query(Testbed).count()))\n",
    "    data.append((\"Params\", session.query(Params).count()))\n",
    "    data.append((\"Results\", session.query(Result).count()))\n",
    "pd.DataFrame(data, columns=[\"\", \"Count\"])"
   ]
  },
  {
   "cell_type": "markdown",
   "metadata": {},
   "source": [
    "### TestBeds"
   ]
  },
  {
   "cell_type": "code",
   "execution_count": 3,
   "metadata": {
    "collapsed": false
   },
   "outputs": [
    {
     "data": {
      "text/html": [
       "<div>\n",
       "<table border=\"1\" class=\"dataframe\">\n",
       "  <thead>\n",
       "    <tr style=\"text-align: right;\">\n",
       "      <th></th>\n",
       "      <th>ID</th>\n",
       "      <th>Name</th>\n",
       "      <th>Driver</th>\n",
       "      <th>#. of Results</th>\n",
       "      <th>% of Total Results</th>\n",
       "    </tr>\n",
       "  </thead>\n",
       "  <tbody>\n",
       "    <tr>\n",
       "      <th>0</th>\n",
       "      <td>9</td>\n",
       "      <td>Intel(R) Xeon(R) CPU E5-2620 v4 @ 2.10GHz</td>\n",
       "      <td>1.2.0.25</td>\n",
       "      <td>12347</td>\n",
       "      <td>58.32%</td>\n",
       "    </tr>\n",
       "    <tr>\n",
       "      <th>1</th>\n",
       "      <td>3</td>\n",
       "      <td>GeForce GTX 1080</td>\n",
       "      <td>375.39</td>\n",
       "      <td>8823</td>\n",
       "      <td>41.68%</td>\n",
       "    </tr>\n",
       "  </tbody>\n",
       "</table>\n",
       "</div>"
      ],
      "text/plain": [
       "   ID                                       Name    Driver  #. of Results  \\\n",
       "0   9  Intel(R) Xeon(R) CPU E5-2620 v4 @ 2.10GHz  1.2.0.25          12347   \n",
       "1   3                           GeForce GTX 1080    375.39           8823   \n",
       "\n",
       "  % of Total Results  \n",
       "0             58.32%  \n",
       "1             41.68%  "
      ]
     },
     "execution_count": 3,
     "metadata": {},
     "output_type": "execute_result"
    }
   ],
   "source": [
    "testbeds = []\n",
    "with Session() as session:\n",
    "    for testbed in session.query(Testbed):\n",
    "        nresult_tb = session.query(Result).filter(Result.testbed_id == testbed.id).count()\n",
    "        ratio_result = \"{:.2%}\".format(nresult_tb / session.query(Result).count())\n",
    "        testbeds.append((testbed.id, testbed.device, testbed.driver, nresult_tb, ratio_result))\n",
    "\n",
    "pd.DataFrame(testbeds, columns=[\"ID\", \"Name\", \"Driver\", \"#. of Results\", \"% of Total Results\"])"
   ]
  },
  {
   "cell_type": "markdown",
   "metadata": {},
   "source": [
    "### Parameters"
   ]
  },
  {
   "cell_type": "code",
   "execution_count": 4,
   "metadata": {
    "collapsed": false
   },
   "outputs": [
    {
     "name": "stdout",
     "output_type": "stream",
     "text": [
      "Optimizations: on, Global size: (1, 1, 1), Local size: (1, 1, 1)\n",
      "Optimizations: off, Global size: (128, 16, 1), Local size: (32, 1, 1)\n",
      "Optimizations: on, Global size: (128, 16, 1), Local size: (32, 1, 1)\n"
     ]
    },
    {
     "data": {
      "text/html": [
       "<div>\n",
       "<table border=\"1\" class=\"dataframe\">\n",
       "  <thead>\n",
       "    <tr style=\"text-align: right;\">\n",
       "      <th></th>\n",
       "      <th>ID</th>\n",
       "      <th>Global size</th>\n",
       "      <th>Local size</th>\n",
       "      <th>Optimizations</th>\n",
       "      <th>#. of Results</th>\n",
       "      <th>% of Total Results</th>\n",
       "    </tr>\n",
       "  </thead>\n",
       "  <tbody>\n",
       "    <tr>\n",
       "      <th>0</th>\n",
       "      <td>3</td>\n",
       "      <td>(1, 1, 1)</td>\n",
       "      <td>(1, 1, 1)</td>\n",
       "      <td>on</td>\n",
       "      <td>39</td>\n",
       "      <td>0.18%</td>\n",
       "    </tr>\n",
       "    <tr>\n",
       "      <th>1</th>\n",
       "      <td>2</td>\n",
       "      <td>(128, 16, 1)</td>\n",
       "      <td>(32, 1, 1)</td>\n",
       "      <td>off</td>\n",
       "      <td>2372</td>\n",
       "      <td>11.20%</td>\n",
       "    </tr>\n",
       "    <tr>\n",
       "      <th>2</th>\n",
       "      <td>1</td>\n",
       "      <td>(128, 16, 1)</td>\n",
       "      <td>(32, 1, 1)</td>\n",
       "      <td>on</td>\n",
       "      <td>18759</td>\n",
       "      <td>88.61%</td>\n",
       "    </tr>\n",
       "  </tbody>\n",
       "</table>\n",
       "</div>"
      ],
      "text/plain": [
       "   ID   Global size  Local size Optimizations  #. of Results  \\\n",
       "0   3     (1, 1, 1)   (1, 1, 1)            on             39   \n",
       "1   2  (128, 16, 1)  (32, 1, 1)           off           2372   \n",
       "2   1  (128, 16, 1)  (32, 1, 1)            on          18759   \n",
       "\n",
       "  % of Total Results  \n",
       "0              0.18%  \n",
       "1             11.20%  \n",
       "2             88.61%  "
      ]
     },
     "execution_count": 4,
     "metadata": {},
     "output_type": "execute_result"
    }
   ],
   "source": [
    "params = []\n",
    "with Session() as session:\n",
    "    for param in session.query(Params).order_by(\n",
    "            Params.gsize_x, Params.gsize_y, Params.gsize_z,\n",
    "            Params.lsize_x, Params.lsize_y, Params.lsize_z, Params.optimizations):\n",
    "        nresult_param = session.query(Result).filter(Result.params_id == param.id).count()\n",
    "        ratio_result = \"{:.2%}\".format(nresult_param / session.query(Result).count())\n",
    "        print(param)\n",
    "        params.append((param.id, param.gsize, param.lsize, param.optimizations_on_off, nresult_param, ratio_result))\n",
    "\n",
    "pd.DataFrame(params, columns=[\"ID\", \"Global size\", \"Local size\", \"Optimizations\", \"#. of Results\", \"% of Total Results\"])"
   ]
  },
  {
   "cell_type": "markdown",
   "metadata": {
    "collapsed": true
   },
   "source": [
    "### Result Exit Status"
   ]
  },
  {
   "cell_type": "code",
   "execution_count": 5,
   "metadata": {
    "collapsed": false
   },
   "outputs": [
    {
     "data": {
      "text/html": [
       "<div>\n",
       "<table border=\"1\" class=\"dataframe\">\n",
       "  <thead>\n",
       "    <tr style=\"text-align: right;\">\n",
       "      <th></th>\n",
       "      <th>Status</th>\n",
       "      <th>Description</th>\n",
       "      <th>#. of Results</th>\n",
       "      <th>% of Total Results</th>\n",
       "    </tr>\n",
       "  </thead>\n",
       "  <tbody>\n",
       "    <tr>\n",
       "      <th>0</th>\n",
       "      <td>-11</td>\n",
       "      <td></td>\n",
       "      <td>239</td>\n",
       "      <td>1.13%</td>\n",
       "    </tr>\n",
       "    <tr>\n",
       "      <th>1</th>\n",
       "      <td>-9</td>\n",
       "      <td>Timeout</td>\n",
       "      <td>1656</td>\n",
       "      <td>7.82%</td>\n",
       "    </tr>\n",
       "    <tr>\n",
       "      <th>2</th>\n",
       "      <td>0</td>\n",
       "      <td>Okay</td>\n",
       "      <td>15714</td>\n",
       "      <td>74.23%</td>\n",
       "    </tr>\n",
       "    <tr>\n",
       "      <th>3</th>\n",
       "      <td>1</td>\n",
       "      <td></td>\n",
       "      <td>3561</td>\n",
       "      <td>16.82%</td>\n",
       "    </tr>\n",
       "  </tbody>\n",
       "</table>\n",
       "</div>"
      ],
      "text/plain": [
       "   Status Description  #. of Results % of Total Results\n",
       "0     -11                        239              1.13%\n",
       "1      -9     Timeout           1656              7.82%\n",
       "2       0        Okay          15714             74.23%\n",
       "3       1                       3561             16.82%"
      ]
     },
     "execution_count": 5,
     "metadata": {},
     "output_type": "execute_result"
    }
   ],
   "source": [
    "import sqlalchemy as sql\n",
    "\n",
    "# exit code descriptions\n",
    "DESCRIPTIONS = {\n",
    "    -9: \"Timeout\",\n",
    "    0: \"Okay\"\n",
    "}\n",
    "\n",
    "statuses = []\n",
    "with db.Session() as session:\n",
    "    nresult = session.query(Result).count()\n",
    "    q = session.query(\n",
    "        Result.status, sql.func.count(Result.status)).group_by(Result.status).order_by(Result.status)\n",
    "    \n",
    "    for status, count in q.all():\n",
    "        ratio = \"{:.2%}\".format(count / nresult)\n",
    "        statuses.append((status, DESCRIPTIONS.get(status, \"\"), count, ratio))\n",
    "\n",
    "pd.DataFrame(statuses, columns=[\"Status\", \"Description\", \"#. of Results\", \"% of Total Results\"])      "
   ]
  },
  {
   "cell_type": "code",
   "execution_count": 6,
   "metadata": {
    "collapsed": false
   },
   "outputs": [
    {
     "name": "stdout",
     "output_type": "stream",
     "text": [
      "Params: Optimizations: off, Global size: (128, 16, 1), Local size: (32, 1, 1)\n",
      "  #. programs with results 2354\n",
      "  #. programs with good results 1585 (67.3% of total)\n",
      "  #. suspicious 1 (0.1% of total)\n",
      "\n",
      "Params: Optimizations: on, Global size: (1, 1, 1), Local size: (1, 1, 1)\n",
      "  #. programs with results 39\n",
      "  #. programs with good results 34 (87.2% of total)\n",
      "  #. suspicious 0 (0.0% of total)\n",
      "\n",
      "Params: Optimizations: on, Global size: (128, 16, 1), Local size: (32, 1, 1)\n",
      "  #. programs with results 10001\n",
      "  #. programs with good results 8109 (81.1% of total)\n",
      "  #. suspicious 1301 (16.0% of total)\n",
      "\n"
     ]
    }
   ],
   "source": [
    "with db.Session() as session:\n",
    "    for param in session.query(db.Params).all():\n",
    "        suspicious = []\n",
    "\n",
    "        print(\"Params:\", param)\n",
    "        programs_with_results = session.query(db.Program).filter(\n",
    "            db.Program.id.in_(session.query(db.Result.program_id).filter(db.Result.params_id == param.id)))\n",
    "        programs_with_good_results = session.query(db.Program).filter(\n",
    "            db.Program.id.in_(session.query(db.Result.program_id).filter(\n",
    "                db.Result.params_id == param.id, db.Result.status == 0)))\n",
    "        ratio_good = programs_with_good_results.count() / programs_with_results.count()\n",
    "\n",
    "        print(\"  #. programs with results\", programs_with_results.count())\n",
    "        print(\"  #. programs with good results\", programs_with_good_results.count(),\n",
    "              \"({ratio_good:.1%} of total)\".format(**vars()))\n",
    "        \n",
    "        for program in programs_with_good_results.all():\n",
    "            q = session.query(db.Result).filter(\n",
    "                    db.Result.program_id == program.id, db.Result.params_id == param.id)\n",
    "            \n",
    "            stdout = set(r.stdout for r in q.all())\n",
    "            if len(stdout) > 1:\n",
    "                suspicious.append(q.first().program_id)\n",
    "        \n",
    "        nsuspicious = len(suspicious)\n",
    "        ratio_suspicious = nsuspicious / programs_with_good_results.count()\n",
    "        print(\"  #. suspicious {nsuspicious} ({ratio_suspicious:.1%} of total)\\n\".format(**vars()))"
   ]
  },
  {
   "cell_type": "code",
   "execution_count": null,
   "metadata": {
    "collapsed": true
   },
   "outputs": [],
   "source": []
  }
 ],
 "metadata": {
  "kernelspec": {
   "display_name": "CLgen",
   "language": "python",
   "name": "clgen"
  },
  "language_info": {
   "codemirror_mode": {
    "name": "ipython",
    "version": 3
   },
   "file_extension": ".py",
   "mimetype": "text/x-python",
   "name": "python",
   "nbconvert_exporter": "python",
   "pygments_lexer": "ipython3",
   "version": "3.5.2"
  }
 },
 "nbformat": 4,
 "nbformat_minor": 2
}
