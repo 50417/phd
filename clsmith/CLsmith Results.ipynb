{
 "cells": [
  {
   "cell_type": "markdown",
   "metadata": {},
   "source": [
    "# CLSmith Results\n",
    "\n",
    "To generate results:\n",
    "\n",
    "```\n",
    "# make programs\n",
    "$ ./mkprograms -H cc1 -n 10000\n",
    "# list available OpenCL platforms and devices\n",
    "$ ./clinfo\n",
    "# run programs on platform ID and device ID\n",
    "$ ./runprograms -H cc1 0 0\n",
    "```"
   ]
  },
  {
   "cell_type": "code",
   "execution_count": 1,
   "metadata": {
    "collapsed": true
   },
   "outputs": [],
   "source": [
    "import db\n",
    "hostname = \"cc1\"\n",
    "db.init(hostname)"
   ]
  },
  {
   "cell_type": "code",
   "execution_count": 2,
   "metadata": {
    "collapsed": false
   },
   "outputs": [
    {
     "name": "stdout",
     "output_type": "stream",
     "text": [
      "#. programs: 2799\n",
      "#. params 1\n",
      "#. testbeds: 2\n",
      "#. results: 1422\n",
      "\n",
      "Testbeds:\n",
      "  id[1] cc1 GeForce GTX 1080, 669 results (47.0% of total)\n",
      "  id[5] cc3 Intel(R) Xeon(R), 753 results (53.0% of total)\n"
     ]
    }
   ],
   "source": [
    "with db.Session() as session:\n",
    "    nprog = session.query(db.Program).count()\n",
    "    nparam = session.query(db.Params).count()\n",
    "    ntestbed = session.query(db.Testbed).count()\n",
    "    nresult = session.query(db.Result).count()\n",
    "    print(\"#. programs:\", nprog)\n",
    "    print(\"#. params\", nparam)\n",
    "    print(\"#. testbeds:\", ntestbed)\n",
    "    print(\"#. results:\", nresult)\n",
    "    print()\n",
    "    print(\"Testbeds:\")\n",
    "    for testbed in session.query(db.Testbed):\n",
    "        nresult_tb = session.query(db.Result).filter(db.Result.testbed_id == testbed.id).count()\n",
    "        ratio_result = nresult_tb / nresult\n",
    "        testbed_str = (\"  id[{testbed.id}] {testbed.hostname} {testbed.device:.16}, \"\n",
    "                       \"{nresult_tb} results ({ratio_result:.1%} of total)\").format(**vars())\n",
    "        print(testbed_str)"
   ]
  },
  {
   "cell_type": "code",
   "execution_count": 3,
   "metadata": {
    "collapsed": false
   },
   "outputs": [
    {
     "name": "stdout",
     "output_type": "stream",
     "text": [
      "Params: global: (128, 16, 1), local: (32, 1, 1)\n",
      "  #. programs with results 753\n",
      "  #. programs with good results 610 (81.0% of total)\n",
      "  #. suspicious 95 (15.6% of total)\n"
     ]
    }
   ],
   "source": [
    "with db.Session() as session:\n",
    "    for param in session.query(db.Params).all():\n",
    "        suspicious = []\n",
    "\n",
    "        print(\"Params:\", param)\n",
    "        programs_with_results = session.query(db.Program).filter(\n",
    "            db.Program.id.in_(session.query(db.Result.program_id).filter(db.Result.params_id == param.id)))\n",
    "        programs_with_good_results = session.query(db.Program).filter(\n",
    "            db.Program.id.in_(session.query(db.Result.program_id).filter(\n",
    "                db.Result.params_id == param.id, db.Result.status == 0)))\n",
    "        ratio_good = programs_with_good_results.count() / programs_with_results.count()\n",
    "\n",
    "        print(\"  #. programs with results\", programs_with_results.count())\n",
    "        print(\"  #. programs with good results\", programs_with_good_results.count(),\n",
    "              \"({ratio_good:.1%} of total)\".format(**vars()))\n",
    "        \n",
    "        for program in programs_with_good_results.all():\n",
    "            q = session.query(db.Result).filter(\n",
    "                    db.Result.program_id == program.id, db.Result.params_id == param.id)\n",
    "            \n",
    "            stdout = set(r.stdout for r in q.all())\n",
    "            if len(stdout) > 1:\n",
    "                suspicious.append(q.first().program_id)\n",
    "        \n",
    "        nsuspicious = len(suspicious)\n",
    "        ratio_suspicious = nsuspicious / programs_with_good_results.count()\n",
    "        print(\"  #. suspicious {nsuspicious} ({ratio_suspicious:.1%} of total)\".format(**vars()))"
   ]
  },
  {
   "cell_type": "code",
   "execution_count": null,
   "metadata": {
    "collapsed": true
   },
   "outputs": [],
   "source": []
  }
 ],
 "metadata": {
  "kernelspec": {
   "display_name": "CLgen",
   "language": "python",
   "name": "clgen"
  },
  "language_info": {
   "codemirror_mode": {
    "name": "ipython",
    "version": 3
   },
   "file_extension": ".py",
   "mimetype": "text/x-python",
   "name": "python",
   "nbconvert_exporter": "python",
   "pygments_lexer": "ipython3",
   "version": "3.5.2"
  }
 },
 "nbformat": 4,
 "nbformat_minor": 2
}
