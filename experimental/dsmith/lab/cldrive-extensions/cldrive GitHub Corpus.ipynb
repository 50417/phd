{
 "cells": [
  {
   "cell_type": "markdown",
   "metadata": {},
   "source": [
    "# cldrive GitHub corpus"
   ]
  },
  {
   "cell_type": "code",
   "execution_count": 1,
   "metadata": {
    "collapsed": true
   },
   "outputs": [],
   "source": [
    "from pathlib import Path\n",
    "\n",
    "paths = [x for x in Path(\"~/data/kernels/github\").expanduser().iterdir() if x.is_file()]"
   ]
  },
  {
   "cell_type": "code",
   "execution_count": 2,
   "metadata": {},
   "outputs": [
    {
     "name": "stderr",
     "output_type": "stream",
     "text": [
      "100% (9285 of 9285) |##################################################################################| Elapsed Time: 0:07:59 Time: 0:07:59\n"
     ]
    },
    {
     "name": "stdout",
     "output_type": "stream",
     "text": [
      "6821 2464\n"
     ]
    }
   ],
   "source": [
    "import cldrive\n",
    "from progressbar import ProgressBar\n",
    "\n",
    "def read_file(path: Path) -> str:\n",
    "    with open(path) as infile:\n",
    "        return infile.read()\n",
    "\n",
    "asts, ast_errs = [], []\n",
    "for path in ProgressBar()(paths):\n",
    "    try:\n",
    "        asts.append(cldrive.parse(read_file(path)))\n",
    "    except Exception as e:\n",
    "        ast_errs.append(e)\n",
    "\n",
    "print(len(asts), len(ast_errs))"
   ]
  },
  {
   "cell_type": "code",
   "execution_count": 4,
   "metadata": {},
   "outputs": [
    {
     "name": "stderr",
     "output_type": "stream",
     "text": [
      "100% (9285 of 9285) |##################################################################################| Elapsed Time: 0:13:45 Time: 0:13:45\n"
     ]
    },
    {
     "name": "stdout",
     "output_type": "stream",
     "text": [
      "3350 5935\n"
     ]
    }
   ],
   "source": [
    "args, args_errs = [], []\n",
    "for path in ProgressBar()(paths):\n",
    "    try:\n",
    "        args.append(cldrive.extract_args(read_file(path)))\n",
    "    except Exception as e:\n",
    "        args_errs.append(e)\n",
    "\n",
    "print(len(args), len(args_errs))"
   ]
  },
  {
   "cell_type": "code",
   "execution_count": 10,
   "metadata": {},
   "outputs": [
    {
     "name": "stderr",
     "output_type": "stream",
     "text": [
      "100% (9285 of 9285) |##################################################################################| Elapsed Time: 0:52:09 Time: 0:52:09\n"
     ]
    },
    {
     "name": "stdout",
     "output_type": "stream",
     "text": [
      "3683 5602\n"
     ]
    }
   ],
   "source": [
    "from clgen import preprocess\n",
    "\n",
    "pps, pps_errs = [], []\n",
    "for path in ProgressBar()(paths):\n",
    "    try:\n",
    "        src = preprocess.compiler_preprocess_cl(read_file(path))\n",
    "        pps.append(cldrive.extract_args(src))\n",
    "    except Exception as e:\n",
    "        pps_errs.append(e)\n",
    "\n",
    "print(len(pps), len(pps_errs))"
   ]
  },
  {
   "cell_type": "code",
   "execution_count": 11,
   "metadata": {},
   "outputs": [
    {
     "data": {
      "text/plain": [
       "2032"
      ]
     },
     "execution_count": 11,
     "metadata": {},
     "output_type": "execute_result"
    }
   ],
   "source": [
    "len([x for x in pps_errs if isinstance(x, LookupError)])"
   ]
  },
  {
   "cell_type": "code",
   "execution_count": 13,
   "metadata": {},
   "outputs": [
    {
     "data": {
      "text/plain": [
       "Counter({'source contains more than one kernel definition': 1051,\n",
       "         'source contains no kernel definitions.': 981})"
      ]
     },
     "execution_count": 13,
     "metadata": {},
     "output_type": "execute_result"
    }
   ],
   "source": [
    "from collections import Counter\n",
    "Counter([str(x) for x in pps_errs if isinstance(x, LookupError)])"
   ]
  },
  {
   "cell_type": "code",
   "execution_count": null,
   "metadata": {
    "collapsed": true
   },
   "outputs": [],
   "source": []
  }
 ],
 "metadata": {
  "kernelspec": {
   "display_name": "CLgen",
   "language": "python",
   "name": "clgen"
  },
  "language_info": {
   "codemirror_mode": {
    "name": "ipython",
    "version": 3
   },
   "file_extension": ".py",
   "mimetype": "text/x-python",
   "name": "python",
   "nbconvert_exporter": "python",
   "pygments_lexer": "ipython3",
   "version": "3.6.1"
  }
 },
 "nbformat": 4,
 "nbformat_minor": 2
}
