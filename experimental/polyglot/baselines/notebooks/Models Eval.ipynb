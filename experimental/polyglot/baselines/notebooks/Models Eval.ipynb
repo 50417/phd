{
 "cells": [
  {
   "cell_type": "code",
   "execution_count": 29,
   "metadata": {},
   "outputs": [],
   "source": [
    "import datetime\n",
    "import pathlib\n",
    "import typing\n",
    "import collections\n",
    "\n",
    "from absl import flags\n",
    "from absl import logging\n",
    "import humanize\n",
    "import matplotlib.pyplot as plt\n",
    "import pandas as pd\n",
    "import numpy as np\n",
    "\n",
    "from deeplearning.clgen import clgen\n",
    "from deeplearning.clgen.corpuses import corpuses\n",
    "from deeplearning.clgen.proto import corpus_pb2\n",
    "from deeplearning.clgen.proto import clgen_pb2\n",
    "from deeplearning.clgen.proto import model_pb2\n",
    "from deeplearning.clgen.proto import sampler_pb2\n",
    "from deeplearning.clgen import clgen\n",
    "from lib.labm8 import bazelutil\n",
    "from lib.labm8 import pbutil\n",
    "from lib.labm8 import viz\n",
    "\n",
    "FLAGS = flags.FLAGS(['argv[0]', '--logtostderr'])"
   ]
  },
  {
   "cell_type": "code",
   "execution_count": 17,
   "metadata": {},
   "outputs": [
    {
     "name": "stdout",
     "output_type": "stream",
     "text": [
      "Loaded 6 instances\n"
     ]
    }
   ],
   "source": [
    "working_dir = '/var/phd/clgen/baseline'\n",
    "\n",
    "def InstanceConfigs(language: str, model: str, temperature: str) -> typing.Dict[str, str]:\n",
    "    return {\n",
    "        'corpus': bazelutil.DataPath(f'phd/experimental/polyglot/baselines/corpuses/{language}-char.pbtxt'),\n",
    "        'model': bazelutil.DataPath(f'phd/experimental/polyglot/baselines/models/{model}.pbtxt'),\n",
    "        'sampler': bazelutil.DataPath(f'phd/experimental/polyglot/baselines/samplers/{language}-{temperature}.pbtxt'),\n",
    "    }\n",
    "\n",
    "def InstanceFromConfigs(config_paths):\n",
    "    corpus_config = pbutil.FromFile(config_paths['corpus'], corpus_pb2.Corpus())\n",
    "    model_config = pbutil.FromFile(config_paths['model'], model_pb2.Model())\n",
    "    sampler_config = pbutil.FromFile(config_paths['sampler'], sampler_pb2.Sampler())\n",
    "    model_config.corpus.CopyFrom(corpus_config)\n",
    "    return clgen.Instance(\n",
    "        clgen_pb2.Instance(working_dir=working_dir, model=model_config, sampler=sampler_config))\n",
    "\n",
    "instances = [\n",
    "    InstanceFromConfigs(InstanceConfigs('opencl', '32-512x2-adam', '1.0')),\n",
    "    InstanceFromConfigs(InstanceConfigs('opencl', '32-1024x2-adam', '1.0')),\n",
    "    InstanceFromConfigs(InstanceConfigs('opencl', '64-512x2-adam', '1.0')),\n",
    "    InstanceFromConfigs(InstanceConfigs('opencl', '64-1024x2-adam', '1.0')),\n",
    "    InstanceFromConfigs(InstanceConfigs('opencl', '128-512x2-adam', '1.0')),\n",
    "    InstanceFromConfigs(InstanceConfigs('opencl', '128-1024x2-adam', '1.0')),\n",
    "    # InstanceFromConfigs(InstanceConfigs('java', '128-1024x2-adam', '1.0')),\n",
    "]\n",
    "print(\"Loaded {} instances\".format(len(instances)))"
   ]
  },
  {
   "cell_type": "code",
   "execution_count": 18,
   "metadata": {},
   "outputs": [
    {
     "name": "stdout",
     "output_type": "stream",
     "text": [
      "Loaded 4 output corpuses\n"
     ]
    }
   ],
   "source": [
    "def GetOutputCorpus(instance: clgen.Instance) -> corpuses.Corpus:\n",
    "    out_dir = instance.model.SamplerCache(instance.sampler)\n",
    "    if not out_dir.is_dir():\n",
    "        return None\n",
    "    output_corpus_config = corpus_pb2.Corpus()\n",
    "    output_corpus_config.CopyFrom(instance.model.corpus.config)\n",
    "    output_corpus_config.local_directory = str(out_dir)\n",
    "    return corpuses.Corpus(output_corpus_config)\n",
    "\n",
    "output_corpuses = [GetOutputCorpus(i) for i in instances]\n",
    "print(\"Loaded {} output corpuses\".format(len([x for x in output_corpuses if x])))"
   ]
  },
  {
   "cell_type": "code",
   "execution_count": null,
   "metadata": {},
   "outputs": [
    {
     "name": "stderr",
     "output_type": "stream",
     "text": [
      "  4% (207 of 5000) |                     | Elapsed Time: 0:02:35 ETA:   0:20:35"
     ]
    }
   ],
   "source": [
    "def InstanceStats(instance: clgen.Instance, output_corpus: corpuses.Corpus) -> typing.Dict[str, typing.Any]:\n",
    "    stats = collections.OrderedDict()\n",
    "    stats['Language'] = {\n",
    "        'opencl': 'OpenCL',\n",
    "        'java': 'Java',\n",
    "    }[pathlib.Path(instance.model.corpus.config.local_directory).stem]\n",
    "    instance.model.corpus.Create()\n",
    "    stats['Encoding'] = 'Character' if 'Ascii' in str(instance.model.corpus.atomizer) else 'Token'\n",
    "    stats['Vocab size'] = instance.model.corpus.atomizer.vocab_size\n",
    "    stats['Corpus size'] = '{:.1f}M'.format(instance.model.corpus.encoded.token_count / 1e6)\n",
    "    stats['Embedding'] = instance.model.config.architecture.embedding_size\n",
    "    stats['Model size'] = f'{instance.model.config.architecture.neurons_per_layer}x{instance.model.config.architecture.num_layers}'\n",
    "    stats['Dropout'] = instance.model.config.architecture.post_layer_dropout_micros / 1e6\n",
    "    if instance.model.config.training.HasField('adam_optimizer'):\n",
    "        stats['Optimizer'] = 'Adam'\n",
    "        stats['Learning rate'] = instance.model.config.training.adam_optimizer.initial_learning_rate_micros / 1e6\n",
    "        stats['Decay'] = instance.model.config.training.adam_optimizer.learning_rate_decay_per_epoch_micros / 1e6\n",
    "    else:\n",
    "        stats['Optimizer'] = 'RMSProp'\n",
    "        stats['Learning rate'] = instance.model.config.training.rmsprop_optimizer.initial_learning_rate_micros / 1e6\n",
    "        stats['Decay'] = instance.model.config.training.rmsprop_optimizer.learning_rate_decay_per_epoch_micros / 1e6\n",
    "    telemetry = instance.model.TrainingTelemetry()\n",
    "    if telemetry:\n",
    "        stats['Epochs'] = len(telemetry)\n",
    "        stats['Final Loss'] = '{:.3f}'.format(telemetry[-1].loss)\n",
    "        stats['Training time'] = humanize.naturaldelta(\n",
    "            datetime.timedelta(seconds=sum(t.epoch_wall_time_ms for t in telemetry) / 1e3))\n",
    "        stats['Time / epoch'] = humanize.naturaldelta(\n",
    "            datetime.timedelta(seconds=np.array([t.epoch_wall_time_ms for t in telemetry]).mean() / 1e3))\n",
    "\n",
    "    if output_corpus:\n",
    "        output_corpus.Create()\n",
    "        samples_dir = instance.model.SamplerCache(instance.sampler)\n",
    "        sample_times = np.array([\n",
    "            pbutil.FromFile(samples_dir / f, model_pb2.Sample, uninitialized_okay=True).wall_time_ms for f in samples_dir.iterdir()\n",
    "        ], dtype=np.int32)\n",
    "        # TODO(cec): Use the number of extracted kernels, not the number of samples themselves.\n",
    "        # Sample times is in milliseconds, and we want time per thousand, so they cancel out.\n",
    "        stats['Time / 1k samples'] = humanize.naturaldelta(\n",
    "            datetime.timedelta(seconds=sample_times.mean()))\n",
    "        stats['Output samples'] = humanize.intcomma(output_corpus.preprocessed.input_size)\n",
    "        stats['Num good'] = humanize.intcomma(output_corpus.preprocessed.size)\n",
    "        stats['Efficiency'] = '{:.2%}'.format(\n",
    "            output_corpus.preprocessed.size / (output_corpus.preprocessed.input_size or 1))\n",
    "    # TODO(cec):\n",
    "    # * Post process discard ratio\n",
    "    # * Time / 1k good samples\n",
    "    return stats\n",
    "\n",
    "stats = pd.DataFrame([InstanceStats(i, o) for i, o in zip(instances, output_corpuses)]).fillna('-')\n",
    "stats"
   ]
  },
  {
   "cell_type": "code",
   "execution_count": 20,
   "metadata": {},
   "outputs": [
    {
     "data": {
      "image/png": "[encoded data removed]",
      "text/plain": [
       "<Figure size 432x288 with 1 Axes>"
      ]
     },
     "metadata": {},
     "output_type": "display_data"
    }
   ],
   "source": [
    "for (_, row), instance in zip(stats.iterrows(), instances):\n",
    "    losses = [t.loss for t in instance.model.TrainingTelemetry()]\n",
    "    plt.plot(range(len(losses)), losses, label=f\"{row['Language']}-{row['Embedding']}-{row['Model size']}\")\n",
    "\n",
    "ax = plt.gca()\n",
    "plt.title('Training Losses')\n",
    "\n",
    "# X axis.\n",
    "# plt.xlim((0, 50 - 1))\n",
    "# ax.set_xticklabels([i + 1 for i in ax.get_xticks()])\n",
    "plt.xlabel('Epochs')\n",
    "\n",
    "# Y axis.\n",
    "plt.ylabel('Loss')\n",
    "\n",
    "plt.legend()\n",
    "viz.finalise(size=(10, 8))"
   ]
  },
  {
   "cell_type": "code",
   "execution_count": null,
   "metadata": {},
   "outputs": [],
   "source": []
  }
 ],
 "metadata": {
  "kernelspec": {
   "display_name": "Python 3",
   "language": "python",
   "name": "python3"
  },
  "language_info": {
   "codemirror_mode": {
    "name": "ipython",
    "version": 3
   },
   "file_extension": ".py",
   "mimetype": "text/x-python",
   "name": "python",
   "nbconvert_exporter": "python",
   "pygments_lexer": "ipython3",
   "version": "3.6.5"
  }
 },
 "nbformat": 4,
 "nbformat_minor": 2
}
