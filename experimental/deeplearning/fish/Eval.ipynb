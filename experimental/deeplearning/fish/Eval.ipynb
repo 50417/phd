{
 "cells": [
  {
   "cell_type": "code",
   "execution_count": 1,
   "metadata": {},
   "outputs": [
    {
     "name": "stderr",
     "output_type": "stream",
     "text": [
      "/home/cec/phd/bazel-bin/experimental/deeplearning/fish/notebooks.runfiles/pypi__h5py_2_7_1/h5py/__init__.py:36: FutureWarning: Conversion of the second argument of issubdtype from `float` to `np.floating` is deprecated. In future, it will be treated as `np.float64 == np.dtype(float).type`.\n",
      "  from ._conv import register_converters as _register_converters\n",
      "Using TensorFlow backend.\n"
     ]
    }
   ],
   "source": [
    "import pathlib\n",
    "import pickle\n",
    "\n",
    "import matplotlib.pyplot as plt\n",
    "import seaborn as sns\n",
    "import keras\n",
    "import humanize\n",
    "import numpy as np\n",
    "from sklearn import metrics\n",
    "\n",
    "from experimental.deeplearning.fish import train_discriminator\n",
    "from experimental.deeplearning.fish.proto import fish_pb2"
   ]
  },
  {
   "cell_type": "code",
   "execution_count": 2,
   "metadata": {},
   "outputs": [],
   "source": [
    "suffix = '_balanced_with_bf'\n",
    "dataset_root = pathlib.Path(f'~/data/experimental/deeplearning/fish/assertion_dataset{suffix}').expanduser()\n",
    "model_path = pathlib.Path(f'~/data/experimental/deeplearning/fish/assertion_model{suffix}').expanduser()"
   ]
  },
  {
   "cell_type": "code",
   "execution_count": 3,
   "metadata": {},
   "outputs": [
    {
     "data": {
      "text/plain": [
       "AsciiCharacterAtomizer[94 chars]"
      ]
     },
     "execution_count": 3,
     "metadata": {},
     "output_type": "execute_result"
    }
   ],
   "source": [
    "with open(model_path / 'atomizer.pkl', 'rb') as f:\n",
    "    atomizer = pickle.load(f)\n",
    "atomizer"
   ]
  },
  {
   "cell_type": "code",
   "execution_count": 4,
   "metadata": {},
   "outputs": [
    {
     "name": "stdout",
     "output_type": "stream",
     "text": [
      "50 checkpoint files\n"
     ]
    }
   ],
   "source": [
    "weights = sorted([p for p in model_path.iterdir() if p.name.startswith('weights')])\n",
    "print(len(weights), 'checkpoint files')"
   ]
  },
  {
   "cell_type": "code",
   "execution_count": 5,
   "metadata": {},
   "outputs": [
    {
     "name": "stdout",
     "output_type": "stream",
     "text": [
      "_________________________________________________________________\n",
      "Layer (type)                 Output Shape              Param #   \n",
      "=================================================================\n",
      "code_in (InputLayer)         (None, 1024)              0         \n",
      "_________________________________________________________________\n",
      "embedding (Embedding)        (None, 1024, 64)          6080      \n",
      "_________________________________________________________________\n",
      "lstm_1 (LSTM)                (None, 1024, 64)          33024     \n",
      "_________________________________________________________________\n",
      "lstm_2 (LSTM)                (None, 1024, 64)          33024     \n",
      "_________________________________________________________________\n",
      "lstm_3 (LSTM)                (None, 64)                33024     \n",
      "_________________________________________________________________\n",
      "dense_1 (Dense)              (None, 32)                2080      \n",
      "_________________________________________________________________\n",
      "dense_2 (Dense)              (None, 2)                 66        \n",
      "=================================================================\n",
      "Total params: 107,298\n",
      "Trainable params: 107,298\n",
      "Non-trainable params: 0\n",
      "_________________________________________________________________\n"
     ]
    }
   ],
   "source": [
    "model = keras.models.load_model(weights[-1])\n",
    "model.summary()"
   ]
  },
  {
   "cell_type": "code",
   "execution_count": 6,
   "metadata": {},
   "outputs": [
    {
     "name": "stdout",
     "output_type": "stream",
     "text": [
      "Number of testing examples: 622\n"
     ]
    }
   ],
   "source": [
    "testing_protos = train_discriminator.LoadPositiveNegativeProtos(\n",
    "      dataset_root / 'testing')\n",
    "print('Number of testing examples:',\n",
    "      humanize.intcomma(len(testing_protos.positive) +\n",
    "                        len(testing_protos.negative)))"
   ]
  },
  {
   "cell_type": "code",
   "execution_count": 7,
   "metadata": {},
   "outputs": [],
   "source": [
    "sequence_length = 1024\n",
    "x, y = train_discriminator.ProtosToModelData(testing_protos, sequence_length, atomizer)\n",
    "protos = testing_protos.positive + testing_protos.negative"
   ]
  },
  {
   "cell_type": "code",
   "execution_count": 8,
   "metadata": {},
   "outputs": [
    {
     "name": "stdout",
     "output_type": "stream",
     "text": [
      "311 / 622 correct. Accuracy: 50.00%\n"
     ]
    }
   ],
   "source": [
    "pred_y = model.predict(x)\n",
    "pred_y_binary = [np.argmax(y) for y in pred_y]\n",
    "num_correct = sum(1 if y_ == py_ else 0 for y_, py_ in zip(y, pred_y_binary))\n",
    "print(num_correct, '/', len(y), 'correct. Accuracy: {:.2%}'.format(num_correct / len(y)))"
   ]
  },
  {
   "cell_type": "code",
   "execution_count": 9,
   "metadata": {},
   "outputs": [
    {
     "data": {
      "text/plain": [
       "array([[311,   0],\n",
       "       [311,   0]])"
      ]
     },
     "execution_count": 9,
     "metadata": {},
     "output_type": "execute_result"
    }
   ],
   "source": [
    "metrics.confusion_matrix(y, pred_y_binary)"
   ]
  },
  {
   "cell_type": "code",
   "execution_count": 10,
   "metadata": {},
   "outputs": [
    {
     "name": "stderr",
     "output_type": "stream",
     "text": [
      "/home/linuxbrew/.linuxbrew/opt/python/lib/python3.6/site-packages/matplotlib/axes/_axes.py:6444: UserWarning: The 'normed' kwarg is deprecated, and has been replaced by the 'density' kwarg.\n",
      "  warnings.warn(\"The 'normed' kwarg is deprecated, and has been \"\n"
     ]
    },
    {
     "data": {
      "text/plain": [
       "<matplotlib.legend.Legend at 0x7f75981759e8>"
      ]
     },
     "execution_count": 10,
     "metadata": {},
     "output_type": "execute_result"
    },
    {
     "data": {
      "image/png": "[encoded data removed]",
      "text/plain": [
       "<Figure size 432x288 with 1 Axes>"
      ]
     },
     "metadata": {},
     "output_type": "display_data"
    }
   ],
   "source": [
    "positive_lengths = np.array([min(len(p.src), sequence_length) for p in testing_protos.positive])\n",
    "negative_lengths = np.array([min(len(p.src), sequence_length) for p in testing_protos.negative])\n",
    "sns.distplot(positive_lengths, bins=np.linspace(0, 1024, 20), kde=False, label='Assertion')\n",
    "sns.distplot(negative_lengths, bins=np.linspace(0, 1024, 20), kde=False, label='No assertion')\n",
    "plt.xlabel('Num characters')\n",
    "plt.ylabel('Num programs')\n",
    "plt.legend()"
   ]
  },
  {
   "cell_type": "code",
   "execution_count": 11,
   "metadata": {},
   "outputs": [
    {
     "name": "stdout",
     "output_type": "stream",
     "text": [
      "311 false negatives, 0 false positives\n"
     ]
    }
   ],
   "source": [
    "false_negatives, false_positives = [], []\n",
    "for proto, y_, pred_y_binary_ in zip(protos, y, pred_y_binary):\n",
    "    if y_ and not pred_y_binary_:\n",
    "        false_negatives.append(proto)\n",
    "    elif not y_ and pred_y_binary_:\n",
    "        false_positives.append(proto)\n",
    "print(len(false_negatives), 'false negatives,', len(false_positives), 'false positives')"
   ]
  },
  {
   "cell_type": "code",
   "execution_count": 12,
   "metadata": {},
   "outputs": [
    {
     "name": "stderr",
     "output_type": "stream",
     "text": [
      "/home/linuxbrew/.linuxbrew/opt/python/lib/python3.6/site-packages/matplotlib/axes/_axes.py:6444: UserWarning: The 'normed' kwarg is deprecated, and has been replaced by the 'density' kwarg.\n",
      "  warnings.warn(\"The 'normed' kwarg is deprecated, and has been \"\n",
      "/home/linuxbrew/.linuxbrew/opt/python/lib/python3.6/site-packages/seaborn/distributions.py:195: RuntimeWarning: Mean of empty slice.\n",
      "  line, = ax.plot(a.mean(), 0)\n",
      "/home/cec/phd/bazel-bin/experimental/deeplearning/fish/notebooks.runfiles/pypi__numpy_1_14_3/numpy/core/_methods.py:80: RuntimeWarning: invalid value encountered in double_scalars\n",
      "  ret = ret.dtype.type(ret / rcount)\n"
     ]
    },
    {
     "data": {
      "text/plain": [
       "<matplotlib.legend.Legend at 0x7f75907f8080>"
      ]
     },
     "execution_count": 12,
     "metadata": {},
     "output_type": "execute_result"
    },
    {
     "data": {
      "image/png": "[encoded data removed]",
      "text/plain": [
       "<Figure size 432x288 with 1 Axes>"
      ]
     },
     "metadata": {},
     "output_type": "display_data"
    }
   ],
   "source": [
    "sns.distplot([len(p.src) for p in false_negatives], bins=np.linspace(0, 1024, 20), kde=False, label='False negatives')\n",
    "sns.distplot([len(p.src) for p in false_positives], bins=np.linspace(0, 1024, 20), kde=False, label='False positives')\n",
    "plt.xlabel('Num characters')\n",
    "plt.ylabel('Num programs')\n",
    "plt.legend()"
   ]
  },
  {
   "cell_type": "markdown",
   "metadata": {},
   "source": [
    "Conclusion: The LSTM is learning to classify programs based largely on program length."
   ]
  },
  {
   "cell_type": "code",
   "execution_count": null,
   "metadata": {},
   "outputs": [],
   "source": []
  }
 ],
 "metadata": {
  "kernelspec": {
   "display_name": "Python 3",
   "language": "python",
   "name": "python3"
  },
  "language_info": {
   "codemirror_mode": {
    "name": "ipython",
    "version": 3
   },
   "file_extension": ".py",
   "mimetype": "text/x-python",
   "name": "python",
   "nbconvert_exporter": "python",
   "pygments_lexer": "ipython3",
   "version": "3.6.5"
  }
 },
 "nbformat": 4,
 "nbformat_minor": 2
}
