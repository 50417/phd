{
 "cells": [
  {
   "cell_type": "code",
   "execution_count": 1,
   "metadata": {
    "collapsed": false
   },
   "outputs": [],
   "source": [
    "import pickle\n",
    "\n",
    "from labm8 import fs\n",
    "from pycparser.plyparser import ParseError\n",
    "from pycparserext.ext_c_parser import OpenCLCParser\n",
    "from pycparserext.ext_c_generator import OpenCLCGenerator"
   ]
  },
  {
   "cell_type": "markdown",
   "metadata": {},
   "source": [
    "**Parse OpenCL AST:**"
   ]
  },
  {
   "cell_type": "code",
   "execution_count": 2,
   "metadata": {
    "collapsed": false
   },
   "outputs": [
    {
     "name": "stdout",
     "output_type": "stream",
     "text": [
      "FileAST: \n",
      "  FuncDef: \n",
      "    Decl: A, [], [], ['__kernel']\n",
      "      FuncDecl: \n",
      "        ParamList: \n",
      "          Decl: a, [], [], []\n",
      "            TypeDecl: a, []\n",
      "              IdentifierType: ['int']\n",
      "          Decl: b, [], [], []\n",
      "            TypeDecl: b, []\n",
      "              IdentifierType: ['int']\n",
      "        TypeDecl: A, []\n",
      "          IdentifierType: ['void']\n",
      "    Compound: \n",
      "      Decl: c, [], [], []\n",
      "        TypeDecl: c, []\n",
      "          IdentifierType: ['float']\n",
      "        BinaryOp: +\n",
      "          ID: a\n",
      "          ID: b\n"
     ]
    }
   ],
   "source": [
    "text = r\"\"\"\n",
    "__kernel void A(int a, int b) {\n",
    "  float c = a + b;\n",
    "}\n",
    "\"\"\"\n",
    "\n",
    "parser = OpenCLCParser()\n",
    "ast = parser.parse(text)\n",
    "ast.show()"
   ]
  },
  {
   "cell_type": "markdown",
   "metadata": {},
   "source": [
    "**Generate code from AST:**"
   ]
  },
  {
   "cell_type": "code",
   "execution_count": 3,
   "metadata": {
    "collapsed": false
   },
   "outputs": [
    {
     "name": "stdout",
     "output_type": "stream",
     "text": [
      "__kernel void A(int a, int b)\n",
      "{\n",
      "  float c = a + b;\n",
      "}\n",
      "\n",
      "\n"
     ]
    }
   ],
   "source": [
    "generator = OpenCLCGenerator()\n",
    "print(generator.visit(ast))"
   ]
  },
  {
   "cell_type": "markdown",
   "metadata": {},
   "source": [
    "**Parsing the GitHub corpus:**"
   ]
  },
  {
   "cell_type": "code",
   "execution_count": 4,
   "metadata": {
    "collapsed": false
   },
   "outputs": [
    {
     "name": "stdout",
     "output_type": "stream",
     "text": [
      "5390 GitHub files (preprocessed)\n",
      "4380 parsed ASTs (81.26%)\n"
     ]
    }
   ],
   "source": [
    "files = fs.ls(fs.path(\"~/data/github\"), abspaths=True)\n",
    "n1 = len(files)\n",
    "print(\"{n1} GitHub files (preprocessed)\".format(**vars()))\n",
    "\n",
    "files = fs.ls(fs.path(\"data/github/ast\"), abspaths=True)\n",
    "n2 = len(files)\n",
    "ratio = n2 / n1\n",
    "print(\"{n2} parsed ASTs ({ratio:.2%})\".format(**vars()))"
   ]
  },
  {
   "cell_type": "markdown",
   "metadata": {
    "collapsed": true
   },
   "source": [
    "**Parsing CLgen programs:**"
   ]
  },
  {
   "cell_type": "code",
   "execution_count": 5,
   "metadata": {
    "collapsed": false
   },
   "outputs": [
    {
     "name": "stdout",
     "output_type": "stream",
     "text": [
      "861339 CLgen files (preprocessed)\n",
      "35 parsed ASTs (0.00%)\n"
     ]
    }
   ],
   "source": [
    "files = fs.ls(fs.path(\"~/data/synthetic-2017-02-01\"), abspaths=True)\n",
    "n1 = len(files)\n",
    "print(\"{n1} CLgen files (preprocessed)\".format(**vars()))\n",
    "\n",
    "files = fs.ls(fs.path(\"data/synthetic-2017-02-01/ast\"), abspaths=True)\n",
    "n2 = len(files)\n",
    "ratio = n2 / n1\n",
    "print(\"{n2} parsed ASTs ({ratio:.2%})\".format(**vars()))"
   ]
  },
  {
   "cell_type": "code",
   "execution_count": null,
   "metadata": {
    "collapsed": true
   },
   "outputs": [],
   "source": []
  }
 ],
 "metadata": {
  "kernelspec": {
   "display_name": "CLgen",
   "language": "python",
   "name": "clgen"
  },
  "language_info": {
   "codemirror_mode": {
    "name": "ipython",
    "version": 3
   },
   "file_extension": ".py",
   "mimetype": "text/x-python",
   "name": "python",
   "nbconvert_exporter": "python",
   "pygments_lexer": "ipython3",
   "version": "3.5.2"
  }
 },
 "nbformat": 4,
 "nbformat_minor": 2
}
