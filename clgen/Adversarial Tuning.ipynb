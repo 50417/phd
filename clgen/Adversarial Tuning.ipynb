{
 "cells": [
  {
   "cell_type": "markdown",
   "metadata": {},
   "source": [
    "# Adversarial Network Tuning\n",
    "\n",
    "Definitions:\n",
    "* Network parameters: $\\Theta$\n",
    "* CLgen model: $G(\\Theta)$\n",
    "* Discriminator model: $D(G(\\Theta))$\n",
    "\n",
    "From candidate params $\\Theta = \\{\\Theta_1, \\Theta_2, \\ldots, \\Theta_n\\}$,\n",
    "find the params $\\Theta_{i}$ which minimize accuracy of the discriminator.\n",
    "\n",
    "Discriminator functions:\n",
    "* Human-or-robot? Distinguish between programs from GitHub and synthesized codes.\n",
    "* Is it *useful*? Determine closest distance to benchmark features (would have to be a different set of benchmarks).\n",
    "\n",
    "\n",
    "1. $\\epsilon = 0.05$\n",
    "1. $\\Theta = newParams()$\n",
    "1. while $abs(D(G(\\Theta)) - 0.5) > \\epsilon$\n",
    "1. `    ` $\\Theta = newParams()$"
   ]
  },
  {
   "cell_type": "markdown",
   "metadata": {},
   "source": [
    "## GitHub Corpus"
   ]
  },
  {
   "cell_type": "code",
   "execution_count": 1,
   "metadata": {
    "collapsed": false
   },
   "outputs": [
    {
     "data": {
      "text/plain": [
       "corpus of 3950 files"
      ]
     },
     "execution_count": 1,
     "metadata": {},
     "output_type": "execute_result"
    }
   ],
   "source": [
    "from clgen.corpus import Corpus\n",
    "\n",
    "corpus = Corpus.from_json({\n",
    "    \"path\": \"~/data/github\",\n",
    "    \"vocabulary\": \"greedy\"\n",
    "})\n",
    "corpus"
   ]
  },
  {
   "cell_type": "code",
   "execution_count": 2,
   "metadata": {
    "collapsed": true
   },
   "outputs": [],
   "source": [
    "import sqlite3\n",
    "\n",
    "def corpus_iter(kernels_db):\n",
    "    \"\"\" fetch preprocessed source codes \"\"\"\n",
    "    db = sqlite3.connect(kernels_db)\n",
    "    c = db.cursor()\n",
    "    c.execute(\"SELECT contents FROM PreprocessedFiles WHERE status=0\")\n",
    "    srcs = [row[0] for row in c.fetchall()]\n",
    "    c.close()\n",
    "    db.close()\n",
    "    return srcs"
   ]
  },
  {
   "cell_type": "code",
   "execution_count": 3,
   "metadata": {
    "collapsed": false
   },
   "outputs": [],
   "source": [
    "import pickle\n",
    "from labm8 import fs\n",
    "\n",
    "datadir = fs.path(\"data\", \"adversarial\")\n",
    "fs.mkdir(datadir)\n",
    "\n",
    "github_srcs = corpus_iter(fs.path(corpus.contentcache.path, \"kernels.db\"))\n",
    "\n",
    "inpath = fs.path(datadir, \"encoded-\" + corpus.hash + \".pkl\")\n",
    "if fs.exists(inpath):\n",
    "    with open(inpath, \"rb\") as infile:\n",
    "        github_seqs = pickle.load(infile)\n",
    "else:\n",
    "    github_seqs = [corpus.atomizer.atomize(x) for x in github_srcs]\n",
    "    with open(inpath, \"wb\") as outfile:\n",
    "        pickle.dump(github_seqs, outfile)\n",
    "        print(\"cached\", inpath)"
   ]
  },
  {
   "cell_type": "code",
   "execution_count": 4,
   "metadata": {
    "collapsed": false
   },
   "outputs": [
    {
     "data": {
      "text/html": [
       "<div>\n",
       "<table border=\"1\" class=\"dataframe\">\n",
       "  <thead>\n",
       "    <tr style=\"text-align: right;\">\n",
       "      <th></th>\n",
       "      <th>Percentile</th>\n",
       "      <th>Sequence Length</th>\n",
       "    </tr>\n",
       "  </thead>\n",
       "  <tbody>\n",
       "    <tr>\n",
       "      <th>0</th>\n",
       "      <td>0</td>\n",
       "      <td>18</td>\n",
       "    </tr>\n",
       "    <tr>\n",
       "      <th>1</th>\n",
       "      <td>10</td>\n",
       "      <td>57</td>\n",
       "    </tr>\n",
       "    <tr>\n",
       "      <th>2</th>\n",
       "      <td>20</td>\n",
       "      <td>80</td>\n",
       "    </tr>\n",
       "    <tr>\n",
       "      <th>3</th>\n",
       "      <td>30</td>\n",
       "      <td>116</td>\n",
       "    </tr>\n",
       "    <tr>\n",
       "      <th>4</th>\n",
       "      <td>40</td>\n",
       "      <td>168</td>\n",
       "    </tr>\n",
       "    <tr>\n",
       "      <th>5</th>\n",
       "      <td>50</td>\n",
       "      <td>266</td>\n",
       "    </tr>\n",
       "    <tr>\n",
       "      <th>6</th>\n",
       "      <td>60</td>\n",
       "      <td>442</td>\n",
       "    </tr>\n",
       "    <tr>\n",
       "      <th>7</th>\n",
       "      <td>70</td>\n",
       "      <td>782</td>\n",
       "    </tr>\n",
       "    <tr>\n",
       "      <th>8</th>\n",
       "      <td>80</td>\n",
       "      <td>1445</td>\n",
       "    </tr>\n",
       "    <tr>\n",
       "      <th>9</th>\n",
       "      <td>90</td>\n",
       "      <td>5332</td>\n",
       "    </tr>\n",
       "    <tr>\n",
       "      <th>10</th>\n",
       "      <td>100</td>\n",
       "      <td>324792</td>\n",
       "    </tr>\n",
       "  </tbody>\n",
       "</table>\n",
       "</div>"
      ],
      "text/plain": [
       "    Percentile  Sequence Length\n",
       "0            0               18\n",
       "1           10               57\n",
       "2           20               80\n",
       "3           30              116\n",
       "4           40              168\n",
       "5           50              266\n",
       "6           60              442\n",
       "7           70              782\n",
       "8           80             1445\n",
       "9           90             5332\n",
       "10         100           324792"
      ]
     },
     "execution_count": 4,
     "metadata": {},
     "output_type": "execute_result"
    }
   ],
   "source": [
    "import numpy as np\n",
    "import pandas as pd\n",
    "\n",
    "lens = np.array([len(x) for x in github_seqs])\n",
    "_data = [{\"Percentile\": x, \"Sequence Length\": int(round(np.percentile(lens, x)))} for x in range(0, 101, 10)]\n",
    "data = pd.DataFrame(_data, columns=[\"Percentile\", \"Sequence Length\"])\n",
    "data"
   ]
  },
  {
   "cell_type": "code",
   "execution_count": 5,
   "metadata": {
    "collapsed": false
   },
   "outputs": [
    {
     "data": {
      "image/png": "[encoded data removed]",
      "text/plain": [
       "<matplotlib.figure.Figure at 0x7f1df8c843c8>"
      ]
     },
     "metadata": {},
     "output_type": "display_data"
    }
   ],
   "source": [
    "def isnotebook():\n",
    "    try:\n",
    "        shell = get_ipython().__class__.__name__\n",
    "        if shell == 'ZMQInteractiveShell':  # Jupyter notebook or qtconsole?\n",
    "            return True\n",
    "        elif shell == 'TerminalInteractiveShell':  # Terminal running IPython?\n",
    "            return False\n",
    "        else:\n",
    "            return False  # Other type (?)\n",
    "    except NameError:\n",
    "        return False      # Probably standard Python interpreter\n",
    "\n",
    "if isnotebook():\n",
    "    import matplotlib.pyplot as plt\n",
    "    import seaborn as sns\n",
    "    %matplotlib inline\n",
    "\n",
    "    plt.semilogy(data[\"Percentile\"], data[\"Sequence Length\"])\n",
    "    plt.title(\"GitHub Corpus\")\n",
    "    plt.xlabel(\"Percentile\")\n",
    "    plt.ylabel(\"Sequence Length\")"
   ]
  },
  {
   "cell_type": "markdown",
   "metadata": {},
   "source": [
    "## Synthetic Corpus"
   ]
  },
  {
   "cell_type": "code",
   "execution_count": 6,
   "metadata": {
    "collapsed": false
   },
   "outputs": [
    {
     "data": {
      "text/plain": [
       "corpus of 55202 files"
      ]
     },
     "execution_count": 6,
     "metadata": {},
     "output_type": "execute_result"
    }
   ],
   "source": [
    "syn_corpus = Corpus.from_json({\n",
    "    \"path\": \"~/data/synthetic-2017-02-01\",\n",
    "    \"vocabulary\": \"greedy\"\n",
    "})\n",
    "syn_corpus"
   ]
  },
  {
   "cell_type": "code",
   "execution_count": 7,
   "metadata": {
    "collapsed": false
   },
   "outputs": [],
   "source": [
    "syn_srcs = corpus_iter(fs.path(syn_corpus.contentcache.path, \"kernels.db\"))\n",
    "\n",
    "inpath = fs.path(datadir, \"encoded-\" + syn_corpus.hash + \".pkl\")\n",
    "if fs.exists(inpath):\n",
    "    with open(inpath, \"rb\") as infile:\n",
    "        syn_seqs = pickle.load(infile)\n",
    "else:\n",
    "    syn_seqs = [corpus.atomizer.atomize(x) for x in syn_srcs]\n",
    "    with open(inpath, \"wb\") as outfile:\n",
    "        pickle.dump(syn_seqs, outfile)\n",
    "        print(\"cached\", inpath)"
   ]
  },
  {
   "cell_type": "markdown",
   "metadata": {},
   "source": [
    "## Discriminator Model"
   ]
  },
  {
   "cell_type": "markdown",
   "metadata": {},
   "source": [
    "Encoded sequence length:"
   ]
  },
  {
   "cell_type": "code",
   "execution_count": 8,
   "metadata": {
    "collapsed": false
   },
   "outputs": [
    {
     "name": "stdout",
     "output_type": "stream",
     "text": [
      "A sequence length of 1024 is the 74.9% percentile of the GitHub corpus.\n",
      "25.1% of sequences will be truncated.\n"
     ]
    }
   ],
   "source": [
    "import scipy.stats\n",
    "\n",
    "seq_length = 1024\n",
    "p1 = scipy.stats.percentileofscore(lens, seq_length)\n",
    "p2 = 100 - p1\n",
    "print(\"\"\"\\\n",
    "A sequence length of {seq_length} is the {p1:.1f}% percentile of the GitHub corpus.\n",
    "{p2:.1f}% of sequences will be truncated.\"\"\".format(**vars()))"
   ]
  },
  {
   "cell_type": "code",
   "execution_count": 9,
   "metadata": {
    "collapsed": true
   },
   "outputs": [],
   "source": [
    "seed = 204\n",
    "\n",
    "# inputs\n",
    "vocab_size = corpus.vocab_size + 1  # pad value\n",
    "\n",
    "# network param\n",
    "embedding_vector_length = 64\n",
    "lstm_size = 64\n",
    "\n",
    "# training param\n",
    "test_split = .2\n",
    "validation_split = .2  # note this is the split of the training set\n",
    "nb_epoch = 50\n",
    "batch_size = 128"
   ]
  },
  {
   "cell_type": "markdown",
   "metadata": {},
   "source": [
    "Assemble dataset:"
   ]
  },
  {
   "cell_type": "code",
   "execution_count": 21,
   "metadata": {
    "collapsed": false
   },
   "outputs": [],
   "source": [
    "# import setGPU\n",
    "from keras.preprocessing.sequence import pad_sequences\n",
    "import random\n",
    "\n",
    "# shuffle sequences before truncating to nmax\n",
    "nmax = min(len(github_seqs), len(syn_seqs))\n",
    "\n",
    "random.seed(seed)\n",
    "random.shuffle(github_seqs)\n",
    "random.shuffle(syn_seqs)\n",
    "\n",
    "# real_x = github_seqs[:nmax]\n",
    "# fake_x = syn_seqs[:nmax]\n",
    "\n",
    "# sanity check:\n",
    "# expected outcome is 50% acc.\n",
    "real_x = github_seqs[:1500]\n",
    "fake_x = github_seqs[:1500]\n",
    "\n",
    "# # sanity check no 1: \n",
    "# real_x = github_seqs[:1500]\n",
    "# fake_x = syn_seqs[1500:3000]"
   ]
  },
  {
   "cell_type": "code",
   "execution_count": 22,
   "metadata": {
    "collapsed": false
   },
   "outputs": [
    {
     "name": "stdout",
     "output_type": "stream",
     "text": [
      "Dataset of 3000 instances (3950 of each type).\n"
     ]
    }
   ],
   "source": [
    "# pad sequences and label '1' for synthetic, '0' for github\n",
    "pad_val = vocab_size - 1\n",
    "\n",
    "X = list(pad_sequences(real_x, maxlen=seq_length, value=pad_val))\n",
    "y = [np.array([1, 0])] * len(real_x)  # 1-hot encoding\n",
    "\n",
    "X += list(pad_sequences(fake_x, maxlen=seq_length, value=pad_val))\n",
    "y += [np.array([0, 1])] * len(fake_x)  # 1-hot encoding\n",
    "\n",
    "dataset = list(zip(X, y))\n",
    "n = len(dataset)\n",
    "\n",
    "X = np.array(X)\n",
    "y = np.array(y)\n",
    "\n",
    "print(\"Dataset of {n} instances ({nmax} of each type).\".format(**vars()))"
   ]
  },
  {
   "cell_type": "markdown",
   "metadata": {},
   "source": [
    "Split into train and test sets:"
   ]
  },
  {
   "cell_type": "code",
   "execution_count": 13,
   "metadata": {
    "collapsed": false
   },
   "outputs": [
    {
     "name": "stdout",
     "output_type": "stream",
     "text": [
      "2400 instances for training (480 of those for validation).\n",
      "600 instances for testing.\n",
      "\n",
      "Ratio of synthetic codes: 50.0% train, 48.5% test.\n"
     ]
    }
   ],
   "source": [
    "from sklearn.model_selection import train_test_split\n",
    "\n",
    "X_train, X_test, y_train, y_test = train_test_split(X, y, test_size=0.2, random_state=seed, stratify=y)\n",
    "\n",
    "n_train = len(X_train)\n",
    "n_train_gh = sum(1 if x[0] == 1 else 0 for x in y_train)\n",
    "n_train_syn = sum(1 if x[1] == 1 else 0 for x in y_train)\n",
    "train_syn_ratio = n_train_syn / n_train\n",
    "assert(n_train_gh + n_train_syn == n_train)\n",
    "\n",
    "n_val = int(len(X_train) * validation_split)\n",
    "\n",
    "n_test = len(X_test)\n",
    "n_test_gh = sum(1 if x[0] == 1 else 0 for x in y_test)\n",
    "n_test_syn = sum(1 if x[1] == 1 else 0 for x in y_test)\n",
    "test_syn_ratio = n_test_syn / n_test\n",
    "\n",
    "print(\"\"\"\\\n",
    "{n_train} instances for training ({n_val} of those for validation).\n",
    "{n_test} instances for testing.\n",
    "\n",
    "Ratio of synthetic codes: {train_syn_ratio:.1%} train, {test_syn_ratio:.1%} test.\\\n",
    "\"\"\".format(**vars()))"
   ]
  },
  {
   "cell_type": "markdown",
   "metadata": {},
   "source": [
    "Discriminator architecture:"
   ]
  },
  {
   "cell_type": "code",
   "execution_count": 14,
   "metadata": {
    "collapsed": false
   },
   "outputs": [
    {
     "name": "stdout",
     "output_type": "stream",
     "text": [
      "____________________________________________________________________________________________________\n",
      "Layer (type)                     Output Shape          Param #     Connected to                     \n",
      "====================================================================================================\n",
      "code_in (InputLayer)             (None, 1024)          0                                            \n",
      "____________________________________________________________________________________________________\n",
      "embedding_1 (Embedding)          (None, 1024, 64)      11392       code_in[0][0]                    \n",
      "____________________________________________________________________________________________________\n",
      "lstm_1 (LSTM)                    (None, 1024, 64)      33024       embedding_1[0][0]                \n",
      "____________________________________________________________________________________________________\n",
      "lstm_2 (LSTM)                    (None, 64)            33024       lstm_1[0][0]                     \n",
      "____________________________________________________________________________________________________\n",
      "out (Dense)                      (None, 2)             130         lstm_2[0][0]                     \n",
      "====================================================================================================\n",
      "Total params: 77,570\n",
      "Trainable params: 77,570\n",
      "Non-trainable params: 0\n",
      "____________________________________________________________________________________________________\n"
     ]
    },
    {
     "data": {
      "image/svg+xml": [
       "<svg height=\"387pt\" viewBox=\"0.00 0.00 334.00 387.00\" width=\"334pt\" xmlns=\"http://www.w3.org/2000/svg\" xmlns:xlink=\"http://www.w3.org/1999/xlink\">\n",
       "<g class=\"graph\" id=\"graph0\" transform=\"scale(1 1) rotate(0) translate(4 383)\">\n",
       "<title>G</title>\n",
       "<polygon fill=\"white\" points=\"-4,4 -4,-383 330,-383 330,4 -4,4\" stroke=\"none\"/>\n",
       "<!-- 139766494983504 -->\n",
       "<g class=\"node\" id=\"node1\"><title>139766494983504</title>\n",
       "<polygon fill=\"none\" points=\"27.5,-332.5 27.5,-378.5 298.5,-378.5 298.5,-332.5 27.5,-332.5\" stroke=\"black\"/>\n",
       "<text font-family=\"Times,serif\" font-size=\"14.00\" text-anchor=\"middle\" x=\"91\" y=\"-351.8\">code_in: InputLayer</text>\n",
       "<polyline fill=\"none\" points=\"154.5,-332.5 154.5,-378.5 \" stroke=\"black\"/>\n",
       "<text font-family=\"Times,serif\" font-size=\"14.00\" text-anchor=\"middle\" x=\"182\" y=\"-363.3\">input:</text>\n",
       "<polyline fill=\"none\" points=\"154.5,-355.5 209.5,-355.5 \" stroke=\"black\"/>\n",
       "<text font-family=\"Times,serif\" font-size=\"14.00\" text-anchor=\"middle\" x=\"182\" y=\"-340.3\">output:</text>\n",
       "<polyline fill=\"none\" points=\"209.5,-332.5 209.5,-378.5 \" stroke=\"black\"/>\n",
       "<text font-family=\"Times,serif\" font-size=\"14.00\" text-anchor=\"middle\" x=\"254\" y=\"-363.3\">(None, 1024)</text>\n",
       "<polyline fill=\"none\" points=\"209.5,-355.5 298.5,-355.5 \" stroke=\"black\"/>\n",
       "<text font-family=\"Times,serif\" font-size=\"14.00\" text-anchor=\"middle\" x=\"254\" y=\"-340.3\">(None, 1024)</text>\n",
       "</g>\n",
       "<!-- 139766493793416 -->\n",
       "<g class=\"node\" id=\"node2\"><title>139766493793416</title>\n",
       "<polygon fill=\"none\" points=\"0,-249.5 0,-295.5 326,-295.5 326,-249.5 0,-249.5\" stroke=\"black\"/>\n",
       "<text font-family=\"Times,serif\" font-size=\"14.00\" text-anchor=\"middle\" x=\"80.5\" y=\"-268.8\">embedding_1: Embedding</text>\n",
       "<polyline fill=\"none\" points=\"161,-249.5 161,-295.5 \" stroke=\"black\"/>\n",
       "<text font-family=\"Times,serif\" font-size=\"14.00\" text-anchor=\"middle\" x=\"188.5\" y=\"-280.3\">input:</text>\n",
       "<polyline fill=\"none\" points=\"161,-272.5 216,-272.5 \" stroke=\"black\"/>\n",
       "<text font-family=\"Times,serif\" font-size=\"14.00\" text-anchor=\"middle\" x=\"188.5\" y=\"-257.3\">output:</text>\n",
       "<polyline fill=\"none\" points=\"216,-249.5 216,-295.5 \" stroke=\"black\"/>\n",
       "<text font-family=\"Times,serif\" font-size=\"14.00\" text-anchor=\"middle\" x=\"271\" y=\"-280.3\">(None, 1024)</text>\n",
       "<polyline fill=\"none\" points=\"216,-272.5 326,-272.5 \" stroke=\"black\"/>\n",
       "<text font-family=\"Times,serif\" font-size=\"14.00\" text-anchor=\"middle\" x=\"271\" y=\"-257.3\">(None, 1024, 64)</text>\n",
       "</g>\n",
       "<!-- 139766494983504&#45;&gt;139766493793416 -->\n",
       "<g class=\"edge\" id=\"edge1\"><title>139766494983504-&gt;139766493793416</title>\n",
       "<path d=\"M163,-332.366C163,-324.152 163,-314.658 163,-305.725\" fill=\"none\" stroke=\"black\"/>\n",
       "<polygon fill=\"black\" points=\"166.5,-305.607 163,-295.607 159.5,-305.607 166.5,-305.607\" stroke=\"black\"/>\n",
       "</g>\n",
       "<!-- 139766493793640 -->\n",
       "<g class=\"node\" id=\"node3\"><title>139766493793640</title>\n",
       "<polygon fill=\"none\" points=\"31.5,-166.5 31.5,-212.5 294.5,-212.5 294.5,-166.5 31.5,-166.5\" stroke=\"black\"/>\n",
       "<text font-family=\"Times,serif\" font-size=\"14.00\" text-anchor=\"middle\" x=\"80.5\" y=\"-185.8\">lstm_1: LSTM</text>\n",
       "<polyline fill=\"none\" points=\"129.5,-166.5 129.5,-212.5 \" stroke=\"black\"/>\n",
       "<text font-family=\"Times,serif\" font-size=\"14.00\" text-anchor=\"middle\" x=\"157\" y=\"-197.3\">input:</text>\n",
       "<polyline fill=\"none\" points=\"129.5,-189.5 184.5,-189.5 \" stroke=\"black\"/>\n",
       "<text font-family=\"Times,serif\" font-size=\"14.00\" text-anchor=\"middle\" x=\"157\" y=\"-174.3\">output:</text>\n",
       "<polyline fill=\"none\" points=\"184.5,-166.5 184.5,-212.5 \" stroke=\"black\"/>\n",
       "<text font-family=\"Times,serif\" font-size=\"14.00\" text-anchor=\"middle\" x=\"239.5\" y=\"-197.3\">(None, 1024, 64)</text>\n",
       "<polyline fill=\"none\" points=\"184.5,-189.5 294.5,-189.5 \" stroke=\"black\"/>\n",
       "<text font-family=\"Times,serif\" font-size=\"14.00\" text-anchor=\"middle\" x=\"239.5\" y=\"-174.3\">(None, 1024, 64)</text>\n",
       "</g>\n",
       "<!-- 139766493793416&#45;&gt;139766493793640 -->\n",
       "<g class=\"edge\" id=\"edge2\"><title>139766493793416-&gt;139766493793640</title>\n",
       "<path d=\"M163,-249.366C163,-241.152 163,-231.658 163,-222.725\" fill=\"none\" stroke=\"black\"/>\n",
       "<polygon fill=\"black\" points=\"166.5,-222.607 163,-212.607 159.5,-222.607 166.5,-222.607\" stroke=\"black\"/>\n",
       "</g>\n",
       "<!-- 139766492973488 -->\n",
       "<g class=\"node\" id=\"node4\"><title>139766492973488</title>\n",
       "<polygon fill=\"none\" points=\"31.5,-83.5 31.5,-129.5 294.5,-129.5 294.5,-83.5 31.5,-83.5\" stroke=\"black\"/>\n",
       "<text font-family=\"Times,serif\" font-size=\"14.00\" text-anchor=\"middle\" x=\"80.5\" y=\"-102.8\">lstm_2: LSTM</text>\n",
       "<polyline fill=\"none\" points=\"129.5,-83.5 129.5,-129.5 \" stroke=\"black\"/>\n",
       "<text font-family=\"Times,serif\" font-size=\"14.00\" text-anchor=\"middle\" x=\"157\" y=\"-114.3\">input:</text>\n",
       "<polyline fill=\"none\" points=\"129.5,-106.5 184.5,-106.5 \" stroke=\"black\"/>\n",
       "<text font-family=\"Times,serif\" font-size=\"14.00\" text-anchor=\"middle\" x=\"157\" y=\"-91.3\">output:</text>\n",
       "<polyline fill=\"none\" points=\"184.5,-83.5 184.5,-129.5 \" stroke=\"black\"/>\n",
       "<text font-family=\"Times,serif\" font-size=\"14.00\" text-anchor=\"middle\" x=\"239.5\" y=\"-114.3\">(None, 1024, 64)</text>\n",
       "<polyline fill=\"none\" points=\"184.5,-106.5 294.5,-106.5 \" stroke=\"black\"/>\n",
       "<text font-family=\"Times,serif\" font-size=\"14.00\" text-anchor=\"middle\" x=\"239.5\" y=\"-91.3\">(None, 64)</text>\n",
       "</g>\n",
       "<!-- 139766493793640&#45;&gt;139766492973488 -->\n",
       "<g class=\"edge\" id=\"edge3\"><title>139766493793640-&gt;139766492973488</title>\n",
       "<path d=\"M163,-166.366C163,-158.152 163,-148.658 163,-139.725\" fill=\"none\" stroke=\"black\"/>\n",
       "<polygon fill=\"black\" points=\"166.5,-139.607 163,-129.607 159.5,-139.607 166.5,-139.607\" stroke=\"black\"/>\n",
       "</g>\n",
       "<!-- 139766490464040 -->\n",
       "<g class=\"node\" id=\"node5\"><title>139766490464040</title>\n",
       "<polygon fill=\"none\" points=\"60,-0.5 60,-46.5 266,-46.5 266,-0.5 60,-0.5\" stroke=\"black\"/>\n",
       "<text font-family=\"Times,serif\" font-size=\"14.00\" text-anchor=\"middle\" x=\"97.5\" y=\"-19.8\">out: Dense</text>\n",
       "<polyline fill=\"none\" points=\"135,-0.5 135,-46.5 \" stroke=\"black\"/>\n",
       "<text font-family=\"Times,serif\" font-size=\"14.00\" text-anchor=\"middle\" x=\"162.5\" y=\"-31.3\">input:</text>\n",
       "<polyline fill=\"none\" points=\"135,-23.5 190,-23.5 \" stroke=\"black\"/>\n",
       "<text font-family=\"Times,serif\" font-size=\"14.00\" text-anchor=\"middle\" x=\"162.5\" y=\"-8.3\">output:</text>\n",
       "<polyline fill=\"none\" points=\"190,-0.5 190,-46.5 \" stroke=\"black\"/>\n",
       "<text font-family=\"Times,serif\" font-size=\"14.00\" text-anchor=\"middle\" x=\"228\" y=\"-31.3\">(None, 64)</text>\n",
       "<polyline fill=\"none\" points=\"190,-23.5 266,-23.5 \" stroke=\"black\"/>\n",
       "<text font-family=\"Times,serif\" font-size=\"14.00\" text-anchor=\"middle\" x=\"228\" y=\"-8.3\">(None, 2)</text>\n",
       "</g>\n",
       "<!-- 139766492973488&#45;&gt;139766490464040 -->\n",
       "<g class=\"edge\" id=\"edge4\"><title>139766492973488-&gt;139766490464040</title>\n",
       "<path d=\"M163,-83.3664C163,-75.1516 163,-65.6579 163,-56.7252\" fill=\"none\" stroke=\"black\"/>\n",
       "<polygon fill=\"black\" points=\"166.5,-56.6068 163,-46.6068 159.5,-56.6069 166.5,-56.6068\" stroke=\"black\"/>\n",
       "</g>\n",
       "</g>\n",
       "</svg>"
      ],
      "text/plain": [
       "<IPython.core.display.SVG object>"
      ]
     },
     "execution_count": 14,
     "metadata": {},
     "output_type": "execute_result"
    }
   ],
   "source": [
    "from keras.layers import Input, Dropout, Embedding, LSTM, Dense\n",
    "from keras.models import Model, load_model\n",
    "from keras.utils.visualize_util import model_to_dot\n",
    "from IPython.display import SVG\n",
    "\n",
    "def create_model():\n",
    "    \"\"\" instantiate model \"\"\"\n",
    "    data_in = Input(shape=(2,), name=\"data_in\")\n",
    "    np.random.seed(seed)\n",
    "    \n",
    "    code_in = Input(shape=(seq_length,), dtype=\"int32\", name=\"code_in\")\n",
    "    x = Embedding(output_dim=embedding_vector_length, input_dim=vocab_size, input_length=seq_length)(code_in)\n",
    "    x = LSTM(lstm_size, input_dim=vocab_size, input_length=seq_length, consume_less=\"mem\", return_sequences=True)(x)\n",
    "    x = LSTM(lstm_size, consume_less=\"mem\")(x)\n",
    "    out = Dense(2, activation=\"sigmoid\", name=\"out\")(x)\n",
    "\n",
    "    model = Model(input=code_in, output=out)\n",
    "    model.compile(optimizer=\"adam\", loss=\"categorical_crossentropy\", metrics=['accuracy'])\n",
    "    return model\n",
    "\n",
    "_m = create_model()\n",
    "_m.summary()\n",
    "SVG(model_to_dot(_m, show_shapes=True).create(prog='dot', format='svg'))"
   ]
  },
  {
   "cell_type": "markdown",
   "metadata": {},
   "source": [
    "Create and train model:"
   ]
  },
  {
   "cell_type": "code",
   "execution_count": 15,
   "metadata": {
    "collapsed": false
   },
   "outputs": [],
   "source": [
    "import clgen\n",
    "\n",
    "train_hash = clgen.checksum(X_train.tostring() + bytes(seed))\n",
    "model_path = fs.path(datadir, \"model-{train_hash}.h5\".format(**vars()))\n",
    "\n",
    "if fs.exists(model_path):\n",
    "    model = load_model(model_path)\n",
    "else:\n",
    "    model = create_model()\n",
    "    np.random.seed(seed)\n",
    "    model.fit(X_train, y_train, nb_epoch=nb_epoch, validation_split=validation_split,\n",
    "              batch_size=batch_size, verbose=1, shuffle=True)\n",
    "\n",
    "    model.save(model_path)\n",
    "    print(\"cached\", model_path)"
   ]
  },
  {
   "cell_type": "markdown",
   "metadata": {},
   "source": [
    "Test model:"
   ]
  },
  {
   "cell_type": "code",
   "execution_count": 16,
   "metadata": {
    "collapsed": false
   },
   "outputs": [],
   "source": [
    "test_hash = clgen.checksum(X_test.tostring() + bytes(seed))\n",
    "predictions_path = fs.path(datadir, \"predictions-{test_hash}.pkl\".format(**vars()))\n",
    "\n",
    "if fs.exists(predictions_path):\n",
    "    with open(predictions_path, \"rb\") as infile:\n",
    "        predictions = pickle.load(infile)\n",
    "else:\n",
    "    predictions = np.array(model.predict(X_test, batch_size=batch_size, verbose=0))\n",
    "    with open(predictions_path, \"wb\") as outfile:\n",
    "        pickle.dump(predictions, outfile)\n",
    "        print(\"cached\", predictions_path)"
   ]
  },
  {
   "cell_type": "markdown",
   "metadata": {},
   "source": [
    "Evaluate results:"
   ]
  },
  {
   "cell_type": "code",
   "execution_count": 17,
   "metadata": {
    "collapsed": false
   },
   "outputs": [
    {
     "name": "stdout",
     "output_type": "stream",
     "text": [
      "Discriminator correctly classified 503 of 600 instances (83.8%)\n"
     ]
    }
   ],
   "source": [
    "true_syn = sum(1 for x in y_test if x[1] == 1)\n",
    "true_gh = sum(1 for x in y_test if x[0] == 1)\n",
    "assert(true_syn + true_gh == len(y_test))\n",
    "\n",
    "clipped = [(0, 1) if y > x else (1, 0) for x, y in predictions]\n",
    "correct = [1 if x[0] == y[0] and x[1] == y[1] else 0 for (x, y) in zip(clipped, y_test)]\n",
    "n_correct = sum(correct)\n",
    "\n",
    "score = n_correct / n_test\n",
    "print(\"\"\"\\\n",
    "Discriminator correctly classified {n_correct} of {n_test} instances ({score:.1%})\\\n",
    "\"\"\".format(**vars()))"
   ]
  },
  {
   "cell_type": "code",
   "execution_count": 20,
   "metadata": {
    "collapsed": false
   },
   "outputs": [
    {
     "data": {
      "image/png": "[encoded data removed]",
      "text/plain": [
       "<matplotlib.figure.Figure at 0x7f1d58735518>"
      ]
     },
     "metadata": {},
     "output_type": "display_data"
    }
   ],
   "source": [
    "if isnotebook():\n",
    "    data = pd.DataFrame([\n",
    "        {\"source\": \"Truth\", \"Kernel source\": \"Synthetic\", \"Y\": sum(x[1] for x in y_test) / n_test},\n",
    "        {\"source\": \"Truth\", \"Kernel source\": \"Real\", \"Y\": sum(x[0] for x in y_test) / n_test},\n",
    "        {\"source\": \"Discriminator\", \"Kernel source\": \"Synthetic\", \"Y\": sum(x[1] for x in clipped) / n_test},\n",
    "        {\"source\": \"Discriminator\", \"Kernel source\": \"Real\", \"Y\": sum(x[0] for x in clipped) / n_test},\n",
    "    ])\n",
    "    sns.barplot(data=data, x=\"Kernel source\", y=\"Y\", hue=\"source\")\n",
    "    plt.ylabel(\"Ratio of kernels (%)\")\n",
    "    plt.ylim((0, 1))\n",
    "    plt.legend(title=\"\")"
   ]
  },
  {
   "cell_type": "code",
   "execution_count": null,
   "metadata": {
    "collapsed": true
   },
   "outputs": [],
   "source": []
  }
 ],
 "metadata": {
  "kernelspec": {
   "display_name": "CLgen",
   "language": "python",
   "name": "clgen"
  },
  "language_info": {
   "codemirror_mode": {
    "name": "ipython",
    "version": 3
   },
   "file_extension": ".py",
   "mimetype": "text/x-python",
   "name": "python",
   "nbconvert_exporter": "python",
   "pygments_lexer": "ipython3",
   "version": "3.5.2"
  }
 },
 "nbformat": 4,
 "nbformat_minor": 2
}
