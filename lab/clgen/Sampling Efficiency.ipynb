{
 "cells": [
  {
   "cell_type": "markdown",
   "metadata": {},
   "source": [
    "# CLgen Sampling\n",
    "-----\n",
    "Dec 2016."
   ]
  },
  {
   "cell_type": "code",
   "execution_count": 4,
   "metadata": {
    "collapsed": false
   },
   "outputs": [],
   "source": [
    "# preamble\n",
    "%reload_ext autoreload\n",
    "%autoreload 2\n",
    "%matplotlib inline\n",
    "\n",
    "from labm8 import fs\n",
    "from labm8 import viz\n",
    "\n",
    "import clgen\n",
    "from clgen import corpus"
   ]
  },
  {
   "cell_type": "markdown",
   "metadata": {},
   "source": [
    "## Experimental methodology\n",
    "\n",
    "Experimental platforms: cc[123]. NVIDIA GTX 1080.\n",
    "\n",
    "* Train on GitHub corpus.\n",
    "* Generate 1000 samples.\n",
    "* Reject bad samples.\n",
    "\n",
    "Commands:\n",
    "\n",
    "```\n",
    "$ export CUDA_VISIBLE_DEVICES=0\n",
    "$ export MODEL=model-128x3x50\n",
    "$ cd ~/phd/lab/clgen/inference\n",
    "$ python ./inference.py $MODEL.json 2>&1 | tee inference-$MODEL.log\n",
    "```"
   ]
  },
  {
   "cell_type": "code",
   "execution_count": 5,
   "metadata": {
    "collapsed": false
   },
   "outputs": [
    {
     "name": "stdout",
     "output_type": "stream",
     "text": [
      "CLgen:       0.2.1\n",
      "Corpus size: 20271852\n",
      "Vocab size:  92\n"
     ]
    }
   ],
   "source": [
    "c = corpus.Corpus.from_json({\"path\": \"~/data/github\"})\n",
    "print(\"CLgen:      \", clgen.version())\n",
    "print(\"Corpus size:\", c.size)\n",
    "print(\"Vocab size: \", c.vocab_size)"
   ]
  },
  {
   "cell_type": "code",
   "execution_count": 6,
   "metadata": {
    "collapsed": false
   },
   "outputs": [
    {
     "ename": "AttributeError",
     "evalue": "module 'clgen.corpus' has no attribute 'most_common_prototypes'",
     "output_type": "error",
     "traceback": [
      "\u001b[0;31m---------------------------------------------------------------------------\u001b[0m",
      "\u001b[0;31mAttributeError\u001b[0m                            Traceback (most recent call last)",
      "\u001b[0;32m<ipython-input-6-70018083e6c8>\u001b[0m in \u001b[0;36m<module>\u001b[0;34m()\u001b[0m\n\u001b[0;32m----> 1\u001b[0;31m \u001b[0mp\u001b[0m\u001b[0;34m,\u001b[0m \u001b[0mnum_prototypes\u001b[0m \u001b[0;34m=\u001b[0m \u001b[0mcorpus\u001b[0m\u001b[0;34m.\u001b[0m\u001b[0mmost_common_prototypes\u001b[0m\u001b[0;34m(\u001b[0m\u001b[0mc\u001b[0m\u001b[0;34m,\u001b[0m \u001b[0;36m20\u001b[0m\u001b[0;34m)\u001b[0m\u001b[0;34m\u001b[0m\u001b[0m\n\u001b[0m\u001b[1;32m      2\u001b[0m \u001b[0;32mfor\u001b[0m \u001b[0mrow\u001b[0m \u001b[0;32min\u001b[0m \u001b[0mp\u001b[0m\u001b[0;34m:\u001b[0m\u001b[0;34m\u001b[0m\u001b[0m\n\u001b[1;32m      3\u001b[0m     \u001b[0mratio\u001b[0m\u001b[0;34m,\u001b[0m \u001b[0mprototype\u001b[0m \u001b[0;34m=\u001b[0m \u001b[0mrow\u001b[0m\u001b[0;34m\u001b[0m\u001b[0m\n\u001b[1;32m      4\u001b[0m     \u001b[0mprint\u001b[0m\u001b[0;34m(\u001b[0m\u001b[0mratio\u001b[0m \u001b[0;34m*\u001b[0m \u001b[0;36m100\u001b[0m\u001b[0;34m,\u001b[0m \u001b[0;34m'\\t'\u001b[0m\u001b[0;34m,\u001b[0m \u001b[0mprototype\u001b[0m\u001b[0;34m)\u001b[0m\u001b[0;34m\u001b[0m\u001b[0m\n\u001b[1;32m      5\u001b[0m \u001b[0;34m\u001b[0m\u001b[0m\n",
      "\u001b[0;31mAttributeError\u001b[0m: module 'clgen.corpus' has no attribute 'most_common_prototypes'"
     ]
    }
   ],
   "source": [
    "p, num_prototypes = corpus.most_common_prototypes(c, 20)\n",
    "for row in p:\n",
    "    ratio, prototype = row\n",
    "    print(ratio * 100, '\\t', prototype)\n",
    "\n",
    "print(\"# prototypes\", num_prototypes)"
   ]
  },
  {
   "cell_type": "markdown",
   "metadata": {},
   "source": [
    "## Experimental results"
   ]
  },
  {
   "cell_type": "code",
   "execution_count": 3,
   "metadata": {
    "collapsed": false
   },
   "outputs": [
    {
     "name": "stdout",
     "output_type": "stream",
     "text": [
      "read 6 data files\n"
     ]
    }
   ],
   "source": [
    "def parse_file(path):\n",
    "    \"\"\" return model size, num layers, and epochs \"\"\"\n",
    "    import re\n",
    "    m = re.search(r\"([0-9]+)x([0-9]+)x([0-9]+)\", path)\n",
    "    return m.group(1), m.group(2), m.group(3) \n",
    "\n",
    "data_files = [\"benchmark/\" + x for x in fs.ls(\"benchmark\")\n",
    "              if x.startswith(\"benchmark-\") and x.endswith(\".json\")]\n",
    "data = dict((parse_file(x), clgen.load_json_file(x)) for x in data_files)\n",
    "print(\"read {} data files\".format(len(data)))"
   ]
  },
  {
   "cell_type": "markdown",
   "metadata": {},
   "source": [
    "## Evaluation"
   ]
  },
  {
   "cell_type": "code",
   "execution_count": 4,
   "metadata": {
    "collapsed": true
   },
   "outputs": [],
   "source": [
    "import matplotlib.pyplot as plt\n",
    "import seaborn as sns\n",
    "from labm8 import viz\n",
    "plt.style.use([\"seaborn-white\", \"seaborn-paper\"])\n",
    "\n",
    "def label(path):\n",
    "    return '-'.join([str(x) for x in path])\n",
    "\n",
    "# sort key values\n",
    "sorted_keys = sorted(data.keys(), key=lambda x: [int(y) for y in x])"
   ]
  }
 ],
 "metadata": {
  "kernelspec": {
   "display_name": "CLgen",
   "language": "python",
   "name": "clgen"
  },
  "language_info": {
   "codemirror_mode": {
    "name": "ipython",
    "version": 3
   },
   "file_extension": ".py",
   "mimetype": "text/x-python",
   "name": "python",
   "nbconvert_exporter": "python",
   "pygments_lexer": "ipython3",
   "version": "3.5.2"
  }
 },
 "nbformat": 4,
 "nbformat_minor": 1
}
