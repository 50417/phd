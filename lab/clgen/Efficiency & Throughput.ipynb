{
 "cells": [
  {
   "cell_type": "markdown",
   "metadata": {},
   "source": [
    "# Sampling Efficiency and Throughput\n",
    "Investigating sample success rate as a product of network size."
   ]
  },
  {
   "cell_type": "code",
   "execution_count": 1,
   "metadata": {
    "collapsed": true
   },
   "outputs": [],
   "source": [
    "# preamble\n",
    "%reload_ext autoreload\n",
    "%autoreload 2\n",
    "%matplotlib inline\n",
    "\n",
    "from time import time\n",
    "from labm8 import fs\n",
    "from labm8 import system\n",
    "from labm8.time import nowstr\n",
    "\n",
    "import clgen\n",
    "from clgen import corpus\n",
    "from clgen import dbutil\n",
    "from clgen import sampler\n",
    "from clgen import model\n",
    "from clgen import preprocess"
   ]
  },
  {
   "cell_type": "markdown",
   "metadata": {},
   "source": [
    "**Experimental setup:**"
   ]
  },
  {
   "cell_type": "code",
   "execution_count": 2,
   "metadata": {
    "collapsed": false
   },
   "outputs": [
    {
     "name": "stdout",
     "output_type": "stream",
     "text": [
      "Corpus size: 773245\n",
      "Vocab size:  92\n",
      "\n",
      "CLgen:      0.2.1 (with OpenCL)\n",
      "Platform:   Darwin\n",
      "Memory:     16384 MB\n",
      "\n",
      "Device:     GPU Intel(R) Iris(TM) Graphics 6100\n",
      "Compute #.: 48\n",
      "Frequency:  1100 HZ\n",
      "Memory:     1536 MB\n",
      "Driver:     1.2(Oct 19 2016 00:25:08)\n"
     ]
    }
   ],
   "source": [
    "rnn_sizes = [4, 8, 16] #[256, 512, 1024, 2048]\n",
    "corpus_opts = {\n",
    "    \"path\": \"~/data/tiny\" #\"~/data/github\"\n",
    "}\n",
    "training_opts = {\n",
    "    \"model_type\": \"lstm\",\n",
    "    \"num_layers\": 2, #3,\n",
    "    \"max_epochs\": 1 #50\n",
    "}\n",
    "s = sampler.from_json({\n",
    "    \"kernels\": {\n",
    "        \"args\": [\n",
    "            \"__global float*\",\n",
    "            \"__global float*\",\n",
    "            \"__global float*\",\n",
    "            \"const int\"\n",
    "        ],\n",
    "        \"max_length\": 100, #5000,\n",
    "        \"temperature\": 1\n",
    "    },\n",
    "    \"sampler\": {\n",
    "        \"batch_size\": 50, #5000,\n",
    "        \"max_batches\": 1,\n",
    "        \"static_checker\": False,\n",
    "        \"dynamic_checker\": False\n",
    "    }\n",
    "})\n",
    "\n",
    "c = corpus.Corpus.from_json(corpus_opts)\n",
    "print(\"Corpus size:\", c.size)\n",
    "print(\"Vocab size: \", c.vocab_size)\n",
    "print()\n",
    "clgen.platform_info()"
   ]
  },
  {
   "cell_type": "markdown",
   "metadata": {},
   "source": [
    "**Experimental methodology:**"
   ]
  },
  {
   "cell_type": "code",
   "execution_count": 3,
   "metadata": {
    "collapsed": false
   },
   "outputs": [],
   "source": [
    "def evaluate(model, sampler):\n",
    "    \"\"\" evaluate sampling efficiency \"\"\"\n",
    "    model.cache.empty()  # clear checkpoint cache    \n",
    "    tstart = time()  # start timer\n",
    "    model.train(quiet=True)  # train model\n",
    "    training_time = time() - tstart\n",
    "\n",
    "    # clear the sample cache\n",
    "    sampler.cache(model).empty()\n",
    "\n",
    "    # sample kernels and time\n",
    "    tstart = time()\n",
    "    sampler.sample(model, quiet=True)\n",
    "    tend = time()\n",
    "    elapsed = tend - tstart\n",
    "\n",
    "    # preprocess sample\n",
    "    sample_db = sampler.cache(model)[\"kernels.db\"]\n",
    "    preprocess.preprocess_db(sample_db)\n",
    "\n",
    "    num_kernels = dbutil.num_rows_in(sample_db, \"ContentFiles\")\n",
    "    num_good_kernels = dbutil.num_good_kernels(sample_db)\n",
    "    num_ugly_kernels = dbutil.num_rows_in(sample_db, \"PreprocessedFiles\",\n",
    "                                          \"WHERE status=2\")\n",
    "    discard_rate = 1 - (num_good_kernels / num_kernels)\n",
    "    ugly_rate = 1 - (num_ugly_kernels / num_kernels)\n",
    "\n",
    "\n",
    "    total_charcount = dbutil.cc(sample_db, \"ContentFiles\")\n",
    "    good_charcount = dbutil.cc(sample_db, \"PreprocessedFiles\",\n",
    "                               condition=\"WHERE status=0\")\n",
    "\n",
    "    efficiency = good_charcount / total_charcount\n",
    "    throughput = good_charcount / elapsed\n",
    "\n",
    "    return {\n",
    "        \"training_time\": training_time,\n",
    "        \"sampling_time\": elapsed,\n",
    "        \"num_kernels\": num_kernels,\n",
    "        \"num_good_kernels\": num_good_kernels,\n",
    "        \"discard_rate\": discard_rate,\n",
    "        \"ugly_rate\": ugly_rate,\n",
    "        \"total_charcount\": total_charcount,\n",
    "        \"good_charcount\": good_charcount,\n",
    "        \"efficiency\": efficiency,  # good_chars/total_chars\n",
    "        \"throughput\": throughput,  # good_chars/second\n",
    "        \"corpus_dir\": model.corpus.cache.path,\n",
    "        \"model_dir\": model.cache.path,\n",
    "        \"sampler_dir\": sampler.cache(model).path,\n",
    "    }"
   ]
  },
  {
   "cell_type": "markdown",
   "metadata": {},
   "source": [
    "**Experimental results:**"
   ]
  },
  {
   "cell_type": "code",
   "execution_count": null,
   "metadata": {
    "collapsed": false
   },
   "outputs": [
    {
     "name": "stdout",
     "output_type": "stream",
     "text": [
      "result 4 {\n",
      "  \"corpus_dir\": \"/Users/cec/.cache/clgen/0.2.1/corpus/6b4248154caa140665461619e4d1292eeee1b225\",\n",
      "  \"discard_rate\": 1.0,\n",
      "  \"efficiency\": 0.0,\n",
      "  \"good_charcount\": 0,\n",
      "  \"model_dir\": \"/Users/cec/.cache/clgen/0.2.1/model/2ebbde31f602394dc5a7a1725da28e2a8cc8c0b1\",\n",
      "  \"num_good_kernels\": 0,\n",
      "  \"num_kernels\": 50,\n",
      "  \"sampler_dir\": \"/Users/cec/.cache/clgen/0.2.1/sampler/5def5c3571b88edaab82bf7203ec80ea3fa7ec63\",\n",
      "  \"sampling_time\": 11.293943881988525,\n",
      "  \"throughput\": 0.0,\n",
      "  \"total_charcount\": 4971,\n",
      "  \"training_time\": 37.29821801185608,\n",
      "  \"ugly_rate\": 0.98\n",
      "}\n",
      "result 8 {\n",
      "  \"corpus_dir\": \"/Users/cec/.cache/clgen/0.2.1/corpus/6b4248154caa140665461619e4d1292eeee1b225\",\n",
      "  \"discard_rate\": 1.0,\n",
      "  \"efficiency\": 0.0,\n",
      "  \"good_charcount\": 0,\n",
      "  \"model_dir\": \"/Users/cec/.cache/clgen/0.2.1/model/d7a40af55f2bbfb5b2673a66ddd1e15743042d02\",\n",
      "  \"num_good_kernels\": 0,\n",
      "  \"num_kernels\": 49,\n",
      "  \"sampler_dir\": \"/Users/cec/.cache/clgen/0.2.1/sampler/d05856f17744e08925878ce13d92bb9baadf2a59\",\n",
      "  \"sampling_time\": 11.273504972457886,\n",
      "  \"throughput\": 0.0,\n",
      "  \"total_charcount\": 4862,\n",
      "  \"training_time\": 45.887633085250854,\n",
      "  \"ugly_rate\": 0.9591836734693877\n",
      "}\n",
      "result 16 {\n",
      "  \"corpus_dir\": \"/Users/cec/.cache/clgen/0.2.1/corpus/6b4248154caa140665461619e4d1292eeee1b225\",\n",
      "  \"discard_rate\": 1.0,\n",
      "  \"efficiency\": 0.0,\n",
      "  \"good_charcount\": 0,\n",
      "  \"model_dir\": \"/Users/cec/.cache/clgen/0.2.1/model/d2bd2f31534be941928711e8831e282911488236\",\n",
      "  \"num_good_kernels\": 0,\n",
      "  \"num_kernels\": 50,\n",
      "  \"sampler_dir\": \"/Users/cec/.cache/clgen/0.2.1/sampler/6d4863adc84158835c2bbcd4b609c7921cf1ec92\",\n",
      "  \"sampling_time\": 9.702114820480347,\n",
      "  \"throughput\": 0.0,\n",
      "  \"total_charcount\": 4983,\n",
      "  \"training_time\": 41.60571098327637,\n",
      "  \"ugly_rate\": 1.0\n",
      "}\n",
      "done 2016-12-15 00:50:31\n"
     ]
    },
    {
     "data": {
      "text/plain": [
       "{'16': {'corpus_dir': '/Users/cec/.cache/clgen/0.2.1/corpus/6b4248154caa140665461619e4d1292eeee1b225',\n",
       "  'discard_rate': 1.0,\n",
       "  'efficiency': 0.0,\n",
       "  'good_charcount': 0,\n",
       "  'model_dir': '/Users/cec/.cache/clgen/0.2.1/model/d2bd2f31534be941928711e8831e282911488236',\n",
       "  'num_good_kernels': 0,\n",
       "  'num_kernels': 50,\n",
       "  'sampler_dir': '/Users/cec/.cache/clgen/0.2.1/sampler/6d4863adc84158835c2bbcd4b609c7921cf1ec92',\n",
       "  'sampling_time': 9.702114820480347,\n",
       "  'throughput': 0.0,\n",
       "  'total_charcount': 4983,\n",
       "  'training_time': 41.60571098327637,\n",
       "  'ugly_rate': 1.0},\n",
       " '4': {'corpus_dir': '/Users/cec/.cache/clgen/0.2.1/corpus/6b4248154caa140665461619e4d1292eeee1b225',\n",
       "  'discard_rate': 1.0,\n",
       "  'efficiency': 0.0,\n",
       "  'good_charcount': 0,\n",
       "  'model_dir': '/Users/cec/.cache/clgen/0.2.1/model/2ebbde31f602394dc5a7a1725da28e2a8cc8c0b1',\n",
       "  'num_good_kernels': 0,\n",
       "  'num_kernels': 50,\n",
       "  'sampler_dir': '/Users/cec/.cache/clgen/0.2.1/sampler/5def5c3571b88edaab82bf7203ec80ea3fa7ec63',\n",
       "  'sampling_time': 11.293943881988525,\n",
       "  'throughput': 0.0,\n",
       "  'total_charcount': 4971,\n",
       "  'training_time': 37.29821801185608,\n",
       "  'ugly_rate': 0.98},\n",
       " '8': {'corpus_dir': '/Users/cec/.cache/clgen/0.2.1/corpus/6b4248154caa140665461619e4d1292eeee1b225',\n",
       "  'discard_rate': 1.0,\n",
       "  'efficiency': 0.0,\n",
       "  'good_charcount': 0,\n",
       "  'model_dir': '/Users/cec/.cache/clgen/0.2.1/model/d7a40af55f2bbfb5b2673a66ddd1e15743042d02',\n",
       "  'num_good_kernels': 0,\n",
       "  'num_kernels': 49,\n",
       "  'sampler_dir': '/Users/cec/.cache/clgen/0.2.1/sampler/d05856f17744e08925878ce13d92bb9baadf2a59',\n",
       "  'sampling_time': 11.273504972457886,\n",
       "  'throughput': 0.0,\n",
       "  'total_charcount': 4862,\n",
       "  'training_time': 45.887633085250854,\n",
       "  'ugly_rate': 0.9591836734693877}}"
      ]
     },
     "execution_count": 4,
     "metadata": {},
     "output_type": "execute_result"
    }
   ],
   "source": [
    "data_file = \"./sampling-{host}.json\".format(host=system.HOSTNAME)\n",
    "# fs.rm(data_file)  # reset experimental data\n",
    "data = clgen.load_json_file(data_file, must_exist=False)\n",
    "\n",
    "for rnn_size in rnn_sizes:\n",
    "    key = str(rnn_size)\n",
    "    if key not in data:\n",
    "        print(\"collecting result for\", rnn_size, \"...\")\n",
    "        training_opts[\"rnn_size\"] = rnn_size\n",
    "        m = model.from_json({\n",
    "            \"corpus\": corpus_opts,\n",
    "            \"train_opts\": training_opts\n",
    "        })\n",
    "        data[key] = evaluate(m, s)\n",
    "    print(\"result\", rnn_size, clgen.format_json(data[key]))\n",
    "    clgen.write_file(data_file, clgen.format_json(data))\n",
    "print(\"done\", nowstr())\n",
    "data"
   ]
  },
  {
   "cell_type": "markdown",
   "metadata": {},
   "source": [
    "**Experimental results:**"
   ]
  },
  {
   "cell_type": "code",
   "execution_count": null,
   "metadata": {
    "collapsed": false
   },
   "outputs": [
    {
     "data": {
      "image/png": "[encoded data removed]",
      "text/plain": [
       "<matplotlib.figure.Figure at 0x1136b2fd0>"
      ]
     },
     "metadata": {},
     "output_type": "display_data"
    }
   ],
   "source": [
    "import matplotlib.pyplot as plt\n",
    "import seaborn as sns\n",
    "from labm8 import viz\n",
    "\n",
    "plt.subplots(1, 3)\n",
    "\n",
    "plt.subplot(1, 3, 1)\n",
    "x, y = zip(*[(int(x), data[x][\"training_time\"])\n",
    "             for x in sorted(data.keys(), key=lambda x: int(x))])\n",
    "sns.barplot(x, y)\n",
    "plt.title(\"Training time\")\n",
    "plt.xlabel(\"Nodes per layer\")\n",
    "plt.ylabel(\"Time (seconds)\")\n",
    "    \n",
    "plt.subplot(1, 3, 2)\n",
    "x, y = zip(*[(int(x), data[x][\"efficiency\"] * 100)\n",
    "             for x in sorted(data.keys(), key=lambda x: int(x))])\n",
    "sns.barplot(x, y)\n",
    "plt.title(\"Efficiency\")\n",
    "plt.xlabel(\"Nodes per layer\")\n",
    "plt.ylabel(\"Efficiency (%)\")\n",
    "    \n",
    "plt.subplot(1, 3, 3)\n",
    "x, y = zip(*[(int(x), data[x][\"throughput\"])\n",
    "             for x in sorted(data.keys(), key=lambda x: int(x))])\n",
    "sns.barplot(x, y)\n",
    "plt.title(\"Throughput\")\n",
    "plt.xlabel(\"Nodes per layer\")\n",
    "plt.ylabel(\"Throughput (char / second)\")\n",
    "\n",
    "viz.finalise(figsize=(9, 4))"
   ]
  }
 ],
 "metadata": {
  "kernelspec": {
   "display_name": "CLgen",
   "language": "python",
   "name": "clgen"
  },
  "language_info": {
   "codemirror_mode": {
    "name": "ipython",
    "version": 3
   },
   "file_extension": ".py",
   "mimetype": "text/x-python",
   "name": "python",
   "nbconvert_exporter": "python",
   "pygments_lexer": "ipython3",
   "version": "3.5.2"
  }
 },
 "nbformat": 4,
 "nbformat_minor": 1
}
