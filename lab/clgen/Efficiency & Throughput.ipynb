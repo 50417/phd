{
 "cells": [
  {
   "cell_type": "markdown",
   "metadata": {},
   "source": [
    "# Sampling Efficiency and Throughput\n",
    "Investigating sample success rate as a product of network size."
   ]
  },
  {
   "cell_type": "code",
   "execution_count": 1,
   "metadata": {
    "collapsed": false
   },
   "outputs": [],
   "source": [
    "# preamble\n",
    "%reload_ext autoreload\n",
    "%autoreload 2\n",
    "%matplotlib inline\n",
    "\n",
    "from time import time\n",
    "from labm8 import fs\n",
    "from labm8 import system\n",
    "from labm8.time import nowstr\n",
    "\n",
    "import clgen\n",
    "from clgen import corpus\n",
    "from clgen import dbutil\n",
    "from clgen import sampler\n",
    "from clgen import model\n",
    "from clgen import preprocess"
   ]
  },
  {
   "cell_type": "markdown",
   "metadata": {},
   "source": [
    "**Experimental setup:**"
   ]
  },
  {
   "cell_type": "code",
   "execution_count": 2,
   "metadata": {
    "collapsed": false
   },
   "outputs": [
    {
     "name": "stdout",
     "output_type": "stream",
     "text": [
      "Corpus size: 773245\n",
      "Vocab size:  92\n",
      "\n",
      "CLgen:      0.2.1 (with CUDA)\n",
      "Platform:   Linux\n",
      "Memory:     32057 MB\n",
      "\n",
      "Device:     GPU GeForce GTX 1080\n",
      "Compute #.: 20\n",
      "Frequency:  1733 HZ\n",
      "Memory:     8113 MB\n",
      "Driver:     367.57\n",
      "\n",
      "Device:     GPU GeForce GTX 1080\n",
      "Compute #.: 20\n",
      "Frequency:  1733 HZ\n",
      "Memory:     8113 MB\n",
      "Driver:     367.57\n"
     ]
    }
   ],
   "source": [
    "rnn_sizes = [256, 512, 1024, 2048]\n",
    "corpus_opts = {\n",
    "    \"path\": \"~/data/github\"\n",
    "}\n",
    "training_opts = {\n",
    "    \"model_type\": \"lstm\",\n",
    "    \"num_layers\": 3,\n",
    "    \"max_epochs\": 10\n",
    "}\n",
    "s = sampler.from_json({\n",
    "    \"kernels\": {\n",
    "        \"args\": [\n",
    "            \"__global float*\",\n",
    "            \"__global float*\",\n",
    "            \"__global float*\",\n",
    "            \"const int\"\n",
    "        ],\n",
    "        \"max_length\": 5000,\n",
    "        \"temperature\": 1\n",
    "    },\n",
    "    \"sampler\": {\n",
    "        \"batch_size\": 5000,\n",
    "        \"max_batches\": 1,\n",
    "        \"static_checker\": False,\n",
    "        \"dynamic_checker\": False\n",
    "    }\n",
    "})\n",
    "\n",
    "c = corpus.Corpus.from_json(corpus_opts)\n",
    "print(\"Corpus size:\", c.size)\n",
    "print(\"Vocab size: \", c.vocab_size)\n",
    "print()\n",
    "clgen.platform_info()"
   ]
  },
  {
   "cell_type": "markdown",
   "metadata": {},
   "source": [
    "**Experimental methodology:**"
   ]
  },
  {
   "cell_type": "code",
   "execution_count": 3,
   "metadata": {
    "collapsed": false
   },
   "outputs": [],
   "source": [
    "def evaluate(model, sampler):\n",
    "    \"\"\" evaluate sampling efficiency \"\"\"\n",
    "    model.cache.empty()  # clear checkpoint cache    \n",
    "    tstart = time()  # start timer\n",
    "    model.train(quiet=True)  # train model\n",
    "    training_time = time() - tstart\n",
    "\n",
    "    # clear the sample cache\n",
    "    sampler.cache(model).empty()\n",
    "\n",
    "    # sample kernels and time\n",
    "    tstart = time()\n",
    "    sampler.sample(model, quiet=True)\n",
    "    tend = time()\n",
    "    elapsed = tend - tstart\n",
    "\n",
    "    # preprocess sample\n",
    "    sample_db = sampler.cache(model)[\"kernels.db\"]\n",
    "    preprocess.preprocess_db(sample_db)\n",
    "\n",
    "    num_kernels = dbutil.num_rows_in(sample_db, \"ContentFiles\")\n",
    "    num_good_kernels = dbutil.num_good_kernels(sample_db)\n",
    "    num_ugly_kernels = dbutil.num_rows_in(sample_db, \"PreprocessedFiles\",\n",
    "                                          \"WHERE status=2\")\n",
    "    discard_rate = 1 - (num_good_kernels / num_kernels)\n",
    "    ugly_rate = 1 - (num_ugly_kernels / num_kernels)\n",
    "\n",
    "\n",
    "    total_charcount = dbutil.cc(sample_db, \"ContentFiles\")\n",
    "    good_charcount = dbutil.cc(sample_db, \"PreprocessedFiles\",\n",
    "                               condition=\"WHERE status=0\")\n",
    "\n",
    "    efficiency = good_charcount / total_charcount\n",
    "    throughput = good_charcount / elapsed\n",
    "\n",
    "    return {\n",
    "        \"training_time\": training_time,\n",
    "        \"sampling_time\": elapsed,\n",
    "        \"num_kernels\": num_kernels,\n",
    "        \"num_good_kernels\": num_good_kernels,\n",
    "        \"discard_rate\": discard_rate,\n",
    "        \"ugly_rate\": ugly_rate,\n",
    "        \"total_charcount\": total_charcount,\n",
    "        \"good_charcount\": good_charcount,\n",
    "        \"efficiency\": efficiency,  # good_chars / total_chars\n",
    "        \"throughput\": throughput,  # good_chars / second\n",
    "        \"corpus_dir\": model.corpus.cache.path,\n",
    "        \"model_dir\": model.cache.path,\n",
    "        \"sampler_dir\": sampler.cache(model).path,\n",
    "    }"
   ]
  },
  {
   "cell_type": "markdown",
   "metadata": {},
   "source": [
    "**Experimental results:**"
   ]
  },
  {
   "cell_type": "code",
   "execution_count": 18,
   "metadata": {
    "collapsed": false
   },
   "outputs": [
    {
     "name": "stdout",
     "output_type": "stream",
     "text": [
      "collecting result for 4 ...\n",
      "sample batch 1 ...\n",
      "\n",
      "\n",
      "Number of content files:            50\n",
      "\n",
      "Number of unique content files:     50 (100%)\n",
      "Total content line count:           85\n",
      "Content file line counts:           min: 1, med: 2, avg: 2, max: 3\n",
      "\n",
      "Number of good preprocessed files:  0 (0%)\n",
      "Lines of good preprocessed code:    0 (0%)\n",
      "Good preprocessed line counts:      min: 0, med: 0, avg: 0, max: 0\n",
      "\n",
      "result 4 {\n",
      "  \"corpus_dir\": \"/home/cec/.cache/clgen/0.2.1/corpus/6b4248154caa140665461619e4d1292eeee1b225\",\n",
      "  \"discard_rate\": 1.0,\n",
      "  \"efficiency\": 0.0,\n",
      "  \"good_charcount\": 0,\n",
      "  \"model_dir\": \"/home/cec/.cache/clgen/0.2.1/model/2ebbde31f602394dc5a7a1725da28e2a8cc8c0b1\",\n",
      "  \"num_good_kernels\": 0,\n",
      "  \"num_kernels\": 50,\n",
      "  \"sampler_dir\": \"/home/cec/.cache/clgen/0.2.1/sampler/5def5c3571b88edaab82bf7203ec80ea3fa7ec63\",\n",
      "  \"sampling_time\": 16.92938232421875,\n",
      "  \"throughput\": 0.0,\n",
      "  \"total_charcount\": 4944,\n",
      "  \"training_time\": 30.212465524673462,\n",
      "  \"ugly_rate\": 0.98\n",
      "}\n",
      "collecting result for 8 ...\n"
     ]
    },
    {
     "name": "stderr",
     "output_type": "stream",
     "text": [
      "Process ForkPoolWorker-163:\n",
      "Process ForkPoolWorker-165:\n",
      "Process ForkPoolWorker-164:\n",
      "Process ForkPoolWorker-166:\n",
      "Traceback (most recent call last):\n",
      "Traceback (most recent call last):\n",
      "  File \"/usr/lib/python3.5/multiprocessing/process.py\", line 249, in _bootstrap\n",
      "    self.run()\n",
      "  File \"/usr/lib/python3.5/multiprocessing/process.py\", line 249, in _bootstrap\n",
      "    self.run()\n",
      "Traceback (most recent call last):\n",
      "  File \"/usr/lib/python3.5/multiprocessing/process.py\", line 93, in run\n",
      "    self._target(*self._args, **self._kwargs)\n",
      "  File \"/usr/lib/python3.5/multiprocessing/process.py\", line 93, in run\n",
      "    self._target(*self._args, **self._kwargs)\n",
      "  File \"/usr/lib/python3.5/multiprocessing/pool.py\", line 108, in worker\n",
      "    task = get()\n",
      "Traceback (most recent call last):\n",
      "  File \"/usr/lib/python3.5/multiprocessing/process.py\", line 249, in _bootstrap\n",
      "    self.run()\n",
      "  File \"/usr/lib/python3.5/multiprocessing/pool.py\", line 108, in worker\n",
      "    task = get()\n",
      "  File \"/usr/lib/python3.5/multiprocessing/queues.py\", line 342, in get\n",
      "    with self._rlock:\n",
      "  File \"/usr/lib/python3.5/multiprocessing/queues.py\", line 342, in get\n",
      "    with self._rlock:\n",
      "  File \"/usr/lib/python3.5/multiprocessing/process.py\", line 249, in _bootstrap\n",
      "    self.run()\n",
      "  File \"/usr/lib/python3.5/multiprocessing/synchronize.py\", line 96, in __enter__\n",
      "    return self._semlock.__enter__()\n",
      "  File \"/usr/lib/python3.5/multiprocessing/synchronize.py\", line 96, in __enter__\n",
      "    return self._semlock.__enter__()\n",
      "  File \"/usr/lib/python3.5/multiprocessing/process.py\", line 93, in run\n",
      "    self._target(*self._args, **self._kwargs)\n",
      "  File \"/usr/lib/python3.5/multiprocessing/process.py\", line 93, in run\n",
      "    self._target(*self._args, **self._kwargs)\n",
      "KeyboardInterrupt\n",
      "KeyboardInterrupt\n",
      "  File \"/usr/lib/python3.5/multiprocessing/pool.py\", line 108, in worker\n",
      "    task = get()\n",
      "  File \"/usr/lib/python3.5/multiprocessing/pool.py\", line 108, in worker\n",
      "    task = get()\n",
      "  File \"/usr/lib/python3.5/multiprocessing/queues.py\", line 342, in get\n",
      "    with self._rlock:\n",
      "  File \"/usr/lib/python3.5/multiprocessing/queues.py\", line 343, in get\n",
      "    res = self._reader.recv_bytes()\n",
      "  File \"/usr/lib/python3.5/multiprocessing/synchronize.py\", line 96, in __enter__\n",
      "    return self._semlock.__enter__()\n",
      "  File \"/usr/lib/python3.5/multiprocessing/connection.py\", line 216, in recv_bytes\n",
      "    buf = self._recv_bytes(maxlength)\n",
      "KeyboardInterrupt\n",
      "  File \"/usr/lib/python3.5/multiprocessing/connection.py\", line 407, in _recv_bytes\n",
      "    buf = self._recv(4)\n",
      "  File \"/usr/lib/python3.5/multiprocessing/connection.py\", line 379, in _recv\n",
      "    chunk = read(handle, remaining)\n",
      "KeyboardInterrupt\n"
     ]
    },
    {
     "ename": "KeyboardInterrupt",
     "evalue": "",
     "output_type": "error",
     "traceback": [
      "\u001b[0;31m---------------------------------------------------------------------------\u001b[0m",
      "\u001b[0;31mKeyboardInterrupt\u001b[0m                         Traceback (most recent call last)",
      "\u001b[0;32m<ipython-input-18-1b416d83bf43>\u001b[0m in \u001b[0;36m<module>\u001b[0;34m()\u001b[0m\n\u001b[1;32m     12\u001b[0m             \u001b[0;34m\"train_opts\"\u001b[0m\u001b[0;34m:\u001b[0m \u001b[0mtraining_opts\u001b[0m\u001b[0;34m\u001b[0m\u001b[0m\n\u001b[1;32m     13\u001b[0m         })\n\u001b[0;32m---> 14\u001b[0;31m         \u001b[0mdata\u001b[0m\u001b[0;34m[\u001b[0m\u001b[0mkey\u001b[0m\u001b[0;34m]\u001b[0m \u001b[0;34m=\u001b[0m \u001b[0mevaluate\u001b[0m\u001b[0;34m(\u001b[0m\u001b[0mm\u001b[0m\u001b[0;34m,\u001b[0m \u001b[0ms\u001b[0m\u001b[0;34m)\u001b[0m\u001b[0;34m\u001b[0m\u001b[0m\n\u001b[0m\u001b[1;32m     15\u001b[0m     \u001b[0mprint\u001b[0m\u001b[0;34m(\u001b[0m\u001b[0;34m\"result\"\u001b[0m\u001b[0;34m,\u001b[0m \u001b[0mrnn_size\u001b[0m\u001b[0;34m,\u001b[0m \u001b[0mclgen\u001b[0m\u001b[0;34m.\u001b[0m\u001b[0mformat_json\u001b[0m\u001b[0;34m(\u001b[0m\u001b[0mdata\u001b[0m\u001b[0;34m[\u001b[0m\u001b[0mkey\u001b[0m\u001b[0;34m]\u001b[0m\u001b[0;34m)\u001b[0m\u001b[0;34m)\u001b[0m\u001b[0;34m\u001b[0m\u001b[0m\n\u001b[1;32m     16\u001b[0m     \u001b[0mclgen\u001b[0m\u001b[0;34m.\u001b[0m\u001b[0mwrite_file\u001b[0m\u001b[0;34m(\u001b[0m\u001b[0mdata_file\u001b[0m\u001b[0;34m,\u001b[0m \u001b[0mclgen\u001b[0m\u001b[0;34m.\u001b[0m\u001b[0mformat_json\u001b[0m\u001b[0;34m(\u001b[0m\u001b[0mdata\u001b[0m\u001b[0;34m)\u001b[0m\u001b[0;34m)\u001b[0m\u001b[0;34m\u001b[0m\u001b[0m\n",
      "\u001b[0;32m<ipython-input-3-7d60ece84cec>\u001b[0m in \u001b[0;36mevaluate\u001b[0;34m(model, sampler)\u001b[0m\n\u001b[1;32m      3\u001b[0m     \u001b[0mmodel\u001b[0m\u001b[0;34m.\u001b[0m\u001b[0mcache\u001b[0m\u001b[0;34m.\u001b[0m\u001b[0mempty\u001b[0m\u001b[0;34m(\u001b[0m\u001b[0;34m)\u001b[0m  \u001b[0;31m# clear checkpoint cache\u001b[0m\u001b[0;34m\u001b[0m\u001b[0m\n\u001b[1;32m      4\u001b[0m     \u001b[0mtstart\u001b[0m \u001b[0;34m=\u001b[0m \u001b[0mtime\u001b[0m\u001b[0;34m(\u001b[0m\u001b[0;34m)\u001b[0m  \u001b[0;31m# start timer\u001b[0m\u001b[0;34m\u001b[0m\u001b[0m\n\u001b[0;32m----> 5\u001b[0;31m     \u001b[0mmodel\u001b[0m\u001b[0;34m.\u001b[0m\u001b[0mtrain\u001b[0m\u001b[0;34m(\u001b[0m\u001b[0mquiet\u001b[0m\u001b[0;34m=\u001b[0m\u001b[0;32mTrue\u001b[0m\u001b[0;34m)\u001b[0m  \u001b[0;31m# train model\u001b[0m\u001b[0;34m\u001b[0m\u001b[0m\n\u001b[0m\u001b[1;32m      6\u001b[0m     \u001b[0mtraining_time\u001b[0m \u001b[0;34m=\u001b[0m \u001b[0mtime\u001b[0m\u001b[0;34m(\u001b[0m\u001b[0;34m)\u001b[0m \u001b[0;34m-\u001b[0m \u001b[0mtstart\u001b[0m\u001b[0;34m\u001b[0m\u001b[0m\n\u001b[1;32m      7\u001b[0m \u001b[0;34m\u001b[0m\u001b[0m\n",
      "\u001b[0;32m/home/cec/clgen/lib/python3.5/site-packages/CLgen-0.2.1-py3.5.egg/clgen/model.py\u001b[0m in \u001b[0;36mtrain\u001b[0;34m(self, quiet)\u001b[0m\n\u001b[1;32m    197\u001b[0m         \u001b[0mTrain\u001b[0m \u001b[0mmodel\u001b[0m\u001b[0;34m.\u001b[0m\u001b[0;34m\u001b[0m\u001b[0m\n\u001b[1;32m    198\u001b[0m         \"\"\"\n\u001b[0;32m--> 199\u001b[0;31m         \u001b[0mself\u001b[0m\u001b[0;34m.\u001b[0m\u001b[0m_init_tensorflow\u001b[0m\u001b[0;34m(\u001b[0m\u001b[0minfer\u001b[0m\u001b[0;34m=\u001b[0m\u001b[0;32mFalse\u001b[0m\u001b[0;34m)\u001b[0m\u001b[0;34m\u001b[0m\u001b[0m\n\u001b[0m\u001b[1;32m    200\u001b[0m \u001b[0;34m\u001b[0m\u001b[0m\n\u001b[1;32m    201\u001b[0m         \u001b[0mmax_epochs\u001b[0m \u001b[0;34m=\u001b[0m \u001b[0mself\u001b[0m\u001b[0;34m.\u001b[0m\u001b[0mtrain_opts\u001b[0m\u001b[0;34m.\u001b[0m\u001b[0mget\u001b[0m\u001b[0;34m(\u001b[0m\u001b[0;34m\"max_epochs\"\u001b[0m\u001b[0;34m,\u001b[0m \u001b[0;36m50\u001b[0m\u001b[0;34m)\u001b[0m\u001b[0;34m\u001b[0m\u001b[0m\n",
      "\u001b[0;32m/home/cec/clgen/lib/python3.5/site-packages/CLgen-0.2.1-py3.5.egg/clgen/model.py\u001b[0m in \u001b[0;36m_init_tensorflow\u001b[0;34m(self, infer)\u001b[0m\n\u001b[1;32m    185\u001b[0m         \u001b[0mtvars\u001b[0m \u001b[0;34m=\u001b[0m \u001b[0mtf\u001b[0m\u001b[0;34m.\u001b[0m\u001b[0mtrainable_variables\u001b[0m\u001b[0;34m(\u001b[0m\u001b[0;34m)\u001b[0m\u001b[0;34m\u001b[0m\u001b[0m\n\u001b[1;32m    186\u001b[0m         grads, _ = tf.clip_by_global_norm(\n\u001b[0;32m--> 187\u001b[0;31m             tf.gradients(self.cost, tvars), self.grad_clip)\n\u001b[0m\u001b[1;32m    188\u001b[0m         \u001b[0moptimizer\u001b[0m \u001b[0;34m=\u001b[0m \u001b[0mtf\u001b[0m\u001b[0;34m.\u001b[0m\u001b[0mtrain\u001b[0m\u001b[0;34m.\u001b[0m\u001b[0mAdamOptimizer\u001b[0m\u001b[0;34m(\u001b[0m\u001b[0mself\u001b[0m\u001b[0;34m.\u001b[0m\u001b[0mlearning_rate\u001b[0m\u001b[0;34m)\u001b[0m\u001b[0;34m\u001b[0m\u001b[0m\n\u001b[1;32m    189\u001b[0m         \u001b[0mself\u001b[0m\u001b[0;34m.\u001b[0m\u001b[0mtrain_op\u001b[0m \u001b[0;34m=\u001b[0m \u001b[0moptimizer\u001b[0m\u001b[0;34m.\u001b[0m\u001b[0mapply_gradients\u001b[0m\u001b[0;34m(\u001b[0m\u001b[0mzip\u001b[0m\u001b[0;34m(\u001b[0m\u001b[0mgrads\u001b[0m\u001b[0;34m,\u001b[0m \u001b[0mtvars\u001b[0m\u001b[0;34m)\u001b[0m\u001b[0;34m)\u001b[0m\u001b[0;34m\u001b[0m\u001b[0m\n",
      "\u001b[0;32m/home/cec/clgen/lib/python3.5/site-packages/tensorflow/python/ops/gradients_impl.py\u001b[0m in \u001b[0;36mgradients\u001b[0;34m(ys, xs, grad_ys, name, colocate_gradients_with_ops, gate_gradients, aggregation_method)\u001b[0m\n\u001b[1;32m    453\u001b[0m             \u001b[0;31m# for ops that do not have gradients.\u001b[0m\u001b[0;34m\u001b[0m\u001b[0;34m\u001b[0m\u001b[0m\n\u001b[1;32m    454\u001b[0m             \u001b[0;32mtry\u001b[0m\u001b[0;34m:\u001b[0m\u001b[0;34m\u001b[0m\u001b[0m\n\u001b[0;32m--> 455\u001b[0;31m               \u001b[0mgrad_fn\u001b[0m \u001b[0;34m=\u001b[0m \u001b[0mops\u001b[0m\u001b[0;34m.\u001b[0m\u001b[0mget_gradient_function\u001b[0m\u001b[0;34m(\u001b[0m\u001b[0mop\u001b[0m\u001b[0;34m)\u001b[0m\u001b[0;34m\u001b[0m\u001b[0m\n\u001b[0m\u001b[1;32m    456\u001b[0m             \u001b[0;32mexcept\u001b[0m \u001b[0mLookupError\u001b[0m\u001b[0;34m:\u001b[0m\u001b[0;34m\u001b[0m\u001b[0m\n\u001b[1;32m    457\u001b[0m               raise LookupError(\n",
      "\u001b[0;32m/home/cec/clgen/lib/python3.5/site-packages/tensorflow/python/framework/ops.py\u001b[0m in \u001b[0;36mget_gradient_function\u001b[0;34m(op)\u001b[0m\n\u001b[1;32m   1538\u001b[0m   \u001b[0;32mif\u001b[0m \u001b[0;32mnot\u001b[0m \u001b[0mop\u001b[0m\u001b[0;34m.\u001b[0m\u001b[0minputs\u001b[0m\u001b[0;34m:\u001b[0m \u001b[0;32mreturn\u001b[0m \u001b[0;32mNone\u001b[0m\u001b[0;34m\u001b[0m\u001b[0m\n\u001b[1;32m   1539\u001b[0m   \u001b[0;32mtry\u001b[0m\u001b[0;34m:\u001b[0m\u001b[0;34m\u001b[0m\u001b[0m\n\u001b[0;32m-> 1540\u001b[0;31m     \u001b[0mop_type\u001b[0m \u001b[0;34m=\u001b[0m \u001b[0mop\u001b[0m\u001b[0;34m.\u001b[0m\u001b[0mget_attr\u001b[0m\u001b[0;34m(\u001b[0m\u001b[0;34m\"_gradient_op_type\"\u001b[0m\u001b[0;34m)\u001b[0m\u001b[0;34m\u001b[0m\u001b[0m\n\u001b[0m\u001b[1;32m   1541\u001b[0m   \u001b[0;32mexcept\u001b[0m \u001b[0mValueError\u001b[0m\u001b[0;34m:\u001b[0m\u001b[0;34m\u001b[0m\u001b[0m\n\u001b[1;32m   1542\u001b[0m     \u001b[0mop_type\u001b[0m \u001b[0;34m=\u001b[0m \u001b[0mop\u001b[0m\u001b[0;34m.\u001b[0m\u001b[0mtype\u001b[0m\u001b[0;34m\u001b[0m\u001b[0m\n",
      "\u001b[0;32m/home/cec/clgen/lib/python3.5/site-packages/tensorflow/python/framework/ops.py\u001b[0m in \u001b[0;36mget_attr\u001b[0;34m(self, name)\u001b[0m\n\u001b[1;32m   1414\u001b[0m     \u001b[0;32mif\u001b[0m \u001b[0mname\u001b[0m \u001b[0;32mnot\u001b[0m \u001b[0;32min\u001b[0m \u001b[0mself\u001b[0m\u001b[0;34m.\u001b[0m\u001b[0m_node_def\u001b[0m\u001b[0;34m.\u001b[0m\u001b[0mattr\u001b[0m\u001b[0;34m:\u001b[0m\u001b[0;34m\u001b[0m\u001b[0m\n\u001b[1;32m   1415\u001b[0m       raise ValueError(\"No attr named '\" + name + \"' in \" +\n\u001b[0;32m-> 1416\u001b[0;31m                        str(self._node_def))\n\u001b[0m\u001b[1;32m   1417\u001b[0m     \u001b[0mx\u001b[0m \u001b[0;34m=\u001b[0m \u001b[0mself\u001b[0m\u001b[0;34m.\u001b[0m\u001b[0m_node_def\u001b[0m\u001b[0;34m.\u001b[0m\u001b[0mattr\u001b[0m\u001b[0;34m[\u001b[0m\u001b[0mname\u001b[0m\u001b[0;34m]\u001b[0m\u001b[0;34m\u001b[0m\u001b[0m\n\u001b[1;32m   1418\u001b[0m     \u001b[0;31m# Treat an empty oneof value as an empty list.\u001b[0m\u001b[0;34m\u001b[0m\u001b[0;34m\u001b[0m\u001b[0m\n",
      "\u001b[0;32m/home/cec/clgen/lib/python3.5/site-packages/google/protobuf/internal/python_message.py\u001b[0m in \u001b[0;36m__str__\u001b[0;34m(self)\u001b[0m\n\u001b[1;32m    987\u001b[0m   \u001b[0;34m\"\"\"Helper for _AddMessageMethods().\"\"\"\u001b[0m\u001b[0;34m\u001b[0m\u001b[0m\n\u001b[1;32m    988\u001b[0m   \u001b[0;32mdef\u001b[0m \u001b[0m__str__\u001b[0m\u001b[0;34m(\u001b[0m\u001b[0mself\u001b[0m\u001b[0;34m)\u001b[0m\u001b[0;34m:\u001b[0m\u001b[0;34m\u001b[0m\u001b[0m\n\u001b[0;32m--> 989\u001b[0;31m     \u001b[0;32mreturn\u001b[0m \u001b[0mtext_format\u001b[0m\u001b[0;34m.\u001b[0m\u001b[0mMessageToString\u001b[0m\u001b[0;34m(\u001b[0m\u001b[0mself\u001b[0m\u001b[0;34m)\u001b[0m\u001b[0;34m\u001b[0m\u001b[0m\n\u001b[0m\u001b[1;32m    990\u001b[0m   \u001b[0mcls\u001b[0m\u001b[0;34m.\u001b[0m\u001b[0m__str__\u001b[0m \u001b[0;34m=\u001b[0m \u001b[0m__str__\u001b[0m\u001b[0;34m\u001b[0m\u001b[0m\n\u001b[1;32m    991\u001b[0m \u001b[0;34m\u001b[0m\u001b[0m\n",
      "\u001b[0;32m/home/cec/clgen/lib/python3.5/site-packages/google/protobuf/text_format.py\u001b[0m in \u001b[0;36mMessageToString\u001b[0;34m(message, as_utf8, as_one_line, pointy_brackets, use_index_order, float_format, use_field_number, descriptor_pool, indent)\u001b[0m\n\u001b[1;32m    157\u001b[0m                      \u001b[0muse_index_order\u001b[0m\u001b[0;34m,\u001b[0m \u001b[0mfloat_format\u001b[0m\u001b[0;34m,\u001b[0m \u001b[0muse_field_number\u001b[0m\u001b[0;34m,\u001b[0m\u001b[0;34m\u001b[0m\u001b[0m\n\u001b[1;32m    158\u001b[0m                      descriptor_pool)\n\u001b[0;32m--> 159\u001b[0;31m   \u001b[0mprinter\u001b[0m\u001b[0;34m.\u001b[0m\u001b[0mPrintMessage\u001b[0m\u001b[0;34m(\u001b[0m\u001b[0mmessage\u001b[0m\u001b[0;34m)\u001b[0m\u001b[0;34m\u001b[0m\u001b[0m\n\u001b[0m\u001b[1;32m    160\u001b[0m   \u001b[0mresult\u001b[0m \u001b[0;34m=\u001b[0m \u001b[0mout\u001b[0m\u001b[0;34m.\u001b[0m\u001b[0mgetvalue\u001b[0m\u001b[0;34m(\u001b[0m\u001b[0;34m)\u001b[0m\u001b[0;34m\u001b[0m\u001b[0m\n\u001b[1;32m    161\u001b[0m   \u001b[0mout\u001b[0m\u001b[0;34m.\u001b[0m\u001b[0mclose\u001b[0m\u001b[0;34m(\u001b[0m\u001b[0;34m)\u001b[0m\u001b[0;34m\u001b[0m\u001b[0m\n",
      "\u001b[0;32m/home/cec/clgen/lib/python3.5/site-packages/google/protobuf/text_format.py\u001b[0m in \u001b[0;36mPrintMessage\u001b[0;34m(self, message)\u001b[0m\n\u001b[1;32m    322\u001b[0m       \u001b[0;32melif\u001b[0m \u001b[0mfield\u001b[0m\u001b[0;34m.\u001b[0m\u001b[0mlabel\u001b[0m \u001b[0;34m==\u001b[0m \u001b[0mdescriptor\u001b[0m\u001b[0;34m.\u001b[0m\u001b[0mFieldDescriptor\u001b[0m\u001b[0;34m.\u001b[0m\u001b[0mLABEL_REPEATED\u001b[0m\u001b[0;34m:\u001b[0m\u001b[0;34m\u001b[0m\u001b[0m\n\u001b[1;32m    323\u001b[0m         \u001b[0;32mfor\u001b[0m \u001b[0melement\u001b[0m \u001b[0;32min\u001b[0m \u001b[0mvalue\u001b[0m\u001b[0;34m:\u001b[0m\u001b[0;34m\u001b[0m\u001b[0m\n\u001b[0;32m--> 324\u001b[0;31m           \u001b[0mself\u001b[0m\u001b[0;34m.\u001b[0m\u001b[0mPrintField\u001b[0m\u001b[0;34m(\u001b[0m\u001b[0mfield\u001b[0m\u001b[0;34m,\u001b[0m \u001b[0melement\u001b[0m\u001b[0;34m)\u001b[0m\u001b[0;34m\u001b[0m\u001b[0m\n\u001b[0m\u001b[1;32m    325\u001b[0m       \u001b[0;32melse\u001b[0m\u001b[0;34m:\u001b[0m\u001b[0;34m\u001b[0m\u001b[0m\n\u001b[1;32m    326\u001b[0m         \u001b[0mself\u001b[0m\u001b[0;34m.\u001b[0m\u001b[0mPrintField\u001b[0m\u001b[0;34m(\u001b[0m\u001b[0mfield\u001b[0m\u001b[0;34m,\u001b[0m \u001b[0mvalue\u001b[0m\u001b[0;34m)\u001b[0m\u001b[0;34m\u001b[0m\u001b[0m\n",
      "\u001b[0;32m/home/cec/clgen/lib/python3.5/site-packages/google/protobuf/text_format.py\u001b[0m in \u001b[0;36mPrintField\u001b[0;34m(self, field, value)\u001b[0m\n\u001b[1;32m    353\u001b[0m       \u001b[0mout\u001b[0m\u001b[0;34m.\u001b[0m\u001b[0mwrite\u001b[0m\u001b[0;34m(\u001b[0m\u001b[0;34m': '\u001b[0m\u001b[0;34m)\u001b[0m\u001b[0;34m\u001b[0m\u001b[0m\n\u001b[1;32m    354\u001b[0m \u001b[0;34m\u001b[0m\u001b[0m\n\u001b[0;32m--> 355\u001b[0;31m     \u001b[0mself\u001b[0m\u001b[0;34m.\u001b[0m\u001b[0mPrintFieldValue\u001b[0m\u001b[0;34m(\u001b[0m\u001b[0mfield\u001b[0m\u001b[0;34m,\u001b[0m \u001b[0mvalue\u001b[0m\u001b[0;34m)\u001b[0m\u001b[0;34m\u001b[0m\u001b[0m\n\u001b[0m\u001b[1;32m    356\u001b[0m     \u001b[0;32mif\u001b[0m \u001b[0mself\u001b[0m\u001b[0;34m.\u001b[0m\u001b[0mas_one_line\u001b[0m\u001b[0;34m:\u001b[0m\u001b[0;34m\u001b[0m\u001b[0m\n\u001b[1;32m    357\u001b[0m       \u001b[0mout\u001b[0m\u001b[0;34m.\u001b[0m\u001b[0mwrite\u001b[0m\u001b[0;34m(\u001b[0m\u001b[0;34m' '\u001b[0m\u001b[0;34m)\u001b[0m\u001b[0;34m\u001b[0m\u001b[0m\n",
      "\u001b[0;32m/home/cec/clgen/lib/python3.5/site-packages/google/protobuf/text_format.py\u001b[0m in \u001b[0;36mPrintFieldValue\u001b[0;34m(self, field, value)\u001b[0m\n\u001b[1;32m    387\u001b[0m       \u001b[0mvalue\u001b[0m\u001b[0;34m:\u001b[0m \u001b[0mThe\u001b[0m \u001b[0mvalue\u001b[0m \u001b[0mof\u001b[0m \u001b[0mthe\u001b[0m \u001b[0mfield\u001b[0m\u001b[0;34m.\u001b[0m\u001b[0;34m\u001b[0m\u001b[0m\n\u001b[1;32m    388\u001b[0m     \"\"\"\n\u001b[0;32m--> 389\u001b[0;31m     \u001b[0mout\u001b[0m \u001b[0;34m=\u001b[0m \u001b[0mself\u001b[0m\u001b[0;34m.\u001b[0m\u001b[0mout\u001b[0m\u001b[0;34m\u001b[0m\u001b[0m\n\u001b[0m\u001b[1;32m    390\u001b[0m     \u001b[0;32mif\u001b[0m \u001b[0mfield\u001b[0m\u001b[0;34m.\u001b[0m\u001b[0mcpp_type\u001b[0m \u001b[0;34m==\u001b[0m \u001b[0mdescriptor\u001b[0m\u001b[0;34m.\u001b[0m\u001b[0mFieldDescriptor\u001b[0m\u001b[0;34m.\u001b[0m\u001b[0mCPPTYPE_MESSAGE\u001b[0m\u001b[0;34m:\u001b[0m\u001b[0;34m\u001b[0m\u001b[0m\n\u001b[1;32m    391\u001b[0m       \u001b[0mself\u001b[0m\u001b[0;34m.\u001b[0m\u001b[0m_PrintMessageFieldValue\u001b[0m\u001b[0;34m(\u001b[0m\u001b[0mvalue\u001b[0m\u001b[0;34m)\u001b[0m\u001b[0;34m\u001b[0m\u001b[0m\n",
      "\u001b[0;31mKeyboardInterrupt\u001b[0m: "
     ]
    }
   ],
   "source": [
    "data_file = \"./sampling-{host}.json\".format(host=system.HOSTNAME)\n",
    "# fs.rm(data_file)  # reset experimental data\n",
    "data = clgen.load_json_file(data_file, must_exist=False)\n",
    "\n",
    "for rnn_size in rnn_sizes:\n",
    "    key = str(rnn_size)\n",
    "    if key not in data:\n",
    "        print(\"collecting result for\", rnn_size, \"...\")\n",
    "        training_opts[\"rnn_size\"] = rnn_size\n",
    "        m = model.from_json({\n",
    "            \"corpus\": corpus_opts,\n",
    "            \"train_opts\": training_opts\n",
    "        })\n",
    "        data[key] = evaluate(m, s)\n",
    "    print(\"result\", rnn_size, clgen.format_json(data[key]))\n",
    "    clgen.write_file(data_file, clgen.format_json(data))\n",
    "print(\"done\", nowstr())"
   ]
  },
  {
   "cell_type": "markdown",
   "metadata": {},
   "source": [
    "**Experimental results:**"
   ]
  },
  {
   "cell_type": "code",
   "execution_count": 16,
   "metadata": {
    "collapsed": false
   },
   "outputs": [
    {
     "data": {
      "image/png": "[encoded data removed]",
      "text/plain": [
       "<matplotlib.figure.Figure at 0x7fc98020d128>"
      ]
     },
     "metadata": {},
     "output_type": "display_data"
    }
   ],
   "source": [
    "import matplotlib.pyplot as plt\n",
    "import seaborn as sns\n",
    "from labm8 import viz\n",
    "plt.style.use([\"seaborn-white\", \"seaborn-paper\"])\n",
    "\n",
    "plt.subplots(2, 2)\n",
    "\n",
    "plt.subplot(2, 2, 1)\n",
    "x, y = zip(*[(int(x), data[x][\"training_time\"] / training_opts[\"max_epochs\"])\n",
    "             for x in sorted(data.keys(), key=lambda x: int(x))])\n",
    "sns.barplot(x, y)\n",
    "plt.title(\"Time per. epoch\")\n",
    "plt.xlabel(\"Nodes per layer\")\n",
    "plt.ylabel(\"Time (seconds)\")\n",
    "\n",
    "plt.subplot(2, 2, 2)\n",
    "x, y = zip(*[(int(x), data[x][\"sampling_time\"] / data[x][\"num_kernels\"])\n",
    "             for x in sorted(data.keys(), key=lambda x: int(x))])\n",
    "sns.barplot(x, y)\n",
    "plt.title(\"Time per. sample\")\n",
    "plt.xlabel(\"Nodes per layer\")\n",
    "plt.ylabel(\"Time (seconds)\")\n",
    "    \n",
    "plt.subplot(2, 2, 3)\n",
    "x, y = zip(*[(int(x), data[x][\"efficiency\"] * 100)\n",
    "             for x in sorted(data.keys(), key=lambda x: int(x))])\n",
    "sns.barplot(x, y)\n",
    "plt.title(\"Efficiency\")\n",
    "plt.xlabel(\"Nodes per layer\")\n",
    "plt.ylabel(\"% good chars\")\n",
    "    \n",
    "plt.subplot(2, 2, 4)\n",
    "x, y = zip(*[(int(x), data[x][\"throughput\"])\n",
    "             for x in sorted(data.keys(), key=lambda x: int(x))])\n",
    "sns.barplot(x, y)\n",
    "plt.title(\"Throughput\")\n",
    "plt.xlabel(\"Nodes per layer\")\n",
    "plt.ylabel(\"good chars / second\")\n",
    "\n",
    "viz.finalise(figsize=(8, 8))"
   ]
  },
  {
   "cell_type": "code",
   "execution_count": null,
   "metadata": {
    "collapsed": true
   },
   "outputs": [],
   "source": []
  }
 ],
 "metadata": {
  "kernelspec": {
   "display_name": "CLgen",
   "language": "python",
   "name": "clgen"
  },
  "language_info": {
   "codemirror_mode": {
    "name": "ipython",
    "version": 3
   },
   "file_extension": ".py",
   "mimetype": "text/x-python",
   "name": "python",
   "nbconvert_exporter": "python",
   "pygments_lexer": "ipython3",
   "version": "3.5.2"
  }
 },
 "nbformat": 4,
 "nbformat_minor": 1
}
