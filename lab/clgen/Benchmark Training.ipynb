{
 "cells": [
  {
   "cell_type": "code",
   "execution_count": null,
   "metadata": {
    "collapsed": true
   },
   "outputs": [],
   "source": [
    "# preamble\n",
    "from time import time\n",
    "\n",
    "import clgen\n",
    "from clgen import dbutil\n",
    "from clgen import sampler\n",
    "from clgen import model\n",
    "from clgen import preprocess"
   ]
  },
  {
   "cell_type": "code",
   "execution_count": null,
   "metadata": {
    "collapsed": true
   },
   "outputs": [],
   "source": [
    "def benchmark(model):\n",
    "    \"\"\" train model and return elapsed time in seconds \"\"\"\n",
    "    model.cache.empty()  # clear caches    \n",
    "    tstart = time()  # start timer\n",
    "    model.train(quiet=True)  # train model\n",
    "    return time() - tstart"
   ]
  },
  {
   "cell_type": "code",
   "execution_count": null,
   "metadata": {
    "collapsed": false
   },
   "outputs": [],
   "source": [
    "times = {}\n",
    "for rnn_size in [8, 16]: #[256, 512, 1024, 2048]:\n",
    "    elapsed = benchmark(model.from_json({\n",
    "        \"corpus\": {\n",
    "            \"path\": \"~/data/tiny\"\n",
    "        },\n",
    "        \"train_opts\": {\n",
    "            \"model_type\": \"lstm\",\n",
    "            \"rnn_size\": rnn_size,\n",
    "            \"num_layers\": 3,\n",
    "            \"max_epochs\": 50\n",
    "        }\n",
    "    }))\n",
    "    print(\"result\", rnn_size, elapsed)\n",
    "    times[rnn_size] = elapsed\n",
    "print(times)\n",
    "clgen.write_file(\"benchmark.json\", clgen.format_json(times))\n",
    "times"
   ]
  },
  {
   "cell_type": "code",
   "execution_count": null,
   "metadata": {
    "collapsed": true
   },
   "outputs": [],
   "source": []
  }
 ],
 "metadata": {
  "kernelspec": {
   "display_name": "CLgen",
   "language": "python",
   "name": "clgen"
  },
  "language_info": {
   "codemirror_mode": {
    "name": "ipython",
    "version": 3
   },
   "file_extension": ".py",
   "mimetype": "text/x-python",
   "name": "python",
   "nbconvert_exporter": "python",
   "pygments_lexer": "ipython3",
   "version": "3.5.2"
  }
 },
 "nbformat": 4,
 "nbformat_minor": 1
}
