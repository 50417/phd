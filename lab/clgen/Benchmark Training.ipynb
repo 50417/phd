{
 "cells": [
  {
   "cell_type": "markdown",
   "metadata": {},
   "source": [
    "# Benchmark CLgen Training Time\n",
    "Plot training times as a function of network size."
   ]
  },
  {
   "cell_type": "code",
   "execution_count": 1,
   "metadata": {
    "collapsed": false
   },
   "outputs": [],
   "source": [
    "# preamble\n",
    "%reload_ext autoreload\n",
    "%autoreload 2\n",
    "%matplotlib inline\n",
    "\n",
    "from time import time\n",
    "from labm8 import fs\n",
    "from labm8 import system\n",
    "from labm8.time import nowstr\n",
    "\n",
    "import clgen\n",
    "from clgen import corpus\n",
    "from clgen import dbutil\n",
    "from clgen import sampler\n",
    "from clgen import model\n",
    "from clgen import preprocess"
   ]
  },
  {
   "cell_type": "markdown",
   "metadata": {},
   "source": [
    "**Experimental setup:**"
   ]
  },
  {
   "cell_type": "code",
   "execution_count": 3,
   "metadata": {
    "collapsed": false
   },
   "outputs": [
    {
     "name": "stdout",
     "output_type": "stream",
     "text": [
      "Corpus size: 773245\n",
      "Vocab size:  92\n",
      "\n",
      "CLgen:      0.2.1 (with OpenCL)\n",
      "Platform:   Darwin\n",
      "Memory:     16384 MB\n",
      "\n",
      "Device:     GPU Intel(R) Iris(TM) Graphics 6100\n",
      "Compute #.: 48\n",
      "Frequency:  1100 HZ\n",
      "Memory:     1536 MB\n",
      "Driver:     1.2(Oct 19 2016 00:25:08)\n"
     ]
    }
   ],
   "source": [
    "rnn_sizes = [4, 8, 16] #[256, 512, 1024, 2048]\n",
    "corpus_opts = {\n",
    "    \"path\": \"~/data/tiny\" #\"~/data/github\"\n",
    "}\n",
    "training_opts = {\n",
    "    \"model_type\": \"lstm\",\n",
    "    \"num_layers\": 2, #3,\n",
    "    \"max_epochs\": 1 #50\n",
    "}\n",
    "\n",
    "c = corpus.Corpus.from_json(corpus_opts)\n",
    "print(\"Corpus size:\", c.size)\n",
    "print(\"Vocab size: \", c.vocab_size)\n",
    "print()\n",
    "clgen.platform_info()"
   ]
  },
  {
   "cell_type": "markdown",
   "metadata": {},
   "source": [
    "**Experimental methodology:**"
   ]
  },
  {
   "cell_type": "code",
   "execution_count": 12,
   "metadata": {
    "collapsed": true
   },
   "outputs": [],
   "source": [
    "def benchmark_training_time(model):\n",
    "    \"\"\" train model and return elapsed time in seconds \"\"\"\n",
    "    model.cache.empty()  # clear checkpoint cache    \n",
    "    tstart = time()  # start timer\n",
    "    model.train(quiet=True)  # train model\n",
    "    return time() - tstart"
   ]
  },
  {
   "cell_type": "markdown",
   "metadata": {},
   "source": [
    "**Experimental results:**"
   ]
  },
  {
   "cell_type": "code",
   "execution_count": 13,
   "metadata": {
    "collapsed": false
   },
   "outputs": [
    {
     "name": "stdout",
     "output_type": "stream",
     "text": [
      "collecting result for 4\n",
      "result 4 37.3 seconds\n",
      "collecting result for 8\n",
      "result 8 37.4 seconds\n",
      "collecting result for 16\n",
      "result 16 41.8 seconds\n",
      "done 2016-12-15 00:22:53\n"
     ]
    },
    {
     "data": {
      "text/plain": [
       "{'16': 41.83615493774414, '4': 37.28904891014099, '8': 37.41653800010681}"
      ]
     },
     "execution_count": 13,
     "metadata": {},
     "output_type": "execute_result"
    }
   ],
   "source": [
    "data_file = \"./benchmark-{host}.json\".format(host=system.HOSTNAME)\n",
    "fs.rm(data_file)  # reset experimental data\n",
    "data = clgen.load_json_file(data_file, must_exist=False)\n",
    "\n",
    "for rnn_size in rnn_sizes:\n",
    "    key = str(rnn_size)\n",
    "    if key not in data:\n",
    "        print(\"collecting result for\", rnn_size, \"...\")\n",
    "        training_opts[\"rnn_size\"] = rnn_size\n",
    "        data[key] = benchmark_training_time(model.from_json({\n",
    "            \"corpus\": corpus_opts,\n",
    "            \"train_opts\": training_opts\n",
    "        }))\n",
    "    print(\"result\", rnn_size, \"{:.1f}\".format(data[key]), \"seconds\")\n",
    "    clgen.write_file(data_file, clgen.format_json(data))\n",
    "print(\"done\", nowstr())\n",
    "data"
   ]
  },
  {
   "cell_type": "markdown",
   "metadata": {},
   "source": [
    "**Evaluation:**"
   ]
  },
  {
   "cell_type": "code",
   "execution_count": 11,
   "metadata": {
    "collapsed": false
   },
   "outputs": [
    {
     "name": "stdout",
     "output_type": "stream",
     "text": [
      "(4, 8, 16)\n",
      "(15.877464056015015, 17.752957105636597, 40.19394898414612)\n"
     ]
    },
    {
     "data": {
      "text/plain": [
       "<matplotlib.text.Text at 0x11b3cd5f8>"
      ]
     },
     "execution_count": 11,
     "metadata": {},
     "output_type": "execute_result"
    },
    {
     "data": {
      "image/png": "[encoded data removed]",
      "text/plain": [
       "<matplotlib.figure.Figure at 0x11b22d7f0>"
      ]
     },
     "metadata": {},
     "output_type": "display_data"
    }
   ],
   "source": [
    "import matplotlib.pyplot as plt\n",
    "import seaborn as sns\n",
    "\n",
    "x, y = zip(*[(int(x), data[x]) for x in sorted(data.keys(), key=lambda x: int(x))])\n",
    "print(x)\n",
    "print(y)\n",
    "sns.barplot(x, y)\n",
    "plt.title(\"Training a {nlayers} layer {model_type} for {epochs} epochs on {host}\"\n",
    "          .format(nlayers=training_opts[\"num_layers\"],\n",
    "                  model_type=training_opts[\"model_type\"].upper(),\n",
    "                  epochs=training_opts[\"max_epochs\"],\n",
    "                  host=system.HOSTNAME))\n",
    "plt.xlabel(\"Nodes per layer\")\n",
    "plt.ylabel(\"Time (seconds)\")"
   ]
  }
 ],
 "metadata": {
  "kernelspec": {
   "display_name": "CLgen",
   "language": "python",
   "name": "clgen"
  },
  "language_info": {
   "codemirror_mode": {
    "name": "ipython",
    "version": 3
   },
   "file_extension": ".py",
   "mimetype": "text/x-python",
   "name": "python",
   "nbconvert_exporter": "python",
   "pygments_lexer": "ipython3",
   "version": "3.5.2"
  }
 },
 "nbformat": 4,
 "nbformat_minor": 1
}
