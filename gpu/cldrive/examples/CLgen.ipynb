{
 "cells": [
  {
   "cell_type": "markdown",
   "metadata": {},
   "source": [
    "# Batch Testing Synthetic OpenCL codes"
   ]
  },
  {
   "cell_type": "code",
   "execution_count": 1,
   "metadata": {},
   "outputs": [
    {
     "data": {
      "text/plain": [
       "'0.0.3.dev1'"
      ]
     },
     "execution_count": 1,
     "metadata": {},
     "output_type": "execute_result"
    }
   ],
   "source": [
    "import cldrive\n",
    "cldrive.__version__"
   ]
  },
  {
   "cell_type": "markdown",
   "metadata": {},
   "source": [
    "Unpack the test data, which consist of 1000 OpenCL kernels generated using [CLgen](https://github.com/ChrisCummins/paper-synthesizing-benchmarks):"
   ]
  },
  {
   "cell_type": "code",
   "execution_count": 2,
   "metadata": {
    "collapsed": true
   },
   "outputs": [],
   "source": [
    "!tar xjf data/clgen-1000.tar.bz2 -C data"
   ]
  },
  {
   "cell_type": "markdown",
   "metadata": {},
   "source": [
    "Read the test data:"
   ]
  },
  {
   "cell_type": "code",
   "execution_count": 3,
   "metadata": {},
   "outputs": [
    {
     "name": "stdout",
     "output_type": "stream",
     "text": [
      "#. kernels to run: 1000\n"
     ]
    }
   ],
   "source": [
    "import os\n",
    "\n",
    "def read_file(path):\n",
    "    with open(path) as infile:\n",
    "        src = infile.read()\n",
    "    return src\n",
    "\n",
    "kerneldir = \"data/clgen-1000/kernels\"\n",
    "paths = [os.path.join(kerneldir, p) for p in os.listdir(kerneldir)]\n",
    "srcs = [read_file(path) for path in paths]\n",
    "print(\"#. kernels to run:\", len(srcs))"
   ]
  },
  {
   "cell_type": "markdown",
   "metadata": {},
   "source": [
    "Create the OpenCL environment:"
   ]
  },
  {
   "cell_type": "code",
   "execution_count": 4,
   "metadata": {},
   "outputs": [
    {
     "data": {
      "text/plain": [
       "Device: GeForce GTX 1080, Platform: NVIDIA Corporation"
      ]
     },
     "execution_count": 4,
     "metadata": {},
     "output_type": "execute_result"
    }
   ],
   "source": [
    "env = cldrive.make_env(devtype=\"gpu\")\n",
    "env"
   ]
  },
  {
   "cell_type": "code",
   "execution_count": 5,
   "metadata": {},
   "outputs": [
    {
     "name": "stderr",
     "output_type": "stream",
     "text": [
      "100% (1000 of 1000) |#####################| Elapsed Time: 0:31:26 Time: 0:31:26\n"
     ]
    }
   ],
   "source": [
    "from progressbar import ProgressBar\n",
    "\n",
    "for path, src in ProgressBar()(list(zip(paths, srcs))):\n",
    "    inputs = cldrive.arange(src, 256)\n",
    "    cldrive.drive(env, src, inputs, gsize=(128, 1, 1), lsize=(32, 1, 1), timeout=60)"
   ]
  }
 ],
 "metadata": {
  "kernelspec": {
   "display_name": "CLgen",
   "language": "python",
   "name": "clgen"
  },
  "language_info": {
   "codemirror_mode": {
    "name": "ipython",
    "version": 3
   },
   "file_extension": ".py",
   "mimetype": "text/x-python",
   "name": "python",
   "nbconvert_exporter": "python",
   "pygments_lexer": "ipython3",
   "version": "3.6.1"
  }
 },
 "nbformat": 4,
 "nbformat_minor": 2
}
