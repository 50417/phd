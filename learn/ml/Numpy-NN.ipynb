{
 "cells": [
  {
   "cell_type": "markdown",
   "metadata": {},
   "source": [
    "# Neural Network by Hand\n",
    "3 layer feedfoward neural network implemented using:"
   ]
  },
  {
   "cell_type": "code",
   "execution_count": 1,
   "metadata": {
    "collapsed": false
   },
   "outputs": [],
   "source": [
    "import numpy as np\n",
    "\n",
    "import matplotlib.pyplot as plt\n",
    "%matplotlib inline"
   ]
  },
  {
   "cell_type": "markdown",
   "metadata": {},
   "source": [
    "Example dataset:"
   ]
  },
  {
   "cell_type": "code",
   "execution_count": 2,
   "metadata": {
    "collapsed": false
   },
   "outputs": [
    {
     "name": "stdout",
     "output_type": "stream",
     "text": [
      "[0 0 1] [0]\n",
      "[1 1 1] [1]\n",
      "[1 0 1] [1]\n",
      "[0 1 1] [0]\n"
     ]
    }
   ],
   "source": [
    "X = np.array([\n",
    "    [0, 0, 1],\n",
    "    [1, 1, 1],\n",
    "    [1, 0, 1],\n",
    "    [0, 1, 1]\n",
    "])\n",
    "\n",
    "Y = np.array([\n",
    "    [0],\n",
    "    [1],\n",
    "    [1],\n",
    "    [0]\n",
    "])\n",
    "\n",
    "for x, y in zip(X, Y):\n",
    "    print(x, y)"
   ]
  },
  {
   "cell_type": "markdown",
   "metadata": {},
   "source": [
    "Hyper-parameters:"
   ]
  },
  {
   "cell_type": "code",
   "execution_count": 3,
   "metadata": {
    "collapsed": true
   },
   "outputs": [],
   "source": [
    "num_epochs = 100000"
   ]
  },
  {
   "cell_type": "markdown",
   "metadata": {},
   "source": [
    "Weights:"
   ]
  },
  {
   "cell_type": "code",
   "execution_count": 4,
   "metadata": {
    "collapsed": true
   },
   "outputs": [],
   "source": [
    "def sigmoid(x):\n",
    "    return 1 / (1 + np.exp(-x))\n",
    "\n",
    "def derivative(x):\n",
    "    return x * (1 - x)"
   ]
  },
  {
   "cell_type": "code",
   "execution_count": 5,
   "metadata": {
    "collapsed": false
   },
   "outputs": [],
   "source": [
    "# weights in range[-1, 1]\n",
    "syn2 = np.random.random((3, 4)) * 2 - 1\n",
    "syn3 = np.random.random((4, 1)) * 2 - 1"
   ]
  },
  {
   "cell_type": "code",
   "execution_count": 6,
   "metadata": {
    "collapsed": false
   },
   "outputs": [
    {
     "data": {
      "text/plain": [
       "<matplotlib.text.Text at 0x7f975d86fbe0>"
      ]
     },
     "execution_count": 6,
     "metadata": {},
     "output_type": "execute_result"
    },
    {
     "data": {
      "image/png": "[encoded data removed]",
      "text/plain": [
       "<matplotlib.figure.Figure at 0x7f975db2ea20>"
      ]
     },
     "metadata": {},
     "output_type": "display_data"
    }
   ],
   "source": [
    "errs = np.zeros(int(num_epochs / 1000))\n",
    "\n",
    "for j in range(num_epochs):\n",
    "    # feed-forward from input to output\n",
    "    layer_1 = X\n",
    "    layer_2 = sigmoid(np.dot(layer_1, syn2))\n",
    "    layer_3 = sigmoid(np.dot(layer_2, syn3))\n",
    "    \n",
    "    # computer in third layer\n",
    "    layer_3_error = y - layer_3\n",
    "    layer_3_delta = layer_3_error * derivative(layer_3)\n",
    "    \n",
    "    # computer output in hidden layer\n",
    "    layer_2_error = layer_3_delta.dot(syn3.T)\n",
    "    layer_2_delta = layer_2_error * derivative(layer_2)\n",
    "    \n",
    "    syn3 += layer_2.T.dot(layer_3_delta)\n",
    "    syn2 += layer_1.T.dot(layer_2_delta)\n",
    "    \n",
    "    \n",
    "    if (j % 1000) == 0:\n",
    "        err = np.mean(np.abs(layer_3_error))\n",
    "        errs[int(j / 1000)] = err\n",
    "        \n",
    "plt.plot(range(int(num_epochs / 1000)), errs)\n",
    "plt.ylabel(\"error\")\n",
    "plt.xlabel(\"iterations (1000s)\")"
   ]
  },
  {
   "cell_type": "code",
   "execution_count": null,
   "metadata": {
    "collapsed": true
   },
   "outputs": [],
   "source": []
  }
 ],
 "metadata": {
  "kernelspec": {
   "display_name": "CLgen",
   "language": "python",
   "name": "clgen"
  },
  "language_info": {
   "codemirror_mode": {
    "name": "ipython",
    "version": 3
   },
   "file_extension": ".py",
   "mimetype": "text/x-python",
   "name": "python",
   "nbconvert_exporter": "python",
   "pygments_lexer": "ipython3",
   "version": "3.5.2"
  }
 },
 "nbformat": 4,
 "nbformat_minor": 2
}
