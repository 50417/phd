{
 "cells": [
  {
   "cell_type": "markdown",
   "metadata": {},
   "source": [
    "# Genetic Algorithm"
   ]
  },
  {
   "cell_type": "code",
   "execution_count": 1,
   "metadata": {
    "collapsed": true
   },
   "outputs": [],
   "source": [
    "import random\n",
    "import numpy as np\n",
    "\n",
    "def genetic_algorithm(starting_population, cost_fn, crossover_fn, mutate_fn, drop_weakest=None,  \n",
    "                      terminate_at_cost=None, terminate_at_generation=10000):\n",
    "    \"\"\"\n",
    "    Arguments:\n",
    "        starting_population (list): List of individuals in starting population. \n",
    "            The length of this list determines the population size used.\n",
    "            List length must be divisible by 2.\n",
    "        cost_fn (fn(individual) -> float): Determine cost of an individual, >= 0.\n",
    "            Lower is better, 0 is perfect.\n",
    "        drop_weakest (float, optional): If provided, drop this\n",
    "            portion of each generation, without letting them breed.\n",
    "        terminate_at_cost (float, optional): If an individual with a cost less than\n",
    "            or equal to this value is produced, stop.\n",
    "        terminate_at_generation (int, optional): Stop after this many generations.\n",
    "    \n",
    "    Returns:\n",
    "        dict: results, in the form\n",
    "            {\n",
    "                \"best\": the fittest individual\n",
    "                \"best_cost\": the cost of the fittest individual\n",
    "                \"cost_history\": an np.array of shape \n",
    "                    (num_generations x population_size), containing the \n",
    "                    cost of every member of the population over generations.\n",
    "            }\n",
    "    \"\"\"\n",
    "    def weighted_pick(items, key=lambda x: x):\n",
    "        random.shuffle(items)\n",
    "        weight_total = sum((key(item) for item in items))\n",
    "        n = random.uniform(0, weight_total)\n",
    "        for item in items:\n",
    "            weight = key(item)\n",
    "            if n < weight:\n",
    "                return item\n",
    "            n = n - weight\n",
    "        return item\n",
    "    \n",
    "    population = starting_population\n",
    "    population_size = len(population)\n",
    "    assert(population_size % 2 == 0)\n",
    "\n",
    "    cost_history = []\n",
    "\n",
    "    for generation in range(terminate_at_generation):\n",
    "        # determine costs of population\n",
    "        costs = [cost_fn(p) for p in population]\n",
    "        cost_history.append(costs)\n",
    "        \n",
    "        if terminate_at_cost is not None and min(costs) <= terminate_at_cost:\n",
    "            return {\n",
    "                \"best\": population[costs.index(min(costs))],\n",
    "                \"best_cost\": min(costs),\n",
    "                \"cost_history\": np.array(cost_history)\n",
    "            }\n",
    "\n",
    "        # fitness is the inverse of cost\n",
    "        MIN_COST = 0.000000001\n",
    "        fitnesses = [(p, 1 / max(c, MIN_COST)) for p, c in zip(population, costs)]\n",
    "            \n",
    "        # remove the weakest from the gene pool\n",
    "        if drop_weakest:\n",
    "            fitnesses = sorted(fitnesses, key=lambda x: x[1])\n",
    "            fitnesses = fitnesses[int(drop_weakest * population_size):]\n",
    "\n",
    "        # create next generation\n",
    "        population = []\n",
    "        for i in range(population_size // 2):\n",
    "            # individuals with higher fitnesses are more likely to breed\n",
    "            parent1 = weighted_pick(fitnesses, key=lambda x: x[1])[0]\n",
    "            parent2 = weighted_pick(fitnesses, key=lambda x: x[1])[0]\n",
    "\n",
    "            # create children\n",
    "            child1, child2 = crossover_fn(parent1, parent2)\n",
    "\n",
    "            # mutate children\n",
    "            population.append(mutate_fn(child1))\n",
    "            population.append(mutate_fn(child2))\n",
    "\n",
    "    # determine best\n",
    "    best, cost = min(zip(population, [cost_fn(p) for p in population]), key=lambda x: x[1])\n",
    "\n",
    "    return {\n",
    "        \"best\": best,\n",
    "        \"best_cost\": cost,\n",
    "        \"cost_history\": np.array(cost_history)\n",
    "    }"
   ]
  },
  {
   "cell_type": "markdown",
   "metadata": {},
   "source": [
    "## Example Usage"
   ]
  },
  {
   "cell_type": "code",
   "execution_count": 2,
   "metadata": {
    "collapsed": false
   },
   "outputs": [
    {
     "name": "stdout",
     "output_type": "stream",
     "text": [
      "Fittest after 2611 iterations: 'Hello, World!' (cost 0)\n"
     ]
    }
   ],
   "source": [
    "import string\n",
    "import editdistance\n",
    "\n",
    "def random_gene():\n",
    "    \"\"\" generate a random gene \"\"\"\n",
    "    return random.choice(string.printable)\n",
    "\n",
    "\n",
    "def random_dna():\n",
    "    \"\"\" generate a random DNA \"\"\"\n",
    "    return [random_gene() for i in range(len(\"Hello, World!\"))]\n",
    "\n",
    "\n",
    "def random_population():\n",
    "    \"\"\" generate a population of random DNA \"\"\"\n",
    "    population_size = 20\n",
    "    return [random_dna() for j in range(population_size)]\n",
    "\n",
    "\n",
    "def cost(dna):\n",
    "    \"\"\" evaluate fitness of DNA. Lower is better, 0 is perfect \"\"\"\n",
    "    return editdistance.eval(\"\".join(dna), \"Hello, World!\")\n",
    "\n",
    "\n",
    "def mutate(dna):\n",
    "    \"\"\" randomly (maybe) mutate DNA \"\"\"\n",
    "    mutation_rate = 0.01\n",
    "    return [random_gene() if random.random() < mutation_rate else x for x in dna]\n",
    "\n",
    "\n",
    "def crossover(dna1, dna2):\n",
    "    \"\"\" randomly crossover genes from two DNAs \"\"\"\n",
    "    return zip(*[(c1, c2) if random.random() < 0.5 else (c2, c1) for c1, c2 in zip(dna1, dna2)])\n",
    "\n",
    "results = genetic_algorithm(**{\n",
    "    \"starting_population\": random_population(), \n",
    "    \"cost_fn\": cost,\n",
    "    \"mutate_fn\": mutate,\n",
    "    \"crossover_fn\": crossover,\n",
    "    \"terminate_at_cost\": 0,\n",
    "    \"terminate_at_generation\": 10000,\n",
    "    \"drop_weakest\": .05\n",
    "})\n",
    "\n",
    "best = \"\".join(results[\"best\"])\n",
    "best_cost = results[\"best_cost\"]\n",
    "num_gen = len(results[\"cost_history\"])\n",
    "print(\"Fittest after {num_gen} iterations: '{best}' (cost {best_cost})\".format(**vars()))"
   ]
  },
  {
   "cell_type": "code",
   "execution_count": 3,
   "metadata": {
    "collapsed": false
   },
   "outputs": [
    {
     "data": {
      "text/plain": [
       "<matplotlib.text.Text at 0x7f5fda0e3940>"
      ]
     },
     "execution_count": 3,
     "metadata": {},
     "output_type": "execute_result"
    },
    {
     "data": {
      "image/png": "[encoded data removed]",
      "text/plain": [
       "<matplotlib.figure.Figure at 0x7f601f7b5a58>"
      ]
     },
     "metadata": {},
     "output_type": "display_data"
    }
   ],
   "source": [
    "import matplotlib.pyplot as plt\n",
    "import seaborn as sns\n",
    "sns.set(style=\"white\")\n",
    "%matplotlib inline\n",
    "\n",
    "sns.tsplot(results[\"cost_history\"].T, ci=[68, 95, 99])\n",
    "plt.ylabel(\"Cost\")\n",
    "plt.xlabel(\"Generations\")\n",
    "plt.title(\"Evolution of results\")"
   ]
  },
  {
   "cell_type": "code",
   "execution_count": null,
   "metadata": {
    "collapsed": true
   },
   "outputs": [],
   "source": []
  }
 ],
 "metadata": {
  "kernelspec": {
   "display_name": "CLgen",
   "language": "python",
   "name": "clgen"
  },
  "language_info": {
   "codemirror_mode": {
    "name": "ipython",
    "version": 3
   },
   "file_extension": ".py",
   "mimetype": "text/x-python",
   "name": "python",
   "nbconvert_exporter": "python",
   "pygments_lexer": "ipython3",
   "version": "3.5.2"
  }
 },
 "nbformat": 4,
 "nbformat_minor": 2
}
