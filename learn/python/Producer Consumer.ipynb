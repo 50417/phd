{
 "cells": [
  {
   "cell_type": "markdown",
   "metadata": {},
   "source": [
    "# Producer Consumer Pattern"
   ]
  },
  {
   "cell_type": "code",
   "execution_count": 2,
   "metadata": {
    "collapsed": false
   },
   "outputs": [
    {
     "name": "stderr",
     "output_type": "stream",
     "text": [
      "100% (30 of 30) |############################| Elapsed Time: 0:00:04 Time: 0:00:04\n"
     ]
    },
    {
     "name": "stdout",
     "output_type": "stream",
     "text": [
      "[0, 1, 2, 3, 4, 5, 6, 7, 8, 9, 10, 11, 12, 13, 14, 15, 16, 17, 18, 19, 20, 21, 22, 23, 24, 25, 26, 27, 28, 29]\n",
      "[0, 2, 4, 6, 8, 10, 12, 14, 16, 18, 20, 22, 24, 26, 28, 30, 32, 34, 36, 38, 40, 42, 44, 46, 48, 50, 52, 54, 56, 58]\n"
     ]
    }
   ],
   "source": [
    "from threading import Condition, Thread, Lock\n",
    "import time\n",
    "import random\n",
    "import math\n",
    "import progressbar\n",
    "\n",
    "\n",
    "class Producer(Thread):\n",
    "    def __init__(self, jobs, condition, queue):\n",
    "        # print(\"worker jobs\", jobs)\n",
    "        self.jobs = jobs\n",
    "        self.condition = condition\n",
    "        self.queue = queue\n",
    "        super(Producer, self).__init__()\n",
    "\n",
    "    def run(self):\n",
    "        while self.jobs:\n",
    "            job = self.jobs.pop(0)\n",
    "            \n",
    "            result = job * 2\n",
    "            \n",
    "            self.condition.acquire()\n",
    "            self.queue.append(result)\n",
    "            self.condition.notify()\n",
    "            self.condition.release()\n",
    "            \n",
    "            time.sleep(random.random())\n",
    "\n",
    "\n",
    "class Consumer(Thread):\n",
    "    def __init__(self, numjobs, condition, queue):\n",
    "        self.numjobs = numjobs\n",
    "        self.condition = condition\n",
    "        self.queue = queue\n",
    "        super(Consumer, self).__init__()\n",
    "        \n",
    "        self.results = []\n",
    "\n",
    "    def run(self):\n",
    "        bar = progressbar.ProgressBar(max_value=self.numjobs)\n",
    "        \n",
    "        for i in bar(range(self.numjobs)):\n",
    "            # get the next result\n",
    "            self.condition.acquire()\n",
    "            if not self.queue:\n",
    "                self.condition.wait()\n",
    "            result = self.queue.pop(0)\n",
    "            self.condition.release()\n",
    "            \n",
    "            self.results.append(result)\n",
    "            # TODO: Open db connection\n",
    "\n",
    "            \n",
    "def dojob(jobs):\n",
    "    queue = []\n",
    "    lock = Lock()\n",
    "    condition = Condition()\n",
    "\n",
    "    njobs = len(jobs)\n",
    "    nthreads = 4\n",
    "    \n",
    "    random.shuffle(jobs)\n",
    "   \n",
    "    # split size\n",
    "    worker_njobs = math.ceil(njobs / nthreads)\n",
    "\n",
    "    for i in range(0, njobs, worker_njobs):\n",
    "        Producer(jobs[i:i+worker_njobs], condition, queue).start()\n",
    "\n",
    "    consumer = Consumer(njobs, condition, queue)\n",
    "    consumer.start()\n",
    "        \n",
    "    consumer.join()\n",
    "\n",
    "    return consumer.results\n",
    "\n",
    "    \n",
    "jobs = list(range(30))\n",
    "results = dojob(jobs)\n",
    "\n",
    "jobs = sorted(jobs)\n",
    "results = sorted(results)\n",
    "\n",
    "print(jobs)\n",
    "print(results)\n",
    "\n",
    "for x, y in zip(jobs, results):\n",
    "    if not y == x * 2:\n",
    "        print(\"x\", x, \"y\", y)"
   ]
  },
  {
   "cell_type": "code",
   "execution_count": null,
   "metadata": {
    "collapsed": true
   },
   "outputs": [],
   "source": []
  }
 ],
 "metadata": {
  "kernelspec": {
   "display_name": "CLgen",
   "language": "python",
   "name": "clgen"
  },
  "language_info": {
   "codemirror_mode": {
    "name": "ipython",
    "version": 3
   },
   "file_extension": ".py",
   "mimetype": "text/x-python",
   "name": "python",
   "nbconvert_exporter": "python",
   "pygments_lexer": "ipython3",
   "version": "3.5.2"
  }
 },
 "nbformat": 4,
 "nbformat_minor": 1
}
