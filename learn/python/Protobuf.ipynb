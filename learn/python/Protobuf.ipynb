{
 "cells": [
  {
   "cell_type": "markdown",
   "metadata": {},
   "source": [
    "# Protobuf\n",
    "\n",
    "Tutorial: https://developers.google.com/protocol-buffers/docs/pythontutorial"
   ]
  },
  {
   "cell_type": "code",
   "execution_count": 1,
   "metadata": {},
   "outputs": [
    {
     "name": "stdout",
     "output_type": "stream",
     "text": [
      "/*\r\n",
      " *  Protocal buffer language guide:\r\n",
      " *    https://developers.google.com/protocol-buffers/docs/proto\r\n",
      " */\r\n",
      "package tutorial;  // namespace\r\n",
      "\r\n",
      "message Person {\r\n",
      "  required string name = 1;\r\n",
      "  required int32 id = 2;\r\n",
      "  optional string email = 3;\r\n",
      "\r\n",
      "  enum PhoneType {\r\n",
      "    MOBILE = 0;\r\n",
      "    HOME = 1;\r\n",
      "    WORK = 2;\r\n",
      "  }\r\n",
      "\r\n",
      "  message PhoneNumber {\r\n",
      "    required string number = 1;\r\n",
      "    optional PhoneType type = 2 [default = HOME];\r\n",
      "  }\r\n",
      "\r\n",
      "  repeated PhoneNumber phones = 4;\r\n",
      "}\r\n",
      "\r\n",
      "message AddressBook {\r\n",
      "  repeated Person people = 1;\r\n",
      "}\r\n"
     ]
    }
   ],
   "source": [
    "!cat addressbook.proto\n",
    "# compile python code:\n",
    "!protoc -I=. --python_out=. addressbook.proto"
   ]
  },
  {
   "cell_type": "code",
   "execution_count": 2,
   "metadata": {},
   "outputs": [],
   "source": [
    "# import generated coded:\n",
    "import addressbook_pb2"
   ]
  },
  {
   "cell_type": "code",
   "execution_count": 3,
   "metadata": {},
   "outputs": [
    {
     "name": "stderr",
     "output_type": "stream",
     "text": [
      "/home/cec/clgen/lib/python3.6/site-packages/ipykernel/__main__.py:3: DeprecationWarning: PyUnicode_AsEncodedObject() is deprecated; use PyUnicode_AsEncodedString() to encode from str to bytes or PyCodec_Encode() for generic encoding\n",
      "  app.launch_new_instance()\n",
      "/home/cec/clgen/lib/python3.6/site-packages/ipykernel/__main__.py:4: DeprecationWarning: PyUnicode_AsEncodedObject() is deprecated; use PyUnicode_AsEncodedString() to encode from str to bytes or PyCodec_Encode() for generic encoding\n"
     ]
    },
    {
     "data": {
      "text/plain": [
       "name: \"John Doe\"\n",
       "id: 1234\n",
       "email: \"jdoe@example.com\""
      ]
     },
     "execution_count": 3,
     "metadata": {},
     "output_type": "execute_result"
    }
   ],
   "source": [
    "person = addressbook_pb2.Person()\n",
    "person.id = 1234\n",
    "person.name = \"John Doe\"\n",
    "person.email = \"jdoe@example.com\"\n",
    "person"
   ]
  },
  {
   "cell_type": "code",
   "execution_count": 4,
   "metadata": {},
   "outputs": [
    {
     "name": "stderr",
     "output_type": "stream",
     "text": [
      "/home/cec/clgen/lib/python3.6/site-packages/ipykernel/__main__.py:2: DeprecationWarning: PyUnicode_AsEncodedObject() is deprecated; use PyUnicode_AsEncodedString() to encode from str to bytes or PyCodec_Encode() for generic encoding\n",
      "  from ipykernel import kernelapp as app\n"
     ]
    },
    {
     "data": {
      "text/plain": [
       "name: \"John Doe\"\n",
       "id: 1234\n",
       "email: \"jdoe@example.com\"\n",
       "phones {\n",
       "  number: \"555-4321\"\n",
       "  type: HOME\n",
       "}"
      ]
     },
     "execution_count": 4,
     "metadata": {},
     "output_type": "execute_result"
    }
   ],
   "source": [
    "phone = person.phones.add()\n",
    "phone.number = \"555-4321\"\n",
    "phone.type = addressbook_pb2.Person.HOME\n",
    "person"
   ]
  },
  {
   "cell_type": "code",
   "execution_count": 5,
   "metadata": {},
   "outputs": [
    {
     "name": "stderr",
     "output_type": "stream",
     "text": [
      "/home/cec/clgen/lib/python3.6/site-packages/ipykernel/__main__.py:2: DeprecationWarning: PyUnicode_AsEncodedObject() is deprecated; use PyUnicode_AsEncodedString() to encode from str to bytes or PyCodec_Encode() for generic encoding\n",
      "  from ipykernel import kernelapp as app\n"
     ]
    }
   ],
   "source": [
    "# inline constructor:\n",
    "person2 = addressbook_pb2.Person(id=1234, email=\"Foo@bar\")"
   ]
  },
  {
   "cell_type": "code",
   "execution_count": 6,
   "metadata": {
    "collapsed": true
   },
   "outputs": [],
   "source": [
    "# invalid field:\n",
    "try:\n",
    "    person2.not_a_field = 1\n",
    "    raise Exception\n",
    "except AttributeError:\n",
    "    pass"
   ]
  },
  {
   "cell_type": "code",
   "execution_count": 7,
   "metadata": {},
   "outputs": [],
   "source": [
    "# invalid type:\n",
    "try:\n",
    "    person2.id = \"str not int\"\n",
    "    raise Exception\n",
    "except TypeError:\n",
    "    pass"
   ]
  },
  {
   "cell_type": "code",
   "execution_count": 8,
   "metadata": {},
   "outputs": [
    {
     "data": {
      "text/plain": [
       "True"
      ]
     },
     "execution_count": 8,
     "metadata": {},
     "output_type": "execute_result"
    }
   ],
   "source": [
    "person.IsInitialized()"
   ]
  },
  {
   "cell_type": "code",
   "execution_count": 9,
   "metadata": {},
   "outputs": [
    {
     "data": {
      "text/plain": [
       "False"
      ]
     },
     "execution_count": 9,
     "metadata": {},
     "output_type": "execute_result"
    }
   ],
   "source": [
    "person2.IsInitialized()"
   ]
  },
  {
   "cell_type": "code",
   "execution_count": 10,
   "metadata": {
    "collapsed": true
   },
   "outputs": [],
   "source": [
    "person2.Clear()"
   ]
  },
  {
   "cell_type": "code",
   "execution_count": 11,
   "metadata": {},
   "outputs": [],
   "source": [
    "person2.CopyFrom(person)"
   ]
  },
  {
   "cell_type": "code",
   "execution_count": 12,
   "metadata": {},
   "outputs": [
    {
     "data": {
      "text/plain": [
       "b'\\n\\x08John Doe\\x10\\xd2\\t\\x1a\\x10jdoe@example.com\"\\x0c\\n\\x08555-4321\\x10\\x01'"
      ]
     },
     "execution_count": 12,
     "metadata": {},
     "output_type": "execute_result"
    }
   ],
   "source": [
    "person2.SerializeToString()"
   ]
  }
 ],
 "metadata": {
  "kernelspec": {
   "display_name": "CLgen",
   "language": "python",
   "name": "clgen"
  },
  "language_info": {
   "codemirror_mode": {
    "name": "ipython",
    "version": 3
   },
   "file_extension": ".py",
   "mimetype": "text/x-python",
   "name": "python",
   "nbconvert_exporter": "python",
   "pygments_lexer": "ipython3",
   "version": "3.6.1"
  }
 },
 "nbformat": 4,
 "nbformat_minor": 2
}
