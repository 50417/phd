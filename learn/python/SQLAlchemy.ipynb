{
 "cells": [
  {
   "cell_type": "markdown",
   "metadata": {},
   "source": [
    "# SQLAlchemy"
   ]
  },
  {
   "cell_type": "code",
   "execution_count": 1,
   "metadata": {
    "collapsed": false
   },
   "outputs": [],
   "source": [
    "import datetime\n",
    "import sqlalchemy as sql\n",
    "from sqlalchemy.ext.declarative import declarative_base\n",
    " \n",
    "Base = declarative_base()\n",
    "\n",
    "# Schema\n",
    "\n",
    "class Program(Base):\n",
    "    \"\"\" tests \"\"\"\n",
    "    __tablename__ = 'Programs'\n",
    "    id = sql.Column(sql.String(40), primary_key=True)\n",
    "    date = sql.Column(sql.DateTime, default=datetime.datetime.utcnow)\n",
    "    cli = sql.Column(sql.Text, nullable=False)\n",
    "    contents = sql.Column(sql.Text, nullable=False)\n",
    "\n",
    "    def __repr__(self):\n",
    "        return self.id\n",
    "\n",
    "    \n",
    "class Device(Base):\n",
    "    \"\"\" devices \"\"\"\n",
    "    __tablename__ = 'Devices'\n",
    "    id = sql.Column(sql.Integer, primary_key=True)\n",
    "    hostname = sql.Column(sql.String(63), nullable=False)  # RFC 1035\n",
    "    platform = sql.Column(sql.Text, nullable=False)\n",
    "    device = sql.Column(sql.Text, nullable=False)\n",
    "    __table_args__ = (sql.UniqueConstraint('hostname', 'platform', 'device', name='_uid'),)\n",
    "    \n",
    "    def __repr__(self):\n",
    "        return \"Host: {self.hostname}, Platform: {self.platform}, Device: {self.device}\".format(**vars())\n",
    "    \n",
    "    \n",
    "class Params(Base):\n",
    "    \"\"\" params \"\"\"\n",
    "    __tablename__ = \"Parameters\"\n",
    "    id = sql.Column(sql.Integer, primary_key=True)\n",
    "    gsize_x = sql.Column(sql.Integer, nullable=False)\n",
    "    gsize_y = sql.Column(sql.Integer, nullable=False)\n",
    "    gsize_z = sql.Column(sql.Integer, nullable=False)\n",
    "    lsize_x = sql.Column(sql.Integer, nullable=False)\n",
    "    lsize_y = sql.Column(sql.Integer, nullable=False)\n",
    "    lsize_z = sql.Column(sql.Integer, nullable=False)\n",
    "\n",
    "\n",
    "class Result(Base):\n",
    "    __tablename__ = \"Results\"\n",
    "    id = sql.Column(sql.Integer, primary_key=True)\n",
    "    program_id = sql.Column(sql.String(40), sql.ForeignKey(\"Programs.id\"))\n",
    "    device_id = sql.Column(sql.Integer, sql.ForeignKey(\"Devices.id\"))\n",
    "    date = sql.Column(sql.DateTime, default=datetime.datetime.utcnow)\n",
    "    cli = sql.Column(sql.Text, nullable=False)\n",
    "    status = sql.Column(sql.Integer, nullable=False)\n",
    "    runtime = sql.Column(sql.Float, nullable=False)\n",
    "    stdout = sql.Column(sql.Text, nullable=False)\n",
    "    stderr = sql.Column(sql.Text, nullable=False)"
   ]
  },
  {
   "cell_type": "code",
   "execution_count": 2,
   "metadata": {
    "collapsed": false
   },
   "outputs": [],
   "source": [
    "!rm -f sqlalchemy.db\n",
    "\n",
    "# create the engine\n",
    "engine = sql.create_engine('sqlite:///sqlalchemy.db') \n",
    "# create all tables in the engine\n",
    "Base.metadata.create_all(engine)"
   ]
  },
  {
   "cell_type": "code",
   "execution_count": 3,
   "metadata": {
    "collapsed": false
   },
   "outputs": [],
   "source": [
    "# bind the engine to the metadata of the Base class so that the declaratives can be accessed\n",
    "Base.metadata.bind = engine\n",
    "make_session = sql.orm.sessionmaker(bind=engine)"
   ]
  },
  {
   "cell_type": "code",
   "execution_count": 4,
   "metadata": {
    "collapsed": false
   },
   "outputs": [],
   "source": [
    "def program1():\n",
    "    return Program(\n",
    "    id=\"adc83b19e793491b1c6ea0fd8b46cd9f32e592fc\", cli=\"./foo prog1\", contents=\"int main() {}\")\n",
    "def program1_key_dupe():\n",
    "    return Program(\n",
    "    id=\"adc83b19e793491b1c6ea0fd8b46cd9f32e592fc\", cli=\"./foo bar\", contents=\"int main() {}\")\n",
    "def program2():\n",
    "    return Program(\n",
    "    id=\"f1d2d2f924e986ac86fdf7b36c94bcdf32beec15\", cli=\"./foo prog2\", contents=\"int main(int argc, char **argv) {}\")"
   ]
  },
  {
   "cell_type": "code",
   "execution_count": 5,
   "metadata": {
    "collapsed": false
   },
   "outputs": [],
   "source": [
    "# if we don't call session.commit(), the database isn't modified\n",
    "session = make_session()\n",
    "session.add(program1())\n",
    "session.add(program2())\n",
    "session.close()"
   ]
  },
  {
   "cell_type": "code",
   "execution_count": 6,
   "metadata": {
    "collapsed": true
   },
   "outputs": [],
   "source": [
    "# if we call session.rollback(), changes are ignored\n",
    "session = make_session()\n",
    "session.add(program1())\n",
    "session.add(program2())\n",
    "session.rollback()\n",
    "session.close()"
   ]
  },
  {
   "cell_type": "code",
   "execution_count": 7,
   "metadata": {
    "collapsed": false
   },
   "outputs": [],
   "source": [
    "# add the entries\n",
    "session = make_session()\n",
    "try:\n",
    "    session.add(program1())\n",
    "    session.add(program2())\n",
    "    session.commit()\n",
    "except sql.exc.IntegrityError:\n",
    "    print(\"duplicate entries ignored\")\n",
    "    session.rollback()\n",
    "finally:\n",
    "    session.close()"
   ]
  },
  {
   "cell_type": "code",
   "execution_count": 8,
   "metadata": {
    "collapsed": false
   },
   "outputs": [
    {
     "name": "stdout",
     "output_type": "stream",
     "text": [
      "#. rows in Programs table 2\n"
     ]
    }
   ],
   "source": [
    "session = make_session()\n",
    "try:\n",
    "    print(\"#. rows in Programs table\", session.query(Program).count())\n",
    "except:\n",
    "    session.rollback()\n",
    "    raise\n",
    "finally:\n",
    "    session.close()"
   ]
  },
  {
   "cell_type": "code",
   "execution_count": 9,
   "metadata": {
    "collapsed": false
   },
   "outputs": [
    {
     "name": "stdout",
     "output_type": "stream",
     "text": [
      "duplicate key ignored\n"
     ]
    }
   ],
   "source": [
    "session = make_session()\n",
    "try:\n",
    "    session.add(program1_key_dupe())\n",
    "    session.commit()\n",
    "except sql.exc.IntegrityError:\n",
    "    print(\"duplicate key ignored\")\n",
    "    session.rollback()\n",
    "finally:\n",
    "    session.close()"
   ]
  },
  {
   "cell_type": "code",
   "execution_count": 10,
   "metadata": {
    "collapsed": false
   },
   "outputs": [],
   "source": [
    "# scoped session management\n",
    "from contextlib import contextmanager\n",
    "\n",
    "@contextmanager\n",
    "def Session():\n",
    "    \"\"\"Provide a transactional scope around a series of operations.\"\"\"\n",
    "    print(\"-> creating session scope\")\n",
    "    session = make_session()\n",
    "    try:\n",
    "        yield session\n",
    "        print(\"<- commiting session\")\n",
    "        session.commit()\n",
    "    except:\n",
    "        print(\"<- caught error in scope\")\n",
    "        session.rollback()\n",
    "        raise\n",
    "    finally:\n",
    "        print(\"<- closing session in scope\")\n",
    "        session.close()"
   ]
  },
  {
   "cell_type": "code",
   "execution_count": 11,
   "metadata": {
    "collapsed": false
   },
   "outputs": [
    {
     "name": "stdout",
     "output_type": "stream",
     "text": [
      "-> creating session scope\n",
      "#. rows in Programs 2\n",
      "<- commiting session\n",
      "<- caught error in scope\n",
      "<- closing session in scope\n",
      "integrity error\n"
     ]
    }
   ],
   "source": [
    "try:\n",
    "    with Session() as session:\n",
    "        print(\"#. rows in\", Program.__tablename__, session.query(Program).count())\n",
    "        session.add(program2())\n",
    "except sql.exc.IntegrityError:\n",
    "    print(\"integrity error\")"
   ]
  },
  {
   "cell_type": "code",
   "execution_count": 12,
   "metadata": {
    "collapsed": false
   },
   "outputs": [
    {
     "name": "stdout",
     "output_type": "stream",
     "text": [
      "-> creating session scope\n",
      "0 adc83b19e793491b1c6ea0fd8b46cd9f32e592fc int main() {}\n",
      "1 f1d2d2f924e986ac86fdf7b36c94bcdf32beec15 int main(int argc, char **argv) {}\n",
      "first program: adc83b19e793491b1c6ea0fd8b46cd9f32e592fc\n",
      "<- commiting session\n",
      "<- closing session in scope\n"
     ]
    }
   ],
   "source": [
    "with Session() as session:\n",
    "    for i, program in enumerate(session.query(Program).all()):\n",
    "        print(i, program, program.contents)\n",
    "    print(\"first program:\", session.query(Program).first())"
   ]
  },
  {
   "cell_type": "code",
   "execution_count": 13,
   "metadata": {
    "collapsed": false
   },
   "outputs": [
    {
     "name": "stdout",
     "output_type": "stream",
     "text": [
      "-> creating session scope\n",
      "#. programs: 2\n",
      "<- commiting session\n",
      "<- closing session in scope\n",
      "-> creating session scope\n",
      "<- commiting session\n",
      "<- closing session in scope\n",
      "-> creating session scope\n",
      "#. programs: 1\n",
      "<- commiting session\n",
      "<- closing session in scope\n",
      "-> creating session scope\n",
      "<- commiting session\n",
      "<- closing session in scope\n",
      "-> creating session scope\n",
      "#. programs: 2\n",
      "<- commiting session\n",
      "<- closing session in scope\n"
     ]
    }
   ],
   "source": [
    "def num_programs():\n",
    "    with Session() as session:\n",
    "        print(\"#. programs:\", session.query(Program).count())\n",
    "\n",
    "num_programs()\n",
    "# remove a row\n",
    "with Session() as session:\n",
    "    session.query(Program).filter(Program.id == \"adc83b19e793491b1c6ea0fd8b46cd9f32e592fc\").delete()\n",
    "num_programs()\n",
    "with Session() as session:\n",
    "    session.add(program1())\n",
    "num_programs()"
   ]
  },
  {
   "cell_type": "code",
   "execution_count": 14,
   "metadata": {
    "collapsed": false
   },
   "outputs": [
    {
     "name": "stdout",
     "output_type": "stream",
     "text": [
      "-> creating session scope\n",
      "<- commiting session\n",
      "<- closing session in scope\n"
     ]
    }
   ],
   "source": [
    "# add some devices\n",
    "def devices():\n",
    "    return [\n",
    "        Device(hostname=\"host_A\", platform=\"platform A\", device=\"device A\"),\n",
    "        Device(hostname=\"host_A\", platform=\"platform A\", device=\"device B\"),\n",
    "        Device(hostname=\"host_B\", platform=\"platform B\", device=\"device B\")\n",
    "    ]\n",
    "\n",
    "session = make_session()\n",
    "try:\n",
    "    with Session() as session:\n",
    "        session.add_all(devices())\n",
    "except sql.exc.IntegrityError:\n",
    "    # if integrity error, check that entries exist\n",
    "    with Session() as session:\n",
    "        for d in devices():\n",
    "            assert(session.query(Device).filter(\n",
    "                Device.hostname == d.hostname,\n",
    "                Device.platform == d.platform,\n",
    "                Device.device == d.device).count() == 1)"
   ]
  },
  {
   "cell_type": "code",
   "execution_count": null,
   "metadata": {
    "collapsed": true
   },
   "outputs": [],
   "source": []
  }
 ],
 "metadata": {
  "kernelspec": {
   "display_name": "CLgen",
   "language": "python",
   "name": "clgen"
  },
  "language_info": {
   "codemirror_mode": {
    "name": "ipython",
    "version": 3
   },
   "file_extension": ".py",
   "mimetype": "text/x-python",
   "name": "python",
   "nbconvert_exporter": "python",
   "pygments_lexer": "ipython3",
   "version": "3.5.2"
  }
 },
 "nbformat": 4,
 "nbformat_minor": 2
}
