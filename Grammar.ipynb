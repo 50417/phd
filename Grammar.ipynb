{
 "cells": [
  {
   "cell_type": "code",
   "execution_count": 32,
   "metadata": {
    "collapsed": true
   },
   "outputs": [],
   "source": [
    "import nltk\n",
    "import numpy as np\n",
    "import six\n",
    "import pdb"
   ]
  },
  {
   "cell_type": "code",
   "execution_count": 33,
   "metadata": {
    "collapsed": false
   },
   "outputs": [
    {
     "name": "stdout",
     "output_type": "stream",
     "text": [
      "Grammar with 12 productions (start state = S)\n",
      "    S -> S '+' Term\n",
      "    S -> S '*' Term\n",
      "    S -> S '/' Term\n",
      "    S -> Term\n",
      "    Term -> '(' S ')'\n",
      "    Term -> 'sin(' S ')'\n",
      "    Term -> 'exp(' S ')'\n",
      "    Term -> 'x'\n",
      "    Term -> '1'\n",
      "    Term -> '2'\n",
      "    Term -> '3'\n",
      "    Nothing -> None\n"
     ]
    }
   ],
   "source": [
    "grammar = \"\"\"S -> S '+' Term\n",
    "S -> S '*' Term\n",
    "S -> S '/' Term\n",
    "S -> Term\n",
    "Term -> '(' S ')'\n",
    "Term -> 'sin(' S ')'\n",
    "Term -> 'exp(' S ')'\n",
    "Term -> 'x'\n",
    "Term -> '1'\n",
    "Term -> '2'\n",
    "Term -> '3'\n",
    "Nothing -> None\"\"\"\n",
    "cfg = nltk.CFG.fromstring(grammar)\n",
    "print(cfg)"
   ]
  },
  {
   "cell_type": "code",
   "execution_count": 34,
   "metadata": {
    "collapsed": false
   },
   "outputs": [
    {
     "name": "stdout",
     "output_type": "stream",
     "text": [
      "Grammar with 40 productions (start state = coursecode)\n",
      "    coursecode -> acadunit coursenumber\n",
      "    acadunit -> letter letter letter\n",
      "    coursenumber -> year semesters digit digit\n",
      "    year -> ugrad\n",
      "    year -> grad\n",
      "    ugrad -> 0\n",
      "    ugrad -> 1\n",
      "    ugrad -> 2\n",
      "    ugrad -> 3\n",
      "    ugrad -> 4\n",
      "    grad -> 5\n",
      "    grad -> 6\n",
      "    grad -> 7\n",
      "    grad -> 9\n",
      "    semesters -> onesemester\n",
      "    semesters -> twosemesters\n",
      "    onesemester -> frenchone\n",
      "    onesemester -> englishone\n",
      "    onesemester -> bilingual\n",
      "    frenchone -> 5\n",
      "    frenchone -> 7\n",
      "    englishone -> 1\n",
      "    englishone -> 3\n",
      "    bilingual -> 9\n",
      "    twosemesters -> frenchtwo\n",
      "    twosemesters -> englishtwo\n",
      "    frenchtwo -> 6\n",
      "    frenchtwo -> 8\n",
      "    englishtwo -> 2\n",
      "    englishtwo -> 4\n",
      "    digit -> 0\n",
      "    digit -> 1\n",
      "    digit -> 2\n",
      "    digit -> 3\n",
      "    digit -> 4\n",
      "    digit -> 5\n",
      "    digit -> 6\n",
      "    digit -> 7\n",
      "    digit -> 8\n",
      "    digit -> 9\n"
     ]
    }
   ],
   "source": [
    "# From: http://www.cs.utsa.edu/~wagner/CS3723/grammar/examples2.html\n",
    "#\n",
    "# Write a BNF grammar for the language of University of Ottawa course codes.\n",
    "# Example sentences:\n",
    "#\n",
    "#   CSI3125\n",
    "#   MAT2743\n",
    "#   PHY1200\n",
    "#   EPI6581\n",
    "#   CSI9999\n",
    "#\n",
    "# Solution (BNF notation):\n",
    "#\n",
    "#   <coursecode>   ::= <acadunit> <coursenumber>\n",
    "#   <acadunit>     ::= <letter> <letter> <letter>\n",
    "#   <coursenumber> ::= <year> <semesters> <digit> <digit>\n",
    "#   <year>         ::= <ugrad> | <grad>\n",
    "#   <ugrad>        ::= 0 | 1 | 2 | 3 | 4\n",
    "#   <grad>         ::= 5 | 6 | 7 | 9\n",
    "#   <semesters>    ::= <onesemester> | <twosemesters>\n",
    "#   <onesemester>  ::= <frenchone> | <englishone> | <bilingual>\n",
    "#   <frenchone>    ::= 5 | 7\n",
    "#   <englishone>   ::= 1 | 3\n",
    "#   <bilingual>    ::= 9\n",
    "#   <twosemesters> ::= <frenchtwo> | <englishtwo>\n",
    "#   <frenchtwo>    ::= 6 | 8\n",
    "#   <englishtwo>   ::= 2 | 4\n",
    "#   <digit>        ::= 0 | 1 | 2 | 3 | 4 | 5 | 6 | 7 | 8 | 9\n",
    "#\n",
    "cfg = nltk.CFG.fromstring(\"\"\"\\\n",
    "  coursecode   -> acadunit coursenumber\n",
    "  acadunit     -> letter letter letter\n",
    "  coursenumber -> year semesters digit digit\n",
    "  year         -> ugrad \n",
    "  year         -> grad\n",
    "  ugrad        -> 0 \n",
    "  ugrad        -> 1 \n",
    "  ugrad        -> 2 \n",
    "  ugrad        -> 3 \n",
    "  ugrad        -> 4\n",
    "  grad         -> 5\n",
    "  grad         -> 6\n",
    "  grad         -> 7\n",
    "  grad         -> 9\n",
    "  semesters    -> onesemester\n",
    "  semesters    -> twosemesters\n",
    "  onesemester  -> frenchone \n",
    "  onesemester  -> englishone \n",
    "  onesemester  -> bilingual\n",
    "  frenchone    -> 5 \n",
    "  frenchone    -> 7\n",
    "  englishone   -> 1\n",
    "  englishone   -> 3\n",
    "  bilingual    -> 9\n",
    "  twosemesters -> frenchtwo\n",
    "  twosemesters -> englishtwo\n",
    "  frenchtwo    -> 6\n",
    "  frenchtwo    -> 8\n",
    "  englishtwo   -> 2\n",
    "  englishtwo   -> 4\n",
    "  digit        -> 0 \n",
    "  digit        -> 1 \n",
    "  digit        -> 2 \n",
    "  digit        -> 3 \n",
    "  digit        -> 4 \n",
    "  digit        -> 5 \n",
    "  digit        -> 6 \n",
    "  digit        -> 7 \n",
    "  digit        -> 8 \n",
    "  digit        -> 9\n",
    "\"\"\")\n",
    "print(cfg)"
   ]
  },
  {
   "cell_type": "code",
   "execution_count": null,
   "metadata": {
    "collapsed": true
   },
   "outputs": [],
   "source": []
  }
 ],
 "metadata": {
  "kernelspec": {
   "display_name": "CLgen",
   "language": "python",
   "name": "clgen"
  },
  "language_info": {
   "codemirror_mode": {
    "name": "ipython",
    "version": 3
   },
   "file_extension": ".py",
   "mimetype": "text/x-python",
   "name": "python",
   "nbconvert_exporter": "python",
   "pygments_lexer": "ipython3",
   "version": "3.5.2"
  }
 },
 "nbformat": 4,
 "nbformat_minor": 2
}
