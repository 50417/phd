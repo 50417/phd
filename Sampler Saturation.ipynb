{
 "cells": [
  {
   "cell_type": "markdown",
   "metadata": {},
   "source": [
    "# Sampler Saturation\n",
    "\n",
    "*RQ: Does the rate of good samples decrease over time?*\n",
    "\n",
    "For a sample to be \"good\", it must be unique. If the rate of good samples decrease over time, that implies a saturation of the sample space."
   ]
  },
  {
   "cell_type": "markdown",
   "metadata": {},
   "source": [
    "## Experimental Setup"
   ]
  },
  {
   "cell_type": "code",
   "execution_count": 1,
   "metadata": {
    "collapsed": false
   },
   "outputs": [
    {
     "name": "stdout",
     "output_type": "stream",
     "text": [
      "CLgen:      0.2.8 (with CUDA)\n",
      "Platform:   Linux\n",
      "Memory:     32057 MB\n",
      "\n",
      "Device:     GPU GeForce GTX 1080\n",
      "Compute #.: 20\n",
      "Frequency:  1733 HZ\n",
      "Memory:     8114 MB\n",
      "Driver:     375.39\n",
      "\n",
      "Device:     CPU Intel(R) Xeon(R) CPU E5-2620 v4 @ 2.10GHz\n",
      "Compute #.: 16\n",
      "Frequency:  2100 HZ\n",
      "Memory:     32057 MB\n",
      "Driver:     1.2.0.25\n"
     ]
    }
   ],
   "source": [
    "import clgen\n",
    "\n",
    "clgen.platform_info()"
   ]
  },
  {
   "cell_type": "code",
   "execution_count": null,
   "metadata": {
    "collapsed": false
   },
   "outputs": [],
   "source": [
    "from clgen.corpus import Corpus\n",
    "\n",
    "corpus = Corpus.from_json({\n",
    "    \"path\": \"~/data/github\",\n",
    "    \"vocabulary\": \"greedy\"\n",
    "})\n",
    "corpus"
   ]
  },
  {
   "cell_type": "code",
   "execution_count": null,
   "metadata": {
    "collapsed": false
   },
   "outputs": [],
   "source": [
    "from clgen.model import Model\n",
    "\n",
    "model = Model(corpus, **{\n",
    "    \"architecture\": {\n",
    "        \"rnn_size\": 512,\n",
    "        \"num_layers\": 2\n",
    "    },\n",
    "    \"train_opts\": {\n",
    "        \"epochs\": 50\n",
    "    }\n",
    "}).train()\n",
    "model"
   ]
  },
  {
   "cell_type": "code",
   "execution_count": null,
   "metadata": {
    "collapsed": false
   },
   "outputs": [],
   "source": [
    "from clgen.sampler import Sampler\n",
    "\n",
    "sampler = Sampler.from_json({\n",
    "    \"kernels\": {\n",
    "        \"args\": [\n",
    "            \"__global float*\",\n",
    "            \"__global float*\",\n",
    "            \"__global float*\",\n",
    "            \"const int\"\n",
    "        ],\n",
    "        \"max_length\": 10000\n",
    "    },\n",
    "    \"sampler\": {\n",
    "        \"batch_size\": 500,\n",
    "        \"static_checker\": True,\n",
    "        \"dynamic_checker\": False\n",
    "    }\n",
    "})\n",
    "sampler"
   ]
  },
  {
   "cell_type": "markdown",
   "metadata": {},
   "source": [
    "## Experimental Methodology"
   ]
  },
  {
   "cell_type": "code",
   "execution_count": null,
   "metadata": {
    "collapsed": false
   },
   "outputs": [],
   "source": [
    "sampler.cache(model).empty()\n",
    "from labm8 import fs\n",
    "import time\n",
    "\n",
    "datadir = \"data/saturation\"\n",
    "fs.mkdir(datadir)\n",
    "\n",
    "for i in range(100):\n",
    "    print(\"sampler batch\", i)\n",
    "\n",
    "    start = time.time()\n",
    "    sampler.sample_iteration(model, quiet=True)    \n",
    "    elapsed = time.time() - start\n",
    "\n",
    "    src = fs.path(sampler.cache(model).path, \"kernels.db\")\n",
    "    dst = fs.path(datadir, \"iteration-{i}.db\".format(**vars()))\n",
    "    fs.cp(src, dst)\n",
    "    \n",
    "    with open(fs.path(datadir, \"iteration-{i}.txt\".format(**vars())), \"w\") as outfile:\n",
    "        print(elapsed, file=outfile)"
   ]
  },
  {
   "cell_type": "code",
   "execution_count": null,
   "metadata": {
    "collapsed": true
   },
   "outputs": [],
   "source": []
  }
 ],
 "metadata": {
  "kernelspec": {
   "display_name": "CLgen",
   "language": "python",
   "name": "clgen"
  },
  "language_info": {
   "codemirror_mode": {
    "name": "ipython",
    "version": 3
   },
   "file_extension": ".py",
   "mimetype": "text/x-python",
   "name": "python",
   "nbconvert_exporter": "python",
   "pygments_lexer": "ipython3",
   "version": "3.5.2"
  }
 },
 "nbformat": 4,
 "nbformat_minor": 2
}
