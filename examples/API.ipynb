{
 "cells": [
  {
   "cell_type": "markdown",
   "metadata": {},
   "source": [
    "# Introduction to the cldrive API"
   ]
  },
  {
   "cell_type": "code",
   "execution_count": 1,
   "metadata": {},
   "outputs": [
    {
     "data": {
      "text/plain": [
       "'0.0.3.dev1'"
      ]
     },
     "execution_count": 1,
     "metadata": {},
     "output_type": "execute_result"
    }
   ],
   "source": [
    "import cldrive\n",
    "cldrive.__version__"
   ]
  },
  {
   "cell_type": "markdown",
   "metadata": {},
   "source": [
    "## The OpenCL Environment"
   ]
  },
  {
   "cell_type": "markdown",
   "metadata": {},
   "source": [
    "A list of available platforms and devices is avaialble using `clinfo()`:"
   ]
  },
  {
   "cell_type": "code",
   "execution_count": 2,
   "metadata": {},
   "outputs": [
    {
     "name": "stdout",
     "output_type": "stream",
     "text": [
      "Host: Ubuntu 16.04 64bit\n",
      "Platform 0: NVIDIA CUDA\n",
      "    Device 0: GPU GeForce GTX 1080 375.39\n",
      "    Device 1: GPU GeForce GTX 1080 375.39\n",
      "Platform 1: Intel(R) OpenCL\n",
      "    Device 0: CPU Intel(R) Xeon(R) CPU E5-2620 v4 @ 2.10GHz 1.2.0.25\n"
     ]
    }
   ],
   "source": [
    "cldrive.clinfo()"
   ]
  },
  {
   "cell_type": "markdown",
   "metadata": {},
   "source": [
    "Construct an environment using:"
   ]
  },
  {
   "cell_type": "code",
   "execution_count": 3,
   "metadata": {},
   "outputs": [
    {
     "data": {
      "text/plain": [
       "Device: GeForce GTX 1080, Platform: NVIDIA Corporation"
      ]
     },
     "execution_count": 3,
     "metadata": {},
     "output_type": "execute_result"
    }
   ],
   "source": [
    "env = cldrive.make_env()\n",
    "env"
   ]
  },
  {
   "cell_type": "code",
   "execution_count": 4,
   "metadata": {},
   "outputs": [
    {
     "data": {
      "text/plain": [
       "Device: GeForce GTX 1080, Platform: NVIDIA CUDA"
      ]
     },
     "execution_count": 4,
     "metadata": {},
     "output_type": "execute_result"
    }
   ],
   "source": [
    "cldrive.OpenCLEnvironment(platform=\"NVIDIA CUDA\", device=\"GeForce GTX 1080\")"
   ]
  },
  {
   "cell_type": "code",
   "execution_count": 5,
   "metadata": {},
   "outputs": [
    {
     "name": "stdout",
     "output_type": "stream",
     "text": [
      "no suitable environment found\n"
     ]
    }
   ],
   "source": [
    "try:\n",
    "    cldrive.make_env(platform=\"not a real OpenCL platform\")\n",
    "except LookupError:\n",
    "    print(\"no suitable environment found\")"
   ]
  },
  {
   "cell_type": "code",
   "execution_count": 6,
   "metadata": {},
   "outputs": [
    {
     "name": "stdout",
     "output_type": "stream",
     "text": [
      "environment available for device type cpu\n",
      "environment available for device type gpu\n",
      "unrecognized device type 'foobar'\n"
     ]
    }
   ],
   "source": [
    "for devtype in ['cpu', 'gpu', 'foobar']:\n",
    "    try:\n",
    "        cldrive.make_env(devtype=devtype)\n",
    "        print(f'environment available for device type {devtype}')\n",
    "    except LookupError:\n",
    "        print(f'system has no {devtype}')\n",
    "    except ValueError as e:\n",
    "        print(e)"
   ]
  },
  {
   "cell_type": "markdown",
   "metadata": {},
   "source": [
    "## The Kernel Driver"
   ]
  },
  {
   "cell_type": "code",
   "execution_count": 7,
   "metadata": {},
   "outputs": [
    {
     "data": {
      "text/plain": [
       "array([[ 0,  2,  4,  6,  8, 10, 12, 14, 16, 18, 20, 22, 24, 26, 28, 30]], dtype=int32)"
      ]
     },
     "execution_count": 7,
     "metadata": {},
     "output_type": "execute_result"
    }
   ],
   "source": [
    "import numpy as np\n",
    "\n",
    "src = \"\"\"\\\n",
    "    kernel void A(global int* data) {\n",
    "        int tid = get_global_id(0);\n",
    "        data[tid] *= 2;\n",
    "    }\n",
    "\"\"\"\n",
    "\n",
    "inputs = [np.arange(16)]\n",
    "\n",
    "outputs = cldrive.drive(env, src, inputs, gsize=(16,1,1), lsize=(8,1,1))\n",
    "outputs"
   ]
  },
  {
   "cell_type": "code",
   "execution_count": 8,
   "metadata": {},
   "outputs": [],
   "source": [
    "# check that outputs are correct:\n",
    "for x, y in zip(inputs[0], outputs[0]):\n",
    "    if y != x * 2:\n",
    "        print(f\"{y} != {x} * 2\")"
   ]
  },
  {
   "cell_type": "markdown",
   "metadata": {},
   "source": [
    "Use keyword argument `debug` for more verbose output:"
   ]
  },
  {
   "cell_type": "code",
   "execution_count": 9,
   "metadata": {
    "scrolled": true
   },
   "outputs": [
    {
     "name": "stderr",
     "output_type": "stream",
     "text": [
      "[cldrive] Porcelain invocation: timeout --signal=9 60 /home/cec/clgen/bin/python3 /home/cec/clgen/lib/python3.6/site-packages/cldrive-0.0.3.dev1-py3.6.egg/cldrive/driver.py /tmp/cldrive-qr7ismz_.job\n",
      "\n",
      "[cldrive] Platform: NVIDIA Corporation\n",
      "[cldrive] Device: GeForce GTX 1080\n",
      "[cldrive] 3-D global size 4 = [4, 1, 1]\n",
      "[cldrive] 3-D local size 1 = [1, 1, 1]\n",
      "[cldrive] Number of kernel arguments: 2\n",
      "[cldrive] Kernel arguments: global int a*, const int2 b\n",
      "[cldrive] Kernel input sizes: [4, 2]\n",
      "[cldrive] OpenCL optimizations: on\n",
      "[cldrive] Compilation succeeded\n",
      "[cldrive] Command queue flushed\n",
      "[cldrive] Device memory allocated\n",
      "[cldrive] Set kernel arguments\n",
      "[cldrive] Host -> Device transfers enqueued\n",
      "[cldrive] Kernel execution enqueued\n",
      "[cldrive] Device -> Host transfers enqueued\n",
      "[cldrive] Command queue flushed\n",
      "[cldrive] Porcelain subprocess complete\n",
      "[cldrive] Porcelain return code: 0\n"
     ]
    },
    {
     "data": {
      "text/plain": [
       "array([array([21, 23, 25, 27], dtype=int32), array([10, 11], dtype=int32)], dtype=object)"
      ]
     },
     "execution_count": 9,
     "metadata": {},
     "output_type": "execute_result"
    }
   ],
   "source": [
    "src = \"\"\"\n",
    "    kernel void A(global int* a, const int2 b) {\n",
    "        const int tid = get_global_id(0);\n",
    "        if (tid < get_global_size(0))\n",
    "            a[tid] = a[tid] * 2.0 + b.x + b.y;\n",
    "    }\n",
    "\"\"\"\n",
    "\n",
    "inputs = [[0, 1, 2, 3], [10, 11]]\n",
    "\n",
    "outputs = cldrive.drive(env, src, inputs, gsize=(4, 1, 1), lsize=(1, 1, 1),\n",
    "                        debug=True, timeout=60, optimizations=True)\n",
    "outputs"
   ]
  },
  {
   "cell_type": "code",
   "execution_count": 10,
   "metadata": {},
   "outputs": [],
   "source": [
    "# check that outputs are correct:\n",
    "for x, y in zip(inputs[0], outputs[0]):\n",
    "    if y != x * 2 + 10 + 11:\n",
    "        print(f\"{y} != {x} * 2\")"
   ]
  }
 ],
 "metadata": {
  "kernelspec": {
   "display_name": "CLgen",
   "language": "python",
   "name": "clgen"
  },
  "language_info": {
   "codemirror_mode": {
    "name": "ipython",
    "version": 3
   },
   "file_extension": ".py",
   "mimetype": "text/x-python",
   "name": "python",
   "nbconvert_exporter": "python",
   "pygments_lexer": "ipython3",
   "version": "3.6.1"
  }
 },
 "nbformat": 4,
 "nbformat_minor": 2
}
