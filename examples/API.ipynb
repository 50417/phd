{
 "cells": [
  {
   "cell_type": "markdown",
   "metadata": {},
   "source": [
    "# Introduction to the cldrive API"
   ]
  },
  {
   "cell_type": "code",
   "execution_count": 1,
   "metadata": {},
   "outputs": [],
   "source": [
    "import cldrive"
   ]
  },
  {
   "cell_type": "markdown",
   "metadata": {},
   "source": [
    "## The OpenCL Environment"
   ]
  },
  {
   "cell_type": "code",
   "execution_count": 2,
   "metadata": {},
   "outputs": [
    {
     "data": {
      "text/plain": [
       "OpenCLEnvironment(ctx=<pyopencl.Context at 0x25a7c80 on <pyopencl.Device 'GeForce GTX 1080' on 'NVIDIA CUDA' at 0x24ae3c0>, <pyopencl.Device 'GeForce GTX 1080' on 'NVIDIA CUDA' at 0x24bda00>>, queue=<pyopencl.cffi_cl.CommandQueue object at 0x7f1a7996fc88>)"
      ]
     },
     "execution_count": 2,
     "metadata": {},
     "output_type": "execute_result"
    }
   ],
   "source": [
    "env = cldrive.make_env()\n",
    "env"
   ]
  },
  {
   "cell_type": "markdown",
   "metadata": {},
   "source": [
    "If `make_env()` can't find a suitable device, a `LookupError` is raised:"
   ]
  },
  {
   "cell_type": "code",
   "execution_count": 3,
   "metadata": {},
   "outputs": [],
   "source": [
    "try:\n",
    "    env = cldrive.make_env(platform_id=9999)\n",
    "except LookupError:\n",
    "    pass"
   ]
  },
  {
   "cell_type": "code",
   "execution_count": 4,
   "metadata": {},
   "outputs": [
    {
     "name": "stdout",
     "output_type": "stream",
     "text": [
      "environment created for device type cpu\n",
      "environment created for device type gpu\n",
      "unsupported device type 'foobar'\n"
     ]
    }
   ],
   "source": [
    "for devtype in ['cpu', 'gpu', 'foobar']:\n",
    "    try:\n",
    "        cldrive.make_env(devtype=devtype)\n",
    "        print(f'environment created for device type {devtype}')\n",
    "    except LookupError:\n",
    "        print(f'system has no {devtype}')\n",
    "    except ValueError as e:\n",
    "        print(e)"
   ]
  },
  {
   "cell_type": "markdown",
   "metadata": {},
   "source": [
    "To list the available platforms and devices, use `info()`:"
   ]
  },
  {
   "cell_type": "code",
   "execution_count": 5,
   "metadata": {},
   "outputs": [
    {
     "name": "stdout",
     "output_type": "stream",
     "text": [
      "Host: Ubuntu 16.04 64bit\n",
      "Platform 0: NVIDIA CUDA\n",
      "    Device 0: GPU GeForce GTX 1080 375.39\n",
      "    Device 1: GPU GeForce GTX 1080 375.39\n",
      "Platform 1: Intel(R) OpenCL\n",
      "    Device 0: CPU Intel(R) Xeon(R) CPU E5-2620 v4 @ 2.10GHz 1.2.0.25\n"
     ]
    }
   ],
   "source": [
    "cldrive.clinfo()"
   ]
  },
  {
   "cell_type": "markdown",
   "metadata": {},
   "source": [
    "## The Kernel Driver"
   ]
  },
  {
   "cell_type": "code",
   "execution_count": 6,
   "metadata": {},
   "outputs": [
    {
     "data": {
      "text/plain": [
       "kernel void A(global int* data) {\n",
       "    int tid = get_global_id(0);\n",
       "    data[tid] *= 2.0;\n",
       "}"
      ]
     },
     "execution_count": 6,
     "metadata": {},
     "output_type": "execute_result"
    }
   ],
   "source": [
    "kernel = \"\"\"\\\n",
    "kernel void A(global int* data) {\n",
    "    int tid = get_global_id(0);\n",
    "    data[tid] *= 2.0;\n",
    "}\"\"\"\n",
    "\n",
    "cldrive.Driver(env, kernel)"
   ]
  },
  {
   "cell_type": "code",
   "execution_count": 7,
   "metadata": {},
   "outputs": [
    {
     "name": "stderr",
     "output_type": "stream",
     "text": [
      "OpenCL optimizations: off\n"
     ]
    }
   ],
   "source": [
    "driver = cldrive.Driver(env, kernel, optimizations=False, debug=True)"
   ]
  },
  {
   "cell_type": "code",
   "execution_count": 8,
   "metadata": {},
   "outputs": [
    {
     "name": "stderr",
     "output_type": "stream",
     "text": [
      "3-D global size 16 = [16, 1, 1]\n",
      "3-D local size 8 = [8, 1, 1]\n"
     ]
    },
    {
     "data": {
      "text/plain": [
       "array([[ 0,  2,  4,  6,  8, 10, 12, 14, 16, 18, 20, 22, 24, 26, 28, 30]], dtype=int32)"
      ]
     },
     "execution_count": 8,
     "metadata": {},
     "output_type": "execute_result"
    }
   ],
   "source": [
    "import numpy as np\n",
    "\n",
    "inputs = [np.arange(16)]\n",
    "driver(inputs, gsize=(16,1,1), lsize=(8,1,1))"
   ]
  },
  {
   "cell_type": "code",
   "execution_count": 9,
   "metadata": {},
   "outputs": [
    {
     "data": {
      "text/plain": [
       "array([array([21, 23, 25, 27], dtype=int32), array([10, 11], dtype=int32)], dtype=object)"
      ]
     },
     "execution_count": 9,
     "metadata": {},
     "output_type": "execute_result"
    }
   ],
   "source": [
    "kernel = \"\"\"\\\n",
    "kernel void A(global int* a, const int2 b) {\n",
    "    const int tid = get_global_id(0);\n",
    "    if (tid < get_global_size(0))\n",
    "        a[tid] = a[tid] * 2.0 + b.x + b.y;\n",
    "}\"\"\"\n",
    "\n",
    "driver = cldrive.Driver(env, kernel)\n",
    "driver([[0, 1, 2, 3], [10, 11]], gsize=(4, 1, 1), lsize=(1, 1, 1))"
   ]
  }
 ],
 "metadata": {
  "kernelspec": {
   "display_name": "CLgen",
   "language": "python",
   "name": "clgen"
  },
  "language_info": {
   "codemirror_mode": {
    "name": "ipython",
    "version": 3
   },
   "file_extension": ".py",
   "mimetype": "text/x-python",
   "name": "python",
   "nbconvert_exporter": "python",
   "pygments_lexer": "ipython3",
   "version": "3.6.1"
  }
 },
 "nbformat": 4,
 "nbformat_minor": 2
}
