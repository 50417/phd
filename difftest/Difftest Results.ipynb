{
 "cells": [
  {
   "cell_type": "markdown",
   "metadata": {},
   "source": [
    "# Difftest Results\n",
    "\n",
    "Connect to results database:"
   ]
  },
  {
   "cell_type": "code",
   "execution_count": 36,
   "metadata": {},
   "outputs": [
    {
     "data": {
      "text/plain": [
       "'mysql://cc1:3306/project_b'"
      ]
     },
     "execution_count": 36,
     "metadata": {},
     "output_type": "execute_result"
    }
   ],
   "source": [
    "import db\n",
    "from db import *\n",
    "%run util.py\n",
    "\n",
    "hostname = \"cc1\"\n",
    "db.init(hostname)"
   ]
  },
  {
   "cell_type": "markdown",
   "metadata": {},
   "source": [
    "## Overview"
   ]
  },
  {
   "cell_type": "code",
   "execution_count": 37,
   "metadata": {},
   "outputs": [
    {
     "data": {
      "text/html": [
       "<div>\n",
       "<table border=\"1\" class=\"dataframe\">\n",
       "  <thead>\n",
       "    <tr style=\"text-align: right;\">\n",
       "      <th></th>\n",
       "      <th>CLSmith</th>\n",
       "      <th>CLSmith w. cldrive</th>\n",
       "      <th>GitHub</th>\n",
       "      <th>CLgen</th>\n",
       "      <th>CLgen w. cl_launcher</th>\n",
       "      <th>CLgen w. co</th>\n",
       "    </tr>\n",
       "  </thead>\n",
       "  <tbody>\n",
       "    <tr>\n",
       "      <th>#. Programs</th>\n",
       "      <td>10001</td>\n",
       "      <td>10001</td>\n",
       "      <td>9238</td>\n",
       "      <td>3385</td>\n",
       "      <td>2385</td>\n",
       "      <td>3385</td>\n",
       "    </tr>\n",
       "    <tr>\n",
       "      <th>#. Testbeds</th>\n",
       "      <td>6</td>\n",
       "      <td>5</td>\n",
       "      <td>5</td>\n",
       "      <td>5</td>\n",
       "      <td>7</td>\n",
       "      <td>7</td>\n",
       "    </tr>\n",
       "    <tr>\n",
       "      <th>#. Params</th>\n",
       "      <td>4</td>\n",
       "      <td>4</td>\n",
       "      <td>4</td>\n",
       "      <td>4</td>\n",
       "      <td>4</td>\n",
       "      <td>4</td>\n",
       "    </tr>\n",
       "    <tr>\n",
       "      <th>#. Results</th>\n",
       "      <td>201057</td>\n",
       "      <td>200020</td>\n",
       "      <td>193477</td>\n",
       "      <td>60173</td>\n",
       "      <td>66780</td>\n",
       "      <td>48496</td>\n",
       "    </tr>\n",
       "  </tbody>\n",
       "</table>\n",
       "</div>"
      ],
      "text/plain": [
       "             CLSmith  CLSmith w. cldrive  GitHub  CLgen  CLgen w. cl_launcher  \\\n",
       "#. Programs    10001               10001    9238   3385                  2385   \n",
       "#. Testbeds        6                   5       5      5                     7   \n",
       "#. Params          4                   4       4      4                     4   \n",
       "#. Results    201057              200020  193477  60173                 66780   \n",
       "\n",
       "             CLgen w. co  \n",
       "#. Programs         3385  \n",
       "#. Testbeds            7  \n",
       "#. Params              4  \n",
       "#. Results         48496  "
      ]
     },
     "execution_count": 37,
     "metadata": {},
     "output_type": "execute_result"
    }
   ],
   "source": [
    "import pandas as pd\n",
    "\n",
    "session = db.make_session()\n",
    "\n",
    "TABLE_NAMES = [\"CLSmith\", \"CLSmith w. cldrive\", \"GitHub\", \"CLgen\", \"CLgen w. cl_launcher\", \"CLgen w. co\"]\n",
    "TABLES = [CLSmithResult, cldriveCLSmithResult, GitHubResult, CLgenResult, cl_launcherCLgenResult, coCLgenResult]\n",
    "\n",
    "data = [\n",
    "    (\"#. Programs\", [session.query(t.program_id).group_by(t.program_id).count() for t in TABLES]),\n",
    "    (\"#. Testbeds\", [session.query(t.testbed_id).group_by(t.testbed_id).count() for t in TABLES]),\n",
    "    (\"#. Params\", [session.query(t.params_id).group_by(t.params_id).count() for t in TABLES]),\n",
    "    (\"#. Results\", [session.query(t).count() for t in TABLES]),\n",
    "]\n",
    "i, d = zip(*data)\n",
    "overview = pd.DataFrame(list(d), index=i, columns=TABLE_NAMES)\n",
    "overview"
   ]
  },
  {
   "cell_type": "markdown",
   "metadata": {},
   "source": [
    "# Experimental Setup"
   ]
  },
  {
   "cell_type": "markdown",
   "metadata": {},
   "source": [
    "### TestBeds\n",
    "\n",
    "A testbed is a combination of host platform and OpenCL device."
   ]
  },
  {
   "cell_type": "code",
   "execution_count": 56,
   "metadata": {},
   "outputs": [
    {
     "data": {
      "text/html": [
       "<div>\n",
       "<table border=\"1\" class=\"dataframe\">\n",
       "  <thead>\n",
       "    <tr style=\"text-align: right;\">\n",
       "      <th></th>\n",
       "      <th>Operating System</th>\n",
       "      <th>Device</th>\n",
       "      <th>Driver</th>\n",
       "      <th>OpenCL</th>\n",
       "      <th>Device type</th>\n",
       "      <th>#. CLSmith</th>\n",
       "      <th>#. CLSmith w. cldrive</th>\n",
       "      <th>#. GitHub</th>\n",
       "      <th>#. CLgen</th>\n",
       "      <th>#. CLgen w. cl_launcher</th>\n",
       "      <th>#. CLgen w. co</th>\n",
       "    </tr>\n",
       "  </thead>\n",
       "  <tbody>\n",
       "    <tr>\n",
       "      <th>12</th>\n",
       "      <td>Ubuntu 16.04 64bit</td>\n",
       "      <td>Intel E5-2620 (pocl)</td>\n",
       "      <td>0.14</td>\n",
       "      <td>2.0</td>\n",
       "      <td>3</td>\n",
       "      <td>320032</td>\n",
       "      <td>320032</td>\n",
       "      <td>295616</td>\n",
       "      <td>108320</td>\n",
       "      <td>76320</td>\n",
       "      <td>63104</td>\n",
       "    </tr>\n",
       "    <tr>\n",
       "      <th>15</th>\n",
       "      <td>CentOS 7.1 64bit</td>\n",
       "      <td>Intel Xeon Phi (?)</td>\n",
       "      <td>1.2</td>\n",
       "      <td>1.2</td>\n",
       "      <td>ACCELERATOR</td>\n",
       "      <td>0</td>\n",
       "      <td>0</td>\n",
       "      <td>0</td>\n",
       "      <td>0</td>\n",
       "      <td>0</td>\n",
       "      <td>8</td>\n",
       "    </tr>\n",
       "    <tr>\n",
       "      <th>3</th>\n",
       "      <td>Ubuntu 16.04 64bit</td>\n",
       "      <td>NVIDIA GTX 1080</td>\n",
       "      <td>375.39</td>\n",
       "      <td>1.2</td>\n",
       "      <td>GPU</td>\n",
       "      <td>320032</td>\n",
       "      <td>320032</td>\n",
       "      <td>379576</td>\n",
       "      <td>108320</td>\n",
       "      <td>76320</td>\n",
       "      <td>61304</td>\n",
       "    </tr>\n",
       "    <tr>\n",
       "      <th>13</th>\n",
       "      <td>Ubuntu 16.04 64bit</td>\n",
       "      <td>Intel HD Haswell GT2</td>\n",
       "      <td>1.3</td>\n",
       "      <td>1.2</td>\n",
       "      <td>GPU</td>\n",
       "      <td>8296</td>\n",
       "      <td>0</td>\n",
       "      <td>0</td>\n",
       "      <td>0</td>\n",
       "      <td>76320</td>\n",
       "      <td>0</td>\n",
       "    </tr>\n",
       "    <tr>\n",
       "      <th>9</th>\n",
       "      <td>Ubuntu 16.04 64bit</td>\n",
       "      <td>Intel E5-2620 v4</td>\n",
       "      <td>1.2.0.25</td>\n",
       "      <td>2.0</td>\n",
       "      <td>CPU</td>\n",
       "      <td>320032</td>\n",
       "      <td>320032</td>\n",
       "      <td>295616</td>\n",
       "      <td>108320</td>\n",
       "      <td>76320</td>\n",
       "      <td>95432</td>\n",
       "    </tr>\n",
       "    <tr>\n",
       "      <th>10</th>\n",
       "      <td>Ubuntu 16.04 64bit</td>\n",
       "      <td>Intel i5-4570</td>\n",
       "      <td>1.2.0.25</td>\n",
       "      <td>1.2</td>\n",
       "      <td>CPU</td>\n",
       "      <td>320032</td>\n",
       "      <td>320032</td>\n",
       "      <td>281392</td>\n",
       "      <td>48104</td>\n",
       "      <td>76320</td>\n",
       "      <td>21968</td>\n",
       "    </tr>\n",
       "    <tr>\n",
       "      <th>14</th>\n",
       "      <td>CentOS 7.1 64bit</td>\n",
       "      <td>Intel E5-2650 v2</td>\n",
       "      <td>1.2.0.44</td>\n",
       "      <td>1.2</td>\n",
       "      <td>CPU</td>\n",
       "      <td>0</td>\n",
       "      <td>0</td>\n",
       "      <td>0</td>\n",
       "      <td>0</td>\n",
       "      <td>76320</td>\n",
       "      <td>61288</td>\n",
       "    </tr>\n",
       "    <tr>\n",
       "      <th>11</th>\n",
       "      <td>Ubuntu 16.04 64bit</td>\n",
       "      <td>Oclgrind Simulator</td>\n",
       "      <td>16.10</td>\n",
       "      <td>1.2</td>\n",
       "      <td>Emulator</td>\n",
       "      <td>320032</td>\n",
       "      <td>320032</td>\n",
       "      <td>295616</td>\n",
       "      <td>108320</td>\n",
       "      <td>76320</td>\n",
       "      <td>84864</td>\n",
       "    </tr>\n",
       "  </tbody>\n",
       "</table>\n",
       "</div>"
      ],
      "text/plain": [
       "      Operating System                Device    Driver OpenCL  Device type  \\\n",
       "12  Ubuntu 16.04 64bit  Intel E5-2620 (pocl)      0.14    2.0            3   \n",
       "15    CentOS 7.1 64bit    Intel Xeon Phi (?)       1.2    1.2  ACCELERATOR   \n",
       "3   Ubuntu 16.04 64bit       NVIDIA GTX 1080    375.39    1.2          GPU   \n",
       "13  Ubuntu 16.04 64bit  Intel HD Haswell GT2       1.3    1.2          GPU   \n",
       "9   Ubuntu 16.04 64bit      Intel E5-2620 v4  1.2.0.25    2.0          CPU   \n",
       "10  Ubuntu 16.04 64bit         Intel i5-4570  1.2.0.25    1.2          CPU   \n",
       "14    CentOS 7.1 64bit      Intel E5-2650 v2  1.2.0.44    1.2          CPU   \n",
       "11  Ubuntu 16.04 64bit    Oclgrind Simulator     16.10    1.2     Emulator   \n",
       "\n",
       "    #. CLSmith  #. CLSmith w. cldrive  #. GitHub  #. CLgen  \\\n",
       "12      320032                 320032     295616    108320   \n",
       "15           0                      0          0         0   \n",
       "3       320032                 320032     379576    108320   \n",
       "13        8296                      0          0         0   \n",
       "9       320032                 320032     295616    108320   \n",
       "10      320032                 320032     281392     48104   \n",
       "14           0                      0          0         0   \n",
       "11      320032                 320032     295616    108320   \n",
       "\n",
       "    #. CLgen w. cl_launcher  #. CLgen w. co  \n",
       "12                    76320           63104  \n",
       "15                        0               8  \n",
       "3                     76320           61304  \n",
       "13                    76320               0  \n",
       "9                     76320           95432  \n",
       "10                    76320           21968  \n",
       "14                    76320           61288  \n",
       "11                    76320           84864  "
      ]
     },
     "execution_count": 56,
     "metadata": {},
     "output_type": "execute_result"
    }
   ],
   "source": [
    "import sqlalchemy as sql\n",
    "\n",
    "q = session.query(Testbed).order_by(sql.func.field(Testbed.devtype, 'GPU', 'CPU', 'Emulator'))\n",
    "\n",
    "data = []\n",
    "for testbed in q:\n",
    "    data.append(\n",
    "        (testbed.id, [\n",
    "            host_str(testbed.host), device_str(testbed.device),\n",
    "            DRIVERS.get(testbed.driver, testbed.driver), testbed.opencl, testbed.devtype] +\n",
    "         [session.query(t.testbed).filter(t.testbed == testbed).count() for t in TABLES]))\n",
    "i, d = zip(*data)\n",
    "testbeds = pd.DataFrame(list(d), index=i, columns=[\"Operating System\", \"Device\", \"Driver\", \"OpenCL\", \"Device type\"] + [f\"#. {t}\" for t in TABLE_NAMES])\n",
    "\n",
    "if len(CONFIGURATIONS) != session.query(Testbed).count():\n",
    "    import sys\n",
    "    print(\"warning: missing testbed(s)\", file=sys.stderr)\n",
    "testbeds"
   ]
  },
  {
   "cell_type": "code",
   "execution_count": 57,
   "metadata": {},
   "outputs": [
    {
     "name": "stdout",
     "output_type": "stream",
     "text": [
      "remote: Counting objects: 13, done\u001b[K\n",
      "remote: Finding sources: 100% (7/7)\u001b[K\u001b[K\n",
      "remote: Total 7 (delta 6), reused 7 (delta 6)\u001b[K\n",
      "Unpacking objects: 100% (7/7), done.\n",
      "From https://git.overleaf.com/8608915dsywxshwwjmw\n",
      "   aeb7c83..dc2433e  master     -> origin/master\n",
      "First, rewinding head to replay your work on top of it...\n",
      "Fast-forwarded master to dc2433edb6ecaeeba9f8f95612ef705c3f55e2a3.\n",
      "On branch master\n",
      "Your branch is up-to-date with 'origin/master'.\n",
      "nothing to commit, working directory clean\n"
     ]
    },
    {
     "data": {
      "text/html": [
       "<div>\n",
       "<table border=\"1\" class=\"dataframe\">\n",
       "  <thead>\n",
       "    <tr style=\"text-align: right;\">\n",
       "      <th></th>\n",
       "      <th>#.</th>\n",
       "      <th>Device</th>\n",
       "      <th>Platform</th>\n",
       "      <th>Driver</th>\n",
       "      <th>OpenCL</th>\n",
       "      <th>Operating system</th>\n",
       "      <th>Device type</th>\n",
       "    </tr>\n",
       "  </thead>\n",
       "  <tbody>\n",
       "    <tr>\n",
       "      <th>0</th>\n",
       "      <td>1</td>\n",
       "      <td>GeForce GTX 1080</td>\n",
       "      <td>NVIDIA CUDA</td>\n",
       "      <td>375.39</td>\n",
       "      <td>1.2</td>\n",
       "      <td>Ubuntu 16.04 64bit</td>\n",
       "      <td>GPU</td>\n",
       "    </tr>\n",
       "    <tr>\n",
       "      <th>1</th>\n",
       "      <td>2</td>\n",
       "      <td>Intel(R) HD Graphics Haswell GT2 Desktop</td>\n",
       "      <td>Intel Gen OCL Driver</td>\n",
       "      <td>1.3</td>\n",
       "      <td>1.2</td>\n",
       "      <td>Ubuntu 16.04 64bit</td>\n",
       "      <td>GPU</td>\n",
       "    </tr>\n",
       "    <tr>\n",
       "      <th>2</th>\n",
       "      <td>3</td>\n",
       "      <td>Intel(R) Xeon(R) CPU E5-2620 v4 @ 2.10GHz</td>\n",
       "      <td>Intel OpenCL</td>\n",
       "      <td>1.2.0.25</td>\n",
       "      <td>2.0</td>\n",
       "      <td>Ubuntu 16.04 64bit</td>\n",
       "      <td>CPU</td>\n",
       "    </tr>\n",
       "    <tr>\n",
       "      <th>3</th>\n",
       "      <td>4</td>\n",
       "      <td>Intel(R) Xeon(R) CPU E5-2650 v2 @ 2.60GHz</td>\n",
       "      <td>Intel OpenCL</td>\n",
       "      <td>1.2.0.44</td>\n",
       "      <td>1.2</td>\n",
       "      <td>CentOS 7.1 64bit</td>\n",
       "      <td>CPU</td>\n",
       "    </tr>\n",
       "    <tr>\n",
       "      <th>4</th>\n",
       "      <td>5</td>\n",
       "      <td>Intel(R) Core(TM) i5-4570 CPU @ 3.20GHz</td>\n",
       "      <td>Intel OpenCL</td>\n",
       "      <td>1.2.0.25</td>\n",
       "      <td>1.2</td>\n",
       "      <td>Ubuntu 16.04 64bit</td>\n",
       "      <td>CPU</td>\n",
       "    </tr>\n",
       "    <tr>\n",
       "      <th>5</th>\n",
       "      <td>6</td>\n",
       "      <td>Intel(R) Many Integrated Core Acceleration Card</td>\n",
       "      <td>Intel OpenCL</td>\n",
       "      <td>1.2</td>\n",
       "      <td>1.2</td>\n",
       "      <td>CentOS 7.1 64bit</td>\n",
       "      <td>Accelerator</td>\n",
       "    </tr>\n",
       "    <tr>\n",
       "      <th>6</th>\n",
       "      <td>7</td>\n",
       "      <td>pthread-Intel(R) Xeon(R) CPU E5-2620 v4 @ 2.10GHz</td>\n",
       "      <td>POCL</td>\n",
       "      <td>0.14</td>\n",
       "      <td>2.0</td>\n",
       "      <td>Ubuntu 16.04 64bit</td>\n",
       "      <td>CPU</td>\n",
       "    </tr>\n",
       "    <tr>\n",
       "      <th>7</th>\n",
       "      <td>8</td>\n",
       "      <td>Oclgrind Simulator</td>\n",
       "      <td>Oclgrind</td>\n",
       "      <td>16.10</td>\n",
       "      <td>1.2</td>\n",
       "      <td>Ubuntu 16.04 64bit</td>\n",
       "      <td>Emulator</td>\n",
       "    </tr>\n",
       "  </tbody>\n",
       "</table>\n",
       "</div>"
      ],
      "text/plain": [
       "   #.                                             Device  \\\n",
       "0   1                                   GeForce GTX 1080   \n",
       "1   2           Intel(R) HD Graphics Haswell GT2 Desktop   \n",
       "2   3          Intel(R) Xeon(R) CPU E5-2620 v4 @ 2.10GHz   \n",
       "3   4          Intel(R) Xeon(R) CPU E5-2650 v2 @ 2.60GHz   \n",
       "4   5            Intel(R) Core(TM) i5-4570 CPU @ 3.20GHz   \n",
       "5   6    Intel(R) Many Integrated Core Acceleration Card   \n",
       "6   7  pthread-Intel(R) Xeon(R) CPU E5-2620 v4 @ 2.10GHz   \n",
       "7   8                                 Oclgrind Simulator   \n",
       "\n",
       "               Platform    Driver OpenCL    Operating system  Device type  \n",
       "0           NVIDIA CUDA    375.39    1.2  Ubuntu 16.04 64bit          GPU  \n",
       "1  Intel Gen OCL Driver       1.3    1.2  Ubuntu 16.04 64bit          GPU  \n",
       "2          Intel OpenCL  1.2.0.25    2.0  Ubuntu 16.04 64bit          CPU  \n",
       "3          Intel OpenCL  1.2.0.44    1.2    CentOS 7.1 64bit          CPU  \n",
       "4          Intel OpenCL  1.2.0.25    1.2  Ubuntu 16.04 64bit          CPU  \n",
       "5          Intel OpenCL       1.2    1.2    CentOS 7.1 64bit  Accelerator  \n",
       "6                  POCL      0.14    2.0  Ubuntu 16.04 64bit          CPU  \n",
       "7              Oclgrind     16.10    1.2  Ubuntu 16.04 64bit     Emulator  "
      ]
     },
     "execution_count": 57,
     "metadata": {},
     "output_type": "execute_result"
    }
   ],
   "source": [
    "# push LaTex to Overleaf\n",
    "!cd ~/docs/paper-project_b/ && git pull --rebase\n",
    "\n",
    "import os\n",
    "from collections import OrderedDict\n",
    "\n",
    "def get_testbed_info(config_id, testbed_id):\n",
    "    testbed = session.query(Testbed).filter(Testbed.id == testbed_id).first()\n",
    "    d = OrderedDict()\n",
    "    d[\"#.\"] = config_id\n",
    "    d[\"Device\"] = testbed.device\n",
    "    d[\"Platform\"] = platform_str(testbed.platform)\n",
    "    d[\"Driver\"] = driver_str(testbed.driver)\n",
    "    d[\"OpenCL\"] = testbed.opencl\n",
    "    d[\"Operating system\"] = host_str(testbed.host)\n",
    "    d[\"Device type\"] = devtype_str(testbed.devtype)\n",
    "    return d\n",
    "\n",
    "table = pd.DataFrame([get_testbed_info(*x) for x in CONFIGURATIONS])\n",
    "with open(os.path.expanduser(\"~/docs/paper-project_b/build/tab/platforms.tex\"), \"w\") as outfile:\n",
    "    table.to_latex(buf=outfile, index=None)\n",
    "!cd ~/docs/paper-project_b/build && git add . && git commit -m \"auto: build/tab/platforms.tex\" && git push\n",
    "table"
   ]
  },
  {
   "cell_type": "code",
   "execution_count": 59,
   "metadata": {},
   "outputs": [
    {
     "name": "stderr",
     "output_type": "stream",
     "text": [
      "warning: directory /home/cec/src/project_b/data/clreduce/NVIDIA-GTX-1080/unoptimised does not exist\n",
      "warning: directory /home/cec/src/project_b/data/clreduce/Intel-GT2/unoptimised does not exist\n",
      "warning: directory /home/cec/src/project_b/data/clreduce/Intel-E5-2620/unoptimised does not exist\n",
      "warning: directory /home/cec/src/project_b/data/clreduce/Intel-E5-2650/unoptimised does not exist\n",
      "warning: directory /home/cec/src/project_b/data/clreduce/Intel-i5-4570/unoptimised does not exist\n",
      "warning: directory /home/cec/src/project_b/data/clreduce/Intel-i5-4570/optimised does not exist\n",
      "warning: directory /home/cec/src/project_b/data/clreduce/Xeon-phi/unoptimised does not exist\n",
      "warning: directory /home/cec/src/project_b/data/clreduce/POCL-E5-2620/unoptimised does not exist\n"
     ]
    },
    {
     "name": "stdout",
     "output_type": "stream",
     "text": [
      "Current branch master is up to date.\n",
      "[master 2b035ea] auto: build/tab/megatable.tex\n",
      " 1 file changed, 2 insertions(+), 2 deletions(-)\n",
      "Counting objects: 5, done.\n",
      "Delta compression using up to 16 threads.\n",
      "Compressing objects: 100% (5/5), done.\n",
      "Writing objects: 100% (5/5), 495 bytes | 0 bytes/s, done.\n",
      "Total 5 (delta 3), reused 0 (delta 0)\n",
      "remote: Resolving deltas: 100% (3/3)\u001b[K\u001b[K\n",
      "remote: Updating references: 100% (1/1)\u001b[K\u001b[K\n",
      "To https://git.overleaf.com/8608915dsywxshwwjmw\n",
      "   0d6c9d2..2b035ea  master -> master\n"
     ]
    }
   ],
   "source": [
    "import subprocess\n",
    "from labm8 import fs\n",
    "\n",
    "null_columns = \" & \".join([\"-\"] * 7)\n",
    "\n",
    "def get_clreduce_logdir(testbed: Testbed, no_opt: bool):\n",
    "    devname = {\n",
    "        3: \"NVIDIA-GTX-1080\",\n",
    "        9: \"Intel-E5-2620\",\n",
    "        10: \"Intel-i5-4570\",\n",
    "        12: \"POCL-E5-2620\",\n",
    "        13: \"Intel-GT2\",\n",
    "        14: \"Intel-E5-2650\",\n",
    "        15: \"Xeon-phi\",\n",
    "    }[testbed.id]\n",
    "    \n",
    "    onoff = \"unoptimised\" if no_opt else \"optimised\"\n",
    "\n",
    "    return fs.path(f\"~/src/project_b/data/clreduce/{devname}/{onoff}\")\n",
    "\n",
    "\n",
    "def get_clreduce_logs(testbed, no_opt: bool):\n",
    "    logdir = get_clreduce_logdir(testbed, no_opt)\n",
    "    if fs.isdir(logdir):\n",
    "        return [x for x in fs.ls(logdir, abspaths=True) if x.endswith(\".txt\")]\n",
    "    else:\n",
    "        print(f\"warning: directory {logdir} does not exist\", file=sys.stderr)\n",
    "        return []\n",
    "    \n",
    "\n",
    "def get_clreduce_counts(testbed, no_opt: bool):\n",
    "    counts = {\"w\": 0, \"bf\": 0, \"c\": 0, \"to\": 0, \"✓\": 0, \"total\": 0}\n",
    "    runtime = 0\n",
    "    for log in get_clreduce_logs(testbed, no_opt):\n",
    "        output = subprocess.check_output([fs.path('~/src/project_b/lib/clreduce/parse-log.sh'), log],\n",
    "                                         universal_newlines=True)\n",
    "        for line in output.strip().split('\\n'):\n",
    "            key, value = line.split()\n",
    "            counts[key] = counts.get(key, 0) + int(value)\n",
    "    # print(f\"runtime of {testbed.device}: {runtime} {no_opt}\")\n",
    "    return counts\n",
    "\n",
    "    \n",
    "def get_clsmith_columns(testbed: Testbed, no_opt: bool):\n",
    "    # could not run on OCLgrind\n",
    "    if platform_str(testbed.platform) == \"Oclgrind\":\n",
    "        return null_columns\n",
    "    \n",
    "    c = get_clreduce_counts(testbed, no_opt)\n",
    "    return f\"{c['w']} & {c['bf']} & {c['c']} & {c['to']} & {c['✓']} & 0 & {c['total']}\"\n",
    "\n",
    "\n",
    "def get_clgen_columns(testbed: Testbed, no_opt: bool):\n",
    "    return \" & \".join([str(0)] * 7)\n",
    "        \n",
    "\n",
    "def get_row(config_id, testbed_id):\n",
    "    \"\"\" get mega-table row \"\"\"\n",
    "    testbed = session.query(Testbed).filter(Testbed.id == testbed_id).first()\n",
    "    platform_name = platform_str(testbed.platform)\n",
    "    device_name = device_str(testbed.device)\n",
    "    driver_name = driver_str(testbed.driver)\n",
    "    \n",
    "    clsmith_columns = get_clsmith_columns(testbed, True)\n",
    "    clgen_columns = get_clgen_columns(testbed, True)\n",
    "    \n",
    "    clsmith_noopt_columns = get_clsmith_columns(testbed, False)\n",
    "    clgen_noopt_columns = get_clgen_columns(testbed, False)\n",
    "    \n",
    "    return f\"\"\"\\\\multirow{{ 2}}{{*}}{{{config_id}}} & \\\\multirow{{ 2}}{{*}}{{{platform_name}}} & \\\n",
    "\\\\multirow{{ 2}}{{*}}{{{device_name}}} & \\\n",
    "\\\\multirow{{ 2}}{{*}}{{{driver_name}}} & \\\n",
    "$-$ & {clsmith_columns} & {clgen_columns} \\\\\\\\\n",
    "& & & & \\\n",
    "$+$ & {clsmith_noopt_columns} & {clgen_noopt_columns} \\\\\\\\\"\"\"\n",
    "\n",
    "rows = \"\\n\\\\hline\\n\".join(get_row(*x) for x in CONFIGURATIONS)\n",
    "\n",
    "# push LaTex to Overleaf\n",
    "!cd ~/docs/paper-project_b/ && git pull --rebase\n",
    "\n",
    "latex = f\"\"\"\\\n",
    "\\\\begin{{tabular}}{{lllll | rrrrrrr | rrrrrrr }}\n",
    "  \\\\toprule\n",
    "  & & & & & \\\\multicolumn{{7}}{{c|}}{{\\\\textbf{{CLSmith}}}} & \\\\multicolumn{{7}}{{c}}{{\\\\textbf{{CLgen}}}} \\\\\\\\\n",
    "  \\\\textbf{{\\\\#.}} & \\\\textbf{{Platform}} & \\\\textbf{{Device}} & \\\\textbf{{Driver}} & $\\\\pm$ & \n",
    "  \\\\textbf{{w}} & \\\\textbf{{bf}} & \\\\textbf{{c}} & \\\\textbf{{to}} & \\\\cmark & \\\\xmark & \\\\textbf{{total}} & \n",
    "  \\\\textbf{{w}} & \\\\textbf{{bf}} & \\\\textbf{{c}} & \\\\textbf{{to}} & \\\\cmark & \\\\xmark & \\\\textbf{{total}} \\\\\\\\\n",
    "  \\\\midrule\n",
    "  {rows}\n",
    "  \\\\bottomrule\n",
    "\\\\end{{tabular}}\n",
    "\"\"\"\n",
    "\n",
    "with open(os.path.expanduser(\"~/docs/paper-project_b/build/tab/megatable.tex\"), \"w\") as outfile:\n",
    "    print(latex, file=outfile)\n",
    "\n",
    "!cd ~/docs/paper-project_b/build && git add . && git commit -m \"auto: build/tab/megatable.tex\" && git push"
   ]
  },
  {
   "cell_type": "markdown",
   "metadata": {},
   "source": [
    "## Runtime Parameters\n",
    "\n",
    "### cl_launcher"
   ]
  },
  {
   "cell_type": "code",
   "execution_count": null,
   "metadata": {
    "collapsed": true
   },
   "outputs": [],
   "source": [
    "CL_LAUNCHER_TABLE_NAMES = [\"CLSmith\", \"CLgen w. cl_launcher\"]\n",
    "CL_LAUNCHER_TABLES = [CLSmithResult, cl_launcherCLgenResult]\n",
    "\n",
    "q = session.query(cl_launcherParams).order_by(\n",
    "        cl_launcherParams.gsize_x, cl_launcherParams.gsize_y, cl_launcherParams.gsize_z,\n",
    "        cl_launcherParams.lsize_x, cl_launcherParams.lsize_y, cl_launcherParams.lsize_z,\n",
    "        cl_launcherParams.optimizations)\n",
    "\n",
    "data = []\n",
    "for param in q:\n",
    "    nresult_param = session.query(CLSmithResult).filter(CLSmithResult.params == param).count()\n",
    "    data.append((\n",
    "        param.id, [param.gsize, param.lsize, param.optimizations_on_off ] + [\n",
    "            session.query(t).filter(t.params == param).count()\n",
    "            for t in CL_LAUNCHER_TABLES\n",
    "        ]))\n",
    "i, d = zip(*data)\n",
    "\n",
    "cl_launcher_params = pd.DataFrame(list(d), index=i, columns=[\n",
    "    \"Global size\", \"Local size\", \"Optimizations\"] + [\n",
    "        f\"#. {t}\" for t in CL_LAUNCHER_TABLE_NAMES])\n",
    "cl_launcher_params"
   ]
  },
  {
   "cell_type": "markdown",
   "metadata": {},
   "source": [
    "### cldrive"
   ]
  },
  {
   "cell_type": "code",
   "execution_count": null,
   "metadata": {
    "collapsed": true
   },
   "outputs": [],
   "source": [
    "CLDRIVE_TABLE_NAMES = [\"CLSmith w. cldrive\", \"GitHub\", \"CLgen\"]\n",
    "CLDRIVE_TABLES = [cldriveCLSmithResult, GitHubResult, CLgenResult]\n",
    "\n",
    "q = session.query(cldriveParams).order_by(\n",
    "        cldriveParams.size,\n",
    "        cldriveParams.gsize_x, cldriveParams.gsize_y, cldriveParams.gsize_z,\n",
    "        cldriveParams.lsize_x, cldriveParams.lsize_y, cldriveParams.lsize_z,\n",
    "        cldriveParams.generator, cldriveParams.scalar_val, cldriveParams.optimizations)\n",
    "\n",
    "# push LaTex to Overleaf\n",
    "!cd ~/docs/paper-project_b/ && git pull --rebase\n",
    "data = []\n",
    "for param in q:\n",
    "    data.append([param.size, param.gsize, param.lsize, param.optimizations_on_off])\n",
    "table = pd.DataFrame(data, index=range(1, len(data)+1), columns=[\n",
    "    \"Dataset Size\", \"Global size\", \"Workgroup size\", \"Optimizations\"])\n",
    "with open(os.path.expanduser(\"~/docs/paper-project_b/build/tab/cldrive-params.tex\"), \"w\") as outfile:\n",
    "    table.to_latex(buf=outfile)\n",
    "!cd ~/docs/paper-project_b/build && git add . && git commit -m \"auto: build/tab/cldrive-params.tex\" && git push\n",
    "table"
   ]
  },
  {
   "cell_type": "markdown",
   "metadata": {},
   "source": [
    "# Experimental Results"
   ]
  },
  {
   "cell_type": "markdown",
   "metadata": {},
   "source": [
    "## Runtimes\n",
    "\n",
    "Excluding runs which terminated in non-zero status:"
   ]
  },
  {
   "cell_type": "code",
   "execution_count": null,
   "metadata": {
    "collapsed": true
   },
   "outputs": [],
   "source": [
    "import numpy as np\n",
    "\n",
    "runtimes = [np.array(session.query(table.runtime).filter(table.status == 0).all()) for table in TABLES]\n",
    "data = [\n",
    "    (\"Min\", [r.min() for r in runtimes]),\n",
    "    (\"Median\", [np.median(r) for r in runtimes]),\n",
    "    (\"Mean\", [r.mean() for r in runtimes]),\n",
    "    (\"Max\", [r.max() for r in runtimes])\n",
    "]\n",
    "i, d = zip(*data)\n",
    "runtimes = pd.DataFrame(list(d), index=i, columns=TABLE_NAMES)\n",
    "runtimes"
   ]
  },
  {
   "cell_type": "markdown",
   "metadata": {
    "collapsed": true
   },
   "source": [
    "## Outcomes & Classifications"
   ]
  },
  {
   "cell_type": "markdown",
   "metadata": {},
   "source": [
    "**Pandas tables of outcomes**"
   ]
  },
  {
   "cell_type": "code",
   "execution_count": null,
   "metadata": {
    "collapsed": true
   },
   "outputs": [],
   "source": [
    "outcomes = {}\n",
    "\n",
    "for name, table in zip(CL_LAUNCHER_TABLE_NAMES + CLDRIVE_TABLE_NAMES, CL_LAUNCHER_TABLES + CLDRIVE_TABLES):\n",
    "    r = []\n",
    "    for testbed in session.query(Testbed).all():\n",
    "        nresult = session.query(table).filter(table.testbed == testbed).count()\n",
    "\n",
    "        q = session.query(table.outcome, sql.func.count(table.outcome)).filter(\n",
    "            table.testbed == testbed).group_by(table.outcome).order_by(\n",
    "                sql.desc(sql.func.count(table.outcome)))\n",
    "\n",
    "        for outcome, count in q.all():\n",
    "            ratio = (count / nresult) * 100\n",
    "            r.append((DEVICES.get(testbed.device, testbed.device), outcome, count, ratio))\n",
    "    outcomes[name] = pd.DataFrame(r, columns=[\"Device\", \"Outcome\", \"Count\", \"% of Total Results\"])\n",
    "\n",
    "print(\"done.\")"
   ]
  },
  {
   "cell_type": "markdown",
   "metadata": {},
   "source": [
    "**Pandas tables of classifications**"
   ]
  },
  {
   "cell_type": "code",
   "execution_count": 55,
   "metadata": {},
   "outputs": [
    {
     "ename": "NameError",
     "evalue": "name 'CL_LAUNCHER_TABLE_NAMES' is not defined",
     "output_type": "error",
     "traceback": [
      "\u001b[0;31m---------------------------------------------------------------------------\u001b[0m",
      "\u001b[0;31mNameError\u001b[0m                                 Traceback (most recent call last)",
      "\u001b[0;32m<ipython-input-55-44ba3b8d264d>\u001b[0m in \u001b[0;36m<module>\u001b[0;34m()\u001b[0m\n\u001b[1;32m     16\u001b[0m         \u001b[0;32mreturn\u001b[0m \u001b[0mstr\u001b[0m\u001b[0;34m(\u001b[0m\u001b[0mclassificationsSort\u001b[0m\u001b[0;34m.\u001b[0m\u001b[0mindex\u001b[0m\u001b[0;34m(\u001b[0m\u001b[0mval\u001b[0m\u001b[0;34m)\u001b[0m\u001b[0;34m)\u001b[0m \u001b[0;34m+\u001b[0m \u001b[0;34m\". \"\u001b[0m \u001b[0;34m+\u001b[0m \u001b[0mval\u001b[0m\u001b[0;34m\u001b[0m\u001b[0m\n\u001b[1;32m     17\u001b[0m \u001b[0;34m\u001b[0m\u001b[0m\n\u001b[0;32m---> 18\u001b[0;31m \u001b[0;32mfor\u001b[0m \u001b[0mname\u001b[0m\u001b[0;34m,\u001b[0m \u001b[0mtable\u001b[0m \u001b[0;32min\u001b[0m \u001b[0mzip\u001b[0m\u001b[0;34m(\u001b[0m\u001b[0mCL_LAUNCHER_TABLE_NAMES\u001b[0m \u001b[0;34m+\u001b[0m \u001b[0mCLDRIVE_TABLE_NAMES\u001b[0m\u001b[0;34m,\u001b[0m \u001b[0mCL_LAUNCHER_TABLES\u001b[0m \u001b[0;34m+\u001b[0m \u001b[0mCLDRIVE_TABLES\u001b[0m\u001b[0;34m)\u001b[0m\u001b[0;34m:\u001b[0m\u001b[0;34m\u001b[0m\u001b[0m\n\u001b[0m\u001b[1;32m     19\u001b[0m     \u001b[0mr\u001b[0m \u001b[0;34m=\u001b[0m \u001b[0;34m[\u001b[0m\u001b[0;34m]\u001b[0m\u001b[0;34m\u001b[0m\u001b[0m\n\u001b[1;32m     20\u001b[0m     \u001b[0;32mfor\u001b[0m \u001b[0mtestbed\u001b[0m \u001b[0;32min\u001b[0m \u001b[0msession\u001b[0m\u001b[0;34m.\u001b[0m\u001b[0mquery\u001b[0m\u001b[0;34m(\u001b[0m\u001b[0mTestbed\u001b[0m\u001b[0;34m)\u001b[0m\u001b[0;34m.\u001b[0m\u001b[0mall\u001b[0m\u001b[0;34m(\u001b[0m\u001b[0;34m)\u001b[0m\u001b[0;34m:\u001b[0m\u001b[0;34m\u001b[0m\u001b[0m\n",
      "\u001b[0;31mNameError\u001b[0m: name 'CL_LAUNCHER_TABLE_NAMES' is not defined"
     ]
    }
   ],
   "source": [
    "classifications = {}\n",
    "\n",
    "classificationsSort = [\n",
    "    'Invalid testcase',\n",
    "    'Build failure',\n",
    "    'Runtime crash',\n",
    "    'No majority',\n",
    "    'Wrong code',\n",
    "    'Okay'\n",
    "]\n",
    "\n",
    "def escape(val):\n",
    "    if val is None:\n",
    "        return val\n",
    "    else:\n",
    "        return str(classificationsSort.index(val)) + \". \" + val\n",
    "\n",
    "for name, table in zip(CL_LAUNCHER_TABLE_NAMES + CLDRIVE_TABLE_NAMES, CL_LAUNCHER_TABLES + CLDRIVE_TABLES):\n",
    "    r = []\n",
    "    for testbed in session.query(Testbed).all():\n",
    "        nresult = session.query(table).filter(table.testbed == testbed).count()\n",
    "\n",
    "        q = session.query(table.classification, sql.func.count(table.classification)).filter(\n",
    "            table.testbed == testbed).group_by(table.classification).order_by(\n",
    "                sql.desc(sql.func.count(table.classification)))\n",
    "\n",
    "        for val, count in q.all():\n",
    "            ratio = (count / nresult) * 100\n",
    "            r.append((DEVICES.get(testbed.device, testbed.device), escape(val), count, ratio))\n",
    "    classifications[name] = pd.DataFrame(r, columns=[\"Device\", \"Classification\", \"Count\", \"% of Total Results\"])\n",
    "\n",
    "print(\"done.\")"
   ]
  },
  {
   "cell_type": "code",
   "execution_count": null,
   "metadata": {
    "collapsed": true
   },
   "outputs": [],
   "source": [
    "classifications[\"CLgen w. cl_launcher\"]"
   ]
  },
  {
   "cell_type": "markdown",
   "metadata": {},
   "source": [
    "## Experimental Results"
   ]
  },
  {
   "cell_type": "code",
   "execution_count": null,
   "metadata": {
    "collapsed": true
   },
   "outputs": [],
   "source": [
    "import matplotlib.pyplot as plt\n",
    "import seaborn as sns\n",
    "from labm8 import viz\n",
    "%matplotlib inline\n",
    "\n",
    "def plot_outcomes(table, name, dictname=outcomes, key='Outcome'):\n",
    "    ax = dictname[name].pivot('Device', key)['Count'].plot(\n",
    "        kind='bar', stacked=True, colormap=\"Reds_r\", sort_columns=True)\n",
    "\n",
    "    nprog = session.query(table.program_id).group_by(table.program_id).count()\n",
    "    nparam = session.query(table.params_id).group_by(table.params_id).count()\n",
    "    plt.title(f\"{nprog} {name} x {nparam} parameters\")\n",
    "    plt.ylabel(\"Results\")\n",
    "    plt.xlabel(\"\")\n",
    "\n",
    "    plt.ylim(0, nprog * nparam)\n",
    "\n",
    "    # reverse legend order (because plot stacks from bottom to top, and legend goes from top to bottom)\n",
    "    handles, labels = ax.get_legend_handles_labels()\n",
    "    ax.legend(handles[::-1], labels[::-1], loc='center left', bbox_to_anchor=(1, 0.5))\n",
    "\n",
    "    viz.finalise(figsize=(3.5, 8))\n",
    "    \n",
    "    \n",
    "def summarize(table_name):\n",
    "    \"\"\" summarize a table of classifications \"\"\"\n",
    "    table = classifications[table_name]\n",
    "\n",
    "    def get_val(classification):\n",
    "        try:\n",
    "            return table.loc[\n",
    "                (table['Device'] == device) & (table['Classification'] == classification)]['Count'].values[0]\n",
    "        except IndexError:\n",
    "            return 0\n",
    "    \n",
    "    columns = ['Platform', 'Device', 'Driver', 'Invalid Testcases', 'Build Failures', 'Runtime Crashes', 'Incorrect Outputs', 'Okay']\n",
    "    devices = sorted(set(table['Device'].values))\n",
    "\n",
    "    d = []    \n",
    "    for device in devices:\n",
    "        lookup = dict((v, k) for k, v in DEVICES.items())\n",
    "        full_name = lookup.get(device, device)\n",
    "        \n",
    "        # lookup the testbed\n",
    "        q = session.query(Testbed).filter(Testbed.device == full_name).all()\n",
    "        if len(q) != 1:\n",
    "            raise q\n",
    "        testbed = q[0]\n",
    "        \n",
    "        r = [\n",
    "            PLATFORMS.get(testbed.platform, testbed.platform),\n",
    "            device,\n",
    "            DRIVERS.get(testbed.driver, testbed.driver),\n",
    "            get_val('0. Invalid testcase'),\n",
    "            get_val('1. Build failure'),\n",
    "            get_val('2. Runtime crash'),\n",
    "            get_val('3. Wrong code'),\n",
    "            get_val('4. Okay'),\n",
    "        ]\n",
    "        d.append(r)\n",
    "    summary = pd.DataFrame(d, columns=columns, index=range(1, len(devices)+1))\n",
    "\n",
    "    !cd ~/docs/paper-project_b/ && git pull --rebase >/dev/null\n",
    "    name = '-'.join(table_name.split())\n",
    "    with open(os.path.expanduser(f\"~/docs/paper-project_b/build/tab/results-{name}.tex\"), \"w\") as outfile:\n",
    "        summary.to_latex(buf=outfile)\n",
    "    !cd ~/docs/paper-project_b/build && git add . && git commit -m \"auto: summarize table\" >/dev/null && git push >/dev/null\n",
    "    return summary"
   ]
  },
  {
   "cell_type": "markdown",
   "metadata": {},
   "source": [
    "### CLSmith"
   ]
  },
  {
   "cell_type": "code",
   "execution_count": null,
   "metadata": {
    "collapsed": true
   },
   "outputs": [],
   "source": [
    "outcomes[\"CLSmith\"]"
   ]
  },
  {
   "cell_type": "code",
   "execution_count": null,
   "metadata": {
    "collapsed": true
   },
   "outputs": [],
   "source": [
    "summarize('CLSmith')"
   ]
  },
  {
   "cell_type": "code",
   "execution_count": null,
   "metadata": {
    "collapsed": true
   },
   "outputs": [],
   "source": [
    "plot_outcomes(CLSmithResult, \"CLSmith\", dictname=classifications, key='Classification')"
   ]
  },
  {
   "cell_type": "markdown",
   "metadata": {},
   "source": [
    "### CLgen w. cl_launcher"
   ]
  },
  {
   "cell_type": "code",
   "execution_count": null,
   "metadata": {
    "collapsed": true
   },
   "outputs": [],
   "source": [
    "outcomes[\"CLgen w. cl_launcher\"]"
   ]
  },
  {
   "cell_type": "code",
   "execution_count": null,
   "metadata": {
    "collapsed": true
   },
   "outputs": [],
   "source": [
    "summarize('CLgen w. cl_launcher')"
   ]
  },
  {
   "cell_type": "code",
   "execution_count": null,
   "metadata": {
    "collapsed": true
   },
   "outputs": [],
   "source": [
    "plot_outcomes(cl_launcherCLgenResult, \"CLgen w. cl_launcher\", dictname=classifications, key='Classification')"
   ]
  },
  {
   "cell_type": "markdown",
   "metadata": {},
   "source": [
    "### CLSmith w. cldrive"
   ]
  },
  {
   "cell_type": "code",
   "execution_count": null,
   "metadata": {
    "collapsed": true
   },
   "outputs": [],
   "source": [
    "outcomes[\"CLSmith w. cldrive\"]"
   ]
  },
  {
   "cell_type": "code",
   "execution_count": null,
   "metadata": {
    "collapsed": true
   },
   "outputs": [],
   "source": [
    "summarize('CLSmith w. cldrive')"
   ]
  },
  {
   "cell_type": "code",
   "execution_count": null,
   "metadata": {
    "collapsed": true
   },
   "outputs": [],
   "source": [
    "plot_outcomes(cldriveCLSmithResult, \"CLSmith w. cldrive\", dictname=classifications, key='Classification')"
   ]
  },
  {
   "cell_type": "markdown",
   "metadata": {},
   "source": [
    "### GitHub"
   ]
  },
  {
   "cell_type": "code",
   "execution_count": null,
   "metadata": {
    "collapsed": true
   },
   "outputs": [],
   "source": [
    "outcomes[\"GitHub\"]"
   ]
  },
  {
   "cell_type": "code",
   "execution_count": null,
   "metadata": {
    "collapsed": true
   },
   "outputs": [],
   "source": [
    "summarize('GitHub')"
   ]
  },
  {
   "cell_type": "code",
   "execution_count": null,
   "metadata": {
    "collapsed": true
   },
   "outputs": [],
   "source": [
    "plot_outcomes(GitHubResult, \"GitHub\", dictname=classifications, key='Classification')"
   ]
  },
  {
   "cell_type": "markdown",
   "metadata": {},
   "source": [
    "### CLgen"
   ]
  },
  {
   "cell_type": "code",
   "execution_count": null,
   "metadata": {
    "collapsed": true
   },
   "outputs": [],
   "source": [
    "outcomes[\"CLgen\"]"
   ]
  },
  {
   "cell_type": "code",
   "execution_count": null,
   "metadata": {
    "collapsed": true
   },
   "outputs": [],
   "source": [
    "summarize('CLgen')"
   ]
  },
  {
   "cell_type": "code",
   "execution_count": null,
   "metadata": {
    "collapsed": true
   },
   "outputs": [],
   "source": [
    "plot_outcomes(CLgenResult, \"CLgen\", dictname=classifications, key='Classification')"
   ]
  },
  {
   "cell_type": "code",
   "execution_count": null,
   "metadata": {
    "collapsed": true
   },
   "outputs": [],
   "source": []
  }
 ],
 "metadata": {
  "kernelspec": {
   "display_name": "project_b",
   "language": "python",
   "name": "project_b"
  },
  "language_info": {
   "codemirror_mode": {
    "name": "ipython",
    "version": 3
   },
   "file_extension": ".py",
   "mimetype": "text/x-python",
   "name": "python",
   "nbconvert_exporter": "python",
   "pygments_lexer": "ipython3",
   "version": "3.6.1"
  }
 },
 "nbformat": 4,
 "nbformat_minor": 2
}
