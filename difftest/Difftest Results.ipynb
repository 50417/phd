{
 "cells": [
  {
   "cell_type": "markdown",
   "metadata": {},
   "source": [
    "# Difftest Results\n",
    "\n",
    "Connect to results database:"
   ]
  },
  {
   "cell_type": "code",
   "execution_count": 1,
   "metadata": {},
   "outputs": [
    {
     "data": {
      "text/plain": [
       "'mysql://cc1:3306/project_b'"
      ]
     },
     "execution_count": 1,
     "metadata": {},
     "output_type": "execute_result"
    }
   ],
   "source": [
    "import db\n",
    "from db import *\n",
    "%run util.py\n",
    "\n",
    "hostname = \"cc1\"\n",
    "db.init(hostname)"
   ]
  },
  {
   "cell_type": "markdown",
   "metadata": {},
   "source": [
    "## Overview"
   ]
  },
  {
   "cell_type": "code",
   "execution_count": 2,
   "metadata": {},
   "outputs": [
    {
     "data": {
      "text/html": [
       "<div>\n",
       "<table border=\"1\" class=\"dataframe\">\n",
       "  <thead>\n",
       "    <tr style=\"text-align: right;\">\n",
       "      <th></th>\n",
       "      <th>CLSmith</th>\n",
       "      <th>CLSmith w. cldrive</th>\n",
       "      <th>GitHub</th>\n",
       "      <th>CLgen</th>\n",
       "      <th>CLgen w. cl_launcher</th>\n",
       "      <th>CLgen w. co</th>\n",
       "    </tr>\n",
       "  </thead>\n",
       "  <tbody>\n",
       "    <tr>\n",
       "      <th>#. Programs</th>\n",
       "      <td>10001</td>\n",
       "      <td>10001</td>\n",
       "      <td>9238</td>\n",
       "      <td>3385</td>\n",
       "      <td>2385</td>\n",
       "      <td>3385</td>\n",
       "    </tr>\n",
       "    <tr>\n",
       "      <th>#. Testbeds</th>\n",
       "      <td>8</td>\n",
       "      <td>5</td>\n",
       "      <td>5</td>\n",
       "      <td>5</td>\n",
       "      <td>7</td>\n",
       "      <td>7</td>\n",
       "    </tr>\n",
       "    <tr>\n",
       "      <th>#. Params</th>\n",
       "      <td>4</td>\n",
       "      <td>4</td>\n",
       "      <td>4</td>\n",
       "      <td>4</td>\n",
       "      <td>4</td>\n",
       "      <td>4</td>\n",
       "    </tr>\n",
       "    <tr>\n",
       "      <th>#. Results</th>\n",
       "      <td>235593</td>\n",
       "      <td>200020</td>\n",
       "      <td>193477</td>\n",
       "      <td>60173</td>\n",
       "      <td>66780</td>\n",
       "      <td>53840</td>\n",
       "    </tr>\n",
       "  </tbody>\n",
       "</table>\n",
       "</div>"
      ],
      "text/plain": [
       "             CLSmith  CLSmith w. cldrive  GitHub  CLgen  CLgen w. cl_launcher  \\\n",
       "#. Programs    10001               10001    9238   3385                  2385   \n",
       "#. Testbeds        8                   5       5      5                     7   \n",
       "#. Params          4                   4       4      4                     4   \n",
       "#. Results    235593              200020  193477  60173                 66780   \n",
       "\n",
       "             CLgen w. co  \n",
       "#. Programs         3385  \n",
       "#. Testbeds            7  \n",
       "#. Params              4  \n",
       "#. Results         53840  "
      ]
     },
     "execution_count": 2,
     "metadata": {},
     "output_type": "execute_result"
    }
   ],
   "source": [
    "import pandas as pd\n",
    "\n",
    "session = db.make_session()\n",
    "\n",
    "TABLE_NAMES = [\"CLSmith\", \"CLSmith w. cldrive\", \"GitHub\", \"CLgen\", \"CLgen w. cl_launcher\", \"CLgen w. co\"]\n",
    "TABLES = [CLSmithResult, cldriveCLSmithResult, GitHubResult, CLgenResult, cl_launcherCLgenResult, coCLgenResult]\n",
    "\n",
    "data = [\n",
    "    (\"#. Programs\", [session.query(t.program_id).group_by(t.program_id).count() for t in TABLES]),\n",
    "    (\"#. Testbeds\", [session.query(t.testbed_id).group_by(t.testbed_id).count() for t in TABLES]),\n",
    "    (\"#. Params\", [session.query(t.params_id).group_by(t.params_id).count() for t in TABLES]),\n",
    "    (\"#. Results\", [session.query(t).count() for t in TABLES]),\n",
    "]\n",
    "i, d = zip(*data)\n",
    "overview = pd.DataFrame(list(d), index=i, columns=TABLE_NAMES)\n",
    "overview"
   ]
  },
  {
   "cell_type": "markdown",
   "metadata": {},
   "source": [
    "# Experimental Setup"
   ]
  },
  {
   "cell_type": "markdown",
   "metadata": {},
   "source": [
    "### TestBeds\n",
    "\n",
    "A testbed is a combination of host platform and OpenCL device."
   ]
  },
  {
   "cell_type": "code",
   "execution_count": 3,
   "metadata": {},
   "outputs": [
    {
     "data": {
      "text/html": [
       "<div>\n",
       "<table border=\"1\" class=\"dataframe\">\n",
       "  <thead>\n",
       "    <tr style=\"text-align: right;\">\n",
       "      <th></th>\n",
       "      <th>Operating System</th>\n",
       "      <th>Device</th>\n",
       "      <th>Driver</th>\n",
       "      <th>OpenCL</th>\n",
       "      <th>Device type</th>\n",
       "      <th>#. CLSmith</th>\n",
       "      <th>#. CLSmith w. cldrive</th>\n",
       "      <th>#. GitHub</th>\n",
       "      <th>#. CLgen</th>\n",
       "      <th>#. CLgen w. cl_launcher</th>\n",
       "      <th>#. CLgen w. co</th>\n",
       "    </tr>\n",
       "  </thead>\n",
       "  <tbody>\n",
       "    <tr>\n",
       "      <th>12</th>\n",
       "      <td>Ubuntu 16.04 64bit</td>\n",
       "      <td>Intel E5-2620 (pocl)</td>\n",
       "      <td>0.14</td>\n",
       "      <td>2.0</td>\n",
       "      <td>3</td>\n",
       "      <td>320032</td>\n",
       "      <td>320032</td>\n",
       "      <td>295616</td>\n",
       "      <td>108320</td>\n",
       "      <td>76320</td>\n",
       "      <td>63104</td>\n",
       "    </tr>\n",
       "    <tr>\n",
       "      <th>15</th>\n",
       "      <td>CentOS 7.1 64bit</td>\n",
       "      <td>Intel Xeon Phi (?)</td>\n",
       "      <td>1.2</td>\n",
       "      <td>1.2</td>\n",
       "      <td>ACCELERATOR</td>\n",
       "      <td>6608</td>\n",
       "      <td>0</td>\n",
       "      <td>0</td>\n",
       "      <td>0</td>\n",
       "      <td>0</td>\n",
       "      <td>42760</td>\n",
       "    </tr>\n",
       "    <tr>\n",
       "      <th>3</th>\n",
       "      <td>Ubuntu 16.04 64bit</td>\n",
       "      <td>NVIDIA GTX 1080</td>\n",
       "      <td>375.39</td>\n",
       "      <td>1.2</td>\n",
       "      <td>GPU</td>\n",
       "      <td>320032</td>\n",
       "      <td>320032</td>\n",
       "      <td>379576</td>\n",
       "      <td>108320</td>\n",
       "      <td>76320</td>\n",
       "      <td>61304</td>\n",
       "    </tr>\n",
       "    <tr>\n",
       "      <th>13</th>\n",
       "      <td>Ubuntu 16.04 64bit</td>\n",
       "      <td>Intel HD Haswell GT2</td>\n",
       "      <td>1.3</td>\n",
       "      <td>1.2</td>\n",
       "      <td>GPU</td>\n",
       "      <td>256680</td>\n",
       "      <td>0</td>\n",
       "      <td>0</td>\n",
       "      <td>0</td>\n",
       "      <td>76320</td>\n",
       "      <td>0</td>\n",
       "    </tr>\n",
       "    <tr>\n",
       "      <th>9</th>\n",
       "      <td>Ubuntu 16.04 64bit</td>\n",
       "      <td>Intel E5-2620 v4</td>\n",
       "      <td>1.2.0.25</td>\n",
       "      <td>2.0</td>\n",
       "      <td>CPU</td>\n",
       "      <td>320032</td>\n",
       "      <td>320032</td>\n",
       "      <td>295616</td>\n",
       "      <td>108320</td>\n",
       "      <td>76320</td>\n",
       "      <td>95432</td>\n",
       "    </tr>\n",
       "    <tr>\n",
       "      <th>10</th>\n",
       "      <td>Ubuntu 16.04 64bit</td>\n",
       "      <td>Intel i5-4570</td>\n",
       "      <td>1.2.0.25</td>\n",
       "      <td>1.2</td>\n",
       "      <td>CPU</td>\n",
       "      <td>320032</td>\n",
       "      <td>320032</td>\n",
       "      <td>281392</td>\n",
       "      <td>48104</td>\n",
       "      <td>76320</td>\n",
       "      <td>21968</td>\n",
       "    </tr>\n",
       "    <tr>\n",
       "      <th>14</th>\n",
       "      <td>CentOS 7.1 64bit</td>\n",
       "      <td>Intel E5-2650 v2</td>\n",
       "      <td>1.2.0.44</td>\n",
       "      <td>1.2</td>\n",
       "      <td>CPU</td>\n",
       "      <td>21296</td>\n",
       "      <td>0</td>\n",
       "      <td>0</td>\n",
       "      <td>0</td>\n",
       "      <td>76320</td>\n",
       "      <td>61288</td>\n",
       "    </tr>\n",
       "    <tr>\n",
       "      <th>11</th>\n",
       "      <td>Ubuntu 16.04 64bit</td>\n",
       "      <td>Oclgrind Simulator</td>\n",
       "      <td>16.10</td>\n",
       "      <td>1.2</td>\n",
       "      <td>Emulator</td>\n",
       "      <td>320032</td>\n",
       "      <td>320032</td>\n",
       "      <td>295616</td>\n",
       "      <td>108320</td>\n",
       "      <td>76320</td>\n",
       "      <td>84864</td>\n",
       "    </tr>\n",
       "  </tbody>\n",
       "</table>\n",
       "</div>"
      ],
      "text/plain": [
       "      Operating System                Device    Driver OpenCL  Device type  \\\n",
       "12  Ubuntu 16.04 64bit  Intel E5-2620 (pocl)      0.14    2.0            3   \n",
       "15    CentOS 7.1 64bit    Intel Xeon Phi (?)       1.2    1.2  ACCELERATOR   \n",
       "3   Ubuntu 16.04 64bit       NVIDIA GTX 1080    375.39    1.2          GPU   \n",
       "13  Ubuntu 16.04 64bit  Intel HD Haswell GT2       1.3    1.2          GPU   \n",
       "9   Ubuntu 16.04 64bit      Intel E5-2620 v4  1.2.0.25    2.0          CPU   \n",
       "10  Ubuntu 16.04 64bit         Intel i5-4570  1.2.0.25    1.2          CPU   \n",
       "14    CentOS 7.1 64bit      Intel E5-2650 v2  1.2.0.44    1.2          CPU   \n",
       "11  Ubuntu 16.04 64bit    Oclgrind Simulator     16.10    1.2     Emulator   \n",
       "\n",
       "    #. CLSmith  #. CLSmith w. cldrive  #. GitHub  #. CLgen  \\\n",
       "12      320032                 320032     295616    108320   \n",
       "15        6608                      0          0         0   \n",
       "3       320032                 320032     379576    108320   \n",
       "13      256680                      0          0         0   \n",
       "9       320032                 320032     295616    108320   \n",
       "10      320032                 320032     281392     48104   \n",
       "14       21296                      0          0         0   \n",
       "11      320032                 320032     295616    108320   \n",
       "\n",
       "    #. CLgen w. cl_launcher  #. CLgen w. co  \n",
       "12                    76320           63104  \n",
       "15                        0           42760  \n",
       "3                     76320           61304  \n",
       "13                    76320               0  \n",
       "9                     76320           95432  \n",
       "10                    76320           21968  \n",
       "14                    76320           61288  \n",
       "11                    76320           84864  "
      ]
     },
     "execution_count": 3,
     "metadata": {},
     "output_type": "execute_result"
    }
   ],
   "source": [
    "import sqlalchemy as sql\n",
    "\n",
    "q = session.query(Testbed).order_by(sql.func.field(Testbed.devtype, 'GPU', 'CPU', 'Emulator'))\n",
    "\n",
    "data = []\n",
    "for testbed in q:\n",
    "    data.append(\n",
    "        (testbed.id, [\n",
    "            host_str(testbed.host), device_str(testbed.device),\n",
    "            DRIVERS.get(testbed.driver, testbed.driver), testbed.opencl, testbed.devtype] +\n",
    "         [session.query(t.testbed).filter(t.testbed == testbed).count() for t in TABLES]))\n",
    "i, d = zip(*data)\n",
    "testbeds = pd.DataFrame(list(d), index=i, columns=[\"Operating System\", \"Device\", \"Driver\", \"OpenCL\", \"Device type\"] + [f\"#. {t}\" for t in TABLE_NAMES])\n",
    "\n",
    "if len(CONFIGURATIONS) != session.query(Testbed).count():\n",
    "    import sys\n",
    "    print(\"warning: missing testbed(s)\", file=sys.stderr)\n",
    "testbeds"
   ]
  },
  {
   "cell_type": "code",
   "execution_count": 18,
   "metadata": {},
   "outputs": [
    {
     "name": "stdout",
     "output_type": "stream",
     "text": [
      "Current branch master is up to date.\n",
      "[master 778a4be] auto: build/tab/platforms.tex\n",
      " 1 file changed, 9 insertions(+), 9 deletions(-)\n",
      "Counting objects: 5, done.\n",
      "Delta compression using up to 16 threads.\n",
      "Compressing objects: 100% (5/5), done.\n",
      "Writing objects: 100% (5/5), 475 bytes | 0 bytes/s, done.\n",
      "Total 5 (delta 3), reused 0 (delta 0)\n",
      "remote: Resolving deltas: 100% (3/3)\u001b[K\u001b[K\n",
      "remote: Updating references: 100% (1/1)\u001b[K\u001b[K\n",
      "To https://git.overleaf.com/8608915dsywxshwwjmw\n",
      "   646d118..778a4be  master -> master\n"
     ]
    },
    {
     "data": {
      "text/html": [
       "<div>\n",
       "<table border=\"1\" class=\"dataframe\">\n",
       "  <thead>\n",
       "    <tr style=\"text-align: right;\">\n",
       "      <th></th>\n",
       "      <th>#.</th>\n",
       "      <th>Device</th>\n",
       "      <th>Platform</th>\n",
       "      <th>Driver</th>\n",
       "      <th>OpenCL</th>\n",
       "      <th>Operating system</th>\n",
       "      <th>Device type</th>\n",
       "      <th>B.R. Generated</th>\n",
       "      <th>B.R. Submitted</th>\n",
       "    </tr>\n",
       "  </thead>\n",
       "  <tbody>\n",
       "    <tr>\n",
       "      <th>0</th>\n",
       "      <td>1</td>\n",
       "      <td>GeForce GTX 1080</td>\n",
       "      <td>NVIDIA CUDA</td>\n",
       "      <td>375.39</td>\n",
       "      <td>1.2</td>\n",
       "      <td>Ubuntu 16.04 64bit</td>\n",
       "      <td>GPU</td>\n",
       "      <td>13</td>\n",
       "      <td>7</td>\n",
       "    </tr>\n",
       "    <tr>\n",
       "      <th>1</th>\n",
       "      <td>2</td>\n",
       "      <td>Intel(R) HD Graphics Haswell GT2 Desktop</td>\n",
       "      <td>Intel Gen OCL Driver</td>\n",
       "      <td>1.3</td>\n",
       "      <td>1.2</td>\n",
       "      <td>Ubuntu 16.04 64bit</td>\n",
       "      <td>GPU</td>\n",
       "      <td>35</td>\n",
       "      <td>11</td>\n",
       "    </tr>\n",
       "    <tr>\n",
       "      <th>2</th>\n",
       "      <td>3</td>\n",
       "      <td>Intel(R) Xeon(R) CPU E5-2620 v4 @ 2.10GHz</td>\n",
       "      <td>Intel OpenCL</td>\n",
       "      <td>1.2.0.25</td>\n",
       "      <td>2.0</td>\n",
       "      <td>Ubuntu 16.04 64bit</td>\n",
       "      <td>CPU</td>\n",
       "      <td>10</td>\n",
       "      <td>5</td>\n",
       "    </tr>\n",
       "    <tr>\n",
       "      <th>3</th>\n",
       "      <td>4</td>\n",
       "      <td>Intel(R) Xeon(R) CPU E5-2650 v2 @ 2.60GHz</td>\n",
       "      <td>Intel OpenCL</td>\n",
       "      <td>1.2.0.44</td>\n",
       "      <td>1.2</td>\n",
       "      <td>CentOS 7.1 64bit</td>\n",
       "      <td>CPU</td>\n",
       "      <td>2</td>\n",
       "      <td>1</td>\n",
       "    </tr>\n",
       "    <tr>\n",
       "      <th>4</th>\n",
       "      <td>5</td>\n",
       "      <td>Intel(R) Core(TM) i5-4570 CPU @ 3.20GHz</td>\n",
       "      <td>Intel OpenCL</td>\n",
       "      <td>1.2.0.25</td>\n",
       "      <td>1.2</td>\n",
       "      <td>Ubuntu 16.04 64bit</td>\n",
       "      <td>CPU</td>\n",
       "      <td>4</td>\n",
       "      <td>4</td>\n",
       "    </tr>\n",
       "    <tr>\n",
       "      <th>5</th>\n",
       "      <td>6</td>\n",
       "      <td>Intel(R) Many Integrated Core Acceleration Card</td>\n",
       "      <td>Intel OpenCL</td>\n",
       "      <td>1.2</td>\n",
       "      <td>1.2</td>\n",
       "      <td>CentOS 7.1 64bit</td>\n",
       "      <td>Accelerator</td>\n",
       "      <td>0</td>\n",
       "      <td>0</td>\n",
       "    </tr>\n",
       "    <tr>\n",
       "      <th>6</th>\n",
       "      <td>7</td>\n",
       "      <td>pthread-Intel(R) Xeon(R) CPU E5-2620 v4 @ 2.10GHz</td>\n",
       "      <td>POCL</td>\n",
       "      <td>0.14</td>\n",
       "      <td>2.0</td>\n",
       "      <td>Ubuntu 16.04 64bit</td>\n",
       "      <td>CPU</td>\n",
       "      <td>170</td>\n",
       "      <td>52</td>\n",
       "    </tr>\n",
       "    <tr>\n",
       "      <th>7</th>\n",
       "      <td>8</td>\n",
       "      <td>Oclgrind Simulator</td>\n",
       "      <td>Oclgrind</td>\n",
       "      <td>16.10</td>\n",
       "      <td>1.2</td>\n",
       "      <td>Ubuntu 16.04 64bit</td>\n",
       "      <td>Emulator</td>\n",
       "      <td>0</td>\n",
       "      <td>0</td>\n",
       "    </tr>\n",
       "  </tbody>\n",
       "</table>\n",
       "</div>"
      ],
      "text/plain": [
       "   #.                                             Device  \\\n",
       "0   1                                   GeForce GTX 1080   \n",
       "1   2           Intel(R) HD Graphics Haswell GT2 Desktop   \n",
       "2   3          Intel(R) Xeon(R) CPU E5-2620 v4 @ 2.10GHz   \n",
       "3   4          Intel(R) Xeon(R) CPU E5-2650 v2 @ 2.60GHz   \n",
       "4   5            Intel(R) Core(TM) i5-4570 CPU @ 3.20GHz   \n",
       "5   6    Intel(R) Many Integrated Core Acceleration Card   \n",
       "6   7  pthread-Intel(R) Xeon(R) CPU E5-2620 v4 @ 2.10GHz   \n",
       "7   8                                 Oclgrind Simulator   \n",
       "\n",
       "               Platform    Driver OpenCL    Operating system  Device type  \\\n",
       "0           NVIDIA CUDA    375.39    1.2  Ubuntu 16.04 64bit          GPU   \n",
       "1  Intel Gen OCL Driver       1.3    1.2  Ubuntu 16.04 64bit          GPU   \n",
       "2          Intel OpenCL  1.2.0.25    2.0  Ubuntu 16.04 64bit          CPU   \n",
       "3          Intel OpenCL  1.2.0.44    1.2    CentOS 7.1 64bit          CPU   \n",
       "4          Intel OpenCL  1.2.0.25    1.2  Ubuntu 16.04 64bit          CPU   \n",
       "5          Intel OpenCL       1.2    1.2    CentOS 7.1 64bit  Accelerator   \n",
       "6                  POCL      0.14    2.0  Ubuntu 16.04 64bit          CPU   \n",
       "7              Oclgrind     16.10    1.2  Ubuntu 16.04 64bit     Emulator   \n",
       "\n",
       "   B.R. Generated  B.R. Submitted  \n",
       "0              13               7  \n",
       "1              35              11  \n",
       "2              10               5  \n",
       "3               2               1  \n",
       "4               4               4  \n",
       "5               0               0  \n",
       "6             170              52  \n",
       "7               0               0  "
      ]
     },
     "execution_count": 18,
     "metadata": {},
     "output_type": "execute_result"
    }
   ],
   "source": [
    "# push LaTex to Overleaf\n",
    "!cd ~/docs/paper-project_b/ && git pull --rebase\n",
    "\n",
    "import os\n",
    "from collections import OrderedDict\n",
    "\n",
    "def get_total_submitted(testbed: Testbed):\n",
    "    submitable_results = [coCLgenResult, cl_launcherCLgenResult]\n",
    "    \n",
    "    def get_submitted(table):\n",
    "        return session.query(table).filter(table.testbed_id == testbed.id, table.submitted).count()\n",
    "\n",
    "    def get_generated(table):\n",
    "        return session.query(table).filter(table.testbed_id == testbed.id, sql.or_(table.submitted, table.dupe)).count()\n",
    "    \n",
    "    return (\n",
    "        sum(get_generated(table) for table in submitable_results), \n",
    "        sum(get_submitted(table) for table in submitable_results)\n",
    "    )\n",
    "\n",
    "\n",
    "def get_testbed_info(config_id, testbed_id):\n",
    "    testbed = session.query(Testbed).filter(Testbed.id == testbed_id).first()\n",
    "    d = OrderedDict()\n",
    "    d[\"#.\"] = config_id\n",
    "    d[\"Device\"] = testbed.device\n",
    "    d[\"Platform\"] = platform_str(testbed.platform)\n",
    "    d[\"Driver\"] = driver_str(testbed.driver)\n",
    "    d[\"OpenCL\"] = testbed.opencl\n",
    "    d[\"Operating system\"] = host_str(testbed.host)\n",
    "    d[\"Device type\"] = devtype_str(testbed.devtype)\n",
    "    d[\"B.R. Generated\"], d[\"B.R. Submitted\"] = get_total_submitted(testbed)\n",
    "    return d\n",
    "\n",
    "table = pd.DataFrame([get_testbed_info(*x) for x in CONFIGURATIONS])\n",
    "with open(os.path.expanduser(\"~/docs/paper-project_b/build/tab/platforms.tex\"), \"w\") as outfile:\n",
    "    table.to_latex(buf=outfile, index=None)\n",
    "!cd ~/docs/paper-project_b/build && git add . && git commit -m \"auto: build/tab/platforms.tex\" && git push\n",
    "table"
   ]
  },
  {
   "cell_type": "code",
   "execution_count": 19,
   "metadata": {},
   "outputs": [
    {
     "name": "stdout",
     "output_type": "stream",
     "text": [
      "columns for GeForce GTX 1080 {'w': 14, 'bf': 1135, 'c': 217, 'to': 1346, 'pass': 12858, 'fail': 0, 'total': '15570'}\n",
      "columns for GeForce GTX 1080 {'w': 0, 'bf': 0, 'c': 0, 'to': 0, 'pass': 0, 'fail': 0, 'Okay': 2627, 'Runtime crash': 27, 'Invalid testcase': 174, 'total': '6770*'}\n",
      "columns for GeForce GTX 1080 "
     ]
    },
    {
     "name": "stderr",
     "output_type": "stream",
     "text": [
      "not enough data for GeForce GTX 1080 True\n"
     ]
    },
    {
     "name": "stdout",
     "output_type": "stream",
     "text": [
      "{'w': 1, 'bf': 1132, 'c': 137, 'to': 1480, 'pass': 12754, 'fail': 0, 'total': '15504'}\n",
      "columns for GeForce GTX 1080 {'w': 0, 'bf': 0, 'c': 0, 'to': 0, 'pass': 0, 'fail': 0, 'Okay': 2620, 'Runtime crash': 31, 'Invalid testcase': 176, 'Build failure': 1, 'total': '6770*'}\n",
      "columns for Intel(R) HD Graphics Haswell GT2 Desktop "
     ]
    },
    {
     "name": "stderr",
     "output_type": "stream",
     "text": [
      "not enough data for GeForce GTX 1080 False\n"
     ]
    },
    {
     "name": "stdout",
     "output_type": "stream",
     "text": [
      "{'w': 0, 'bf': 17795, 'c': 9, 'to': 9, 'pass': 2, 'fail': 0, 'total': '20002*'}\n",
      "columns for Intel(R) HD Graphics Haswell GT2 Desktop {'w': 0, 'bf': 0, 'c': 0, 'to': 0, 'pass': 0, 'fail': 0, 'total': '0*'}\n",
      "columns for Intel(R) HD Graphics Haswell GT2 Desktop "
     ]
    },
    {
     "name": "stderr",
     "output_type": "stream",
     "text": [
      "not enough data for Intel(R) HD Graphics Haswell GT2 Desktop True\n",
      "not enough data for Intel(R) HD Graphics Haswell GT2 Desktop True\n"
     ]
    },
    {
     "name": "stdout",
     "output_type": "stream",
     "text": [
      "{'w': 0, 'bf': 10001, 'c': 0, 'to': 0, 'pass': 0, 'fail': 0, 'total': '12083*'}\n",
      "columns for Intel(R) HD Graphics Haswell GT2 Desktop {'w': 0, 'bf': 0, 'c': 0, 'to': 0, 'pass': 0, 'fail': 0, 'total': '0*'}\n",
      "columns for Intel(R) Xeon(R) CPU E5-2620 v4 @ 2.10GHz "
     ]
    },
    {
     "name": "stderr",
     "output_type": "stream",
     "text": [
      "not enough data for Intel(R) HD Graphics Haswell GT2 Desktop False\n",
      "not enough data for Intel(R) HD Graphics Haswell GT2 Desktop False\n"
     ]
    },
    {
     "name": "stdout",
     "output_type": "stream",
     "text": [
      "{'w': 0, 'bf': 2979, 'c': 1190, 'to': 1364, 'pass': 13875, 'fail': 0, 'total': '19408'}\n",
      "columns for Intel(R) Xeon(R) CPU E5-2620 v4 @ 2.10GHz {'w': 0, 'bf': 0, 'c': 0, 'to': 0, 'pass': 0, 'fail': 0, 'Okay': 2610, 'Build failure': 41, 'Invalid testcase': 177, 'total': '6770*'}\n",
      "columns for Intel(R) Xeon(R) CPU E5-2620 v4 @ 2.10GHz "
     ]
    },
    {
     "name": "stderr",
     "output_type": "stream",
     "text": [
      "not enough data for Intel(R) Xeon(R) CPU E5-2620 v4 @ 2.10GHz True\n"
     ]
    },
    {
     "name": "stdout",
     "output_type": "stream",
     "text": [
      "{'w': 2, 'bf': 2774, 'c': 727, 'to': 1697, 'pass': 12888, 'fail': 0, 'total': '18088'}\n",
      "columns for Intel(R) Xeon(R) CPU E5-2620 v4 @ 2.10GHz {'w': 0, 'bf': 0, 'c': 0, 'to': 0, 'pass': 0, 'fail': 0, 'Okay': 2608, 'Build failure': 43, 'Invalid testcase': 177, 'total': '6770*'}\n",
      "columns for       Intel(R) Xeon(R) CPU E5-2650 v2 @ 2.60GHz "
     ]
    },
    {
     "name": "stderr",
     "output_type": "stream",
     "text": [
      "not enough data for Intel(R) Xeon(R) CPU E5-2620 v4 @ 2.10GHz False\n"
     ]
    },
    {
     "name": "stdout",
     "output_type": "stream",
     "text": [
      "{'w': 0, 'bf': 0, 'c': 0, 'to': 0, 'pass': 0, 'fail': 0, 'total': '2662*'}\n",
      "columns for       Intel(R) Xeon(R) CPU E5-2650 v2 @ 2.60GHz {'w': 0, 'bf': 0, 'c': 0, 'to': 0, 'pass': 0, 'fail': 0, 'total': '0*'}\n",
      "columns for       Intel(R) Xeon(R) CPU E5-2650 v2 @ 2.60GHz {'w': 0, 'bf': 0, 'c': 0, 'to': 0, 'pass': 0, 'fail': 0, 'total': '0*'}\n",
      "columns for       Intel(R) Xeon(R) CPU E5-2650 v2 @ 2.60GHz {'w': 0, 'bf': 0, 'c': 0, 'to': 0, 'pass': 0, 'fail': 0, 'total': '0*'}\n",
      "columns for Intel(R) Core(TM) i5-4570 CPU @ 3.20GHz "
     ]
    },
    {
     "name": "stderr",
     "output_type": "stream",
     "text": [
      "not enough data for       Intel(R) Xeon(R) CPU E5-2650 v2 @ 2.60GHz True\n",
      "not enough data for       Intel(R) Xeon(R) CPU E5-2650 v2 @ 2.60GHz True\n",
      "not enough data for       Intel(R) Xeon(R) CPU E5-2650 v2 @ 2.60GHz False\n",
      "not enough data for       Intel(R) Xeon(R) CPU E5-2650 v2 @ 2.60GHz False\n"
     ]
    },
    {
     "name": "stdout",
     "output_type": "stream",
     "text": [
      "{'w': 0, 'bf': 3064, 'c': 1212, 'to': 1401, 'pass': 14325, 'fail': 0, 'total': '20002*'}\n",
      "columns for Intel(R) Core(TM) i5-4570 CPU @ 3.20GHz "
     ]
    },
    {
     "name": "stderr",
     "output_type": "stream",
     "text": [
      "not enough data for Intel(R) Core(TM) i5-4570 CPU @ 3.20GHz True\n"
     ]
    },
    {
     "name": "stdout",
     "output_type": "stream",
     "text": [
      "{'w': 0, 'bf': 0, 'c': 0, 'to': 0, 'pass': 0, 'fail': 0, 'Okay': 2574, 'Build failure': 77, 'Invalid testcase': 209, 'total': '3163*'}\n",
      "columns for Intel(R) Core(TM) i5-4570 CPU @ 3.20GHz "
     ]
    },
    {
     "name": "stderr",
     "output_type": "stream",
     "text": [
      "not enough data for Intel(R) Core(TM) i5-4570 CPU @ 3.20GHz True\n"
     ]
    },
    {
     "name": "stdout",
     "output_type": "stream",
     "text": [
      "{'w': 2, 'bf': 2883, 'c': 663, 'to': 1778, 'pass': 13563, 'fail': 0, 'total': '18889'}\n",
      "columns for Intel(R) Core(TM) i5-4570 CPU @ 3.20GHz {'w': 0, 'bf': 0, 'c': 0, 'to': 0, 'pass': 0, 'fail': 0, 'Okay': 2570, 'Build failure': 81, 'Invalid testcase': 199, 'total': '2850*'}\n",
      "columns for Intel(R) Many Integrated Core Acceleration Card "
     ]
    },
    {
     "name": "stderr",
     "output_type": "stream",
     "text": [
      "not enough data for Intel(R) Core(TM) i5-4570 CPU @ 3.20GHz False\n"
     ]
    },
    {
     "name": "stdout",
     "output_type": "stream",
     "text": [
      "{'w': 0, 'bf': 0, 'c': 0, 'to': 0, 'pass': 0, 'fail': 0, 'total': '826*'}\n",
      "columns for Intel(R) Many Integrated Core Acceleration Card {'w': 0, 'bf': 0, 'c': 0, 'to': 0, 'pass': 0, 'fail': 0, 'total': '0*'}\n",
      "columns for Intel(R) Many Integrated Core Acceleration Card {'w': 0, 'bf': 0, 'c': 0, 'to': 0, 'pass': 0, 'fail': 0, 'total': '0*'}\n",
      "columns for Intel(R) Many Integrated Core Acceleration Card {'w': 0, 'bf': 0, 'c': 0, 'to': 0, 'pass': 0, 'fail': 0, 'total': '0*'}\n",
      "columns for pthread-Intel(R) Xeon(R) CPU E5-2620 v4 @ 2.10GHz "
     ]
    },
    {
     "name": "stderr",
     "output_type": "stream",
     "text": [
      "not enough data for Intel(R) Many Integrated Core Acceleration Card True\n",
      "not enough data for Intel(R) Many Integrated Core Acceleration Card True\n",
      "not enough data for Intel(R) Many Integrated Core Acceleration Card False\n",
      "not enough data for Intel(R) Many Integrated Core Acceleration Card False\n"
     ]
    },
    {
     "name": "stdout",
     "output_type": "stream",
     "text": [
      "{'w': 2, 'bf': 1029, 'c': 146, 'to': 1607, 'pass': 11354, 'fail': 0, 'total': '14138'}\n",
      "columns for pthread-Intel(R) Xeon(R) CPU E5-2620 v4 @ 2.10GHz {'w': 0, 'bf': 0, 'c': 0, 'to': 0, 'pass': 0, 'fail': 0, 'Okay': 2601, 'Runtime crash': 99, 'Build failure': 31, 'Invalid testcase': 79, 'total': '6770*'}\n",
      "columns for pthread-Intel(R) Xeon(R) CPU E5-2620 v4 @ 2.10GHz "
     ]
    },
    {
     "name": "stderr",
     "output_type": "stream",
     "text": [
      "not enough data for pthread-Intel(R) Xeon(R) CPU E5-2620 v4 @ 2.10GHz True\n"
     ]
    },
    {
     "name": "stdout",
     "output_type": "stream",
     "text": [
      "{'w': 1, 'bf': 1310, 'c': 1086, 'to': 1569, 'pass': 14155, 'fail': 0, 'total': '18121'}\n",
      "columns for pthread-Intel(R) Xeon(R) CPU E5-2620 v4 @ 2.10GHz {'w': 0, 'bf': 0, 'c': 0, 'to': 0, 'pass': 0, 'fail': 0, 'Okay': 2601, 'Runtime crash': 98, 'Build failure': 31, 'Invalid testcase': 80, 'total': '6770*'}\n",
      "columns for Oclgrind Simulator "
     ]
    },
    {
     "name": "stderr",
     "output_type": "stream",
     "text": [
      "not enough data for pthread-Intel(R) Xeon(R) CPU E5-2620 v4 @ 2.10GHz False\n"
     ]
    },
    {
     "name": "stdout",
     "output_type": "stream",
     "text": [
      "{'w': 1, 'bf': 405, 'c': 5, 'to': 520, 'pass': 4576, 'fail': 0, 'total': '5507'}\n",
      "columns for Oclgrind Simulator {'w': 0, 'bf': 0, 'c': 0, 'to': 0, 'pass': 0, 'fail': 0, 'Okay': 1999, 'Invalid testcase': 1, 'total': '6770*'}\n",
      "columns for Oclgrind Simulator "
     ]
    },
    {
     "name": "stderr",
     "output_type": "stream",
     "text": [
      "not enough data for Oclgrind Simulator True\n"
     ]
    },
    {
     "name": "stdout",
     "output_type": "stream",
     "text": [
      "{'w': 0, 'bf': 393, 'c': 5, 'to': 525, 'pass': 4472, 'fail': 0, 'total': '5395'}\n",
      "columns for Oclgrind Simulator {'w': 0, 'bf': 0, 'c': 0, 'to': 0, 'pass': 0, 'fail': 0, 'Okay': 1999, 'Invalid testcase': 1, 'total': '6770*'}\n"
     ]
    },
    {
     "name": "stderr",
     "output_type": "stream",
     "text": [
      "not enough data for Oclgrind Simulator False\n"
     ]
    },
    {
     "name": "stdout",
     "output_type": "stream",
     "text": [
      "Current branch master is up to date.\n",
      "[master 27261fb] auto: build/tab/megatable.tex\n",
      " 1 file changed, 11 insertions(+), 11 deletions(-)\n",
      "Counting objects: 5, done.\n",
      "Delta compression using up to 16 threads.\n",
      "Compressing objects: 100% (5/5), done.\n",
      "Writing objects: 100% (5/5), 489 bytes | 0 bytes/s, done.\n",
      "Total 5 (delta 3), reused 0 (delta 0)\n",
      "remote: Resolving deltas: 100% (3/3)\u001b[K\u001b[K\n",
      "remote: Updating references: 100% (1/1)\u001b[K\u001b[K\n",
      "To https://git.overleaf.com/8608915dsywxshwwjmw\n",
      "   778a4be..27261fb  master -> master\n"
     ]
    }
   ],
   "source": [
    "import subprocess\n",
    "import sys\n",
    "\n",
    "from labm8 import fs\n",
    "\n",
    "null_columns = \" & \".join([\"-\"] * 7)\n",
    "\n",
    "\n",
    "def get_counts(results_table, params_table, testbed, no_opt: bool, time_limit: int):\n",
    "    \"\"\"\n",
    "    Return results for the specified time limit\n",
    "    \"\"\"\n",
    "    param_ids = session.query(params_table.id).filter(params_table.optimizations == no_opt)\n",
    "    q = session.query(results_table).filter(\n",
    "        results_table.testbed_id == testbed.id, \n",
    "        results_table.params_id.in_(param_ids))\n",
    "\n",
    "    t = 0\n",
    "    counts = {None: 0, \"w\": 0, \"bf\": 0, \"c\": 0, \"to\": 0, \"pass\": 0, \"fail\": 0}\n",
    "\n",
    "    for result in q.order_by(results_table.id):\n",
    "        if hasattr(result.program, 'runtime'):\n",
    "            generation_time = result.program.runtime\n",
    "        else:\n",
    "            generation_time = .5\n",
    "        exec_time = generation_time + result.runtime\n",
    "        if t + exec_time > time_limit:\n",
    "            hours = t / 60 / 60\n",
    "            break\n",
    "        t += exec_time\n",
    "        counts[result.classification] = counts.get(result.classification, 0) + 1\n",
    "    else:\n",
    "        counts['total'] = '*'\n",
    "\n",
    "    total = counts.pop(\"total\", \"\")\n",
    "    counts['total'] = '{}{}'.format(sum(counts.values()), total)\n",
    "    counts.pop(None)\n",
    "    return counts\n",
    "#     To report all results, irrespective of time limit:\n",
    "#     return {\n",
    "#         \"w\": q.filter(CLSmithResult.classification == \"w\").count(),\n",
    "#         \"bf\": q.filter(CLSmithResult.classification == \"bf\").count(),\n",
    "#         \"c\": q.filter(CLSmithResult.classification == \"c\").count(),\n",
    "#         \"to\": q.filter(CLSmithResult.classification == \"to\").count(),\n",
    "#         \"pass\": q.filter(CLSmithResult.classification == \"pass\").count(),\n",
    "#         \"fail\": q.filter(CLSmithResult.classification == \"fail\").count(),\n",
    "#         \"total\": q.count()\n",
    "#     }\n",
    "\n",
    "\n",
    "def get_clreduce_counts(testbed, no_opt: bool, time_limit=172800):\n",
    "    \"\"\"\n",
    "    Return results for the specified time limit\n",
    "    \"\"\"\n",
    "    return get_counts(CLSmithResult, cl_launcherParams, testbed, no_opt, time_limit)\n",
    "\n",
    "\n",
    "def get_clgen_counts(testbed, no_opt: bool, time_limit=172800):\n",
    "    \"\"\"\n",
    "    Return results for the specified time limit\n",
    "    \"\"\"\n",
    "    return get_counts(CLgenResult, cldriveParams, testbed, no_opt, time_limit)\n",
    "\n",
    "    \n",
    "def get_clsmith_columns(testbed: Testbed, no_opt: bool):\n",
    "    print(f\"columns for {testbed.device} \", end=\"\")\n",
    "    c = get_clreduce_counts(testbed, no_opt)\n",
    "    print(c)\n",
    "    if c['total'].endswith('*'):\n",
    "        print(f\"not enough data for {testbed.device} {no_opt}\", file=sys.stderr)\n",
    "    return f\"{c['w']} & {c['bf']} & {c['c']} & {c['to']} & {c['pass']} & {c['total']}\"\n",
    "\n",
    "\n",
    "def get_clgen_columns(testbed: Testbed, no_opt: bool):\n",
    "    print(f\"columns for {testbed.device} \", end=\"\")\n",
    "    c = get_clgen_counts(testbed, no_opt)\n",
    "    print(c)\n",
    "    if c['total'].endswith('*'):\n",
    "        print(f\"not enough data for {testbed.device} {no_opt}\", file=sys.stderr)\n",
    "    return f\"{c['w']} & {c['bf']} & {c['c']} & {c['to']} & {c['pass']} & {c['total']}\"\n",
    "        \n",
    "\n",
    "def get_row(config_id, testbed_id):\n",
    "    \"\"\" get mega-table row \"\"\"\n",
    "    testbed = session.query(Testbed).filter(Testbed.id == testbed_id).first()\n",
    "    platform_name = platform_str(testbed.platform)\n",
    "    device_name = device_str(testbed.device)\n",
    "    driver_name = driver_str(testbed.driver)\n",
    "    \n",
    "    clsmith_columns = get_clsmith_columns(testbed, True)\n",
    "    clgen_columns = get_clgen_columns(testbed, True)\n",
    "    \n",
    "    clsmith_noopt_columns = get_clsmith_columns(testbed, False)\n",
    "    clgen_noopt_columns = get_clgen_columns(testbed, False)\n",
    "    \n",
    "    return f\"\"\"\\\\multirow{{ 2}}{{*}}{{{config_id}}} & \\\\multirow{{ 2}}{{*}}{{{platform_name}}} & \\\n",
    "\\\\multirow{{ 2}}{{*}}{{{device_name}}} & \\\n",
    "$-$ & {clsmith_columns} & {clgen_columns} \\\\\\\\\n",
    "& & & \\\n",
    "$+$ & {clsmith_noopt_columns} & {clgen_noopt_columns} \\\\\\\\\"\"\"\n",
    "\n",
    "rows = \"\\n\\\\hline\\n\".join(get_row(*x) for x in CONFIGURATIONS)\n",
    "\n",
    "latex = f\"\"\"\\\n",
    "\\\\begin{{tabular}}{{llll | rrrrrr | rrrrrr }}\n",
    "  \\\\toprule\n",
    "  & & & & \\\\multicolumn{{6}}{{c|}}{{\\\\textbf{{CLSmith}}}} & \\\\multicolumn{{6}}{{c}}{{\\\\textbf{{CLgen}}}} \\\\\\\\\n",
    "  \\\\textbf{{\\\\#.}} & \\\\textbf{{Platform}} & \\\\textbf{{Device}} & $\\\\pm$ & \n",
    "  \\\\textbf{{w}} & \\\\textbf{{bf}} & \\\\textbf{{c}} & \\\\textbf{{to}} & \\\\cmark & \\\\textbf{{total}} & \n",
    "  \\\\textbf{{w}} & \\\\textbf{{bf}} & \\\\textbf{{c}} & \\\\textbf{{to}} & \\\\cmark & \\\\textbf{{total}} \\\\\\\\\n",
    "  \\\\midrule\n",
    "  {rows}\n",
    "  \\\\bottomrule\n",
    "\\\\end{{tabular}}\n",
    "\"\"\"\n",
    "\n",
    "# push LaTex to Overleaf\n",
    "!cd ~/docs/paper-project_b/ && git pull --rebase\n",
    "\n",
    "with open(os.path.expanduser(\"~/docs/paper-project_b/build/tab/megatable.tex\"), \"w\") as outfile:\n",
    "    print(latex, file=outfile)\n",
    "\n",
    "!cd ~/docs/paper-project_b/build && git add . && git commit -m \"auto: build/tab/megatable.tex\" && git push"
   ]
  },
  {
   "cell_type": "markdown",
   "metadata": {},
   "source": [
    "## Runtime Parameters\n",
    "\n",
    "### cl_launcher"
   ]
  },
  {
   "cell_type": "code",
   "execution_count": null,
   "metadata": {
    "collapsed": true
   },
   "outputs": [],
   "source": [
    "CL_LAUNCHER_TABLE_NAMES = [\"CLSmith\", \"CLgen w. cl_launcher\"]\n",
    "CL_LAUNCHER_TABLES = [CLSmithResult, cl_launcherCLgenResult]\n",
    "\n",
    "q = session.query(cl_launcherParams).order_by(\n",
    "        cl_launcherParams.gsize_x, cl_launcherParams.gsize_y, cl_launcherParams.gsize_z,\n",
    "        cl_launcherParams.lsize_x, cl_launcherParams.lsize_y, cl_launcherParams.lsize_z,\n",
    "        cl_launcherParams.optimizations)\n",
    "\n",
    "data = []\n",
    "for param in q:\n",
    "    nresult_param = session.query(CLSmithResult).filter(CLSmithResult.params == param).count()\n",
    "    data.append((\n",
    "        param.id, [param.gsize, param.lsize, param.optimizations_on_off ] + [\n",
    "            session.query(t).filter(t.params == param).count()\n",
    "            for t in CL_LAUNCHER_TABLES\n",
    "        ]))\n",
    "i, d = zip(*data)\n",
    "\n",
    "cl_launcher_params = pd.DataFrame(list(d), index=i, columns=[\n",
    "    \"Global size\", \"Local size\", \"Optimizations\"] + [\n",
    "        f\"#. {t}\" for t in CL_LAUNCHER_TABLE_NAMES])\n",
    "cl_launcher_params"
   ]
  },
  {
   "cell_type": "markdown",
   "metadata": {},
   "source": [
    "### cldrive"
   ]
  },
  {
   "cell_type": "code",
   "execution_count": null,
   "metadata": {
    "collapsed": true
   },
   "outputs": [],
   "source": [
    "CLDRIVE_TABLE_NAMES = [\"CLSmith w. cldrive\", \"GitHub\", \"CLgen\"]\n",
    "CLDRIVE_TABLES = [cldriveCLSmithResult, GitHubResult, CLgenResult]\n",
    "\n",
    "q = session.query(cldriveParams).order_by(\n",
    "        cldriveParams.size,\n",
    "        cldriveParams.gsize_x, cldriveParams.gsize_y, cldriveParams.gsize_z,\n",
    "        cldriveParams.lsize_x, cldriveParams.lsize_y, cldriveParams.lsize_z,\n",
    "        cldriveParams.generator, cldriveParams.scalar_val, cldriveParams.optimizations)\n",
    "\n",
    "# push LaTex to Overleaf\n",
    "!cd ~/docs/paper-project_b/ && git pull --rebase\n",
    "data = []\n",
    "for param in q:\n",
    "    data.append([param.size, param.gsize, param.lsize, param.optimizations_on_off])\n",
    "table = pd.DataFrame(data, index=range(1, len(data)+1), columns=[\n",
    "    \"Dataset Size\", \"Global size\", \"Workgroup size\", \"Optimizations\"])\n",
    "with open(os.path.expanduser(\"~/docs/paper-project_b/build/tab/cldrive-params.tex\"), \"w\") as outfile:\n",
    "    table.to_latex(buf=outfile)\n",
    "!cd ~/docs/paper-project_b/build && git add . && git commit -m \"auto: build/tab/cldrive-params.tex\" && git push\n",
    "table"
   ]
  },
  {
   "cell_type": "markdown",
   "metadata": {},
   "source": [
    "# Experimental Results"
   ]
  },
  {
   "cell_type": "markdown",
   "metadata": {},
   "source": [
    "## Runtimes\n",
    "\n",
    "Excluding runs which terminated in non-zero status:"
   ]
  },
  {
   "cell_type": "code",
   "execution_count": null,
   "metadata": {
    "collapsed": true
   },
   "outputs": [],
   "source": [
    "import numpy as np\n",
    "\n",
    "runtimes = [np.array(session.query(table.runtime).filter(table.status == 0).all()) for table in TABLES]\n",
    "data = [\n",
    "    (\"Min\", [r.min() for r in runtimes]),\n",
    "    (\"Median\", [np.median(r) for r in runtimes]),\n",
    "    (\"Mean\", [r.mean() for r in runtimes]),\n",
    "    (\"Max\", [r.max() for r in runtimes])\n",
    "]\n",
    "i, d = zip(*data)\n",
    "runtimes = pd.DataFrame(list(d), index=i, columns=TABLE_NAMES)\n",
    "runtimes"
   ]
  },
  {
   "cell_type": "markdown",
   "metadata": {
    "collapsed": true
   },
   "source": [
    "## Outcomes & Classifications"
   ]
  },
  {
   "cell_type": "markdown",
   "metadata": {},
   "source": [
    "**Pandas tables of outcomes**"
   ]
  },
  {
   "cell_type": "code",
   "execution_count": null,
   "metadata": {
    "collapsed": true
   },
   "outputs": [],
   "source": [
    "outcomes = {}\n",
    "\n",
    "for name, table in zip(CL_LAUNCHER_TABLE_NAMES + CLDRIVE_TABLE_NAMES, CL_LAUNCHER_TABLES + CLDRIVE_TABLES):\n",
    "    r = []\n",
    "    for testbed in session.query(Testbed).all():\n",
    "        nresult = session.query(table).filter(table.testbed == testbed).count()\n",
    "\n",
    "        q = session.query(table.outcome, sql.func.count(table.outcome)).filter(\n",
    "            table.testbed == testbed).group_by(table.outcome).order_by(\n",
    "                sql.desc(sql.func.count(table.outcome)))\n",
    "\n",
    "        for outcome, count in q.all():\n",
    "            ratio = (count / nresult) * 100\n",
    "            r.append((DEVICES.get(testbed.device, testbed.device), outcome, count, ratio))\n",
    "    outcomes[name] = pd.DataFrame(r, columns=[\"Device\", \"Outcome\", \"Count\", \"% of Total Results\"])\n",
    "\n",
    "print(\"done.\")"
   ]
  },
  {
   "cell_type": "markdown",
   "metadata": {},
   "source": [
    "**Pandas tables of classifications**"
   ]
  },
  {
   "cell_type": "code",
   "execution_count": null,
   "metadata": {},
   "outputs": [],
   "source": [
    "classifications = {}\n",
    "\n",
    "classificationsSort = [\n",
    "    'Invalid testcase',\n",
    "    'Build failure',\n",
    "    'Runtime crash',\n",
    "    'No majority',\n",
    "    'Wrong code',\n",
    "    'Okay'\n",
    "]\n",
    "\n",
    "def escape(val):\n",
    "    if val is None:\n",
    "        return val\n",
    "    else:\n",
    "        return str(classificationsSort.index(val)) + \". \" + val\n",
    "\n",
    "for name, table in zip(CL_LAUNCHER_TABLE_NAMES + CLDRIVE_TABLE_NAMES, CL_LAUNCHER_TABLES + CLDRIVE_TABLES):\n",
    "    r = []\n",
    "    for testbed in session.query(Testbed).all():\n",
    "        nresult = session.query(table).filter(table.testbed == testbed).count()\n",
    "\n",
    "        q = session.query(table.classification, sql.func.count(table.classification)).filter(\n",
    "            table.testbed == testbed).group_by(table.classification).order_by(\n",
    "                sql.desc(sql.func.count(table.classification)))\n",
    "\n",
    "        for val, count in q.all():\n",
    "            ratio = (count / nresult) * 100\n",
    "            r.append((DEVICES.get(testbed.device, testbed.device), escape(val), count, ratio))\n",
    "    classifications[name] = pd.DataFrame(r, columns=[\"Device\", \"Classification\", \"Count\", \"% of Total Results\"])\n",
    "\n",
    "print(\"done.\")"
   ]
  },
  {
   "cell_type": "code",
   "execution_count": null,
   "metadata": {
    "collapsed": true
   },
   "outputs": [],
   "source": [
    "classifications[\"CLgen w. cl_launcher\"]"
   ]
  },
  {
   "cell_type": "markdown",
   "metadata": {},
   "source": [
    "## Experimental Results"
   ]
  },
  {
   "cell_type": "code",
   "execution_count": null,
   "metadata": {
    "collapsed": true
   },
   "outputs": [],
   "source": [
    "import matplotlib.pyplot as plt\n",
    "import seaborn as sns\n",
    "from labm8 import viz\n",
    "%matplotlib inline\n",
    "\n",
    "def plot_outcomes(table, name, dictname=outcomes, key='Outcome'):\n",
    "    ax = dictname[name].pivot('Device', key)['Count'].plot(\n",
    "        kind='bar', stacked=True, colormap=\"Reds_r\", sort_columns=True)\n",
    "\n",
    "    nprog = session.query(table.program_id).group_by(table.program_id).count()\n",
    "    nparam = session.query(table.params_id).group_by(table.params_id).count()\n",
    "    plt.title(f\"{nprog} {name} x {nparam} parameters\")\n",
    "    plt.ylabel(\"Results\")\n",
    "    plt.xlabel(\"\")\n",
    "\n",
    "    plt.ylim(0, nprog * nparam)\n",
    "\n",
    "    # reverse legend order (because plot stacks from bottom to top, and legend goes from top to bottom)\n",
    "    handles, labels = ax.get_legend_handles_labels()\n",
    "    ax.legend(handles[::-1], labels[::-1], loc='center left', bbox_to_anchor=(1, 0.5))\n",
    "\n",
    "    viz.finalise(figsize=(3.5, 8))\n",
    "    \n",
    "    \n",
    "def summarize(table_name):\n",
    "    \"\"\" summarize a table of classifications \"\"\"\n",
    "    table = classifications[table_name]\n",
    "\n",
    "    def get_val(classification):\n",
    "        try:\n",
    "            return table.loc[\n",
    "                (table['Device'] == device) & (table['Classification'] == classification)]['Count'].values[0]\n",
    "        except IndexError:\n",
    "            return 0\n",
    "    \n",
    "    columns = ['Platform', 'Device', 'Driver', 'Invalid Testcases', 'Build Failures', 'Runtime Crashes', 'Incorrect Outputs', 'Okay']\n",
    "    devices = sorted(set(table['Device'].values))\n",
    "\n",
    "    d = []    \n",
    "    for device in devices:\n",
    "        lookup = dict((v, k) for k, v in DEVICES.items())\n",
    "        full_name = lookup.get(device, device)\n",
    "        \n",
    "        # lookup the testbed\n",
    "        q = session.query(Testbed).filter(Testbed.device == full_name).all()\n",
    "        if len(q) != 1:\n",
    "            raise q\n",
    "        testbed = q[0]\n",
    "        \n",
    "        r = [\n",
    "            PLATFORMS.get(testbed.platform, testbed.platform),\n",
    "            device,\n",
    "            DRIVERS.get(testbed.driver, testbed.driver),\n",
    "            get_val('0. Invalid testcase'),\n",
    "            get_val('1. Build failure'),\n",
    "            get_val('2. Runtime crash'),\n",
    "            get_val('3. Wrong code'),\n",
    "            get_val('4. Okay'),\n",
    "        ]\n",
    "        d.append(r)\n",
    "    summary = pd.DataFrame(d, columns=columns, index=range(1, len(devices)+1))\n",
    "\n",
    "    !cd ~/docs/paper-project_b/ && git pull --rebase >/dev/null\n",
    "    name = '-'.join(table_name.split())\n",
    "    with open(os.path.expanduser(f\"~/docs/paper-project_b/build/tab/results-{name}.tex\"), \"w\") as outfile:\n",
    "        summary.to_latex(buf=outfile)\n",
    "    !cd ~/docs/paper-project_b/build && git add . && git commit -m \"auto: summarize table\" >/dev/null && git push >/dev/null\n",
    "    return summary"
   ]
  },
  {
   "cell_type": "markdown",
   "metadata": {},
   "source": [
    "### CLSmith"
   ]
  },
  {
   "cell_type": "code",
   "execution_count": null,
   "metadata": {
    "collapsed": true
   },
   "outputs": [],
   "source": [
    "outcomes[\"CLSmith\"]"
   ]
  },
  {
   "cell_type": "code",
   "execution_count": null,
   "metadata": {
    "collapsed": true
   },
   "outputs": [],
   "source": [
    "summarize('CLSmith')"
   ]
  },
  {
   "cell_type": "code",
   "execution_count": null,
   "metadata": {
    "collapsed": true
   },
   "outputs": [],
   "source": [
    "import numpy as np\n",
    "\n",
    "def lc(src):\n",
    "    return len(src.strip().split(\"\\n\"))\n",
    "\n",
    "lcs = np.array([lc(row[0]) for row in session.query(CLSmithProgram.src)])"
   ]
  },
  {
   "cell_type": "code",
   "execution_count": null,
   "metadata": {
    "collapsed": true
   },
   "outputs": [],
   "source": []
  },
  {
   "cell_type": "code",
   "execution_count": null,
   "metadata": {},
   "outputs": [],
   "source": [
    "np.median(lcs)"
   ]
  },
  {
   "cell_type": "code",
   "execution_count": null,
   "metadata": {
    "collapsed": true
   },
   "outputs": [],
   "source": [
    "plot_outcomes(CLSmithResult, \"CLSmith\", dictname=classifications, key='Classification')"
   ]
  },
  {
   "cell_type": "markdown",
   "metadata": {},
   "source": [
    "### CLgen w. cl_launcher"
   ]
  },
  {
   "cell_type": "code",
   "execution_count": null,
   "metadata": {
    "collapsed": true
   },
   "outputs": [],
   "source": [
    "outcomes[\"CLgen w. cl_launcher\"]"
   ]
  },
  {
   "cell_type": "code",
   "execution_count": null,
   "metadata": {
    "collapsed": true
   },
   "outputs": [],
   "source": [
    "summarize('CLgen w. cl_launcher')"
   ]
  },
  {
   "cell_type": "code",
   "execution_count": null,
   "metadata": {
    "collapsed": true
   },
   "outputs": [],
   "source": [
    "plot_outcomes(cl_launcherCLgenResult, \"CLgen w. cl_launcher\", dictname=classifications, key='Classification')"
   ]
  },
  {
   "cell_type": "markdown",
   "metadata": {},
   "source": [
    "### CLSmith w. cldrive"
   ]
  },
  {
   "cell_type": "code",
   "execution_count": null,
   "metadata": {
    "collapsed": true
   },
   "outputs": [],
   "source": [
    "outcomes[\"CLSmith w. cldrive\"]"
   ]
  },
  {
   "cell_type": "code",
   "execution_count": null,
   "metadata": {
    "collapsed": true
   },
   "outputs": [],
   "source": [
    "summarize('CLSmith w. cldrive')"
   ]
  },
  {
   "cell_type": "code",
   "execution_count": null,
   "metadata": {
    "collapsed": true
   },
   "outputs": [],
   "source": [
    "plot_outcomes(cldriveCLSmithResult, \"CLSmith w. cldrive\", dictname=classifications, key='Classification')"
   ]
  },
  {
   "cell_type": "markdown",
   "metadata": {},
   "source": [
    "### GitHub"
   ]
  },
  {
   "cell_type": "code",
   "execution_count": null,
   "metadata": {
    "collapsed": true
   },
   "outputs": [],
   "source": [
    "outcomes[\"GitHub\"]"
   ]
  },
  {
   "cell_type": "code",
   "execution_count": null,
   "metadata": {
    "collapsed": true
   },
   "outputs": [],
   "source": [
    "summarize('GitHub')"
   ]
  },
  {
   "cell_type": "code",
   "execution_count": null,
   "metadata": {
    "collapsed": true
   },
   "outputs": [],
   "source": [
    "plot_outcomes(GitHubResult, \"GitHub\", dictname=classifications, key='Classification')"
   ]
  },
  {
   "cell_type": "markdown",
   "metadata": {},
   "source": [
    "### CLgen"
   ]
  },
  {
   "cell_type": "code",
   "execution_count": null,
   "metadata": {
    "collapsed": true
   },
   "outputs": [],
   "source": [
    "outcomes[\"CLgen\"]"
   ]
  },
  {
   "cell_type": "code",
   "execution_count": null,
   "metadata": {
    "collapsed": true
   },
   "outputs": [],
   "source": [
    "summarize('CLgen')"
   ]
  },
  {
   "cell_type": "code",
   "execution_count": null,
   "metadata": {
    "collapsed": true
   },
   "outputs": [],
   "source": [
    "plot_outcomes(CLgenResult, \"CLgen\", dictname=classifications, key='Classification')"
   ]
  },
  {
   "cell_type": "code",
   "execution_count": null,
   "metadata": {
    "collapsed": true
   },
   "outputs": [],
   "source": []
  }
 ],
 "metadata": {
  "kernelspec": {
   "display_name": "project_b",
   "language": "python",
   "name": "project_b"
  },
  "language_info": {
   "codemirror_mode": {
    "name": "ipython",
    "version": 3
   },
   "file_extension": ".py",
   "mimetype": "text/x-python",
   "name": "python",
   "nbconvert_exporter": "python",
   "pygments_lexer": "ipython3",
   "version": "3.6.1"
  }
 },
 "nbformat": 4,
 "nbformat_minor": 2
}
