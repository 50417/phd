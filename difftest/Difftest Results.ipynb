{
 "cells": [
  {
   "cell_type": "markdown",
   "metadata": {},
   "source": [
    "# Difftest Results\n",
    "\n",
    "Connect to results database:"
   ]
  },
  {
   "cell_type": "code",
   "execution_count": 1,
   "metadata": {},
   "outputs": [
    {
     "data": {
      "text/plain": [
       "'mysql://cc1:3306/project_b'"
      ]
     },
     "execution_count": 1,
     "metadata": {},
     "output_type": "execute_result"
    }
   ],
   "source": [
    "import sqlalchemy as sql\n",
    "import numpy as np\n",
    "import matplotlib.pyplot as plt\n",
    "import seaborn as sns\n",
    "\n",
    "from matplotlib.ticker import FuncFormatter\n",
    "from collections import OrderedDict\n",
    "from labm8 import viz\n",
    "\n",
    "%matplotlib inline\n",
    "sns.set(style=\"ticks\", color_codes=True)\n",
    "plt.style.use([\"seaborn-white\", \"seaborn-paper\"])\n",
    "\n",
    "import db\n",
    "from db import *\n",
    "%run util.py\n",
    "\n",
    "hostname = \"cc1\"\n",
    "db.init(hostname)"
   ]
  },
  {
   "cell_type": "markdown",
   "metadata": {},
   "source": [
    "## Overview"
   ]
  },
  {
   "cell_type": "code",
   "execution_count": 3,
   "metadata": {},
   "outputs": [
    {
     "name": "stdout",
     "output_type": "stream",
     "text": [
      "\u001b[1Kfetching CLgen 3 False ....."
     ]
    },
    {
     "ename": "KeyboardInterrupt",
     "evalue": "",
     "output_type": "error",
     "traceback": [
      "\u001b[0;31m---------------------------------------------------------------------------\u001b[0m",
      "\u001b[0;31mKeyboardInterrupt\u001b[0m                         Traceback (most recent call last)",
      "\u001b[0;32m<ipython-input-3-6d9bc6f1a2ad>\u001b[0m in \u001b[0;36m<module>\u001b[0;34m()\u001b[0m\n\u001b[1;32m     50\u001b[0m \u001b[0;32mwith\u001b[0m \u001b[0mSession\u001b[0m\u001b[0;34m(\u001b[0m\u001b[0mcommit\u001b[0m\u001b[0;34m=\u001b[0m\u001b[0;32mFalse\u001b[0m\u001b[0;34m)\u001b[0m \u001b[0;32mas\u001b[0m \u001b[0ms\u001b[0m\u001b[0;34m:\u001b[0m\u001b[0;34m\u001b[0m\u001b[0m\n\u001b[1;32m     51\u001b[0m     \u001b[0;32mfor\u001b[0m \u001b[0mconfig_id\u001b[0m\u001b[0;34m,\u001b[0m \u001b[0mtestbed_id\u001b[0m \u001b[0;32min\u001b[0m \u001b[0mCONFIGURATIONS\u001b[0m\u001b[0;34m:\u001b[0m\u001b[0;34m\u001b[0m\u001b[0m\n\u001b[0;32m---> 52\u001b[0;31m         \u001b[0mrows\u001b[0m \u001b[0;34m+=\u001b[0m \u001b[0mget_device_overview\u001b[0m\u001b[0;34m(\u001b[0m\u001b[0ms\u001b[0m\u001b[0;34m,\u001b[0m \u001b[0mtestbed_id\u001b[0m\u001b[0;34m)\u001b[0m\u001b[0;34m\u001b[0m\u001b[0m\n\u001b[0m\u001b[1;32m     53\u001b[0m \u001b[0moverview_table\u001b[0m \u001b[0;34m=\u001b[0m \u001b[0mpd\u001b[0m\u001b[0;34m.\u001b[0m\u001b[0mDataFrame\u001b[0m\u001b[0;34m(\u001b[0m\u001b[0mrows\u001b[0m\u001b[0;34m)\u001b[0m\u001b[0;34m\u001b[0m\u001b[0m\n\u001b[1;32m     54\u001b[0m \u001b[0moverview_table\u001b[0m\u001b[0;34m\u001b[0m\u001b[0m\n",
      "\u001b[0;32m<ipython-input-3-6d9bc6f1a2ad>\u001b[0m in \u001b[0;36mget_device_overview\u001b[0;34m(s, testbed_id)\u001b[0m\n\u001b[1;32m     22\u001b[0m \u001b[0;34m\u001b[0m\u001b[0m\n\u001b[1;32m     23\u001b[0m     \u001b[0mclgen_noopt_results\u001b[0m\u001b[0;34m,\u001b[0m \u001b[0mclgen_noopt_time\u001b[0m \u001b[0;34m=\u001b[0m \u001b[0mget_device_stats\u001b[0m\u001b[0;34m(\u001b[0m\u001b[0ms\u001b[0m\u001b[0;34m,\u001b[0m \u001b[0mCLGEN_TABLES\u001b[0m\u001b[0;34m,\u001b[0m \u001b[0mtestbed_id\u001b[0m\u001b[0;34m,\u001b[0m \u001b[0;32mTrue\u001b[0m\u001b[0;34m)\u001b[0m\u001b[0;34m\u001b[0m\u001b[0m\n\u001b[0;32m---> 24\u001b[0;31m     \u001b[0mclgen_results\u001b[0m\u001b[0;34m,\u001b[0m \u001b[0mclgen_time\u001b[0m \u001b[0;34m=\u001b[0m \u001b[0mget_device_stats\u001b[0m\u001b[0;34m(\u001b[0m\u001b[0ms\u001b[0m\u001b[0;34m,\u001b[0m \u001b[0mCLGEN_TABLES\u001b[0m\u001b[0;34m,\u001b[0m \u001b[0mtestbed_id\u001b[0m\u001b[0;34m,\u001b[0m \u001b[0;32mFalse\u001b[0m\u001b[0;34m)\u001b[0m\u001b[0;34m\u001b[0m\u001b[0m\n\u001b[0m\u001b[1;32m     25\u001b[0m \u001b[0;34m\u001b[0m\u001b[0m\n\u001b[1;32m     26\u001b[0m     \u001b[0mr1\u001b[0m \u001b[0;34m=\u001b[0m \u001b[0mOrderedDict\u001b[0m\u001b[0;34m(\u001b[0m\u001b[0;34m)\u001b[0m\u001b[0;34m\u001b[0m\u001b[0m\n",
      "\u001b[0;32m<ipython-input-3-6d9bc6f1a2ad>\u001b[0m in \u001b[0;36mget_device_stats\u001b[0;34m(s, tables, testbed_id, no_opt)\u001b[0m\n\u001b[1;32m      6\u001b[0m     \u001b[0mq\u001b[0m \u001b[0;34m=\u001b[0m \u001b[0mresults_in_order\u001b[0m\u001b[0;34m(\u001b[0m\u001b[0ms\u001b[0m\u001b[0;34m,\u001b[0m \u001b[0mtables\u001b[0m\u001b[0;34m,\u001b[0m \u001b[0mtestbed_id\u001b[0m\u001b[0;34m,\u001b[0m \u001b[0mno_opt\u001b[0m\u001b[0;34m,\u001b[0m \u001b[0mtables\u001b[0m\u001b[0;34m.\u001b[0m\u001b[0mresults\u001b[0m\u001b[0;34m.\u001b[0m\u001b[0mid\u001b[0m\u001b[0;34m,\u001b[0m \u001b[0mtables\u001b[0m\u001b[0;34m.\u001b[0m\u001b[0mmeta\u001b[0m\u001b[0;34m.\u001b[0m\u001b[0mcumtime\u001b[0m\u001b[0;34m,\u001b[0m \u001b[0mreverse\u001b[0m\u001b[0;34m=\u001b[0m\u001b[0;32mTrue\u001b[0m\u001b[0;34m)\u001b[0m\u001b[0;34m\u001b[0m\u001b[0m\n\u001b[1;32m      7\u001b[0m \u001b[0;34m\u001b[0m\u001b[0m\n\u001b[0;32m----> 8\u001b[0;31m     \u001b[0mnum_results\u001b[0m \u001b[0;34m=\u001b[0m \u001b[0mresults_in_order\u001b[0m\u001b[0;34m(\u001b[0m\u001b[0ms\u001b[0m\u001b[0;34m,\u001b[0m \u001b[0mtables\u001b[0m\u001b[0;34m,\u001b[0m \u001b[0mtestbed_id\u001b[0m\u001b[0;34m,\u001b[0m \u001b[0mno_opt\u001b[0m\u001b[0;34m,\u001b[0m \u001b[0msql\u001b[0m\u001b[0;34m.\u001b[0m\u001b[0msql\u001b[0m\u001b[0;34m.\u001b[0m\u001b[0mfunc\u001b[0m\u001b[0;34m.\u001b[0m\u001b[0mcount\u001b[0m\u001b[0;34m(\u001b[0m\u001b[0mtables\u001b[0m\u001b[0;34m.\u001b[0m\u001b[0mresults\u001b[0m\u001b[0;34m.\u001b[0m\u001b[0mid\u001b[0m\u001b[0;34m)\u001b[0m\u001b[0;34m)\u001b[0m\u001b[0;34m.\u001b[0m\u001b[0mscalar\u001b[0m\u001b[0;34m(\u001b[0m\u001b[0;34m)\u001b[0m\u001b[0;34m\u001b[0m\u001b[0m\n\u001b[0m\u001b[1;32m      9\u001b[0m     \u001b[0;32mif\u001b[0m \u001b[0mnum_results\u001b[0m\u001b[0;34m:\u001b[0m\u001b[0;34m\u001b[0m\u001b[0m\n\u001b[1;32m     10\u001b[0m         \u001b[0m_\u001b[0m\u001b[0;34m,\u001b[0m \u001b[0mtotal_time\u001b[0m \u001b[0;34m=\u001b[0m \u001b[0mq\u001b[0m\u001b[0;34m.\u001b[0m\u001b[0mfirst\u001b[0m\u001b[0;34m(\u001b[0m\u001b[0;34m)\u001b[0m\u001b[0;34m\u001b[0m\u001b[0m\n",
      "\u001b[0;32m/home/cec/src/project_b/env/python3.6/lib/python3.6/site-packages/sqlalchemy/orm/query.py\u001b[0m in \u001b[0;36mscalar\u001b[0;34m(self)\u001b[0m\n\u001b[1;32m   2841\u001b[0m         \"\"\"\n\u001b[1;32m   2842\u001b[0m         \u001b[0;32mtry\u001b[0m\u001b[0;34m:\u001b[0m\u001b[0;34m\u001b[0m\u001b[0m\n\u001b[0;32m-> 2843\u001b[0;31m             \u001b[0mret\u001b[0m \u001b[0;34m=\u001b[0m \u001b[0mself\u001b[0m\u001b[0;34m.\u001b[0m\u001b[0mone\u001b[0m\u001b[0;34m(\u001b[0m\u001b[0;34m)\u001b[0m\u001b[0;34m\u001b[0m\u001b[0m\n\u001b[0m\u001b[1;32m   2844\u001b[0m             \u001b[0;32mif\u001b[0m \u001b[0;32mnot\u001b[0m \u001b[0misinstance\u001b[0m\u001b[0;34m(\u001b[0m\u001b[0mret\u001b[0m\u001b[0;34m,\u001b[0m \u001b[0mtuple\u001b[0m\u001b[0;34m)\u001b[0m\u001b[0;34m:\u001b[0m\u001b[0;34m\u001b[0m\u001b[0m\n\u001b[1;32m   2845\u001b[0m                 \u001b[0;32mreturn\u001b[0m \u001b[0mret\u001b[0m\u001b[0;34m\u001b[0m\u001b[0m\n",
      "\u001b[0;32m/home/cec/src/project_b/env/python3.6/lib/python3.6/site-packages/sqlalchemy/orm/query.py\u001b[0m in \u001b[0;36mone\u001b[0;34m(self)\u001b[0m\n\u001b[1;32m   2812\u001b[0m         \"\"\"\n\u001b[1;32m   2813\u001b[0m         \u001b[0;32mtry\u001b[0m\u001b[0;34m:\u001b[0m\u001b[0;34m\u001b[0m\u001b[0m\n\u001b[0;32m-> 2814\u001b[0;31m             \u001b[0mret\u001b[0m \u001b[0;34m=\u001b[0m \u001b[0mself\u001b[0m\u001b[0;34m.\u001b[0m\u001b[0mone_or_none\u001b[0m\u001b[0;34m(\u001b[0m\u001b[0;34m)\u001b[0m\u001b[0;34m\u001b[0m\u001b[0m\n\u001b[0m\u001b[1;32m   2815\u001b[0m         \u001b[0;32mexcept\u001b[0m \u001b[0morm_exc\u001b[0m\u001b[0;34m.\u001b[0m\u001b[0mMultipleResultsFound\u001b[0m\u001b[0;34m:\u001b[0m\u001b[0;34m\u001b[0m\u001b[0m\n\u001b[1;32m   2816\u001b[0m             raise orm_exc.MultipleResultsFound(\n",
      "\u001b[0;32m/home/cec/src/project_b/env/python3.6/lib/python3.6/site-packages/sqlalchemy/orm/query.py\u001b[0m in \u001b[0;36mone_or_none\u001b[0;34m(self)\u001b[0m\n\u001b[1;32m   2782\u001b[0m \u001b[0;34m\u001b[0m\u001b[0m\n\u001b[1;32m   2783\u001b[0m         \"\"\"\n\u001b[0;32m-> 2784\u001b[0;31m         \u001b[0mret\u001b[0m \u001b[0;34m=\u001b[0m \u001b[0mlist\u001b[0m\u001b[0;34m(\u001b[0m\u001b[0mself\u001b[0m\u001b[0;34m)\u001b[0m\u001b[0;34m\u001b[0m\u001b[0m\n\u001b[0m\u001b[1;32m   2785\u001b[0m \u001b[0;34m\u001b[0m\u001b[0m\n\u001b[1;32m   2786\u001b[0m         \u001b[0ml\u001b[0m \u001b[0;34m=\u001b[0m \u001b[0mlen\u001b[0m\u001b[0;34m(\u001b[0m\u001b[0mret\u001b[0m\u001b[0;34m)\u001b[0m\u001b[0;34m\u001b[0m\u001b[0m\n",
      "\u001b[0;32m/home/cec/src/project_b/env/python3.6/lib/python3.6/site-packages/sqlalchemy/orm/query.py\u001b[0m in \u001b[0;36m__iter__\u001b[0;34m(self)\u001b[0m\n\u001b[1;32m   2853\u001b[0m         \u001b[0;32mif\u001b[0m \u001b[0mself\u001b[0m\u001b[0;34m.\u001b[0m\u001b[0m_autoflush\u001b[0m \u001b[0;32mand\u001b[0m \u001b[0;32mnot\u001b[0m \u001b[0mself\u001b[0m\u001b[0;34m.\u001b[0m\u001b[0m_populate_existing\u001b[0m\u001b[0;34m:\u001b[0m\u001b[0;34m\u001b[0m\u001b[0m\n\u001b[1;32m   2854\u001b[0m             \u001b[0mself\u001b[0m\u001b[0;34m.\u001b[0m\u001b[0msession\u001b[0m\u001b[0;34m.\u001b[0m\u001b[0m_autoflush\u001b[0m\u001b[0;34m(\u001b[0m\u001b[0;34m)\u001b[0m\u001b[0;34m\u001b[0m\u001b[0m\n\u001b[0;32m-> 2855\u001b[0;31m         \u001b[0;32mreturn\u001b[0m \u001b[0mself\u001b[0m\u001b[0;34m.\u001b[0m\u001b[0m_execute_and_instances\u001b[0m\u001b[0;34m(\u001b[0m\u001b[0mcontext\u001b[0m\u001b[0;34m)\u001b[0m\u001b[0;34m\u001b[0m\u001b[0m\n\u001b[0m\u001b[1;32m   2856\u001b[0m \u001b[0;34m\u001b[0m\u001b[0m\n\u001b[1;32m   2857\u001b[0m     \u001b[0;32mdef\u001b[0m \u001b[0m__str__\u001b[0m\u001b[0;34m(\u001b[0m\u001b[0mself\u001b[0m\u001b[0;34m)\u001b[0m\u001b[0;34m:\u001b[0m\u001b[0;34m\u001b[0m\u001b[0m\n",
      "\u001b[0;32m/home/cec/src/project_b/env/python3.6/lib/python3.6/site-packages/sqlalchemy/orm/query.py\u001b[0m in \u001b[0;36m_execute_and_instances\u001b[0;34m(self, querycontext)\u001b[0m\n\u001b[1;32m   2876\u001b[0m             close_with_result=True)\n\u001b[1;32m   2877\u001b[0m \u001b[0;34m\u001b[0m\u001b[0m\n\u001b[0;32m-> 2878\u001b[0;31m         \u001b[0mresult\u001b[0m \u001b[0;34m=\u001b[0m \u001b[0mconn\u001b[0m\u001b[0;34m.\u001b[0m\u001b[0mexecute\u001b[0m\u001b[0;34m(\u001b[0m\u001b[0mquerycontext\u001b[0m\u001b[0;34m.\u001b[0m\u001b[0mstatement\u001b[0m\u001b[0;34m,\u001b[0m \u001b[0mself\u001b[0m\u001b[0;34m.\u001b[0m\u001b[0m_params\u001b[0m\u001b[0;34m)\u001b[0m\u001b[0;34m\u001b[0m\u001b[0m\n\u001b[0m\u001b[1;32m   2879\u001b[0m         \u001b[0;32mreturn\u001b[0m \u001b[0mloading\u001b[0m\u001b[0;34m.\u001b[0m\u001b[0minstances\u001b[0m\u001b[0;34m(\u001b[0m\u001b[0mquerycontext\u001b[0m\u001b[0;34m.\u001b[0m\u001b[0mquery\u001b[0m\u001b[0;34m,\u001b[0m \u001b[0mresult\u001b[0m\u001b[0;34m,\u001b[0m \u001b[0mquerycontext\u001b[0m\u001b[0;34m)\u001b[0m\u001b[0;34m\u001b[0m\u001b[0m\n\u001b[1;32m   2880\u001b[0m \u001b[0;34m\u001b[0m\u001b[0m\n",
      "\u001b[0;32m/home/cec/src/project_b/env/python3.6/lib/python3.6/site-packages/sqlalchemy/engine/base.py\u001b[0m in \u001b[0;36mexecute\u001b[0;34m(self, object, *multiparams, **params)\u001b[0m\n\u001b[1;32m    943\u001b[0m             \u001b[0;32mraise\u001b[0m \u001b[0mexc\u001b[0m\u001b[0;34m.\u001b[0m\u001b[0mObjectNotExecutableError\u001b[0m\u001b[0;34m(\u001b[0m\u001b[0mobject\u001b[0m\u001b[0;34m)\u001b[0m\u001b[0;34m\u001b[0m\u001b[0m\n\u001b[1;32m    944\u001b[0m         \u001b[0;32melse\u001b[0m\u001b[0;34m:\u001b[0m\u001b[0;34m\u001b[0m\u001b[0m\n\u001b[0;32m--> 945\u001b[0;31m             \u001b[0;32mreturn\u001b[0m \u001b[0mmeth\u001b[0m\u001b[0;34m(\u001b[0m\u001b[0mself\u001b[0m\u001b[0;34m,\u001b[0m \u001b[0mmultiparams\u001b[0m\u001b[0;34m,\u001b[0m \u001b[0mparams\u001b[0m\u001b[0;34m)\u001b[0m\u001b[0;34m\u001b[0m\u001b[0m\n\u001b[0m\u001b[1;32m    946\u001b[0m \u001b[0;34m\u001b[0m\u001b[0m\n\u001b[1;32m    947\u001b[0m     \u001b[0;32mdef\u001b[0m \u001b[0m_execute_function\u001b[0m\u001b[0;34m(\u001b[0m\u001b[0mself\u001b[0m\u001b[0;34m,\u001b[0m \u001b[0mfunc\u001b[0m\u001b[0;34m,\u001b[0m \u001b[0mmultiparams\u001b[0m\u001b[0;34m,\u001b[0m \u001b[0mparams\u001b[0m\u001b[0;34m)\u001b[0m\u001b[0;34m:\u001b[0m\u001b[0;34m\u001b[0m\u001b[0m\n",
      "\u001b[0;32m/home/cec/src/project_b/env/python3.6/lib/python3.6/site-packages/sqlalchemy/sql/elements.py\u001b[0m in \u001b[0;36m_execute_on_connection\u001b[0;34m(self, connection, multiparams, params)\u001b[0m\n\u001b[1;32m    261\u001b[0m     \u001b[0;32mdef\u001b[0m \u001b[0m_execute_on_connection\u001b[0m\u001b[0;34m(\u001b[0m\u001b[0mself\u001b[0m\u001b[0;34m,\u001b[0m \u001b[0mconnection\u001b[0m\u001b[0;34m,\u001b[0m \u001b[0mmultiparams\u001b[0m\u001b[0;34m,\u001b[0m \u001b[0mparams\u001b[0m\u001b[0;34m)\u001b[0m\u001b[0;34m:\u001b[0m\u001b[0;34m\u001b[0m\u001b[0m\n\u001b[1;32m    262\u001b[0m         \u001b[0;32mif\u001b[0m \u001b[0mself\u001b[0m\u001b[0;34m.\u001b[0m\u001b[0msupports_execution\u001b[0m\u001b[0;34m:\u001b[0m\u001b[0;34m\u001b[0m\u001b[0m\n\u001b[0;32m--> 263\u001b[0;31m             \u001b[0;32mreturn\u001b[0m \u001b[0mconnection\u001b[0m\u001b[0;34m.\u001b[0m\u001b[0m_execute_clauseelement\u001b[0m\u001b[0;34m(\u001b[0m\u001b[0mself\u001b[0m\u001b[0;34m,\u001b[0m \u001b[0mmultiparams\u001b[0m\u001b[0;34m,\u001b[0m \u001b[0mparams\u001b[0m\u001b[0;34m)\u001b[0m\u001b[0;34m\u001b[0m\u001b[0m\n\u001b[0m\u001b[1;32m    264\u001b[0m         \u001b[0;32melse\u001b[0m\u001b[0;34m:\u001b[0m\u001b[0;34m\u001b[0m\u001b[0m\n\u001b[1;32m    265\u001b[0m             \u001b[0;32mraise\u001b[0m \u001b[0mexc\u001b[0m\u001b[0;34m.\u001b[0m\u001b[0mObjectNotExecutableError\u001b[0m\u001b[0;34m(\u001b[0m\u001b[0mself\u001b[0m\u001b[0;34m)\u001b[0m\u001b[0;34m\u001b[0m\u001b[0m\n",
      "\u001b[0;32m/home/cec/src/project_b/env/python3.6/lib/python3.6/site-packages/sqlalchemy/engine/base.py\u001b[0m in \u001b[0;36m_execute_clauseelement\u001b[0;34m(self, elem, multiparams, params)\u001b[0m\n\u001b[1;32m   1051\u001b[0m             \u001b[0mcompiled_sql\u001b[0m\u001b[0;34m,\u001b[0m\u001b[0;34m\u001b[0m\u001b[0m\n\u001b[1;32m   1052\u001b[0m             \u001b[0mdistilled_params\u001b[0m\u001b[0;34m,\u001b[0m\u001b[0;34m\u001b[0m\u001b[0m\n\u001b[0;32m-> 1053\u001b[0;31m             \u001b[0mcompiled_sql\u001b[0m\u001b[0;34m,\u001b[0m \u001b[0mdistilled_params\u001b[0m\u001b[0;34m\u001b[0m\u001b[0m\n\u001b[0m\u001b[1;32m   1054\u001b[0m         )\n\u001b[1;32m   1055\u001b[0m         \u001b[0;32mif\u001b[0m \u001b[0mself\u001b[0m\u001b[0;34m.\u001b[0m\u001b[0m_has_events\u001b[0m \u001b[0;32mor\u001b[0m \u001b[0mself\u001b[0m\u001b[0;34m.\u001b[0m\u001b[0mengine\u001b[0m\u001b[0;34m.\u001b[0m\u001b[0m_has_events\u001b[0m\u001b[0;34m:\u001b[0m\u001b[0;34m\u001b[0m\u001b[0m\n",
      "\u001b[0;32m/home/cec/src/project_b/env/python3.6/lib/python3.6/site-packages/sqlalchemy/engine/base.py\u001b[0m in \u001b[0;36m_execute_context\u001b[0;34m(self, dialect, constructor, statement, parameters, *args)\u001b[0m\n\u001b[1;32m   1187\u001b[0m                 \u001b[0mparameters\u001b[0m\u001b[0;34m,\u001b[0m\u001b[0;34m\u001b[0m\u001b[0m\n\u001b[1;32m   1188\u001b[0m                 \u001b[0mcursor\u001b[0m\u001b[0;34m,\u001b[0m\u001b[0;34m\u001b[0m\u001b[0m\n\u001b[0;32m-> 1189\u001b[0;31m                 context)\n\u001b[0m\u001b[1;32m   1190\u001b[0m \u001b[0;34m\u001b[0m\u001b[0m\n\u001b[1;32m   1191\u001b[0m         \u001b[0;32mif\u001b[0m \u001b[0mself\u001b[0m\u001b[0;34m.\u001b[0m\u001b[0m_has_events\u001b[0m \u001b[0;32mor\u001b[0m \u001b[0mself\u001b[0m\u001b[0;34m.\u001b[0m\u001b[0mengine\u001b[0m\u001b[0;34m.\u001b[0m\u001b[0m_has_events\u001b[0m\u001b[0;34m:\u001b[0m\u001b[0;34m\u001b[0m\u001b[0m\n",
      "\u001b[0;32m/home/cec/src/project_b/env/python3.6/lib/python3.6/site-packages/sqlalchemy/engine/base.py\u001b[0m in \u001b[0;36m_handle_dbapi_exception\u001b[0;34m(self, e, statement, parameters, cursor, context)\u001b[0m\n\u001b[1;32m   1395\u001b[0m                 )\n\u001b[1;32m   1396\u001b[0m             \u001b[0;32melse\u001b[0m\u001b[0;34m:\u001b[0m\u001b[0;34m\u001b[0m\u001b[0m\n\u001b[0;32m-> 1397\u001b[0;31m                 \u001b[0mutil\u001b[0m\u001b[0;34m.\u001b[0m\u001b[0mreraise\u001b[0m\u001b[0;34m(\u001b[0m\u001b[0;34m*\u001b[0m\u001b[0mexc_info\u001b[0m\u001b[0;34m)\u001b[0m\u001b[0;34m\u001b[0m\u001b[0m\n\u001b[0m\u001b[1;32m   1398\u001b[0m \u001b[0;34m\u001b[0m\u001b[0m\n\u001b[1;32m   1399\u001b[0m         \u001b[0;32mfinally\u001b[0m\u001b[0;34m:\u001b[0m\u001b[0;34m\u001b[0m\u001b[0m\n",
      "\u001b[0;32m/home/cec/src/project_b/env/python3.6/lib/python3.6/site-packages/sqlalchemy/util/compat.py\u001b[0m in \u001b[0;36mreraise\u001b[0;34m(tp, value, tb, cause)\u001b[0m\n\u001b[1;32m    185\u001b[0m         \u001b[0;32mif\u001b[0m \u001b[0mvalue\u001b[0m\u001b[0;34m.\u001b[0m\u001b[0m__traceback__\u001b[0m \u001b[0;32mis\u001b[0m \u001b[0;32mnot\u001b[0m \u001b[0mtb\u001b[0m\u001b[0;34m:\u001b[0m\u001b[0;34m\u001b[0m\u001b[0m\n\u001b[1;32m    186\u001b[0m             \u001b[0;32mraise\u001b[0m \u001b[0mvalue\u001b[0m\u001b[0;34m.\u001b[0m\u001b[0mwith_traceback\u001b[0m\u001b[0;34m(\u001b[0m\u001b[0mtb\u001b[0m\u001b[0;34m)\u001b[0m\u001b[0;34m\u001b[0m\u001b[0m\n\u001b[0;32m--> 187\u001b[0;31m         \u001b[0;32mraise\u001b[0m \u001b[0mvalue\u001b[0m\u001b[0;34m\u001b[0m\u001b[0m\n\u001b[0m\u001b[1;32m    188\u001b[0m \u001b[0;34m\u001b[0m\u001b[0m\n\u001b[1;32m    189\u001b[0m \u001b[0;32melse\u001b[0m\u001b[0;34m:\u001b[0m\u001b[0;34m\u001b[0m\u001b[0m\n",
      "\u001b[0;32m/home/cec/src/project_b/env/python3.6/lib/python3.6/site-packages/sqlalchemy/engine/base.py\u001b[0m in \u001b[0;36m_execute_context\u001b[0;34m(self, dialect, constructor, statement, parameters, *args)\u001b[0m\n\u001b[1;32m   1180\u001b[0m                         \u001b[0mstatement\u001b[0m\u001b[0;34m,\u001b[0m\u001b[0;34m\u001b[0m\u001b[0m\n\u001b[1;32m   1181\u001b[0m                         \u001b[0mparameters\u001b[0m\u001b[0;34m,\u001b[0m\u001b[0;34m\u001b[0m\u001b[0m\n\u001b[0;32m-> 1182\u001b[0;31m                         context)\n\u001b[0m\u001b[1;32m   1183\u001b[0m         \u001b[0;32mexcept\u001b[0m \u001b[0mBaseException\u001b[0m \u001b[0;32mas\u001b[0m \u001b[0me\u001b[0m\u001b[0;34m:\u001b[0m\u001b[0;34m\u001b[0m\u001b[0m\n\u001b[1;32m   1184\u001b[0m             self._handle_dbapi_exception(\n",
      "\u001b[0;32m/home/cec/src/project_b/env/python3.6/lib/python3.6/site-packages/sqlalchemy/engine/default.py\u001b[0m in \u001b[0;36mdo_execute\u001b[0;34m(self, cursor, statement, parameters, context)\u001b[0m\n\u001b[1;32m    468\u001b[0m \u001b[0;34m\u001b[0m\u001b[0m\n\u001b[1;32m    469\u001b[0m     \u001b[0;32mdef\u001b[0m \u001b[0mdo_execute\u001b[0m\u001b[0;34m(\u001b[0m\u001b[0mself\u001b[0m\u001b[0;34m,\u001b[0m \u001b[0mcursor\u001b[0m\u001b[0;34m,\u001b[0m \u001b[0mstatement\u001b[0m\u001b[0;34m,\u001b[0m \u001b[0mparameters\u001b[0m\u001b[0;34m,\u001b[0m \u001b[0mcontext\u001b[0m\u001b[0;34m=\u001b[0m\u001b[0;32mNone\u001b[0m\u001b[0;34m)\u001b[0m\u001b[0;34m:\u001b[0m\u001b[0;34m\u001b[0m\u001b[0m\n\u001b[0;32m--> 470\u001b[0;31m         \u001b[0mcursor\u001b[0m\u001b[0;34m.\u001b[0m\u001b[0mexecute\u001b[0m\u001b[0;34m(\u001b[0m\u001b[0mstatement\u001b[0m\u001b[0;34m,\u001b[0m \u001b[0mparameters\u001b[0m\u001b[0;34m)\u001b[0m\u001b[0;34m\u001b[0m\u001b[0m\n\u001b[0m\u001b[1;32m    471\u001b[0m \u001b[0;34m\u001b[0m\u001b[0m\n\u001b[1;32m    472\u001b[0m     \u001b[0;32mdef\u001b[0m \u001b[0mdo_execute_no_params\u001b[0m\u001b[0;34m(\u001b[0m\u001b[0mself\u001b[0m\u001b[0;34m,\u001b[0m \u001b[0mcursor\u001b[0m\u001b[0;34m,\u001b[0m \u001b[0mstatement\u001b[0m\u001b[0;34m,\u001b[0m \u001b[0mcontext\u001b[0m\u001b[0;34m=\u001b[0m\u001b[0;32mNone\u001b[0m\u001b[0;34m)\u001b[0m\u001b[0;34m:\u001b[0m\u001b[0;34m\u001b[0m\u001b[0m\n",
      "\u001b[0;32m/home/cec/src/project_b/env/python3.6/lib/python3.6/site-packages/MySQLdb/cursors.py\u001b[0m in \u001b[0;36mexecute\u001b[0;34m(self, query, args)\u001b[0m\n\u001b[1;32m    245\u001b[0m         \u001b[0mres\u001b[0m \u001b[0;34m=\u001b[0m \u001b[0;32mNone\u001b[0m\u001b[0;34m\u001b[0m\u001b[0m\n\u001b[1;32m    246\u001b[0m         \u001b[0;32mtry\u001b[0m\u001b[0;34m:\u001b[0m\u001b[0;34m\u001b[0m\u001b[0m\n\u001b[0;32m--> 247\u001b[0;31m             \u001b[0mres\u001b[0m \u001b[0;34m=\u001b[0m \u001b[0mself\u001b[0m\u001b[0;34m.\u001b[0m\u001b[0m_query\u001b[0m\u001b[0;34m(\u001b[0m\u001b[0mquery\u001b[0m\u001b[0;34m)\u001b[0m\u001b[0;34m\u001b[0m\u001b[0m\n\u001b[0m\u001b[1;32m    248\u001b[0m         \u001b[0;32mexcept\u001b[0m \u001b[0mException\u001b[0m\u001b[0;34m:\u001b[0m\u001b[0;34m\u001b[0m\u001b[0m\n\u001b[1;32m    249\u001b[0m             \u001b[0mexc\u001b[0m\u001b[0;34m,\u001b[0m \u001b[0mvalue\u001b[0m \u001b[0;34m=\u001b[0m \u001b[0msys\u001b[0m\u001b[0;34m.\u001b[0m\u001b[0mexc_info\u001b[0m\u001b[0;34m(\u001b[0m\u001b[0;34m)\u001b[0m\u001b[0;34m[\u001b[0m\u001b[0;34m:\u001b[0m\u001b[0;36m2\u001b[0m\u001b[0;34m]\u001b[0m\u001b[0;34m\u001b[0m\u001b[0m\n",
      "\u001b[0;32m/home/cec/src/project_b/env/python3.6/lib/python3.6/site-packages/MySQLdb/cursors.py\u001b[0m in \u001b[0;36m_query\u001b[0;34m(self, q)\u001b[0m\n\u001b[1;32m    409\u001b[0m \u001b[0;34m\u001b[0m\u001b[0m\n\u001b[1;32m    410\u001b[0m     \u001b[0;32mdef\u001b[0m \u001b[0m_query\u001b[0m\u001b[0;34m(\u001b[0m\u001b[0mself\u001b[0m\u001b[0;34m,\u001b[0m \u001b[0mq\u001b[0m\u001b[0;34m)\u001b[0m\u001b[0;34m:\u001b[0m\u001b[0;34m\u001b[0m\u001b[0m\n\u001b[0;32m--> 411\u001b[0;31m         \u001b[0mrowcount\u001b[0m \u001b[0;34m=\u001b[0m \u001b[0mself\u001b[0m\u001b[0;34m.\u001b[0m\u001b[0m_do_query\u001b[0m\u001b[0;34m(\u001b[0m\u001b[0mq\u001b[0m\u001b[0;34m)\u001b[0m\u001b[0;34m\u001b[0m\u001b[0m\n\u001b[0m\u001b[1;32m    412\u001b[0m         \u001b[0mself\u001b[0m\u001b[0;34m.\u001b[0m\u001b[0m_post_get_result\u001b[0m\u001b[0;34m(\u001b[0m\u001b[0;34m)\u001b[0m\u001b[0;34m\u001b[0m\u001b[0m\n\u001b[1;32m    413\u001b[0m         \u001b[0;32mreturn\u001b[0m \u001b[0mrowcount\u001b[0m\u001b[0;34m\u001b[0m\u001b[0m\n",
      "\u001b[0;32m/home/cec/src/project_b/env/python3.6/lib/python3.6/site-packages/MySQLdb/cursors.py\u001b[0m in \u001b[0;36m_do_query\u001b[0;34m(self, q)\u001b[0m\n\u001b[1;32m    372\u001b[0m         \u001b[0mdb\u001b[0m \u001b[0;34m=\u001b[0m \u001b[0mself\u001b[0m\u001b[0;34m.\u001b[0m\u001b[0m_get_db\u001b[0m\u001b[0;34m(\u001b[0m\u001b[0;34m)\u001b[0m\u001b[0;34m\u001b[0m\u001b[0m\n\u001b[1;32m    373\u001b[0m         \u001b[0mself\u001b[0m\u001b[0;34m.\u001b[0m\u001b[0m_last_executed\u001b[0m \u001b[0;34m=\u001b[0m \u001b[0mq\u001b[0m\u001b[0;34m\u001b[0m\u001b[0m\n\u001b[0;32m--> 374\u001b[0;31m         \u001b[0mdb\u001b[0m\u001b[0;34m.\u001b[0m\u001b[0mquery\u001b[0m\u001b[0;34m(\u001b[0m\u001b[0mq\u001b[0m\u001b[0;34m)\u001b[0m\u001b[0;34m\u001b[0m\u001b[0m\n\u001b[0m\u001b[1;32m    375\u001b[0m         \u001b[0mself\u001b[0m\u001b[0;34m.\u001b[0m\u001b[0m_do_get_result\u001b[0m\u001b[0;34m(\u001b[0m\u001b[0;34m)\u001b[0m\u001b[0;34m\u001b[0m\u001b[0m\n\u001b[1;32m    376\u001b[0m         \u001b[0;32mreturn\u001b[0m \u001b[0mself\u001b[0m\u001b[0;34m.\u001b[0m\u001b[0mrowcount\u001b[0m\u001b[0;34m\u001b[0m\u001b[0m\n",
      "\u001b[0;32m/home/cec/src/project_b/env/python3.6/lib/python3.6/site-packages/MySQLdb/connections.py\u001b[0m in \u001b[0;36mquery\u001b[0;34m(self, query)\u001b[0m\n\u001b[1;32m    290\u001b[0m             \u001b[0mself\u001b[0m\u001b[0;34m.\u001b[0m\u001b[0mread_query_result\u001b[0m\u001b[0;34m(\u001b[0m\u001b[0;34m)\u001b[0m\u001b[0;34m\u001b[0m\u001b[0m\n\u001b[1;32m    291\u001b[0m         \u001b[0;32melse\u001b[0m\u001b[0;34m:\u001b[0m\u001b[0;34m\u001b[0m\u001b[0m\n\u001b[0;32m--> 292\u001b[0;31m             \u001b[0m_mysql\u001b[0m\u001b[0;34m.\u001b[0m\u001b[0mconnection\u001b[0m\u001b[0;34m.\u001b[0m\u001b[0mquery\u001b[0m\u001b[0;34m(\u001b[0m\u001b[0mself\u001b[0m\u001b[0;34m,\u001b[0m \u001b[0mquery\u001b[0m\u001b[0;34m)\u001b[0m\u001b[0;34m\u001b[0m\u001b[0m\n\u001b[0m\u001b[1;32m    293\u001b[0m \u001b[0;34m\u001b[0m\u001b[0m\n\u001b[1;32m    294\u001b[0m     \u001b[0;32mdef\u001b[0m \u001b[0m__enter__\u001b[0m\u001b[0;34m(\u001b[0m\u001b[0mself\u001b[0m\u001b[0;34m)\u001b[0m\u001b[0;34m:\u001b[0m\u001b[0;34m\u001b[0m\u001b[0m\n",
      "\u001b[0;31mKeyboardInterrupt\u001b[0m: "
     ]
    }
   ],
   "source": [
    "import pandas as pd\n",
    "from collections import OrderedDict\n",
    "\n",
    "def get_device_stats(s, tables, testbed_id, no_opt):\n",
    "    q = results_in_order(s, tables, testbed_id, no_opt, tables.results.id, tables.meta.cumtime, reverse=True)\n",
    "\n",
    "    num_results = results_in_order(s, tables, testbed_id, no_opt, sql.sql.func.count(tables.results.id)).scalar()\n",
    "    if num_results:\n",
    "        _, total_time = q.first()\n",
    "    else:\n",
    "        total_time = 0\n",
    "\n",
    "    print(f\"\\r\\033[1K{tables.name} {testbed_id} {no_opt} results: {num_results}  {total_time}\", end=\"\")\n",
    "    return num_results, total_time\n",
    "\n",
    "\n",
    "def get_device_overview(s, testbed_id):\n",
    "    testbed = s.query(Testbed).filter(Testbed.id == testbed_id).first()\n",
    "    \n",
    "    clsmith_noopt_results, clsmith_noopt_time = get_device_stats(s, CLSMITH_TABLES, testbed_id, True)\n",
    "    clsmith_results, clsmith_time = get_device_stats(s, CLSMITH_TABLES, testbed_id, False)\n",
    "\n",
    "    clgen_noopt_results, clgen_noopt_time = get_device_stats(s, CLGEN_TABLES, testbed_id, True)\n",
    "    clgen_results, clgen_time = get_device_stats(s, CLGEN_TABLES, testbed_id, False)\n",
    "    \n",
    "    r1 = OrderedDict()\n",
    "    r1[\"Device\"] = device_str(testbed.device)\n",
    "    r1[\"±\"] = \"-\"\n",
    "    r1[\"CLSmith time\"] = clsmith_noopt_time\n",
    "    r1[\"CLSmith time (hrs)\"] = \"{:.1f}h\".format(clsmith_noopt_time / 3600)\n",
    "    r1[\"CLSmith results\"] = clsmith_noopt_results\n",
    "    r1[\"CLgen time\"] = clgen_noopt_time\n",
    "    r1[\"CLgen time (hrs)\"] = \"{:.1f}h\".format(clgen_noopt_time / 3600)\n",
    "    r1[\"CLgen results\"] = clgen_noopt_results\n",
    "    \n",
    "    r2 = OrderedDict()\n",
    "    r2[\"Device\"] = device_str(testbed.device)\n",
    "    r2[\"±\"] = \"+\"\n",
    "    r2[\"CLSmith time\"] = clsmith_time\n",
    "    r2[\"CLSmith time (hrs)\"] = \"{:.1f}h\".format(clsmith_time / 3600)\n",
    "    r2[\"CLSmith results\"] = clsmith_results\n",
    "    r2[\"CLgen time\"] = clgen_time\n",
    "    r2[\"CLgen time (hrs)\"] = \"{:.1f}h\".format(clgen_time / 3600)\n",
    "    r2[\"CLgen results\"] = clgen_results\n",
    "    \n",
    "    return r1, r2\n",
    "\n",
    "\n",
    "rows = []\n",
    "with Session(commit=False) as s:\n",
    "    for config_id, testbed_id in CONFIGURATIONS:\n",
    "        rows += get_device_overview(s, testbed_id)\n",
    "overview_table = pd.DataFrame(rows)\n",
    "overview_table"
   ]
  },
  {
   "cell_type": "markdown",
   "metadata": {},
   "source": [
    "## Schedule"
   ]
  },
  {
   "cell_type": "code",
   "execution_count": null,
   "metadata": {},
   "outputs": [],
   "source": [
    "TIME_LIMIT = 48 * 3600\n",
    "\n",
    "schedule = []\n",
    "for _, row in overview_table.iterrows():\n",
    "    for source in [\"CLSmith\", \"CLgen\"]:\n",
    "        if row[f\"{source} time\"] < TIME_LIMIT:\n",
    "            d = OrderedDict()\n",
    "            d[\"Device\"] = row[\"Device\"]\n",
    "            d[\"±\"] = row[\"±\"]\n",
    "            d[\"Job\"] = source\n",
    "            d[\"Remaining time\"] = (TIME_LIMIT - row[f\"{source} time\"])\n",
    "            d[\"Remaining time (hours)\"] = \"{:.1f}h\".format((TIME_LIMIT - row[f\"{source} time\"]) / 3600)\n",
    "            schedule.append(d)\n",
    "    \n",
    "schedule = pd.DataFrame(schedule)\n",
    "schedule.sort_values(by=\"Remaining time\", ascending=False)"
   ]
  },
  {
   "cell_type": "markdown",
   "metadata": {},
   "source": [
    "## Testing Time"
   ]
  },
  {
   "cell_type": "code",
   "execution_count": null,
   "metadata": {},
   "outputs": [],
   "source": [
    "plt.style.use([\"seaborn-white\", \"seaborn-paper\"])\n",
    "\n",
    "def plot_testing_time(table, time_column, title):\n",
    "    sns.barplot(x=\"Device\", y=time_column, data=overview_table, hue=\"±\")\n",
    "\n",
    "    ax = plt.gca()\n",
    "\n",
    "    # X axis\n",
    "    plt.setp(ax.get_xticklabels(), rotation=70)  # rotate x ticks\n",
    "    ax.set_xlabel(\"\")\n",
    "\n",
    "    # Y axis\n",
    "    ax.set_ylim((0, 96 * 3600))\n",
    "    plt.yticks(np.arange(0, 100 * 3600, 12 * 3600))\n",
    "    ax.yaxis.set_major_formatter(FuncFormatter(\n",
    "        lambda x, pos: \"{:.1f}h\".format(x / 3600)))\n",
    "    ax.set_ylabel(\"Testing time (hours)\")\n",
    "    plt.title(title)\n",
    "\n",
    "    plt.axhline(y=24 * 3600, color=\"r\", lw=1, linestyle=\"--\")\n",
    "    plt.axhline(y=48 * 3600, color=\"k\", lw=1, linestyle=\"--\")\n",
    "    plt.axhline(y=72 * 3600, color=\"b\", lw=1, linestyle=\"--\")\n",
    "\n",
    "    viz.finalise(figsize=(6, 4))\n",
    "\n",
    "plot_testing_time(overview_table, \"CLSmith time\", \"CLSmith Testing Time\")\n",
    "plot_testing_time(overview_table, \"CLgen time\", \"CLgen Testing Time\")"
   ]
  },
  {
   "cell_type": "markdown",
   "metadata": {},
   "source": [
    "## Number of Results"
   ]
  },
  {
   "cell_type": "code",
   "execution_count": null,
   "metadata": {},
   "outputs": [],
   "source": [
    "plt.style.use([\"seaborn-white\", \"seaborn-paper\"])\n",
    "\n",
    "def plot_num_results(table, time_column, title):\n",
    "    sns.barplot(x=\"Device\", y=time_column, data=overview_table, hue=\"±\")\n",
    "\n",
    "    ax = plt.gca()\n",
    "\n",
    "    # X axis\n",
    "    plt.setp(ax.get_xticklabels(), rotation=70)  # rotate x ticks\n",
    "    ax.set_xlabel(\"\")\n",
    "\n",
    "    # Y axis\n",
    "    ax.yaxis.set_major_formatter(FuncFormatter(\n",
    "        lambda x, pos: \"{:.1f}k\".format(x / 1000)))\n",
    "    ax.set_ylabel(\"#. Results\")\n",
    "    plt.title(title)\n",
    "\n",
    "    viz.finalise(figsize=(6, 4))\n",
    "\n",
    "plot_num_results(overview_table, \"CLSmith results\", \"#. CLSmith Results\")\n",
    "plot_num_results(overview_table, \"CLgen results\", \"#. CLgen Results\")"
   ]
  },
  {
   "cell_type": "markdown",
   "metadata": {},
   "source": [
    "## Testbeds"
   ]
  },
  {
   "cell_type": "code",
   "execution_count": null,
   "metadata": {},
   "outputs": [],
   "source": [
    "# push LaTex to Overleaf\n",
    "!cd ~/docs/paper-project_b/ && git pull --rebase\n",
    "\n",
    "import os\n",
    "from collections import OrderedDict\n",
    "\n",
    "\n",
    "def get_platform_stats(s, testbed: Testbed):\n",
    "    clgen_submitted = s.query(sql.sql.func.count(CLgenResult.submitted))\\\n",
    "        .filter(CLgenResult.testbed_id == testbed.id).scalar() or 0\n",
    "    submitable_results = [coCLgenResult, cl_launcherCLgenResult]\n",
    "    def get_submitted(table):\n",
    "        \"\"\" submitted, non-duplicate bugs \"\"\"\n",
    "        return s.query(table)\\\n",
    "            .filter(table.testbed_id == testbed.id,\n",
    "                    table.submitted == 1,\n",
    "                    table.dupe != 1).count()\n",
    "\n",
    "    # Total time running CLgen tests:\n",
    "    clgen_time = sum(overview_table.loc[overview_table[\"Device\"] == device_str(testbed.device)][\"CLgen time\"].values)\n",
    "    # print(device_str(testbed.device), \"CLgen\", clgen_time)\n",
    "    \n",
    "    # Total time running CLgen reductions:\n",
    "    reduction_time = s.query(sql.sql.func.sum(CLgenReduction.runtime)).join(CLgenResult)\\\n",
    "        .filter(CLgenResult.testbed_id == testbed.id).scalar() or 0\n",
    "    # print(device_str(testbed.device), \"reduction\", reduction_time)\n",
    "    \n",
    "    # Total time from unstructured testing results:\n",
    "    def get_runtime(table):\n",
    "        return s.query(sql.sql.func.sum(table.runtime)).filter(table.testbed_id == testbed.id).scalar() or 0\n",
    "    other_runtimes = sum(get_runtime(table) for table in [coCLgenResult, cl_launcherCLgenResult])\n",
    "    # print(device_str(testbed.device), \"other\", other_runtimes)\n",
    "\n",
    "    return (\n",
    "        clgen_time + reduction_time + other_runtimes,\n",
    "        clgen_submitted + sum(get_submitted(table) for table in submitable_results),\n",
    "    )\n",
    "\n",
    "\n",
    "def get_row(s, config_id, testbed_id):\n",
    "    testbed = s.query(Testbed).filter(Testbed.id == testbed_id).first()\n",
    "    d = OrderedDict()\n",
    "    d[\"#.\"] = config_id\n",
    "    d[\"Platform\"] = platform_str(testbed.platform)\n",
    "    d[\"Device\"] = device_str(testbed.device)\n",
    "    d[\"Driver\"] = driver_str(testbed.driver)\n",
    "    d[\"OpenCL\"] = testbed.opencl\n",
    "    d[\"Operating system\"] = host_str(testbed.host)\n",
    "    d[\"Device type\"] = devtype_str(testbed.devtype)\n",
    "    runtime, submitted = get_platform_stats(s, testbed)\n",
    "    d[\"Testing time\"] = \"{:.0f} hours\".format(round(runtime / 3600))\n",
    "    d[\"B.R. Submitted\"] = submitted\n",
    "    return d\n",
    "\n",
    "with Session(commit=False) as s:\n",
    "    rows = [get_row(s, *x) for x in CONFIGURATIONS]\n",
    "table = pd.DataFrame(rows)\n",
    "with open(os.path.expanduser(\"~/docs/paper-project_b/build/tab/platforms.tex\"), \"w\") as outfile:\n",
    "    print(f\"\"\"\\\n",
    "\\\\begin{{tabular}}{{ cllllll | rr }}\n",
    "\\\\toprule\n",
    "\\\\textbf{{\\\\#. }} & \\\\textbf{{Platform}} & \\\\textbf{{Device}} & \\\\textbf{{Driver}} & \\\\textbf{{OpenCL}} & \n",
    "\\\\textbf{{Operating system}} & \\\\textbf{{Device Type}} & \\\\textbf{{Testing time}} & \\\\textbf{{Bugs Submitted}} \\\\\\\\\n",
    "\\\\midrule\"\"\", file=outfile)\n",
    "    for row in rows:\n",
    "        print(\" & \".join([str(x) for x in row.values()]), \"\\\\\\\\\", file=outfile)\n",
    "    print(f\"\"\"\n",
    "\\\\bottomrule\n",
    "\\\\end{{tabular}}\n",
    "\"\"\", file=outfile)\n",
    "\n",
    "!cd ~/docs/paper-project_b/build && git add . && git commit -m \"auto: build/tab/platforms.tex\" && git push\n",
    "table"
   ]
  },
  {
   "cell_type": "code",
   "execution_count": null,
   "metadata": {},
   "outputs": [],
   "source": [
    "%run mkmegatable.ipy"
   ]
  },
  {
   "cell_type": "markdown",
   "metadata": {},
   "source": [
    "## Runtimes"
   ]
  },
  {
   "cell_type": "code",
   "execution_count": null,
   "metadata": {},
   "outputs": [],
   "source": [
    "def get_runtimes():\n",
    "    TIMEOUT = 60\n",
    "\n",
    "    with Session(commit=False) as s:\n",
    "        # CLSmith times\n",
    "        q = s.query(\n",
    "                CLSmithResult.runtime, \n",
    "                CLSmithProgram.runtime, \n",
    "                sql.sql.func.ifnull(CLSmithReduction.runtime, 0))\\\n",
    "            .join(CLSmithMeta)\\\n",
    "            .join(CLSmithProgram)\\\n",
    "            .outerjoin(CLSmithReduction)\\\n",
    "            .filter(CLSmithResult.classification != None,\n",
    "                    CLSmithMeta.cumtime < TIME_LIMIT)\n",
    "        clsmith_times = np.array([row for row in q])\n",
    "\n",
    "        # CLgen times\n",
    "        q = s.query(\n",
    "                CLgenResult.runtime,\n",
    "                CLgenProgram.runtime + CLgenHarness.generation_time,\n",
    "                sql.sql.func.ifnull(CLgenReduction.runtime, 0))\\\n",
    "            .join(CLgenMeta)\\\n",
    "            .join(CLgenProgram)\\\n",
    "            .join(CLgenHarness)\\\n",
    "            .outerjoin(CLgenReduction)\\\n",
    "            .filter(CLgenResult.classification != None,\n",
    "                    CLSmithMeta.cumtime < TIME_LIMIT)\n",
    "        clgen_times = np.array([row for row in q])\n",
    "\n",
    "\n",
    "    table = (\n",
    "        [(\"Execution\", x, \"CLSmith\") for x in clsmith_times[:,0] if x < TIMEOUT] +\n",
    "        [(\"Generation\", x, \"CLSmith\") for x in clsmith_times[:,1] if x < TIMEOUT] +\n",
    "        [(\"Reduction\", x, \"CLSmith\") for x in clsmith_times[:,2] if x > 0] +\n",
    "        [(\"Execution\", x, \"CLgen\") for x in clgen_times[:,0] if x < TIMEOUT] +\n",
    "        [(\"Generation\", x, \"CLgen\") for x in clgen_times[:,1] if x < TIMEOUT] +\n",
    "        [(\"Reduction\", x, \"CLgen\") for x in clgen_times[:,2] if x > 0])\n",
    "    table = pd.DataFrame(table, columns=[\"Name\", \"Runtime (s)\", \"Source\"])\n",
    "    return table\n",
    "\n",
    "runtimes_table = get_runtimes()"
   ]
  },
  {
   "cell_type": "code",
   "execution_count": null,
   "metadata": {
    "collapsed": true
   },
   "outputs": [],
   "source": [
    "sns.set(style=\"ticks\")\n",
    "\n",
    "def plot_runtimes(runtimes_table, *args, **kwargs):\n",
    "    # Plot\n",
    "    palette = sns.cubehelix_palette(2, rot=0, light=.75, dark=1)\n",
    "    ax = sns.boxplot(\n",
    "        x=\"Name\", y=\"Runtime (s)\", hue=\"Source\", data=runtimes_table,\n",
    "        width=.75, linewidth=1, fliersize=.5, whis=np.inf, \n",
    "        palette=palette, order=[\"Generation\", \"Execution\", \"Reduction\"])\n",
    "\n",
    "    \n",
    "    # Y axis\n",
    "    ax.set_yscale(\"log\", nonposy='clip')\n",
    "    plt.ylim((0, 10000))\n",
    "\n",
    "    # X axis\n",
    "    plt.xlabel(\"\")\n",
    "    \n",
    "    # Legend\n",
    "    ax.get_legend().set_title(\"\")\n",
    "    plt.legend(loc='upper left')\n",
    "    ax.get_legend().draw_frame(False)\n",
    "    \n",
    "    # Border\n",
    "    sns.despine(ax=ax)\n",
    "\n",
    "    viz.finalise(*args, **kwargs)\n",
    "\n",
    "\n",
    "plot_runtimes(runtimes_table, figsize=(4, 3))\n",
    "\n",
    "# push LaTex to Overleaf\n",
    "!cd ~/docs/paper-project_b/ && git pull --rebase\n",
    "plot_runtimes(runtimes_table, fs.path(\"~/docs/paper-project_b/build/img/runtimes.pdf\"), figsize=(4, 3))\n",
    "!cd ~/docs/paper-project_b/build && git add . && git commit -m \"auto: build/img/runtimes.pdf\" && git push"
   ]
  },
  {
   "cell_type": "markdown",
   "metadata": {},
   "source": [
    "## Kernel sizes"
   ]
  },
  {
   "cell_type": "code",
   "execution_count": null,
   "metadata": {
    "collapsed": true
   },
   "outputs": [],
   "source": [
    "def get_kernel_sizes():    \n",
    "    with Session(commit=False) as s:\n",
    "        # CLSmith times\n",
    "        clsmith = s.query(CLSmithResult.classification, CLSmithProgram.src)\\\n",
    "            .join(CLSmithProgram)\\\n",
    "            .join(CLSmithMeta)\\\n",
    "            .filter(CLSmithResult.classification != None,\n",
    "                    CLSmithResult.classification != \"pass\",\n",
    "                    CLSmithMeta.cumtime < TIME_LIMIT)\n",
    "        clsmith_bc = s.query(CLSmithResult.classification, CLSmithProgram.src)\\\n",
    "            .join(CLSmithProgram)\\\n",
    "            .join(CLSmithMeta)\\\n",
    "            .filter(CLSmithResult.outcome == \"bc\",\n",
    "                    CLSmithMeta.cumtime < TIME_LIMIT)\n",
    "\n",
    "        clgen = s.query(CLgenResult.classification, CLgenProgram.src)\\\n",
    "            .join(CLgenProgram)\\\n",
    "            .join(CLSmithMeta)\\\n",
    "            .filter(CLgenResult.classification != None,\n",
    "                    CLgenResult.classification != \"pass\",\n",
    "                    CLSmithMeta.cumtime < TIME_LIMIT)\n",
    "        clgen_bc = s.query(CLgenResult.classification, CLgenProgram.src)\\\n",
    "            .join(CLgenProgram)\\\n",
    "            .join(CLSmithMeta)\\\n",
    "            .filter(CLgenResult.outcome == \"bc\",\n",
    "                    CLSmithMeta.cumtime < TIME_LIMIT)\n",
    "    \n",
    "    table = (\n",
    "        [(classification, len(src.split('\\n')), \"CLSmith\") for classification, src in clsmith] +\n",
    "        [(\"bc\", len(src.split('\\n')), \"CLSmith\") for _, src in clsmith_bc] +\n",
    "        [(classification, len(src.split('\\n')), \"CLgen\") for classification, src in clgen] +\n",
    "        [(\"bc\", len(src.split('\\n')), \"CLgen\") for _, src in clgen_bc])\n",
    "    \n",
    "    return pd.DataFrame(table, columns=['Classification', 'Line count', 'Source'])\n",
    "\n",
    "kernel_sizes_table = get_kernel_sizes()"
   ]
  },
  {
   "cell_type": "code",
   "execution_count": null,
   "metadata": {
    "collapsed": true
   },
   "outputs": [],
   "source": [
    "def plot_kernel_sizes(table, *args, **kwargs):\n",
    "    sns.set(style=\"ticks\")\n",
    "    palette = sns.cubehelix_palette(2, rot=0, light=.75, dark=1)\n",
    "    ax = sns.boxplot(\n",
    "        x=\"Classification\", y=\"Line count\", hue=\"Source\", data=table,\n",
    "        width=.75, linewidth=1, fliersize=.5, whis=np.inf, \n",
    "        palette=palette, order=[\"w\", \"bf\", \"to\"])\n",
    "\n",
    "    # Y axis\n",
    "    ax.set_yscale(\"log\", nonposy='clip')\n",
    "    # plt.ylim((0, 10000))\n",
    "\n",
    "    # X axis\n",
    "    plt.xlabel(\"\")\n",
    "    \n",
    "    # Legend\n",
    "    ax.get_legend().set_title(\"\")\n",
    "    plt.legend(loc='upper left')\n",
    "    ax.get_legend().draw_frame(False)\n",
    "    \n",
    "    # Border\n",
    "    sns.despine(ax=ax)\n",
    "    \n",
    "    viz.finalise(*args, **kwargs)\n",
    "    \n",
    "plot_kernel_sizes(kernel_sizes_table, figsize=(4, 3))\n",
    "\n",
    "# push LaTex to Overleaf\n",
    "!cd ~/docs/paper-project_b/ && git pull --rebase\n",
    "plot_kernel_sizes(kernel_sizes_table, fs.path(\"~/docs/paper-project_b/build/img/kernel-sizes.pdf\"), figsize=(4, 3))\n",
    "!cd ~/docs/paper-project_b/build && git add . && git commit -m \"auto: build/img/kernel-sizes.pdf\" && git push"
   ]
  },
  {
   "cell_type": "markdown",
   "metadata": {},
   "source": [
    "## Total time"
   ]
  },
  {
   "cell_type": "code",
   "execution_count": null,
   "metadata": {
    "collapsed": true
   },
   "outputs": [],
   "source": [
    "def get_totaltimes():\n",
    "    \n",
    "    def _t(s, results_table, programs_table, reductions_table):\n",
    "        generation_time = sql.sql.func.ifnull(programs_table.runtime, clgen_generation_time)\n",
    "        runtime = results_table.runtime\n",
    "        reduction_time = sql.sql.func.ifnull(reductions_table.runtime, 0)\n",
    "        total_time = generation_time + runtime + reduction_time\n",
    "\n",
    "        q = s.query(total_time)\\\n",
    "            .outerjoin(programs_table)\\\n",
    "            .outerjoin(reductions_table)\\\n",
    "            .filter(results_table.classification != None)\\\n",
    "            .order_by(results_table.date)\n",
    "\n",
    "        times = np.array([row[0] / 3600 for row in q]).cumsum()\n",
    "        return times\n",
    "    \n",
    "    with Session(commit=False) as s:\n",
    "        clsmith_times = _t(s, CLSmithResult, CLSmithProgram, CLSmithReduction)\n",
    "        clgen_times = _t(s, CLgenResult, CLgenProgram, CLgenReduction)\n",
    "\n",
    "    return clsmith_times, clgen_times\n",
    "\n",
    "clsmith_times, clgen_times = get_totaltimes()"
   ]
  },
  {
   "cell_type": "code",
   "execution_count": null,
   "metadata": {
    "collapsed": true
   },
   "outputs": [],
   "source": [
    "def plot_total_tests(clsmith_times, clgen_times, *args, **kwargs):\n",
    "    \n",
    "    def thousands(x, pos):\n",
    "        return \"{:.0f}k\".format(x / 1000)\n",
    "    \n",
    "    ax = plt.gca()\n",
    "    ax.plot(clsmith_times, range(len(clsmith_times)), label=\"CLSmith\")\n",
    "    ax.plot(clgen_times, range(len(clgen_times)), label=\"CLgen\")\n",
    "\n",
    "    ax.set_xlabel(\"Testing time (hours)\")\n",
    "    ax.set_ylabel(\"Completed Test cases\")\n",
    "    \n",
    "    # X axis\n",
    "    ax.set_xlim((0, 48))\n",
    "    \n",
    "    # Y axis\n",
    "    formatter = FuncFormatter(thousands)\n",
    "    ax.set_ylim((0, 100000))\n",
    "    ax.yaxis.set_major_formatter(formatter)\n",
    "    \n",
    "    ax.legend()\n",
    "    ax.get_legend().set_title(\"\")\n",
    "    plt.legend(loc='upper left')\n",
    "    ax.get_legend().draw_frame(False)\n",
    "        \n",
    "    viz.finalise(*args, **kwargs)\n",
    "\n",
    "plot_total_tests(clsmith_times, clgen_times, figsize=(4, 3))\n",
    "\n",
    "# push LaTex to Overleaf\n",
    "!cd ~/docs/paper-project_b/ && git pull --rebase\n",
    "plot_total_tests(clsmith_times, clgen_times, fs.path(\"~/docs/paper-project_b/build/img/total-tests.pdf\"), figsize=(4, 3))\n",
    "!cd ~/docs/paper-project_b/build && git add . && git commit -m \"auto: build/img/total-tests.pdf\" && git push"
   ]
  },
  {
   "cell_type": "code",
   "execution_count": null,
   "metadata": {
    "collapsed": true
   },
   "outputs": [],
   "source": []
  },
  {
   "cell_type": "code",
   "execution_count": null,
   "metadata": {
    "collapsed": true
   },
   "outputs": [],
   "source": []
  }
 ],
 "metadata": {
  "kernelspec": {
   "display_name": "project_b",
   "language": "python",
   "name": "project_b"
  },
  "language_info": {
   "codemirror_mode": {
    "name": "ipython",
    "version": 3
   },
   "file_extension": ".py",
   "mimetype": "text/x-python",
   "name": "python",
   "nbconvert_exporter": "python",
   "pygments_lexer": "ipython3",
   "version": "3.6.1"
  }
 },
 "nbformat": 4,
 "nbformat_minor": 2
}
