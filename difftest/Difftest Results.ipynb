{
 "cells": [
  {
   "cell_type": "markdown",
   "metadata": {},
   "source": [
    "# Difftest Results\n",
    "\n",
    "Connect to results database:"
   ]
  },
  {
   "cell_type": "code",
   "execution_count": 1,
   "metadata": {},
   "outputs": [
    {
     "data": {
      "text/plain": [
       "'mysql://cc1:3306/project_b'"
      ]
     },
     "execution_count": 1,
     "metadata": {},
     "output_type": "execute_result"
    }
   ],
   "source": [
    "import db\n",
    "from db import *\n",
    "%run util.py\n",
    "\n",
    "hostname = \"cc1\"\n",
    "db.init(hostname)"
   ]
  },
  {
   "cell_type": "markdown",
   "metadata": {},
   "source": [
    "## Overview"
   ]
  },
  {
   "cell_type": "code",
   "execution_count": 2,
   "metadata": {},
   "outputs": [
    {
     "data": {
      "text/html": [
       "<div>\n",
       "<table border=\"1\" class=\"dataframe\">\n",
       "  <thead>\n",
       "    <tr style=\"text-align: right;\">\n",
       "      <th></th>\n",
       "      <th>CLSmith</th>\n",
       "      <th>CLSmith w. cldrive</th>\n",
       "      <th>GitHub</th>\n",
       "      <th>CLgen</th>\n",
       "      <th>CLgen w. cl_launcher</th>\n",
       "      <th>CLgen w. co</th>\n",
       "    </tr>\n",
       "  </thead>\n",
       "  <tbody>\n",
       "    <tr>\n",
       "      <th>#. Programs</th>\n",
       "      <td>10001</td>\n",
       "      <td>10001</td>\n",
       "      <td>9238</td>\n",
       "      <td>5930</td>\n",
       "      <td>2385</td>\n",
       "      <td>3385</td>\n",
       "    </tr>\n",
       "    <tr>\n",
       "      <th>#. Testbeds</th>\n",
       "      <td>8</td>\n",
       "      <td>5</td>\n",
       "      <td>5</td>\n",
       "      <td>7</td>\n",
       "      <td>7</td>\n",
       "      <td>7</td>\n",
       "    </tr>\n",
       "    <tr>\n",
       "      <th>#. Params</th>\n",
       "      <td>4</td>\n",
       "      <td>4</td>\n",
       "      <td>4</td>\n",
       "      <td>4</td>\n",
       "      <td>4</td>\n",
       "      <td>4</td>\n",
       "    </tr>\n",
       "    <tr>\n",
       "      <th>#. Results</th>\n",
       "      <td>247808</td>\n",
       "      <td>200020</td>\n",
       "      <td>193477</td>\n",
       "      <td>122798</td>\n",
       "      <td>66780</td>\n",
       "      <td>53840</td>\n",
       "    </tr>\n",
       "  </tbody>\n",
       "</table>\n",
       "</div>"
      ],
      "text/plain": [
       "             CLSmith  CLSmith w. cldrive  GitHub   CLgen  \\\n",
       "#. Programs    10001               10001    9238    5930   \n",
       "#. Testbeds        8                   5       5       7   \n",
       "#. Params          4                   4       4       4   \n",
       "#. Results    247808              200020  193477  122798   \n",
       "\n",
       "             CLgen w. cl_launcher  CLgen w. co  \n",
       "#. Programs                  2385         3385  \n",
       "#. Testbeds                     7            7  \n",
       "#. Params                       4            4  \n",
       "#. Results                  66780        53840  "
      ]
     },
     "execution_count": 2,
     "metadata": {},
     "output_type": "execute_result"
    }
   ],
   "source": [
    "import pandas as pd\n",
    "\n",
    "session = db.make_session()\n",
    "\n",
    "TABLE_NAMES = [\"CLSmith\", \"CLSmith w. cldrive\", \"GitHub\", \"CLgen\", \"CLgen w. cl_launcher\", \"CLgen w. co\"]\n",
    "TABLES = [CLSmithResult, cldriveCLSmithResult, GitHubResult, CLgenResult, cl_launcherCLgenResult, coCLgenResult]\n",
    "\n",
    "data = [\n",
    "    (\"#. Programs\", [session.query(t.program_id).group_by(t.program_id).count() for t in TABLES]),\n",
    "    (\"#. Testbeds\", [session.query(t.testbed_id).group_by(t.testbed_id).count() for t in TABLES]),\n",
    "    (\"#. Params\", [session.query(t.params_id).group_by(t.params_id).count() for t in TABLES]),\n",
    "    (\"#. Results\", [session.query(t).count() for t in TABLES]),\n",
    "]\n",
    "i, d = zip(*data)\n",
    "overview = pd.DataFrame(list(d), index=i, columns=TABLE_NAMES)\n",
    "overview"
   ]
  },
  {
   "cell_type": "markdown",
   "metadata": {},
   "source": [
    "# Experimental Setup\n",
    "\n",
    "### TestBeds\n",
    "\n",
    "A testbed is a combination of host platform and OpenCL device."
   ]
  },
  {
   "cell_type": "code",
   "execution_count": 19,
   "metadata": {},
   "outputs": [
    {
     "data": {
      "image/png": "[encoded data removed]",
      "text/plain": [
       "<matplotlib.figure.Figure at 0x7f35b3574908>"
      ]
     },
     "metadata": {},
     "output_type": "display_data"
    }
   ],
   "source": [
    "import sqlalchemy as sql\n",
    "import numpy as np\n",
    "import matplotlib.pyplot as plt\n",
    "import seaborn as sns\n",
    "from collections import OrderedDict\n",
    "from labm8 import viz\n",
    "\n",
    "%matplotlib inline\n",
    "sns.set(style=\"ticks\", color_codes=True)\n",
    "plt.style.use([\"seaborn-white\", \"seaborn-paper\"])\n",
    "\n",
    "def get_testbed_info(config_id, testbed_id, source, results_table):\n",
    "    testbed = session.query(Testbed).filter(Testbed.id == testbed_id).first()\n",
    "    num_results = session.query(results_table).filter(results_table.testbed_id == testbed_id).count()\n",
    "    return {\n",
    "        \"Device\": device_str(testbed.device),\n",
    "        \"#. Results\": num_results,\n",
    "        \"Source\": source,\n",
    "    }\n",
    "\n",
    "data = []\n",
    "for source, table in [(\"CLSmith\", CLSmithResult), (\"CLgen\", CLgenResult)]:\n",
    "    data += [get_testbed_info(*x, source, table) for x in CONFIGURATIONS]\n",
    "ax = sns.barplot(x=\"Device\", y=\"#. Results\", hue=\"Source\", data=pd.DataFrame(data))\n",
    "plt.xlabel(\"\")\n",
    "plt.ylabel(\"#. Results\")\n",
    "plt.setp(ax.get_xticklabels(), rotation=30)  # rotate x ticks\n",
    "viz.finalise(figsize=(6, 3))"
   ]
  },
  {
   "cell_type": "code",
   "execution_count": 75,
   "metadata": {},
   "outputs": [
    {
     "name": "stderr",
     "output_type": "stream",
     "text": [
      "/home/cec/src/project_b/env/python3.6/lib/python3.6/site-packages/matplotlib/scale.py:101: RuntimeWarning: invalid value encountered in less_equal\n",
      "  a[a <= 0.0] = 1e-300\n"
     ]
    },
    {
     "data": {
      "image/png": "[encoded data removed]",
      "text/plain": [
       "<matplotlib.figure.Figure at 0x7f35e9753828>"
      ]
     },
     "metadata": {},
     "output_type": "display_data"
    }
   ],
   "source": [
    "def get_testbed_info(config_id, testbed_id, source, results_table, program_table, reduction_table, harness_table=None):\n",
    "    testbed = session.query(Testbed).filter(Testbed.id == testbed_id).first()\n",
    "    total_time = session.query(sql.sql.func.sum(results_table.runtime))\\\n",
    "        .filter(results_table.testbed_id == testbed_id).first()[0] or 0\n",
    "    total_time += session.query(sql.sql.func.sum(reduction_table.runtime))\\\n",
    "        .join(results_table)\\\n",
    "        .filter(results_table.testbed_id == testbed_id).first()[0] or 0\n",
    "#     if harness_table:\n",
    "#         total_time += session.query(sql.sql.func.sum(harness_table.generation_time)).filter(Testbed.id == testbed_id).first()[0] or 0\n",
    "    return {\n",
    "        \"Device\": device_str(testbed.device),\n",
    "        \"Test Time\": total_time / 3600,\n",
    "        \"Source\": source,\n",
    "    }\n",
    "\n",
    "data = []\n",
    "for row in [(\"CLSmith\", CLSmithResult, CLSmithProgram, CLSmithReduction), \n",
    "                       (\"CLgen\", CLgenResult, CLgenProgram, CLgenReduction, CLgenHarness)]:\n",
    "    data += [get_testbed_info(*x, *row) for x in CONFIGURATIONS]\n",
    "ax = sns.barplot(x=\"Device\", y=\"Test Time\", hue=\"Source\", data=pd.DataFrame(data))\n",
    "plt.xlabel(\"\")\n",
    "plt.ylabel(\"Time (hours)\")\n",
    "plt.setp(ax.get_xticklabels(), rotation=30)  # rotate x ticks\n",
    "ax.set_yscale(\"log\", nonposy='clip')\n",
    "viz.finalise(figsize=(6, 3))"
   ]
  },
  {
   "cell_type": "code",
   "execution_count": 20,
   "metadata": {},
   "outputs": [
    {
     "name": "stdout",
     "output_type": "stream",
     "text": [
      "Current branch master is up to date.\n",
      "On branch master\n",
      "Your branch is up-to-date with 'origin/master'.\n",
      "nothing to commit, working directory clean\n"
     ]
    },
    {
     "data": {
      "text/html": [
       "<div>\n",
       "<table border=\"1\" class=\"dataframe\">\n",
       "  <thead>\n",
       "    <tr style=\"text-align: right;\">\n",
       "      <th></th>\n",
       "      <th>#.</th>\n",
       "      <th>Device</th>\n",
       "      <th>Platform</th>\n",
       "      <th>Driver</th>\n",
       "      <th>OpenCL</th>\n",
       "      <th>Operating system</th>\n",
       "      <th>Device type</th>\n",
       "      <th>B.R. Generated</th>\n",
       "      <th>B.R. Submitted</th>\n",
       "    </tr>\n",
       "  </thead>\n",
       "  <tbody>\n",
       "    <tr>\n",
       "      <th>0</th>\n",
       "      <td>1</td>\n",
       "      <td>GeForce GTX 1080</td>\n",
       "      <td>NVIDIA CUDA</td>\n",
       "      <td>375.39</td>\n",
       "      <td>1.2</td>\n",
       "      <td>Ubuntu 16.04 64bit</td>\n",
       "      <td>GPU</td>\n",
       "      <td>13</td>\n",
       "      <td>7</td>\n",
       "    </tr>\n",
       "    <tr>\n",
       "      <th>1</th>\n",
       "      <td>2</td>\n",
       "      <td>Intel(R) HD Graphics Haswell GT2 Desktop</td>\n",
       "      <td>Intel Gen OCL Driver</td>\n",
       "      <td>1.3</td>\n",
       "      <td>1.2</td>\n",
       "      <td>Ubuntu 16.04 64bit</td>\n",
       "      <td>GPU</td>\n",
       "      <td>35</td>\n",
       "      <td>11</td>\n",
       "    </tr>\n",
       "    <tr>\n",
       "      <th>2</th>\n",
       "      <td>3</td>\n",
       "      <td>Intel(R) Xeon(R) CPU E5-2620 v4 @ 2.10GHz</td>\n",
       "      <td>Intel OpenCL</td>\n",
       "      <td>1.2.0.25</td>\n",
       "      <td>2.0</td>\n",
       "      <td>Ubuntu 16.04 64bit</td>\n",
       "      <td>CPU</td>\n",
       "      <td>10</td>\n",
       "      <td>5</td>\n",
       "    </tr>\n",
       "    <tr>\n",
       "      <th>3</th>\n",
       "      <td>4</td>\n",
       "      <td>Intel(R) Xeon(R) CPU E5-2650 v2 @ 2.60GHz</td>\n",
       "      <td>Intel OpenCL</td>\n",
       "      <td>1.2.0.44</td>\n",
       "      <td>1.2</td>\n",
       "      <td>CentOS 7.1 64bit</td>\n",
       "      <td>CPU</td>\n",
       "      <td>2</td>\n",
       "      <td>1</td>\n",
       "    </tr>\n",
       "    <tr>\n",
       "      <th>4</th>\n",
       "      <td>5</td>\n",
       "      <td>Intel(R) Core(TM) i5-4570 CPU @ 3.20GHz</td>\n",
       "      <td>Intel OpenCL</td>\n",
       "      <td>1.2.0.25</td>\n",
       "      <td>1.2</td>\n",
       "      <td>Ubuntu 16.04 64bit</td>\n",
       "      <td>CPU</td>\n",
       "      <td>4</td>\n",
       "      <td>4</td>\n",
       "    </tr>\n",
       "    <tr>\n",
       "      <th>5</th>\n",
       "      <td>6</td>\n",
       "      <td>Intel(R) Many Integrated Core Acceleration Card</td>\n",
       "      <td>Intel OpenCL</td>\n",
       "      <td>1.2</td>\n",
       "      <td>1.2</td>\n",
       "      <td>CentOS 7.1 64bit</td>\n",
       "      <td>Accelerator</td>\n",
       "      <td>0</td>\n",
       "      <td>0</td>\n",
       "    </tr>\n",
       "    <tr>\n",
       "      <th>6</th>\n",
       "      <td>7</td>\n",
       "      <td>pthread-Intel(R) Xeon(R) CPU E5-2620 v4 @ 2.10GHz</td>\n",
       "      <td>POCL</td>\n",
       "      <td>0.14</td>\n",
       "      <td>2.0</td>\n",
       "      <td>Ubuntu 16.04 64bit</td>\n",
       "      <td>CPU</td>\n",
       "      <td>170</td>\n",
       "      <td>52</td>\n",
       "    </tr>\n",
       "    <tr>\n",
       "      <th>7</th>\n",
       "      <td>8</td>\n",
       "      <td>Oclgrind Simulator</td>\n",
       "      <td>Oclgrind</td>\n",
       "      <td>16.10</td>\n",
       "      <td>1.2</td>\n",
       "      <td>Ubuntu 16.04 64bit</td>\n",
       "      <td>Emulator</td>\n",
       "      <td>0</td>\n",
       "      <td>0</td>\n",
       "    </tr>\n",
       "  </tbody>\n",
       "</table>\n",
       "</div>"
      ],
      "text/plain": [
       "   #.                                             Device  \\\n",
       "0   1                                   GeForce GTX 1080   \n",
       "1   2           Intel(R) HD Graphics Haswell GT2 Desktop   \n",
       "2   3          Intel(R) Xeon(R) CPU E5-2620 v4 @ 2.10GHz   \n",
       "3   4          Intel(R) Xeon(R) CPU E5-2650 v2 @ 2.60GHz   \n",
       "4   5            Intel(R) Core(TM) i5-4570 CPU @ 3.20GHz   \n",
       "5   6    Intel(R) Many Integrated Core Acceleration Card   \n",
       "6   7  pthread-Intel(R) Xeon(R) CPU E5-2620 v4 @ 2.10GHz   \n",
       "7   8                                 Oclgrind Simulator   \n",
       "\n",
       "               Platform    Driver OpenCL    Operating system  Device type  \\\n",
       "0           NVIDIA CUDA    375.39    1.2  Ubuntu 16.04 64bit          GPU   \n",
       "1  Intel Gen OCL Driver       1.3    1.2  Ubuntu 16.04 64bit          GPU   \n",
       "2          Intel OpenCL  1.2.0.25    2.0  Ubuntu 16.04 64bit          CPU   \n",
       "3          Intel OpenCL  1.2.0.44    1.2    CentOS 7.1 64bit          CPU   \n",
       "4          Intel OpenCL  1.2.0.25    1.2  Ubuntu 16.04 64bit          CPU   \n",
       "5          Intel OpenCL       1.2    1.2    CentOS 7.1 64bit  Accelerator   \n",
       "6                  POCL      0.14    2.0  Ubuntu 16.04 64bit          CPU   \n",
       "7              Oclgrind     16.10    1.2  Ubuntu 16.04 64bit     Emulator   \n",
       "\n",
       "   B.R. Generated  B.R. Submitted  \n",
       "0              13               7  \n",
       "1              35              11  \n",
       "2              10               5  \n",
       "3               2               1  \n",
       "4               4               4  \n",
       "5               0               0  \n",
       "6             170              52  \n",
       "7               0               0  "
      ]
     },
     "execution_count": 20,
     "metadata": {},
     "output_type": "execute_result"
    }
   ],
   "source": [
    "# push LaTex to Overleaf\n",
    "!cd ~/docs/paper-project_b/ && git pull --rebase\n",
    "\n",
    "import os\n",
    "from collections import OrderedDict\n",
    "\n",
    "def get_total_submitted(testbed: Testbed):\n",
    "    submitable_results = [coCLgenResult, cl_launcherCLgenResult]\n",
    "    \n",
    "    def get_submitted(table):\n",
    "        return session.query(table).filter(table.testbed_id == testbed.id, table.submitted).count()\n",
    "\n",
    "    def get_generated(table):\n",
    "        return session.query(table).filter(table.testbed_id == testbed.id, sql.or_(table.submitted, table.dupe)).count()\n",
    "    \n",
    "    return (\n",
    "        sum(get_generated(table) for table in submitable_results), \n",
    "        sum(get_submitted(table) for table in submitable_results)\n",
    "    )\n",
    "\n",
    "\n",
    "def get_row(config_id, testbed_id):\n",
    "    testbed = session.query(Testbed).filter(Testbed.id == testbed_id).first()\n",
    "    d = OrderedDict()\n",
    "    d[\"#.\"] = config_id\n",
    "    d[\"Device\"] = testbed.device\n",
    "    d[\"Platform\"] = platform_str(testbed.platform)\n",
    "    d[\"Driver\"] = driver_str(testbed.driver)\n",
    "    d[\"OpenCL\"] = testbed.opencl\n",
    "    d[\"Operating system\"] = host_str(testbed.host)\n",
    "    d[\"Device type\"] = devtype_str(testbed.devtype)\n",
    "    d[\"B.R. Generated\"], d[\"B.R. Submitted\"] = get_total_submitted(testbed)\n",
    "    return d\n",
    "\n",
    "table = pd.DataFrame([get_row(*x) for x in CONFIGURATIONS])\n",
    "with open(os.path.expanduser(\"~/docs/paper-project_b/build/tab/platforms.tex\"), \"w\") as outfile:\n",
    "    table.to_latex(buf=outfile, index=None)\n",
    "!cd ~/docs/paper-project_b/build && git add . && git commit -m \"auto: build/tab/platforms.tex\" && git push\n",
    "table"
   ]
  },
  {
   "cell_type": "code",
   "execution_count": 21,
   "metadata": {},
   "outputs": [
    {
     "name": "stderr",
     "output_type": "stream",
     "text": [
      "insufficient CLgenResults for GeForce GTX 1080 False\n",
      "insufficient CLgenResults for GeForce GTX 1080 True\n",
      "insufficient CLSmithResults for Intel(R) HD Graphics Haswell GT2 Desktop False\n",
      "insufficient CLgenResults for Intel(R) HD Graphics Haswell GT2 Desktop False\n",
      "insufficient CLSmithResults for Intel(R) HD Graphics Haswell GT2 Desktop True\n",
      "insufficient CLgenResults for Intel(R) HD Graphics Haswell GT2 Desktop True\n",
      "insufficient CLgenResults for Intel(R) Xeon(R) CPU E5-2620 v4 @ 2.10GHz False\n",
      "insufficient CLgenResults for Intel(R) Xeon(R) CPU E5-2620 v4 @ 2.10GHz True\n",
      "insufficient CLSmithResults for       Intel(R) Xeon(R) CPU E5-2650 v2 @ 2.60GHz False\n",
      "insufficient CLgenResults for       Intel(R) Xeon(R) CPU E5-2650 v2 @ 2.60GHz False\n",
      "insufficient CLSmithResults for       Intel(R) Xeon(R) CPU E5-2650 v2 @ 2.60GHz True\n",
      "insufficient CLgenResults for       Intel(R) Xeon(R) CPU E5-2650 v2 @ 2.60GHz True\n",
      "insufficient CLgenResults for Intel(R) Core(TM) i5-4570 CPU @ 3.20GHz False\n",
      "insufficient CLSmithResults for Intel(R) Core(TM) i5-4570 CPU @ 3.20GHz True\n",
      "insufficient CLgenResults for Intel(R) Core(TM) i5-4570 CPU @ 3.20GHz True\n",
      "insufficient CLSmithResults for Intel(R) Many Integrated Core Acceleration Card False\n",
      "insufficient CLgenResults for Intel(R) Many Integrated Core Acceleration Card False\n",
      "insufficient CLgenResults for Intel(R) Many Integrated Core Acceleration Card True\n",
      "insufficient CLgenResults for pthread-Intel(R) Xeon(R) CPU E5-2620 v4 @ 2.10GHz False\n",
      "insufficient CLgenResults for pthread-Intel(R) Xeon(R) CPU E5-2620 v4 @ 2.10GHz True\n",
      "insufficient CLgenResults for Oclgrind Simulator False\n",
      "insufficient CLgenResults for Oclgrind Simulator True\n"
     ]
    },
    {
     "name": "stdout",
     "output_type": "stream",
     "text": [
      "Current branch master is up to date.\n",
      "On branch master\n",
      "Your branch is up-to-date with 'origin/master'.\n",
      "nothing to commit, working directory clean\n"
     ]
    }
   ],
   "source": [
    "%run mkmegatable.ipy"
   ]
  },
  {
   "cell_type": "markdown",
   "metadata": {},
   "source": [
    "## Runtimes"
   ]
  },
  {
   "cell_type": "code",
   "execution_count": 61,
   "metadata": {},
   "outputs": [
    {
     "data": {
      "image/png": "[encoded data removed]",
      "text/plain": [
       "<matplotlib.figure.Figure at 0x7f35b3907588>"
      ]
     },
     "metadata": {},
     "output_type": "display_data"
    }
   ],
   "source": [
    "sns.set(style=\"ticks\")\n",
    "\n",
    "def plot_runtimes(*args, **kwargs):\n",
    "    TIMEOUT = 60\n",
    "    \n",
    "    # CLSmith times\n",
    "    q = session.query(\n",
    "            CLSmithResult.runtime, \n",
    "            CLSmithProgram.runtime, \n",
    "            sql.sql.func.ifnull(CLSmithReduction.runtime, 0))\\\n",
    "        .outerjoin(CLSmithProgram)\\\n",
    "        .outerjoin(CLSmithReduction)\\\n",
    "        .filter(CLSmithResult.classification != None)\n",
    "    clsmith_times = np.array([row for row in q])\n",
    "    \n",
    "    # CLgen times\n",
    "    q = session.query(\n",
    "            CLgenResult.runtime,\n",
    "            sql.sql.func.ifnull(CLgenProgram.runtime, clgen_generation_time) + CLgenHarness.generation_time,\n",
    "            sql.sql.func.ifnull(CLgenReduction.runtime, 0))\\\n",
    "        .outerjoin(CLgenProgram)\\\n",
    "        .outerjoin(CLgenHarness)\\\n",
    "        .outerjoin(CLgenReduction)\\\n",
    "        .filter(CLgenResult.classification != None)\n",
    "    clgen_times = np.array([row for row in q])\n",
    "\n",
    "    table = (\n",
    "        [(\"Execution\", x, \"CLSmith\") for x in clsmith_times[:,0] if x < TIMEOUT] +\n",
    "        [(\"Generation\", x, \"CLSmith\") for x in clsmith_times[:,1] if x < TIMEOUT] +\n",
    "        [(\"Reduction\", x, \"CLSmith\") for x in clsmith_times[:,2] if x > 0] +\n",
    "        [(\"Execution\", x, \"CLgen\") for x in clgen_times[:,0] if x < TIMEOUT] +\n",
    "        [(\"Generation\", x, \"CLgen\") for x in clgen_times[:,1] if x < TIMEOUT] +\n",
    "        [(\"Reduction\", x, \"CLgen\") for x in clgen_times[:,2] if x > 0])\n",
    "    table = pd.DataFrame(table, columns=[\"Name\", \"Runtime (s)\", \"Source\"])\n",
    "\n",
    "    # Plot\n",
    "    palette = sns.cubehelix_palette(2, rot=-.4, light=.85, dark=.45)\n",
    "    ax = sns.boxplot(\n",
    "        x=\"Name\", y=\"Runtime (s)\", hue=\"Source\", data=table,\n",
    "        width=.75, linewidth=1, fliersize=.5, whis=np.inf, \n",
    "        palette=palette, order=[\"Generation\", \"Execution\", \"Reduction\"])\n",
    "\n",
    "    \n",
    "       # Y axis\n",
    "    ax.set_yscale(\"log\", nonposy='clip')\n",
    "    plt.ylim((0, 10000))\n",
    "\n",
    "    # X axis\n",
    "    plt.xlabel(\"\")\n",
    "    \n",
    "    # Legend\n",
    "    ax.get_legend().set_title(\"\")\n",
    "    plt.legend(loc='upper left')\n",
    "    ax.get_legend().draw_frame(False)\n",
    "    \n",
    "    # Border\n",
    "    sns.despine(ax=ax)\n",
    "\n",
    "    viz.finalise(*args, **kwargs)\n",
    "\n",
    "\n",
    "plot_runtimes(figsize=(4, 3))"
   ]
  },
  {
   "cell_type": "code",
   "execution_count": 22,
   "metadata": {},
   "outputs": [
    {
     "data": {
      "image/png": "[encoded data removed]",
      "text/plain": [
       "<matplotlib.figure.Figure at 0x7f35b3606be0>"
      ]
     },
     "metadata": {},
     "output_type": "display_data"
    }
   ],
   "source": [
    "def boxplot(ax, data, labels):\n",
    "    sns.boxplot(data=data, ax=ax)\n",
    "    # ax.boxplot(data)\n",
    "    ax.set_xticklabels(labels)\n",
    "    ax.set_yscale(\"log\", nonposy='clip')\n",
    "    plt.setp(ax.get_xticklabels(), rotation=45)  # rotate x ticks\n",
    "\n",
    "def plot_clsmith_runtimes(ax):\n",
    "    # Tables:\n",
    "    results_table = CLSmithResult\n",
    "    programs_table = CLSmithProgram\n",
    "    reductions_table = CLSmithReduction\n",
    "    \n",
    "    # Runtimes:\n",
    "    generation_time = sql.sql.func.ifnull(programs_table.runtime, clgen_generation_time)\n",
    "    runtime = results_table.runtime\n",
    "    reduction_time = sql.sql.func.ifnull(reductions_table.runtime, 0)\n",
    "\n",
    "    # Go fetch!\n",
    "    q = session.query(runtime, generation_time, reduction_time)\\\n",
    "        .outerjoin(programs_table)\\\n",
    "        .outerjoin(reductions_table)\\\n",
    "        .filter(results_table.classification != None)\\\n",
    "        .order_by(results_table.date)\n",
    "    \n",
    "    # Format data\n",
    "    times = np.array([row for row in q])\n",
    "    runtimes = np.array([x for x in times[:,0] if x < 60])\n",
    "    generation_times = np.array([x for x in times[:,1] if x < 60])\n",
    "    reduction_times = np.array([x for x in times[:,2] if x > 0])\n",
    "    \n",
    "    # Plot\n",
    "    boxplot(ax, \n",
    "            [generation_times, runtimes, reduction_times],\n",
    "            ['Generation', 'Execution', 'Reduction'])\n",
    "\n",
    "def plot_clgen_runtimes(ax):\n",
    "    # Tables:\n",
    "    results_table = CLgenResult\n",
    "    programs_table = CLgenProgram\n",
    "    harness_table = CLgenHarness\n",
    "    reductions_table = CLgenReduction\n",
    "    \n",
    "    # Runtimes:\n",
    "    generation_time = sql.sql.func.ifnull(programs_table.runtime, clgen_generation_time)\n",
    "    harness_time = harness_table.generation_time + harness_table.compile_time\n",
    "    runtime = results_table.runtime\n",
    "    reduction_time = sql.sql.func.ifnull(reductions_table.runtime, 0)\n",
    "\n",
    "    # Go fetch!\n",
    "    q = session.query(runtime, generation_time, harness_time, reduction_time)\\\n",
    "        .outerjoin(programs_table)\\\n",
    "        .outerjoin(harness_table)\\\n",
    "        .outerjoin(reductions_table)\\\n",
    "        .filter(results_table.classification != None)\\\n",
    "        .order_by(results_table.date)\n",
    "    \n",
    "    # Format data\n",
    "    times = np.array([row for row in q])\n",
    "    runtimes = np.array([x for x in times[:,0] if x < 60])\n",
    "    generation_times = np.array([x for x in times[:,1] if x < 60])\n",
    "    harness_times = np.array([x for x in times[:,2] if x < 60])\n",
    "    \n",
    "    # Plot\n",
    "    boxplot(ax, \n",
    "            [generation_times, harness_times, runtimes],\n",
    "            ['Generation (kernel)', 'Generation (harness)', 'Execution'])\n",
    "\n",
    "\n",
    "def plot_runtimes(*args, **kwargs):\n",
    "    fig, (ax1, ax2) = plt.subplots(1, 2, sharey=True)\n",
    "    plot_clsmith_runtimes(ax1)\n",
    "    ax1.set_title(\"CLSmith\")\n",
    "    ax1.set_ylabel(\"Time (s)\")\n",
    "\n",
    "    plot_clgen_runtimes(ax2)\n",
    "    ax2.set_title(\"CLgen\")\n",
    "    viz.finalise(*args, **kwargs)\n",
    "\n",
    "\n",
    "plot_runtimes(figsize=(5, 4))"
   ]
  },
  {
   "cell_type": "code",
   "execution_count": 7,
   "metadata": {},
   "outputs": [
    {
     "data": {
      "image/png": "[encoded data removed]",
      "text/plain": [
       "<matplotlib.figure.Figure at 0x7f4b013d5358>"
      ]
     },
     "metadata": {},
     "output_type": "display_data"
    }
   ],
   "source": [
    "from matplotlib.ticker import FuncFormatter\n",
    "\n",
    "def plot_totaltime(ax, results_table, programs_table, reductions_table):\n",
    "    generation_time = sql.sql.func.ifnull(programs_table.runtime, clgen_generation_time)\n",
    "    runtime = results_table.runtime\n",
    "    reduction_time = sql.sql.func.ifnull(reductions_table.runtime, 0)\n",
    "    total_time = generation_time + runtime + reduction_time\n",
    "\n",
    "    q = session.query(total_time)\\\n",
    "        .outerjoin(programs_table)\\\n",
    "        .outerjoin(reductions_table)\\\n",
    "        .filter(results_table.classification != None)\\\n",
    "        .order_by(results_table.date)\n",
    "\n",
    "    times = np.array([row[0] / 3600 for row in q]).cumsum()\n",
    "    ax.plot(times, range(len(times)))\n",
    "    ax.set_xlim((0, 24))\n",
    "    ax.set_ylim((0, 100000))\n",
    "\n",
    "def thousands(x, pos):\n",
    "    return \"{:.0f}k\".format(x / 1000)\n",
    "\n",
    "formatter = FuncFormatter(thousands)\n",
    "    \n",
    "ax = plt.gca()\n",
    "plot_totaltime(ax, CLSmithResult, CLSmithProgram, CLSmithReduction)\n",
    "plot_totaltime(ax, CLgenResult, CLgenProgram, CLgenReduction)\n",
    "\n",
    "ax.set_xlabel(\"Runtime Time (hours)\")\n",
    "ax.set_ylabel(\"Completed Test cases\")\n",
    "ax.yaxis.set_major_formatter(formatter)\n",
    "viz.finalise(figsize=(4, 3))"
   ]
  },
  {
   "cell_type": "markdown",
   "metadata": {},
   "source": [
    "## Runtime Parameters\n",
    "\n",
    "### cl_launcher"
   ]
  },
  {
   "cell_type": "code",
   "execution_count": 8,
   "metadata": {
    "collapsed": true
   },
   "outputs": [],
   "source": [
    "# CL_LAUNCHER_TABLE_NAMES = [\"CLSmith\", \"CLgen w. cl_launcher\"]\n",
    "# CL_LAUNCHER_TABLES = [CLSmithResult, cl_launcherCLgenResult]\n",
    "\n",
    "# q = session.query(cl_launcherParams).order_by(\n",
    "#         cl_launcherParams.gsize_x, cl_launcherParams.gsize_y, cl_launcherParams.gsize_z,\n",
    "#         cl_launcherParams.lsize_x, cl_launcherParams.lsize_y, cl_launcherParams.lsize_z,\n",
    "#         cl_launcherParams.optimizations)\n",
    "\n",
    "# data = []\n",
    "# for param in q:\n",
    "#     nresult_param = session.query(CLSmithResult).filter(CLSmithResult.params == param).count()\n",
    "#     data.append((\n",
    "#         param.id, [param.gsize, param.lsize, param.optimizations_on_off ] + [\n",
    "#             session.query(t).filter(t.params == param).count()\n",
    "#             for t in CL_LAUNCHER_TABLES\n",
    "#         ]))\n",
    "# i, d = zip(*data)\n",
    "\n",
    "# cl_launcher_params = pd.DataFrame(list(d), index=i, columns=[\n",
    "#     \"Global size\", \"Local size\", \"Optimizations\"] + [\n",
    "#         f\"#. {t}\" for t in CL_LAUNCHER_TABLE_NAMES])\n",
    "# cl_launcher_params"
   ]
  },
  {
   "cell_type": "markdown",
   "metadata": {},
   "source": [
    "### cldrive"
   ]
  },
  {
   "cell_type": "code",
   "execution_count": 9,
   "metadata": {
    "collapsed": true
   },
   "outputs": [],
   "source": [
    "# CLDRIVE_TABLE_NAMES = [\"CLSmith w. cldrive\", \"GitHub\", \"CLgen\"]\n",
    "# CLDRIVE_TABLES = [cldriveCLSmithResult, GitHubResult, CLgenResult]\n",
    "\n",
    "# q = session.query(cldriveParams).order_by(\n",
    "#         cldriveParams.size,\n",
    "#         cldriveParams.gsize_x, cldriveParams.gsize_y, cldriveParams.gsize_z,\n",
    "#         cldriveParams.lsize_x, cldriveParams.lsize_y, cldriveParams.lsize_z,\n",
    "#         cldriveParams.generator, cldriveParams.scalar_val, cldriveParams.optimizations)\n",
    "\n",
    "# # push LaTex to Overleaf\n",
    "# !cd ~/docs/paper-project_b/ && git pull --rebase\n",
    "# data = []\n",
    "# for param in q:\n",
    "#     data.append([param.size, param.gsize, param.lsize, param.optimizations_on_off])\n",
    "# table = pd.DataFrame(data, index=range(1, len(data)+1), columns=[\n",
    "#     \"Dataset Size\", \"Global size\", \"Workgroup size\", \"Optimizations\"])\n",
    "# with open(os.path.expanduser(\"~/docs/paper-project_b/build/tab/cldrive-params.tex\"), \"w\") as outfile:\n",
    "#     table.to_latex(buf=outfile)\n",
    "# !cd ~/docs/paper-project_b/build && git add . && git commit -m \"auto: build/tab/cldrive-params.tex\" && git push\n",
    "# table"
   ]
  },
  {
   "cell_type": "markdown",
   "metadata": {},
   "source": [
    "# Experimental Results"
   ]
  },
  {
   "cell_type": "markdown",
   "metadata": {},
   "source": [
    "## Runtimes\n",
    "\n",
    "Excluding runs which terminated in non-zero status:"
   ]
  },
  {
   "cell_type": "code",
   "execution_count": 10,
   "metadata": {
    "collapsed": true
   },
   "outputs": [],
   "source": [
    "# import numpy as np\n",
    "\n",
    "# runtimes = [np.array(session.query(table.runtime).filter(table.status == 0).all()) for table in TABLES]\n",
    "# data = [\n",
    "#     (\"Min\", [r.min() for r in runtimes]),\n",
    "#     (\"Median\", [np.median(r) for r in runtimes]),\n",
    "#     (\"Mean\", [r.mean() for r in runtimes]),\n",
    "#     (\"Max\", [r.max() for r in runtimes])\n",
    "# ]\n",
    "# i, d = zip(*data)\n",
    "# runtimes = pd.DataFrame(list(d), index=i, columns=TABLE_NAMES)\n",
    "# runtimes"
   ]
  },
  {
   "cell_type": "markdown",
   "metadata": {
    "collapsed": true
   },
   "source": [
    "## Outcomes & Classifications"
   ]
  },
  {
   "cell_type": "markdown",
   "metadata": {},
   "source": [
    "**Pandas tables of outcomes**"
   ]
  },
  {
   "cell_type": "code",
   "execution_count": 11,
   "metadata": {
    "collapsed": true
   },
   "outputs": [],
   "source": [
    "# outcomes = {}\n",
    "\n",
    "# for name, table in zip(CL_LAUNCHER_TABLE_NAMES + CLDRIVE_TABLE_NAMES, CL_LAUNCHER_TABLES + CLDRIVE_TABLES):\n",
    "#     r = []\n",
    "#     for testbed in session.query(Testbed).all():\n",
    "#         nresult = session.query(table).filter(table.testbed == testbed).count()\n",
    "\n",
    "#         q = session.query(table.outcome, sql.func.count(table.outcome)).filter(\n",
    "#             table.testbed == testbed).group_by(table.outcome).order_by(\n",
    "#                 sql.desc(sql.func.count(table.outcome)))\n",
    "\n",
    "#         for outcome, count in q.all():\n",
    "#             ratio = (count / nresult) * 100\n",
    "#             r.append((DEVICES.get(testbed.device, testbed.device), outcome, count, ratio))\n",
    "#     outcomes[name] = pd.DataFrame(r, columns=[\"Device\", \"Outcome\", \"Count\", \"% of Total Results\"])\n",
    "\n",
    "# print(\"done.\")"
   ]
  },
  {
   "cell_type": "markdown",
   "metadata": {},
   "source": [
    "**Pandas tables of classifications**"
   ]
  },
  {
   "cell_type": "code",
   "execution_count": 12,
   "metadata": {
    "collapsed": true
   },
   "outputs": [],
   "source": [
    "# classifications = {}\n",
    "\n",
    "# classificationsSort = [\n",
    "#     'Invalid testcase',\n",
    "#     'Build failure',\n",
    "#     'Runtime crash',\n",
    "#     'No majority',\n",
    "#     'Wrong code',\n",
    "#     'Okay'\n",
    "# ]\n",
    "\n",
    "# def escape(val):\n",
    "#     if val is None:\n",
    "#         return val\n",
    "#     else:\n",
    "#         return str(classificationsSort.index(val)) + \". \" + val\n",
    "\n",
    "# for name, table in zip(CL_LAUNCHER_TABLE_NAMES + CLDRIVE_TABLE_NAMES, CL_LAUNCHER_TABLES + CLDRIVE_TABLES):\n",
    "#     r = []\n",
    "#     for testbed in session.query(Testbed).all():\n",
    "#         nresult = session.query(table).filter(table.testbed == testbed).count()\n",
    "\n",
    "#         q = session.query(table.classification, sql.func.count(table.classification)).filter(\n",
    "#             table.testbed == testbed).group_by(table.classification).order_by(\n",
    "#                 sql.desc(sql.func.count(table.classification)))\n",
    "\n",
    "#         for val, count in q.all():\n",
    "#             ratio = (count / nresult) * 100\n",
    "#             r.append((DEVICES.get(testbed.device, testbed.device), escape(val), count, ratio))\n",
    "#     classifications[name] = pd.DataFrame(r, columns=[\"Device\", \"Classification\", \"Count\", \"% of Total Results\"])\n",
    "\n",
    "# print(\"done.\")"
   ]
  },
  {
   "cell_type": "code",
   "execution_count": 13,
   "metadata": {
    "collapsed": true
   },
   "outputs": [],
   "source": [
    "# classifications[\"CLgen w. cl_launcher\"]"
   ]
  },
  {
   "cell_type": "markdown",
   "metadata": {},
   "source": [
    "## Experimental Results"
   ]
  },
  {
   "cell_type": "code",
   "execution_count": 14,
   "metadata": {
    "collapsed": true
   },
   "outputs": [],
   "source": [
    "# import matplotlib.pyplot as plt\n",
    "# import seaborn as sns\n",
    "# from labm8 import viz\n",
    "# %matplotlib inline\n",
    "\n",
    "# def plot_outcomes(table, name, dictname=outcomes, key='Outcome'):\n",
    "#     ax = dictname[name].pivot('Device', key)['Count'].plot(\n",
    "#         kind='bar', stacked=True, colormap=\"Reds_r\", sort_columns=True)\n",
    "\n",
    "#     nprog = session.query(table.program_id).group_by(table.program_id).count()\n",
    "#     nparam = session.query(table.params_id).group_by(table.params_id).count()\n",
    "#     plt.title(f\"{nprog} {name} x {nparam} parameters\")\n",
    "#     plt.ylabel(\"Results\")\n",
    "#     plt.xlabel(\"\")\n",
    "\n",
    "#     plt.ylim(0, nprog * nparam)\n",
    "\n",
    "#     # reverse legend order (because plot stacks from bottom to top, and legend goes from top to bottom)\n",
    "#     handles, labels = ax.get_legend_handles_labels()\n",
    "#     ax.legend(handles[::-1], labels[::-1], loc='center left', bbox_to_anchor=(1, 0.5))\n",
    "\n",
    "#     viz.finalise(figsize=(3.5, 8))\n",
    "    \n",
    "    \n",
    "# def summarize(table_name):\n",
    "#     \"\"\" summarize a table of classifications \"\"\"\n",
    "#     table = classifications[table_name]\n",
    "\n",
    "#     def get_val(classification):\n",
    "#         try:\n",
    "#             return table.loc[\n",
    "#                 (table['Device'] == device) & (table['Classification'] == classification)]['Count'].values[0]\n",
    "#         except IndexError:\n",
    "#             return 0\n",
    "    \n",
    "#     columns = ['Platform', 'Device', 'Driver', 'Invalid Testcases', 'Build Failures', 'Runtime Crashes', 'Incorrect Outputs', 'Okay']\n",
    "#     devices = sorted(set(table['Device'].values))\n",
    "\n",
    "#     d = []    \n",
    "#     for device in devices:\n",
    "#         lookup = dict((v, k) for k, v in DEVICES.items())\n",
    "#         full_name = lookup.get(device, device)\n",
    "        \n",
    "#         # lookup the testbed\n",
    "#         q = session.query(Testbed).filter(Testbed.device == full_name).all()\n",
    "#         if len(q) != 1:\n",
    "#             raise q\n",
    "#         testbed = q[0]\n",
    "        \n",
    "#         r = [\n",
    "#             PLATFORMS.get(testbed.platform, testbed.platform),\n",
    "#             device,\n",
    "#             DRIVERS.get(testbed.driver, testbed.driver),\n",
    "#             get_val('0. Invalid testcase'),\n",
    "#             get_val('1. Build failure'),\n",
    "#             get_val('2. Runtime crash'),\n",
    "#             get_val('3. Wrong code'),\n",
    "#             get_val('4. Okay'),\n",
    "#         ]\n",
    "#         d.append(r)\n",
    "#     summary = pd.DataFrame(d, columns=columns, index=range(1, len(devices)+1))\n",
    "\n",
    "#     !cd ~/docs/paper-project_b/ && git pull --rebase >/dev/null\n",
    "#     name = '-'.join(table_name.split())\n",
    "#     with open(os.path.expanduser(f\"~/docs/paper-project_b/build/tab/results-{name}.tex\"), \"w\") as outfile:\n",
    "#         summary.to_latex(buf=outfile)\n",
    "#     !cd ~/docs/paper-project_b/build && git add . && git commit -m \"auto: summarize table\" >/dev/null && git push >/dev/null\n",
    "#     return summary"
   ]
  }
 ],
 "metadata": {
  "kernelspec": {
   "display_name": "project_b",
   "language": "python",
   "name": "project_b"
  },
  "language_info": {
   "codemirror_mode": {
    "name": "ipython",
    "version": 3
   },
   "file_extension": ".py",
   "mimetype": "text/x-python",
   "name": "python",
   "nbconvert_exporter": "python",
   "pygments_lexer": "ipython3",
   "version": "3.6.1"
  }
 },
 "nbformat": 4,
 "nbformat_minor": 2
}
