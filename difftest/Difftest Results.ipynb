{
 "cells": [
  {
   "cell_type": "markdown",
   "metadata": {},
   "source": [
    "# Difftest Results\n",
    "\n",
    "To generate results:\n",
    "\n",
    "```\n",
    "# make programs\n",
    "$ ./clsmith-mkprograms -H cc1 -n 10000\n",
    "# list available OpenCL platforms and devices\n",
    "$ cldrive --clinfo\n",
    "# run programs on platform ID and device ID\n",
    "$ ./clsmith-runprograms -H cc1 0 0\n",
    "```\n",
    "\n",
    "Connect to results database:"
   ]
  },
  {
   "cell_type": "code",
   "execution_count": 1,
   "metadata": {},
   "outputs": [
    {
     "data": {
      "text/plain": [
       "'mysql://cc1:3306/clsmith'"
      ]
     },
     "execution_count": 1,
     "metadata": {},
     "output_type": "execute_result"
    }
   ],
   "source": [
    "import db\n",
    "from db import *\n",
    "\n",
    "hostname = \"cc1\"\n",
    "db.init(hostname)"
   ]
  },
  {
   "cell_type": "markdown",
   "metadata": {},
   "source": [
    "## Overview"
   ]
  },
  {
   "cell_type": "code",
   "execution_count": 16,
   "metadata": {},
   "outputs": [
    {
     "data": {
      "text/html": [
       "<div>\n",
       "<table border=\"1\" class=\"dataframe\">\n",
       "  <thead>\n",
       "    <tr style=\"text-align: right;\">\n",
       "      <th></th>\n",
       "      <th></th>\n",
       "      <th>CLSmith</th>\n",
       "      <th>CLgen</th>\n",
       "    </tr>\n",
       "  </thead>\n",
       "  <tbody>\n",
       "    <tr>\n",
       "      <th>0</th>\n",
       "      <td>Programs</td>\n",
       "      <td>10001</td>\n",
       "      <td>1000</td>\n",
       "    </tr>\n",
       "    <tr>\n",
       "      <th>1</th>\n",
       "      <td>Testbeds</td>\n",
       "      <td>2</td>\n",
       "      <td>2</td>\n",
       "    </tr>\n",
       "    <tr>\n",
       "      <th>2</th>\n",
       "      <td>Params</td>\n",
       "      <td>4</td>\n",
       "      <td>3</td>\n",
       "    </tr>\n",
       "    <tr>\n",
       "      <th>3</th>\n",
       "      <td>Results</td>\n",
       "      <td>80008</td>\n",
       "      <td>230</td>\n",
       "    </tr>\n",
       "  </tbody>\n",
       "</table>\n",
       "</div>"
      ],
      "text/plain": [
       "             CLSmith  CLgen\n",
       "0  Programs    10001   1000\n",
       "1  Testbeds        2      2\n",
       "2    Params        4      3\n",
       "3   Results    80008    230"
      ]
     },
     "execution_count": 16,
     "metadata": {},
     "output_type": "execute_result"
    }
   ],
   "source": [
    "import pandas as pd\n",
    "\n",
    "session = db.make_session()\n",
    "\n",
    "data = []\n",
    "data.append((\"Programs\", session.query(CLSmithProgram).count(),\n",
    "                         session.query(CLgenProgram).count()))\n",
    "data.append((\"Testbeds\", session.query(CLSmithResult.testbed).group_by(CLSmithResult.testbed).count(),\n",
    "                         session.query(CLgenResult.testbed).group_by(CLgenResult.testbed).count()))\n",
    "data.append((\"Params\", session.query(CLSmithParams).count(), \n",
    "                       session.query(CLgenParams).count()))\n",
    "data.append((\"Results\", session.query(CLSmithResult).count(),\n",
    "                        session.query(CLgenResult).count()))\n",
    "\n",
    "pd.DataFrame(data, columns=[\"\", \"CLSmith\", \"CLgen\"])"
   ]
  },
  {
   "cell_type": "markdown",
   "metadata": {},
   "source": [
    "### TestBeds"
   ]
  },
  {
   "cell_type": "code",
   "execution_count": 3,
   "metadata": {},
   "outputs": [
    {
     "data": {
      "text/html": [
       "<div>\n",
       "<table border=\"1\" class=\"dataframe\">\n",
       "  <thead>\n",
       "    <tr style=\"text-align: right;\">\n",
       "      <th></th>\n",
       "      <th>ID</th>\n",
       "      <th>Host</th>\n",
       "      <th>Device</th>\n",
       "      <th>Driver</th>\n",
       "      <th>#. CLSmith Results</th>\n",
       "      <th>CLSmith %</th>\n",
       "      <th>#. CLgen Results</th>\n",
       "      <th>CLgen %</th>\n",
       "    </tr>\n",
       "  </thead>\n",
       "  <tbody>\n",
       "    <tr>\n",
       "      <th>0</th>\n",
       "      <td>3</td>\n",
       "      <td>Ubuntu 16.04 64bit</td>\n",
       "      <td>NVIDIA GTX 1080</td>\n",
       "      <td>375.39</td>\n",
       "      <td>40004</td>\n",
       "      <td>50.00%</td>\n",
       "      <td>32</td>\n",
       "      <td>31.07%</td>\n",
       "    </tr>\n",
       "    <tr>\n",
       "      <th>1</th>\n",
       "      <td>9</td>\n",
       "      <td>Ubuntu 16.04 64bit</td>\n",
       "      <td>Intel E5-2620</td>\n",
       "      <td>1.2.0.25</td>\n",
       "      <td>40004</td>\n",
       "      <td>50.00%</td>\n",
       "      <td>71</td>\n",
       "      <td>68.93%</td>\n",
       "    </tr>\n",
       "  </tbody>\n",
       "</table>\n",
       "</div>"
      ],
      "text/plain": [
       "   ID                Host           Device    Driver  #. CLSmith Results  \\\n",
       "0   3  Ubuntu 16.04 64bit  NVIDIA GTX 1080    375.39               40004   \n",
       "1   9  Ubuntu 16.04 64bit    Intel E5-2620  1.2.0.25               40004   \n",
       "\n",
       "  CLSmith %  #. CLgen Results CLgen %  \n",
       "0    50.00%                32  31.07%  \n",
       "1    50.00%                71  68.93%  "
      ]
     },
     "execution_count": 3,
     "metadata": {},
     "output_type": "execute_result"
    }
   ],
   "source": [
    "DEVICES = {\n",
    "    \"GeForce GTX 1080\": \"NVIDIA GTX 1080\",\n",
    "    \"Intel(R) Xeon(R) CPU E5-2620 v4 @ 2.10GHz\": \"Intel E5-2620\"\n",
    "}\n",
    "\n",
    "testbeds = []\n",
    "for testbed in session.query(Testbed):\n",
    "    nresult_clsmith = session.query(CLSmithResult).filter(CLSmithResult.testbed == testbed).count()\n",
    "    nresult_clgen = session.query(CLgenResult).filter(CLgenResult.testbed == testbed).count()\n",
    "    clsmith_ratio_result = \"{:.2%}\".format(nresult_clsmith / session.query(CLSmithResult).count())\n",
    "    clgen_ratio_result = \"{:.2%}\".format(nresult_clgen / session.query(CLgenResult).count())\n",
    "    testbeds.append((testbed.id, testbed.host, DEVICES.get(testbed.device, testbed.device),\n",
    "                     testbed.driver, nresult_clsmith, clsmith_ratio_result,\n",
    "                     nresult_clgen, clgen_ratio_result))\n",
    "    \n",
    "pd.DataFrame(testbeds, columns=[\n",
    "    \"ID\", \"Host\", \"Device\", \"Driver\", \"#. CLSmith Results\", \"CLSmith %\", \"#. CLgen Results\", \"CLgen %\"])"
   ]
  },
  {
   "cell_type": "markdown",
   "metadata": {},
   "source": [
    "### CLSmith Parameters"
   ]
  },
  {
   "cell_type": "code",
   "execution_count": 4,
   "metadata": {},
   "outputs": [
    {
     "data": {
      "text/html": [
       "<div>\n",
       "<table border=\"1\" class=\"dataframe\">\n",
       "  <thead>\n",
       "    <tr style=\"text-align: right;\">\n",
       "      <th></th>\n",
       "      <th>ID</th>\n",
       "      <th>Global size</th>\n",
       "      <th>Local size</th>\n",
       "      <th>Optimizations</th>\n",
       "      <th>#. of Results</th>\n",
       "      <th>% of Total Results</th>\n",
       "    </tr>\n",
       "  </thead>\n",
       "  <tbody>\n",
       "    <tr>\n",
       "      <th>0</th>\n",
       "      <td>4</td>\n",
       "      <td>(1, 1, 1)</td>\n",
       "      <td>(1, 1, 1)</td>\n",
       "      <td>off</td>\n",
       "      <td>20002</td>\n",
       "      <td>25.00%</td>\n",
       "    </tr>\n",
       "    <tr>\n",
       "      <th>1</th>\n",
       "      <td>3</td>\n",
       "      <td>(1, 1, 1)</td>\n",
       "      <td>(1, 1, 1)</td>\n",
       "      <td>on</td>\n",
       "      <td>20002</td>\n",
       "      <td>25.00%</td>\n",
       "    </tr>\n",
       "    <tr>\n",
       "      <th>2</th>\n",
       "      <td>2</td>\n",
       "      <td>(128, 16, 1)</td>\n",
       "      <td>(32, 1, 1)</td>\n",
       "      <td>off</td>\n",
       "      <td>20002</td>\n",
       "      <td>25.00%</td>\n",
       "    </tr>\n",
       "    <tr>\n",
       "      <th>3</th>\n",
       "      <td>1</td>\n",
       "      <td>(128, 16, 1)</td>\n",
       "      <td>(32, 1, 1)</td>\n",
       "      <td>on</td>\n",
       "      <td>20002</td>\n",
       "      <td>25.00%</td>\n",
       "    </tr>\n",
       "  </tbody>\n",
       "</table>\n",
       "</div>"
      ],
      "text/plain": [
       "   ID   Global size  Local size Optimizations  #. of Results  \\\n",
       "0   4     (1, 1, 1)   (1, 1, 1)           off          20002   \n",
       "1   3     (1, 1, 1)   (1, 1, 1)            on          20002   \n",
       "2   2  (128, 16, 1)  (32, 1, 1)           off          20002   \n",
       "3   1  (128, 16, 1)  (32, 1, 1)            on          20002   \n",
       "\n",
       "  % of Total Results  \n",
       "0             25.00%  \n",
       "1             25.00%  \n",
       "2             25.00%  \n",
       "3             25.00%  "
      ]
     },
     "execution_count": 4,
     "metadata": {},
     "output_type": "execute_result"
    }
   ],
   "source": [
    "params = []\n",
    "for param in session.query(CLSmithParams).order_by(\n",
    "        CLSmithParams.gsize_x, CLSmithParams.gsize_y, CLSmithParams.gsize_z,\n",
    "        CLSmithParams.lsize_x, CLSmithParams.lsize_y, CLSmithParams.lsize_z,\n",
    "        CLSmithParams.optimizations):\n",
    "    nresult_param = session.query(CLSmithResult).filter(CLSmithResult.params_id == param.id).count()\n",
    "    ratio_result = \"{:.2%}\".format(nresult_param / session.query(CLSmithResult).count())\n",
    "    params.append((param.id, param.gsize, param.lsize, param.optimizations_on_off, nresult_param, ratio_result))\n",
    "\n",
    "pd.DataFrame(params, columns=[\"ID\", \"Global size\", \"Local size\", \"Optimizations\", \"#. of Results\", \"% of Total Results\"])"
   ]
  },
  {
   "cell_type": "markdown",
   "metadata": {},
   "source": [
    "### CLgen Parameters"
   ]
  },
  {
   "cell_type": "code",
   "execution_count": 5,
   "metadata": {},
   "outputs": [
    {
     "data": {
      "text/html": [
       "<div>\n",
       "<table border=\"1\" class=\"dataframe\">\n",
       "  <thead>\n",
       "    <tr style=\"text-align: right;\">\n",
       "      <th></th>\n",
       "      <th>ID</th>\n",
       "      <th>Size</th>\n",
       "      <th>Generator</th>\n",
       "      <th>Scalar Val</th>\n",
       "      <th>Global size</th>\n",
       "      <th>Local size</th>\n",
       "      <th>Optimizations</th>\n",
       "      <th>#. of Results</th>\n",
       "      <th>% of Total Results</th>\n",
       "    </tr>\n",
       "  </thead>\n",
       "  <tbody>\n",
       "    <tr>\n",
       "      <th>0</th>\n",
       "      <td>11</td>\n",
       "      <td>256</td>\n",
       "      <td>arange</td>\n",
       "      <td>None</td>\n",
       "      <td>(1, 1, 1)</td>\n",
       "      <td>(1, 1, 1)</td>\n",
       "      <td>off</td>\n",
       "      <td>0</td>\n",
       "      <td>0.00%</td>\n",
       "    </tr>\n",
       "    <tr>\n",
       "      <th>1</th>\n",
       "      <td>10</td>\n",
       "      <td>256</td>\n",
       "      <td>arange</td>\n",
       "      <td>None</td>\n",
       "      <td>(1, 1, 1)</td>\n",
       "      <td>(1, 1, 1)</td>\n",
       "      <td>on</td>\n",
       "      <td>103</td>\n",
       "      <td>100.00%</td>\n",
       "    </tr>\n",
       "    <tr>\n",
       "      <th>2</th>\n",
       "      <td>9</td>\n",
       "      <td>4096</td>\n",
       "      <td>arange</td>\n",
       "      <td>None</td>\n",
       "      <td>(128, 16, 1)</td>\n",
       "      <td>(32, 1, 1)</td>\n",
       "      <td>on</td>\n",
       "      <td>0</td>\n",
       "      <td>0.00%</td>\n",
       "    </tr>\n",
       "  </tbody>\n",
       "</table>\n",
       "</div>"
      ],
      "text/plain": [
       "   ID  Size Generator Scalar Val   Global size  Local size Optimizations  \\\n",
       "0  11   256    arange       None     (1, 1, 1)   (1, 1, 1)           off   \n",
       "1  10   256    arange       None     (1, 1, 1)   (1, 1, 1)            on   \n",
       "2   9  4096    arange       None  (128, 16, 1)  (32, 1, 1)            on   \n",
       "\n",
       "   #. of Results % of Total Results  \n",
       "0              0              0.00%  \n",
       "1            103            100.00%  \n",
       "2              0              0.00%  "
      ]
     },
     "execution_count": 5,
     "metadata": {},
     "output_type": "execute_result"
    }
   ],
   "source": [
    "params = []\n",
    "for param in session.query(CLgenParams).order_by(\n",
    "        CLgenParams.size,\n",
    "        CLgenParams.gsize_x, CLgenParams.gsize_y, CLgenParams.gsize_z,\n",
    "        CLgenParams.lsize_x, CLgenParams.lsize_y, CLgenParams.lsize_z,\n",
    "        CLgenParams.generator, CLgenParams.scalar_val, CLgenParams.optimizations):\n",
    "    nresult_param = session.query(CLgenResult).filter(CLgenResult.params_id == param.id).count()\n",
    "    ratio_result = \"{:.2%}\".format(nresult_param / session.query(CLgenResult).count())\n",
    "    params.append((param.id, param.size, param.generator, param.scalar_val, \n",
    "                   param.gsize, param.lsize, param.optimizations_on_off, \n",
    "                   nresult_param, ratio_result))\n",
    "\n",
    "pd.DataFrame(params, columns=[\n",
    "    \"ID\", \"Size\", \"Generator\", \"Scalar Val\", \"Global size\", \"Local size\", \"Optimizations\", \n",
    "    \"#. of Results\", \"% of Total Results\"])"
   ]
  },
  {
   "cell_type": "markdown",
   "metadata": {
    "collapsed": true
   },
   "source": [
    "### CLgen Exit Status"
   ]
  },
  {
   "cell_type": "code",
   "execution_count": 6,
   "metadata": {},
   "outputs": [
    {
     "name": "stdout",
     "output_type": "stream",
     "text": [
      "done.\n"
     ]
    }
   ],
   "source": [
    "# set outcomes\n",
    "session.rollback()\n",
    "def get_outcome(result):\n",
    "    if result.status == 1:\n",
    "        prev = None\n",
    "        for line in reversed(result.stderr.split('\\n')):\n",
    "            if line == \"Error found (callback):\":\n",
    "                # Interpret CLSmith error callback messages:\n",
    "                return prev.split()[0]\n",
    "            elif line.startswith(\"Error\"):\n",
    "                # Interpret CLSmith error messages\n",
    "                return {\n",
    "                    \"Error enqueueing kernel: -6\": \"CL_OUT_OF_HOST_MEMORY\",\n",
    "                    \"Error sending finish command: -36\": \"CL_INVALID_COMMAND_QUEUE\",\n",
    "                    \"Error building program: -11\": \"CL_BUILD_PROGRAM _FAILURE\",\n",
    "                    \"Error creating kernel: -46\": \"CL_INVALID_KERNEL_NAME\",\n",
    "                    \"Error enqueueing kernel: -5\": \"CL_OUT_OF_RESOURCES\",\n",
    "                }.get(line, line)\n",
    "            prev = line\n",
    "        else:\n",
    "            raise LookupError\n",
    "    else:\n",
    "        # Interpret process status codes:\n",
    "        return {\n",
    "            -11: \"Segmentation Fault\",\n",
    "            -9: \"Timeout (60 seconds)\",\n",
    "            0: \"Okay\",\n",
    "        }[result.status]\n",
    "\n",
    "for result in session.query(CLSmithResult):\n",
    "    result.outcome = get_outcome(result)\n",
    "session.commit()\n",
    "print(\"done.\")"
   ]
  },
  {
   "cell_type": "code",
   "execution_count": 7,
   "metadata": {},
   "outputs": [
    {
     "data": {
      "text/html": [
       "<div>\n",
       "<table border=\"1\" class=\"dataframe\">\n",
       "  <thead>\n",
       "    <tr style=\"text-align: right;\">\n",
       "      <th></th>\n",
       "      <th>Device</th>\n",
       "      <th>Outcome</th>\n",
       "      <th>Count</th>\n",
       "      <th>% of Total Results</th>\n",
       "    </tr>\n",
       "  </thead>\n",
       "  <tbody>\n",
       "    <tr>\n",
       "      <th>0</th>\n",
       "      <td>NVIDIA GTX 1080</td>\n",
       "      <td>Okay</td>\n",
       "      <td>32869</td>\n",
       "      <td>82.164284</td>\n",
       "    </tr>\n",
       "    <tr>\n",
       "      <th>1</th>\n",
       "      <td>NVIDIA GTX 1080</td>\n",
       "      <td>Timeout (60 seconds)</td>\n",
       "      <td>3754</td>\n",
       "      <td>9.384062</td>\n",
       "    </tr>\n",
       "    <tr>\n",
       "      <th>2</th>\n",
       "      <td>NVIDIA GTX 1080</td>\n",
       "      <td>CL_BUILD_PROGRAM _FAILURE</td>\n",
       "      <td>2916</td>\n",
       "      <td>7.289271</td>\n",
       "    </tr>\n",
       "    <tr>\n",
       "      <th>3</th>\n",
       "      <td>NVIDIA GTX 1080</td>\n",
       "      <td>CL_INVALID_COMMAND_QUEUE</td>\n",
       "      <td>281</td>\n",
       "      <td>0.702430</td>\n",
       "    </tr>\n",
       "    <tr>\n",
       "      <th>4</th>\n",
       "      <td>NVIDIA GTX 1080</td>\n",
       "      <td>CL_OUT_OF_HOST_MEMORY</td>\n",
       "      <td>102</td>\n",
       "      <td>0.254975</td>\n",
       "    </tr>\n",
       "    <tr>\n",
       "      <th>5</th>\n",
       "      <td>NVIDIA GTX 1080</td>\n",
       "      <td>CL_INVALID_KERNEL_NAME</td>\n",
       "      <td>80</td>\n",
       "      <td>0.199980</td>\n",
       "    </tr>\n",
       "    <tr>\n",
       "      <th>6</th>\n",
       "      <td>NVIDIA GTX 1080</td>\n",
       "      <td>CL_INVALID_VALUE</td>\n",
       "      <td>2</td>\n",
       "      <td>0.005000</td>\n",
       "    </tr>\n",
       "    <tr>\n",
       "      <th>7</th>\n",
       "      <td>Intel E5-2620</td>\n",
       "      <td>Okay</td>\n",
       "      <td>28626</td>\n",
       "      <td>71.557844</td>\n",
       "    </tr>\n",
       "    <tr>\n",
       "      <th>8</th>\n",
       "      <td>Intel E5-2620</td>\n",
       "      <td>CL_BUILD_PROGRAM _FAILURE</td>\n",
       "      <td>6128</td>\n",
       "      <td>15.318468</td>\n",
       "    </tr>\n",
       "    <tr>\n",
       "      <th>9</th>\n",
       "      <td>Intel E5-2620</td>\n",
       "      <td>Timeout (60 seconds)</td>\n",
       "      <td>3311</td>\n",
       "      <td>8.276672</td>\n",
       "    </tr>\n",
       "    <tr>\n",
       "      <th>10</th>\n",
       "      <td>Intel E5-2620</td>\n",
       "      <td>CL_OUT_OF_RESOURCES</td>\n",
       "      <td>1382</td>\n",
       "      <td>3.454655</td>\n",
       "    </tr>\n",
       "    <tr>\n",
       "      <th>11</th>\n",
       "      <td>Intel E5-2620</td>\n",
       "      <td>Segmentation Fault</td>\n",
       "      <td>477</td>\n",
       "      <td>1.192381</td>\n",
       "    </tr>\n",
       "    <tr>\n",
       "      <th>12</th>\n",
       "      <td>Intel E5-2620</td>\n",
       "      <td>CL_INVALID_KERNEL_NAME</td>\n",
       "      <td>80</td>\n",
       "      <td>0.199980</td>\n",
       "    </tr>\n",
       "  </tbody>\n",
       "</table>\n",
       "</div>"
      ],
      "text/plain": [
       "             Device                    Outcome  Count  % of Total Results\n",
       "0   NVIDIA GTX 1080                       Okay  32869           82.164284\n",
       "1   NVIDIA GTX 1080       Timeout (60 seconds)   3754            9.384062\n",
       "2   NVIDIA GTX 1080  CL_BUILD_PROGRAM _FAILURE   2916            7.289271\n",
       "3   NVIDIA GTX 1080   CL_INVALID_COMMAND_QUEUE    281            0.702430\n",
       "4   NVIDIA GTX 1080      CL_OUT_OF_HOST_MEMORY    102            0.254975\n",
       "5   NVIDIA GTX 1080     CL_INVALID_KERNEL_NAME     80            0.199980\n",
       "6   NVIDIA GTX 1080           CL_INVALID_VALUE      2            0.005000\n",
       "7     Intel E5-2620                       Okay  28626           71.557844\n",
       "8     Intel E5-2620  CL_BUILD_PROGRAM _FAILURE   6128           15.318468\n",
       "9     Intel E5-2620       Timeout (60 seconds)   3311            8.276672\n",
       "10    Intel E5-2620        CL_OUT_OF_RESOURCES   1382            3.454655\n",
       "11    Intel E5-2620         Segmentation Fault    477            1.192381\n",
       "12    Intel E5-2620     CL_INVALID_KERNEL_NAME     80            0.199980"
      ]
     },
     "execution_count": 7,
     "metadata": {},
     "output_type": "execute_result"
    }
   ],
   "source": [
    "import sqlalchemy as sql\n",
    "\n",
    "outcomes = []\n",
    "for testbed in session.query(Testbed).all():\n",
    "    nresult = session.query(CLSmithResult).filter(CLSmithResult.testbed == testbed).count()\n",
    "\n",
    "    q = session.query(CLSmithResult.outcome, sql.func.count(CLSmithResult.outcome)).filter(\n",
    "        CLSmithResult.testbed == testbed).group_by(CLSmithResult.outcome).order_by(sql.desc(sql.func.count(CLSmithResult.outcome)))\n",
    "\n",
    "    for outcome, count in q.all():\n",
    "        ratio = (count / nresult) * 100\n",
    "        outcomes.append((DEVICES.get(testbed.device, testbed.device), outcome, count, ratio))\n",
    "\n",
    "outcomes = pd.DataFrame(outcomes, columns=[\"Device\", \"Outcome\", \"Count\", \"% of Total Results\"])\n",
    "outcomes"
   ]
  },
  {
   "cell_type": "code",
   "execution_count": 8,
   "metadata": {},
   "outputs": [
    {
     "data": {
      "image/png": "[encoded data removed]",
      "text/plain": [
       "<matplotlib.figure.Figure at 0x7fa5571f3748>"
      ]
     },
     "metadata": {},
     "output_type": "display_data"
    }
   ],
   "source": [
    "import matplotlib.pyplot as plt\n",
    "import seaborn as sns\n",
    "from labm8 import viz\n",
    "%matplotlib inline\n",
    "\n",
    "palette = sns.cubehelix_palette(4, rot=-.4, light=.85, dark=.35)\n",
    "\n",
    "\n",
    "ax = outcomes.pivot('Device', 'Outcome')['% of Total Results'].plot(kind='bar', stacked=True, colormap='Reds')\n",
    "\n",
    "plt.title(\"Test Outcomes\")\n",
    "plt.ylabel(\"Ratio of results\")\n",
    "plt.xlabel(\"\")\n",
    "ax.legend(loc='center left', bbox_to_anchor=(1, 0.5))\n",
    "\n",
    "viz.finalise(figsize=(4.5, 5))"
   ]
  },
  {
   "cell_type": "code",
   "execution_count": 9,
   "metadata": {},
   "outputs": [
    {
     "name": "stdout",
     "output_type": "stream",
     "text": [
      "Params: -g 1,1,1 -l 1,1,1 ---disable_opts\n",
      "  #. programs with results 10001\n",
      "  #. programs with good results 8282 (82.8% of total)\n",
      "  #. suspicious 877 (10.6% of total)\n",
      "\n",
      "Params: -g 128,16,1 -l 32,1,1 ---disable_opts\n",
      "  #. programs with results 10001\n",
      "  #. programs with good results 8211 (82.1% of total)\n",
      "  #. suspicious 1381 (16.8% of total)\n",
      "\n",
      "Params: -g 1,1,1 -l 1,1,1\n",
      "  #. programs with results 10001\n",
      "  #. programs with good results 8305 (83.0% of total)\n",
      "  #. suspicious 946 (11.4% of total)\n",
      "\n",
      "Params: -g 128,16,1 -l 32,1,1\n",
      "  #. programs with results 10001\n",
      "  #. programs with good results 8280 (82.8% of total)\n",
      "  #. suspicious 1474 (17.8% of total)\n",
      "\n"
     ]
    }
   ],
   "source": [
    "for param in session.query(CLSmithParams).all():\n",
    "    suspicious = []\n",
    "\n",
    "    print(\"Params:\", param)\n",
    "    programs_with_results = session.query(CLSmithProgram).filter(\n",
    "        CLSmithProgram.id.in_(session.query(CLSmithResult.program_id).filter(CLSmithResult.params_id == param.id)))\n",
    "    programs_with_good_results = session.query(CLSmithProgram).filter(\n",
    "        CLSmithProgram.id.in_(session.query(CLSmithResult.program_id).filter(\n",
    "            CLSmithResult.params_id == param.id, CLSmithResult.status == 0)))\n",
    "    ratio_good = programs_with_good_results.count() / programs_with_results.count()\n",
    "\n",
    "    print(\"  #. programs with results\", programs_with_results.count())\n",
    "    print(\"  #. programs with good results\", programs_with_good_results.count(), f\"({ratio_good:.1%} of total)\")\n",
    "\n",
    "    for program in programs_with_good_results.all():\n",
    "        q = session.query(CLSmithResult).filter(\n",
    "                CLSmithResult.program_id == program.id, CLSmithResult.params_id == param.id)\n",
    "\n",
    "        stdout = set(r.stdout for r in q.all())\n",
    "        if len(stdout) > 1:\n",
    "            suspicious.append(q.first().program_id)\n",
    "\n",
    "    nsuspicious = len(suspicious)\n",
    "    ratio_suspicious = nsuspicious / programs_with_good_results.count()\n",
    "    print(f\"  #. suspicious {nsuspicious} ({ratio_suspicious:.1%} of total)\\n\")"
   ]
  },
  {
   "cell_type": "markdown",
   "metadata": {},
   "source": [
    "### CLgen Outcomes"
   ]
  },
  {
   "cell_type": "code",
   "execution_count": 10,
   "metadata": {},
   "outputs": [
    {
     "data": {
      "text/html": [
       "<div>\n",
       "<table border=\"1\" class=\"dataframe\">\n",
       "  <thead>\n",
       "    <tr style=\"text-align: right;\">\n",
       "      <th></th>\n",
       "      <th>Device</th>\n",
       "      <th>Status</th>\n",
       "      <th>Count</th>\n",
       "      <th>% of Total Results</th>\n",
       "    </tr>\n",
       "  </thead>\n",
       "  <tbody>\n",
       "    <tr>\n",
       "      <th>0</th>\n",
       "      <td>NVIDIA GTX 1080</td>\n",
       "      <td>0</td>\n",
       "      <td>34</td>\n",
       "      <td>100.0</td>\n",
       "    </tr>\n",
       "    <tr>\n",
       "      <th>1</th>\n",
       "      <td>Intel E5-2620</td>\n",
       "      <td>0</td>\n",
       "      <td>74</td>\n",
       "      <td>100.0</td>\n",
       "    </tr>\n",
       "  </tbody>\n",
       "</table>\n",
       "</div>"
      ],
      "text/plain": [
       "            Device  Status  Count  % of Total Results\n",
       "0  NVIDIA GTX 1080       0     34               100.0\n",
       "1    Intel E5-2620       0     74               100.0"
      ]
     },
     "execution_count": 10,
     "metadata": {},
     "output_type": "execute_result"
    }
   ],
   "source": [
    "import sqlalchemy as sql\n",
    "\n",
    "outcomes = []\n",
    "for testbed in session.query(Testbed).all():\n",
    "    nresult = session.query(CLgenResult).filter(CLgenResult.testbed == testbed).count()\n",
    "\n",
    "    q = session.query(CLgenResult.status, sql.func.count(CLgenResult.status)).filter(\n",
    "        CLgenResult.testbed == testbed).group_by(CLgenResult.status).order_by(\n",
    "            sql.desc(sql.func.count(CLgenResult.status)))\n",
    "\n",
    "    for status, count in q.all():\n",
    "        ratio = (count / nresult) * 100\n",
    "        outcomes.append((DEVICES.get(testbed.device, testbed.device), status, count, ratio))\n",
    "\n",
    "outcomes = pd.DataFrame(outcomes, columns=[\"Device\", \"Status\", \"Count\", \"% of Total Results\"])\n",
    "outcomes"
   ]
  },
  {
   "cell_type": "code",
   "execution_count": null,
   "metadata": {
    "collapsed": true
   },
   "outputs": [],
   "source": []
  }
 ],
 "metadata": {
  "kernelspec": {
   "display_name": "CLgen",
   "language": "python",
   "name": "clgen"
  },
  "language_info": {
   "codemirror_mode": {
    "name": "ipython",
    "version": 3
   },
   "file_extension": ".py",
   "mimetype": "text/x-python",
   "name": "python",
   "nbconvert_exporter": "python",
   "pygments_lexer": "ipython3",
   "version": "3.6.1"
  }
 },
 "nbformat": 4,
 "nbformat_minor": 2
}
