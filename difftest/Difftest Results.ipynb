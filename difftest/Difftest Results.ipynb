{
 "cells": [
  {
   "cell_type": "markdown",
   "metadata": {},
   "source": [
    "# Difftest Results\n",
    "\n",
    "Connect to results database:"
   ]
  },
  {
   "cell_type": "code",
   "execution_count": 24,
   "metadata": {},
   "outputs": [
    {
     "data": {
      "text/plain": [
       "'mysql://cc1:3306/project_b'"
      ]
     },
     "execution_count": 24,
     "metadata": {},
     "output_type": "execute_result"
    }
   ],
   "source": [
    "import db\n",
    "from db import *\n",
    "%run util.py\n",
    "\n",
    "hostname = \"cc1\"\n",
    "db.init(hostname)"
   ]
  },
  {
   "cell_type": "markdown",
   "metadata": {},
   "source": [
    "## Overview"
   ]
  },
  {
   "cell_type": "code",
   "execution_count": 2,
   "metadata": {},
   "outputs": [
    {
     "data": {
      "text/html": [
       "<div>\n",
       "<table border=\"1\" class=\"dataframe\">\n",
       "  <thead>\n",
       "    <tr style=\"text-align: right;\">\n",
       "      <th></th>\n",
       "      <th>CLSmith</th>\n",
       "      <th>CLSmith w. cldrive</th>\n",
       "      <th>GitHub</th>\n",
       "      <th>CLgen</th>\n",
       "      <th>CLgen w. cl_launcher</th>\n",
       "      <th>CLgen w. co</th>\n",
       "    </tr>\n",
       "  </thead>\n",
       "  <tbody>\n",
       "    <tr>\n",
       "      <th>#. Programs</th>\n",
       "      <td>10001</td>\n",
       "      <td>10001</td>\n",
       "      <td>9238</td>\n",
       "      <td>7879</td>\n",
       "      <td>2385</td>\n",
       "      <td>3385</td>\n",
       "    </tr>\n",
       "    <tr>\n",
       "      <th>#. Testbeds</th>\n",
       "      <td>8</td>\n",
       "      <td>5</td>\n",
       "      <td>5</td>\n",
       "      <td>8</td>\n",
       "      <td>7</td>\n",
       "      <td>7</td>\n",
       "    </tr>\n",
       "    <tr>\n",
       "      <th>#. Params</th>\n",
       "      <td>4</td>\n",
       "      <td>4</td>\n",
       "      <td>4</td>\n",
       "      <td>4</td>\n",
       "      <td>4</td>\n",
       "      <td>4</td>\n",
       "    </tr>\n",
       "    <tr>\n",
       "      <th>#. Results</th>\n",
       "      <td>249455</td>\n",
       "      <td>200020</td>\n",
       "      <td>193477</td>\n",
       "      <td>140297</td>\n",
       "      <td>66780</td>\n",
       "      <td>53840</td>\n",
       "    </tr>\n",
       "  </tbody>\n",
       "</table>\n",
       "</div>"
      ],
      "text/plain": [
       "             CLSmith  CLSmith w. cldrive  GitHub   CLgen  \\\n",
       "#. Programs    10001               10001    9238    7879   \n",
       "#. Testbeds        8                   5       5       8   \n",
       "#. Params          4                   4       4       4   \n",
       "#. Results    249455              200020  193477  140297   \n",
       "\n",
       "             CLgen w. cl_launcher  CLgen w. co  \n",
       "#. Programs                  2385         3385  \n",
       "#. Testbeds                     7            7  \n",
       "#. Params                       4            4  \n",
       "#. Results                  66780        53840  "
      ]
     },
     "execution_count": 2,
     "metadata": {},
     "output_type": "execute_result"
    }
   ],
   "source": [
    "import pandas as pd\n",
    "\n",
    "session = db.make_session()\n",
    "\n",
    "TABLE_NAMES = [\"CLSmith\", \"CLSmith w. cldrive\", \"GitHub\", \"CLgen\", \"CLgen w. cl_launcher\", \"CLgen w. co\"]\n",
    "TABLES = [CLSmithResult, cldriveCLSmithResult, GitHubResult, CLgenResult, cl_launcherCLgenResult, coCLgenResult]\n",
    "\n",
    "data = [\n",
    "    (\"#. Programs\", [session.query(t.program_id).group_by(t.program_id).count() for t in TABLES]),\n",
    "    (\"#. Testbeds\", [session.query(t.testbed_id).group_by(t.testbed_id).count() for t in TABLES]),\n",
    "    (\"#. Params\", [session.query(t.params_id).group_by(t.params_id).count() for t in TABLES]),\n",
    "    (\"#. Results\", [session.query(t).count() for t in TABLES]),\n",
    "]\n",
    "i, d = zip(*data)\n",
    "overview = pd.DataFrame(list(d), index=i, columns=TABLE_NAMES)\n",
    "overview"
   ]
  },
  {
   "cell_type": "markdown",
   "metadata": {},
   "source": [
    "# Experimental Setup\n",
    "\n",
    "### TestBeds\n",
    "\n",
    "A testbed is a combination of host platform and OpenCL device."
   ]
  },
  {
   "cell_type": "code",
   "execution_count": 3,
   "metadata": {},
   "outputs": [
    {
     "data": {
      "image/png": "[encoded data removed]",
      "text/plain": [
       "<matplotlib.figure.Figure at 0x7fe89ceda358>"
      ]
     },
     "metadata": {},
     "output_type": "display_data"
    }
   ],
   "source": [
    "import sqlalchemy as sql\n",
    "import numpy as np\n",
    "import matplotlib.pyplot as plt\n",
    "import seaborn as sns\n",
    "from collections import OrderedDict\n",
    "from labm8 import viz\n",
    "\n",
    "%matplotlib inline\n",
    "sns.set(style=\"ticks\", color_codes=True)\n",
    "plt.style.use([\"seaborn-white\", \"seaborn-paper\"])\n",
    "\n",
    "def get_testbed_info(config_id, testbed_id, source, results_table):\n",
    "    testbed = session.query(Testbed).filter(Testbed.id == testbed_id).first()\n",
    "    num_results = session.query(results_table).filter(results_table.testbed_id == testbed_id).count()\n",
    "    return {\n",
    "        \"Device\": device_str(testbed.device),\n",
    "        \"#. Results\": num_results,\n",
    "        \"Source\": source,\n",
    "    }\n",
    "\n",
    "data = []\n",
    "for source, table in [(\"CLSmith\", CLSmithResult), (\"CLgen\", CLgenResult)]:\n",
    "    data += [get_testbed_info(*x, source, table) for x in CONFIGURATIONS]\n",
    "ax = sns.barplot(x=\"Device\", y=\"#. Results\", hue=\"Source\", data=pd.DataFrame(data))\n",
    "plt.xlabel(\"\")\n",
    "plt.ylabel(\"#. Results\")\n",
    "plt.setp(ax.get_xticklabels(), rotation=30)  # rotate x ticks\n",
    "viz.finalise(figsize=(6, 3))"
   ]
  },
  {
   "cell_type": "code",
   "execution_count": null,
   "metadata": {},
   "outputs": [],
   "source": [
    "def get_testbed_info(config_id, testbed_id, source, results_table, program_table, reduction_table, harness_table=None):\n",
    "    testbed = session.query(Testbed).filter(Testbed.id == testbed_id).first()\n",
    "    total_time = session.query(sql.sql.func.sum(results_table.runtime))\\\n",
    "        .filter(results_table.testbed_id == testbed_id).first()[0] or 0\n",
    "    total_time += session.query(sql.sql.func.sum(reduction_table.runtime))\\\n",
    "        .join(results_table)\\\n",
    "        .filter(results_table.testbed_id == testbed_id).first()[0] or 0\n",
    "#     if harness_table:\n",
    "#         total_time += session.query(sql.sql.func.sum(harness_table.generation_time)).filter(Testbed.id == testbed_id).first()[0] or 0\n",
    "    return {\n",
    "        \"Device\": device_str(testbed.device),\n",
    "        \"Test Time\": total_time / 3600,\n",
    "        \"Source\": source,\n",
    "    }\n",
    "\n",
    "data = []\n",
    "for row in [(\"CLSmith\", CLSmithResult, CLSmithProgram, CLSmithReduction), \n",
    "                       (\"CLgen\", CLgenResult, CLgenProgram, CLgenReduction, CLgenHarness)]:\n",
    "    data += [get_testbed_info(*x, *row) for x in CONFIGURATIONS]\n",
    "ax = sns.barplot(x=\"Device\", y=\"Test Time\", hue=\"Source\", data=pd.DataFrame(data))\n",
    "plt.xlabel(\"\")\n",
    "plt.ylabel(\"Time (hours)\")\n",
    "plt.setp(ax.get_xticklabels(), rotation=30)  # rotate x ticks\n",
    "ax.set_yscale(\"log\", nonposy='clip')\n",
    "viz.finalise(figsize=(6, 3))"
   ]
  },
  {
   "cell_type": "code",
   "execution_count": null,
   "metadata": {},
   "outputs": [],
   "source": [
    "# push LaTex to Overleaf\n",
    "!cd ~/docs/paper-project_b/ && git pull --rebase\n",
    "\n",
    "import os\n",
    "from collections import OrderedDict\n",
    "\n",
    "def get_total_submitted(testbed: Testbed):\n",
    "    submitable_results = [coCLgenResult, cl_launcherCLgenResult]\n",
    "    \n",
    "    def get_submitted(table):\n",
    "        return session.query(table).filter(table.testbed_id == testbed.id, table.submitted).count()\n",
    "\n",
    "    def get_generated(table):\n",
    "        return session.query(table).filter(table.testbed_id == testbed.id, sql.or_(table.submitted, table.dupe)).count()\n",
    "    \n",
    "    return (\n",
    "        sum(get_generated(table) for table in submitable_results), \n",
    "        sum(get_submitted(table) for table in submitable_results)\n",
    "    )\n",
    "\n",
    "\n",
    "def get_row(config_id, testbed_id):\n",
    "    testbed = session.query(Testbed).filter(Testbed.id == testbed_id).first()\n",
    "    d = OrderedDict()\n",
    "    d[\"#.\"] = config_id\n",
    "    d[\"Device\"] = testbed.device\n",
    "    d[\"Platform\"] = platform_str(testbed.platform)\n",
    "    d[\"Driver\"] = driver_str(testbed.driver)\n",
    "    d[\"OpenCL\"] = testbed.opencl\n",
    "    d[\"Operating system\"] = host_str(testbed.host)\n",
    "    d[\"Device type\"] = devtype_str(testbed.devtype)\n",
    "    d[\"B.R. Generated\"], d[\"B.R. Submitted\"] = get_total_submitted(testbed)\n",
    "    return d\n",
    "\n",
    "table = pd.DataFrame([get_row(*x) for x in CONFIGURATIONS])\n",
    "with open(os.path.expanduser(\"~/docs/paper-project_b/build/tab/platforms.tex\"), \"w\") as outfile:\n",
    "    table.to_latex(buf=outfile, index=None)\n",
    "!cd ~/docs/paper-project_b/build && git add . && git commit -m \"auto: build/tab/platforms.tex\" && git push\n",
    "table"
   ]
  },
  {
   "cell_type": "code",
   "execution_count": 25,
   "metadata": {},
   "outputs": [
    {
     "name": "stderr",
     "output_type": "stream",
     "text": [
      "insufficient CLgenResults for GeForce GTX 1080 True\n",
      "insufficient CLgenResults for GeForce GTX 1080 False\n",
      "insufficient CLgenResults for Intel(R) HD Graphics Haswell GT2 Desktop True\n",
      "insufficient CLSmithResults for Intel(R) HD Graphics Haswell GT2 Desktop False\n",
      "insufficient CLgenResults for Intel(R) HD Graphics Haswell GT2 Desktop False\n",
      "insufficient CLgenResults for Intel(R) Xeon(R) CPU E5-2620 v4 @ 2.10GHz True\n",
      "insufficient CLgenResults for Intel(R) Xeon(R) CPU E5-2620 v4 @ 2.10GHz False\n",
      "insufficient CLSmithResults for       Intel(R) Xeon(R) CPU E5-2650 v2 @ 2.60GHz True\n",
      "insufficient CLgenResults for       Intel(R) Xeon(R) CPU E5-2650 v2 @ 2.60GHz True\n",
      "insufficient CLSmithResults for       Intel(R) Xeon(R) CPU E5-2650 v2 @ 2.60GHz False\n",
      "insufficient CLgenResults for       Intel(R) Xeon(R) CPU E5-2650 v2 @ 2.60GHz False\n",
      "insufficient CLSmithResults for Intel(R) Core(TM) i5-4570 CPU @ 3.20GHz True\n",
      "insufficient CLgenResults for Intel(R) Core(TM) i5-4570 CPU @ 3.20GHz True\n",
      "insufficient CLgenResults for Intel(R) Core(TM) i5-4570 CPU @ 3.20GHz False\n",
      "insufficient CLgenResults for Intel(R) Many Integrated Core Acceleration Card True\n",
      "insufficient CLSmithResults for Intel(R) Many Integrated Core Acceleration Card False\n",
      "insufficient CLgenResults for Intel(R) Many Integrated Core Acceleration Card False\n",
      "insufficient CLgenResults for pthread-Intel(R) Xeon(R) CPU E5-2620 v4 @ 2.10GHz True\n",
      "insufficient CLgenResults for pthread-Intel(R) Xeon(R) CPU E5-2620 v4 @ 2.10GHz False\n",
      "insufficient CLgenResults for Oclgrind Simulator True\n",
      "insufficient CLgenResults for Oclgrind Simulator False\n"
     ]
    },
    {
     "name": "stdout",
     "output_type": "stream",
     "text": [
      "Current branch master is up to date.\n",
      "[master 531b4ba] auto: build/tab/megatable.tex\n",
      " 1 file changed, 1 insertion(+), 1 deletion(-)\n",
      "fatal: unable to access 'https://git.overleaf.com/8608915dsywxshwwjmw/': The requested URL returned error: 503\n"
     ]
    }
   ],
   "source": [
    "%run mkmegatable.ipy"
   ]
  },
  {
   "cell_type": "markdown",
   "metadata": {},
   "source": [
    "## Runtimes"
   ]
  },
  {
   "cell_type": "code",
   "execution_count": 32,
   "metadata": {},
   "outputs": [
    {
     "data": {
      "image/png": "[encoded data removed]",
      "text/plain": [
       "<matplotlib.figure.Figure at 0x7fe8cd03c5f8>"
      ]
     },
     "metadata": {},
     "output_type": "display_data"
    },
    {
     "name": "stdout",
     "output_type": "stream",
     "text": [
      "Current branch master is up to date.\n",
      "[INFO  ] Wrote /home/cec/docs/paper-project_b/build/img/runtimes.pdf\n",
      "[master c3d4d23] auto: build/img/runtimes.pdf\n",
      " 1 file changed, 0 insertions(+), 0 deletions(-)\n",
      "fatal: unable to access 'https://git.overleaf.com/8608915dsywxshwwjmw/': The requested URL returned error: 503\n"
     ]
    }
   ],
   "source": [
    "sns.set(style=\"ticks\")\n",
    "\n",
    "def plot_runtimes(*args, **kwargs):\n",
    "    TIMEOUT = 60\n",
    "    \n",
    "    # CLSmith times\n",
    "    q = session.query(\n",
    "            CLSmithResult.runtime, \n",
    "            CLSmithProgram.runtime, \n",
    "            sql.sql.func.ifnull(CLSmithReduction.runtime, 0))\\\n",
    "        .outerjoin(CLSmithProgram)\\\n",
    "        .outerjoin(CLSmithReduction)\\\n",
    "        .filter(CLSmithResult.classification != None)\n",
    "    clsmith_times = np.array([row for row in q])\n",
    "    \n",
    "    # CLgen times\n",
    "    q = session.query(\n",
    "            CLgenResult.runtime,\n",
    "            sql.sql.func.ifnull(CLgenProgram.runtime, clgen_generation_time) + CLgenHarness.generation_time,\n",
    "            sql.sql.func.ifnull(CLgenReduction.runtime, 0))\\\n",
    "        .outerjoin(CLgenProgram)\\\n",
    "        .outerjoin(CLgenHarness)\\\n",
    "        .outerjoin(CLgenReduction)\\\n",
    "        .filter(CLgenResult.classification != None)\n",
    "    clgen_times = np.array([row for row in q])\n",
    "\n",
    "    table = (\n",
    "        [(\"Execution\", x, \"CLSmith\") for x in clsmith_times[:,0] if x < TIMEOUT] +\n",
    "        [(\"Generation\", x, \"CLSmith\") for x in clsmith_times[:,1] if x < TIMEOUT] +\n",
    "        [(\"Reduction\", x, \"CLSmith\") for x in clsmith_times[:,2] if x > 0] +\n",
    "        [(\"Execution\", x, \"CLgen\") for x in clgen_times[:,0] if x < TIMEOUT] +\n",
    "        [(\"Generation\", x, \"CLgen\") for x in clgen_times[:,1] if x < TIMEOUT] +\n",
    "        [(\"Reduction\", x, \"CLgen\") for x in clgen_times[:,2] if x > 0])\n",
    "    table = pd.DataFrame(table, columns=[\"Name\", \"Runtime (s)\", \"Source\"])\n",
    "\n",
    "    # Plot\n",
    "    palette = sns.cubehelix_palette(2, rot=0, light=.75, dark=1)\n",
    "    ax = sns.boxplot(\n",
    "        x=\"Name\", y=\"Runtime (s)\", hue=\"Source\", data=table,\n",
    "        width=.75, linewidth=1, fliersize=.5, whis=np.inf, \n",
    "        palette=palette, order=[\"Generation\", \"Execution\", \"Reduction\"])\n",
    "\n",
    "    \n",
    "       # Y axis\n",
    "    ax.set_yscale(\"log\", nonposy='clip')\n",
    "    plt.ylim((0, 10000))\n",
    "\n",
    "    # X axis\n",
    "    plt.xlabel(\"\")\n",
    "    \n",
    "    # Legend\n",
    "    ax.get_legend().set_title(\"\")\n",
    "    plt.legend(loc='upper left')\n",
    "    ax.get_legend().draw_frame(False)\n",
    "    \n",
    "    # Border\n",
    "    sns.despine(ax=ax)\n",
    "\n",
    "    viz.finalise(*args, **kwargs)\n",
    "\n",
    "\n",
    "plot_runtimes(figsize=(4, 3))\n",
    "\n",
    "# push LaTex to Overleaf\n",
    "!cd ~/docs/paper-project_b/ && git pull --rebase\n",
    "plot_runtimes(fs.path(\"~/docs/paper-project_b/build/img/runtimes.pdf\"), figsize=(4, 3))\n",
    "!cd ~/docs/paper-project_b/build && git add . && git commit -m \"auto: build/img/runtimes.pdf\" && git push"
   ]
  },
  {
   "cell_type": "markdown",
   "metadata": {},
   "source": [
    "## Kernel sizes"
   ]
  },
  {
   "cell_type": "code",
   "execution_count": 29,
   "metadata": {},
   "outputs": [],
   "source": [
    "sns.set(style=\"ticks\")\n",
    "from collections import defaultdict\n",
    "\n",
    "def get_kernel_sizes():\n",
    "    TIMEOUT = 60\n",
    "    \n",
    "    # CLSmith times\n",
    "    clsmith = session.query(\n",
    "            CLSmithResult.classification,\n",
    "            sql.sql.func.ifnull(CLSmithReduction.src, CLSmithProgram.src))\\\n",
    "        .outerjoin(CLSmithProgram)\\\n",
    "        .outerjoin(CLSmithReduction)\\\n",
    "        .filter(CLSmithResult.classification != None,\n",
    "                CLSmithResult.classification != \"pass\")\n",
    "    \n",
    "    clgen = session.query(\n",
    "            CLgenResult.classification,\n",
    "            sql.sql.func.ifnull(CLgenReduction.src, CLgenProgram.src))\\\n",
    "        .outerjoin(CLgenProgram)\\\n",
    "        .outerjoin(CLgenReduction)\\\n",
    "        .filter(CLgenResult.classification != None,\n",
    "                CLgenResult.classification != \"pass\")\n",
    "    \n",
    "    table = (\n",
    "        [(classification, len(src.split('\\n')), \"CLSmith\") for classification, src in clsmith] +\n",
    "        [(classification, len(src.split('\\n')), \"CLgen\") for classification, src in clgen])\n",
    "    \n",
    "    return pd.DataFrame(table, columns=['Classification', 'Line count', 'Source'])\n",
    "\n",
    "table = get_kernel_sizes()"
   ]
  },
  {
   "cell_type": "code",
   "execution_count": 31,
   "metadata": {},
   "outputs": [
    {
     "data": {
      "image/png": "[encoded data removed]",
      "text/plain": [
       "<matplotlib.figure.Figure at 0x7fe8cce65dd8>"
      ]
     },
     "metadata": {},
     "output_type": "display_data"
    },
    {
     "name": "stdout",
     "output_type": "stream",
     "text": [
      "remote: Counting objects: 11, done\u001b[K\n",
      "remote: Finding sources: 100% (6/6)\u001b[K\u001b[K\n",
      "remote: Total 6 (delta 5), reused 6 (delta 5)\u001b[K\n",
      "Unpacking objects: 100% (6/6), done.\n",
      "From https://git.overleaf.com/8608915dsywxshwwjmw\n",
      "   824b130..ad6c6a5  master     -> origin/master\n",
      "First, rewinding head to replay your work on top of it...\n",
      "Fast-forwarded master to ad6c6a53ff701da9d51d2f95c7d7fb0729d17198.\n",
      "[INFO  ] Wrote /home/cec/docs/paper-project_b/build/img/kernel-sizes.pdf\n",
      "[master ac54e48] auto: build/img/kernel-sizes.pdf\n",
      " 1 file changed, 0 insertions(+), 0 deletions(-)\n",
      "Counting objects: 5, done.\n",
      "Delta compression using up to 16 threads.\n",
      "Compressing objects: 100% (5/5), done.\n",
      "Writing objects: 100% (5/5), 2.43 KiB | 0 bytes/s, done.\n",
      "Total 5 (delta 2), reused 0 (delta 0)\n",
      "remote: Resolving deltas: 100% (2/2)\u001b[K\u001b[K\n",
      "remote: Updating references: 100% (1/1)\u001b[K\u001b[K\n",
      "To https://git.overleaf.com/8608915dsywxshwwjmw\n",
      "   ad6c6a5..ac54e48  master -> master\n"
     ]
    }
   ],
   "source": [
    "def plot_kernel_sizes(table, *args, **kwargs):\n",
    "    palette = sns.cubehelix_palette(2, rot=0, light=.75, dark=1)\n",
    "    ax = sns.boxplot(\n",
    "        x=\"Classification\", y=\"Line count\", hue=\"Source\", data=table,\n",
    "        width=.75, linewidth=1, fliersize=.5, whis=np.inf, \n",
    "        palette=palette, order=[\"w\", \"bf\", \"to\"])\n",
    "\n",
    "    # Y axis\n",
    "    ax.set_yscale(\"log\", nonposy='clip')\n",
    "    # plt.ylim((0, 10000))\n",
    "\n",
    "    # X axis\n",
    "    plt.xlabel(\"\")\n",
    "    \n",
    "    # Legend\n",
    "    ax.get_legend().set_title(\"\")\n",
    "    plt.legend(loc='upper left')\n",
    "    ax.get_legend().draw_frame(False)\n",
    "    \n",
    "    # Border\n",
    "    sns.despine(ax=ax)\n",
    "    \n",
    "    viz.finalise(*args, **kwargs)\n",
    "    \n",
    "plot_kernel_sizes(table, figsize=(4, 3))\n",
    "\n",
    "# push LaTex to Overleaf\n",
    "!cd ~/docs/paper-project_b/ && git pull --rebase\n",
    "plot_kernel_sizes(table, fs.path(\"~/docs/paper-project_b/build/img/kernel-sizes.pdf\"), figsize=(4, 3))\n",
    "!cd ~/docs/paper-project_b/build && git add . && git commit -m \"auto: build/img/kernel-sizes.pdf\" && git push"
   ]
  },
  {
   "cell_type": "markdown",
   "metadata": {},
   "source": [
    "## Total time"
   ]
  },
  {
   "cell_type": "code",
   "execution_count": null,
   "metadata": {},
   "outputs": [],
   "source": [
    "from matplotlib.ticker import FuncFormatter\n",
    "\n",
    "def plot_totaltime(ax, results_table, programs_table, reductions_table):\n",
    "    generation_time = sql.sql.func.ifnull(programs_table.runtime, clgen_generation_time)\n",
    "    runtime = results_table.runtime\n",
    "    reduction_time = sql.sql.func.ifnull(reductions_table.runtime, 0)\n",
    "    total_time = generation_time + runtime + reduction_time\n",
    "\n",
    "    q = session.query(total_time)\\\n",
    "        .outerjoin(programs_table)\\\n",
    "        .outerjoin(reductions_table)\\\n",
    "        .filter(results_table.classification != None)\\\n",
    "        .order_by(results_table.date)§a\n",
    "\n",
    "    times = np.array([row[0] / 3600 for row in q]).cumsum()\n",
    "    ax.plot(times, range(len(times)))\n",
    "    ax.set_xlim((0, 24))\n",
    "    ax.set_ylim((0, 100000))\n",
    "\n",
    "def thousands(x, pos):\n",
    "    return \"{:.0f}k\".format(x / 1000)\n",
    "\n",
    "formatter = FuncFormatter(thousands)\n",
    "    \n",
    "ax = plt.gca()\n",
    "plot_totaltime(ax, CLSmithResult, CLSmithProgram, CLSmithReduction)\n",
    "plot_totaltime(ax, CLgenResult, CLgenProgram, CLgenReduction)\n",
    "\n",
    "ax.set_xlabel(\"Runtime Time (hours)\")\n",
    "ax.set_ylabel(\"Completed Test cases\")\n",
    "ax.yaxis.set_major_formatter(formatter)\n",
    "viz.finalise(figsize=(4, 3))"
   ]
  }
 ],
 "metadata": {
  "kernelspec": {
   "display_name": "project_b",
   "language": "python",
   "name": "project_b"
  },
  "language_info": {
   "codemirror_mode": {
    "name": "ipython",
    "version": 3
   },
   "file_extension": ".py",
   "mimetype": "text/x-python",
   "name": "python",
   "nbconvert_exporter": "python",
   "pygments_lexer": "ipython3",
   "version": "3.6.1"
  }
 },
 "nbformat": 4,
 "nbformat_minor": 2
}
