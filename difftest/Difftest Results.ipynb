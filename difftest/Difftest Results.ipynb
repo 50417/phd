{
 "cells": [
  {
   "cell_type": "markdown",
   "metadata": {},
   "source": [
    "# Difftest Results\n",
    "\n",
    "Connect to results database:"
   ]
  },
  {
   "cell_type": "code",
   "execution_count": 1,
   "metadata": {},
   "outputs": [
    {
     "data": {
      "text/plain": [
       "'mysql://cc1:3306/project_b'"
      ]
     },
     "execution_count": 1,
     "metadata": {},
     "output_type": "execute_result"
    }
   ],
   "source": [
    "import db\n",
    "from db import *\n",
    "\n",
    "hostname = \"cc1\"\n",
    "db.init(hostname)"
   ]
  },
  {
   "cell_type": "markdown",
   "metadata": {},
   "source": [
    "## Overview"
   ]
  },
  {
   "cell_type": "code",
   "execution_count": 2,
   "metadata": {},
   "outputs": [
    {
     "data": {
      "text/html": [
       "<div>\n",
       "<table border=\"1\" class=\"dataframe\">\n",
       "  <thead>\n",
       "    <tr style=\"text-align: right;\">\n",
       "      <th></th>\n",
       "      <th>CLSmith</th>\n",
       "      <th>CLSmith w. cldrive</th>\n",
       "      <th>GitHub</th>\n",
       "      <th>CLgen</th>\n",
       "    </tr>\n",
       "  </thead>\n",
       "  <tbody>\n",
       "    <tr>\n",
       "      <th>#. Programs</th>\n",
       "      <td>10001</td>\n",
       "      <td>10001</td>\n",
       "      <td>9238</td>\n",
       "      <td>1000</td>\n",
       "    </tr>\n",
       "    <tr>\n",
       "      <th>#. Testbeds</th>\n",
       "      <td>3</td>\n",
       "      <td>3</td>\n",
       "      <td>2</td>\n",
       "      <td>2</td>\n",
       "    </tr>\n",
       "    <tr>\n",
       "      <th>#. Params</th>\n",
       "      <td>4</td>\n",
       "      <td>4</td>\n",
       "      <td>4</td>\n",
       "      <td>4</td>\n",
       "    </tr>\n",
       "    <tr>\n",
       "      <th>#. Results</th>\n",
       "      <td>85328</td>\n",
       "      <td>75230</td>\n",
       "      <td>84399</td>\n",
       "      <td>8000</td>\n",
       "    </tr>\n",
       "  </tbody>\n",
       "</table>\n",
       "</div>"
      ],
      "text/plain": [
       "             CLSmith  CLSmith w. cldrive  GitHub  CLgen\n",
       "#. Programs    10001               10001    9238   1000\n",
       "#. Testbeds        3                   3       2      2\n",
       "#. Params          4                   4       4      4\n",
       "#. Results     85328               75230   84399   8000"
      ]
     },
     "execution_count": 2,
     "metadata": {},
     "output_type": "execute_result"
    }
   ],
   "source": [
    "import pandas as pd\n",
    "\n",
    "session = db.make_session()\n",
    "\n",
    "TABLE_NAMES = [\"CLSmith\", \"CLSmith w. cldrive\", \"GitHub\", \"CLgen\"]\n",
    "TABLES = [CLSmithResult, cldriveCLSmithResult, GitHubResult, CLgenResult]\n",
    "\n",
    "data = [\n",
    "    (\"#. Programs\", [session.query(t.program_id).group_by(t.program_id).count() for t in TABLES]),\n",
    "    (\"#. Testbeds\", [session.query(t.testbed_id).group_by(t.testbed_id).count() for t in TABLES]),\n",
    "    (\"#. Params\", [session.query(t.params_id).group_by(t.params_id).count() for t in TABLES]),\n",
    "    (\"#. Results\", [session.query(t).count() for t in TABLES])\n",
    "]\n",
    "i, d = zip(*data)\n",
    "overview = pd.DataFrame(list(d), index=i, columns=TABLE_NAMES)\n",
    "overview"
   ]
  },
  {
   "cell_type": "markdown",
   "metadata": {},
   "source": [
    "# Experimental Setup"
   ]
  },
  {
   "cell_type": "markdown",
   "metadata": {},
   "source": [
    "### TestBeds\n",
    "\n",
    "A testbed is a combination of host platform and OpenCL device."
   ]
  },
  {
   "cell_type": "code",
   "execution_count": 3,
   "metadata": {},
   "outputs": [
    {
     "data": {
      "text/html": [
       "<div>\n",
       "<table border=\"1\" class=\"dataframe\">\n",
       "  <thead>\n",
       "    <tr style=\"text-align: right;\">\n",
       "      <th></th>\n",
       "      <th>Operating System</th>\n",
       "      <th>Device</th>\n",
       "      <th>Driver</th>\n",
       "      <th>OpenCL</th>\n",
       "      <th>Device type</th>\n",
       "      <th>#. CLSmith</th>\n",
       "      <th>#. CLSmith w. cldrive</th>\n",
       "      <th>#. GitHub</th>\n",
       "      <th>#. CLgen</th>\n",
       "    </tr>\n",
       "  </thead>\n",
       "  <tbody>\n",
       "    <tr>\n",
       "      <th>3</th>\n",
       "      <td>Ubuntu 16.04 64bit</td>\n",
       "      <td>NVIDIA GTX 1080</td>\n",
       "      <td>375.39</td>\n",
       "      <td>1.2</td>\n",
       "      <td>GPU</td>\n",
       "      <td>120012</td>\n",
       "      <td>104079</td>\n",
       "      <td>142341</td>\n",
       "      <td>12000</td>\n",
       "    </tr>\n",
       "    <tr>\n",
       "      <th>9</th>\n",
       "      <td>Ubuntu 16.04 64bit</td>\n",
       "      <td>Intel E5-2620</td>\n",
       "      <td>1.2.0.25</td>\n",
       "      <td>2.0</td>\n",
       "      <td>CPU</td>\n",
       "      <td>120012</td>\n",
       "      <td>120012</td>\n",
       "      <td>110856</td>\n",
       "      <td>12000</td>\n",
       "    </tr>\n",
       "    <tr>\n",
       "      <th>11</th>\n",
       "      <td>Ubuntu 16.04 64bit</td>\n",
       "      <td>Oclgrind Simulator</td>\n",
       "      <td>16.10</td>\n",
       "      <td>1.2</td>\n",
       "      <td>Emulator</td>\n",
       "      <td>15960</td>\n",
       "      <td>1599</td>\n",
       "      <td>0</td>\n",
       "      <td>0</td>\n",
       "    </tr>\n",
       "  </tbody>\n",
       "</table>\n",
       "</div>"
      ],
      "text/plain": [
       "      Operating System              Device    Driver OpenCL Device type  \\\n",
       "3   Ubuntu 16.04 64bit     NVIDIA GTX 1080    375.39    1.2         GPU   \n",
       "9   Ubuntu 16.04 64bit       Intel E5-2620  1.2.0.25    2.0         CPU   \n",
       "11  Ubuntu 16.04 64bit  Oclgrind Simulator     16.10    1.2    Emulator   \n",
       "\n",
       "    #. CLSmith  #. CLSmith w. cldrive  #. GitHub  #. CLgen  \n",
       "3       120012                 104079     142341     12000  \n",
       "9       120012                 120012     110856     12000  \n",
       "11       15960                   1599          0         0  "
      ]
     },
     "execution_count": 3,
     "metadata": {},
     "output_type": "execute_result"
    }
   ],
   "source": [
    "import sqlalchemy as sql\n",
    "\n",
    "DEVICES = {  # shorthand device names\n",
    "    \"GeForce GTX 1080\": \"NVIDIA GTX 1080\",\n",
    "    \"Intel(R) Xeon(R) CPU E5-2620 v4 @ 2.10GHz\": \"Intel E5-2620\",\n",
    "    \"Olcgrind Simulator\": \"Oclgrind\",\n",
    "}\n",
    "\n",
    "DRIVERS = {\n",
    "    \"Oclgrind 16.10\": \"16.10\"\n",
    "}\n",
    "\n",
    "q = session.query(Testbed).order_by(sql.func.field(Testbed.devtype, 'GPU', 'CPU', 'Emulator'))\n",
    "\n",
    "data = []\n",
    "for testbed in q:\n",
    "    data.append(\n",
    "        (testbed.id, [\n",
    "            testbed.host, DEVICES.get(testbed.device, testbed.device),\n",
    "            DRIVERS.get(testbed.driver, testbed.driver), testbed.opencl, testbed.devtype] +\n",
    "         [session.query(t.testbed).filter(t.testbed == testbed).count() for t in TABLES]))\n",
    "i, d = zip(*data)\n",
    "testbeds = pd.DataFrame(list(d), index=i, columns=[\"Operating System\", \"Device\", \"Driver\", \"OpenCL\", \"Device type\"] + [f\"#. {t}\" for t in TABLE_NAMES])\n",
    "testbeds"
   ]
  },
  {
   "cell_type": "code",
   "execution_count": 4,
   "metadata": {},
   "outputs": [
    {
     "name": "stdout",
     "output_type": "stream",
     "text": [
      "Current branch master is up to date.\n",
      "On branch master\n",
      "Your branch is up-to-date with 'origin/master'.\n",
      "nothing to commit, working directory clean\n"
     ]
    },
    {
     "data": {
      "text/html": [
       "<div>\n",
       "<table border=\"1\" class=\"dataframe\">\n",
       "  <thead>\n",
       "    <tr style=\"text-align: right;\">\n",
       "      <th></th>\n",
       "      <th>Platform</th>\n",
       "      <th>Device</th>\n",
       "      <th>Driver</th>\n",
       "      <th>OpenCL</th>\n",
       "      <th>Operating system</th>\n",
       "      <th>Device type</th>\n",
       "    </tr>\n",
       "  </thead>\n",
       "  <tbody>\n",
       "    <tr>\n",
       "      <th>1</th>\n",
       "      <td>NVIDIA CUDA</td>\n",
       "      <td>GeForce GTX 1080</td>\n",
       "      <td>375.39</td>\n",
       "      <td>1.2</td>\n",
       "      <td>Ubuntu 16.04 64bit</td>\n",
       "      <td>GPU</td>\n",
       "    </tr>\n",
       "    <tr>\n",
       "      <th>2</th>\n",
       "      <td>Intel(R) OpenCL</td>\n",
       "      <td>Intel(R) Xeon(R) CPU E5-2620 v4 @ 2.10GHz</td>\n",
       "      <td>1.2.0.25</td>\n",
       "      <td>2.0</td>\n",
       "      <td>Ubuntu 16.04 64bit</td>\n",
       "      <td>CPU</td>\n",
       "    </tr>\n",
       "    <tr>\n",
       "      <th>3</th>\n",
       "      <td>Oclgrind</td>\n",
       "      <td>Oclgrind Simulator</td>\n",
       "      <td>16.10</td>\n",
       "      <td>1.2</td>\n",
       "      <td>Ubuntu 16.04 64bit</td>\n",
       "      <td>Emulator</td>\n",
       "    </tr>\n",
       "  </tbody>\n",
       "</table>\n",
       "</div>"
      ],
      "text/plain": [
       "          Platform                                     Device    Driver  \\\n",
       "1      NVIDIA CUDA                           GeForce GTX 1080    375.39   \n",
       "2  Intel(R) OpenCL  Intel(R) Xeon(R) CPU E5-2620 v4 @ 2.10GHz  1.2.0.25   \n",
       "3         Oclgrind                         Oclgrind Simulator     16.10   \n",
       "\n",
       "  OpenCL    Operating system Device type  \n",
       "1    1.2  Ubuntu 16.04 64bit         GPU  \n",
       "2    2.0  Ubuntu 16.04 64bit         CPU  \n",
       "3    1.2  Ubuntu 16.04 64bit    Emulator  "
      ]
     },
     "execution_count": 4,
     "metadata": {},
     "output_type": "execute_result"
    }
   ],
   "source": [
    "# push LaTex to Overleaf\n",
    "!cd ~/docs/paper-project_b/ && git pull --rebase\n",
    "import os\n",
    "data = []\n",
    "for testbed in session.query(Testbed):\n",
    "    data.append([\n",
    "        testbed.platform, testbed.device, DRIVERS.get(testbed.driver, testbed.driver),\n",
    "        testbed.opencl, testbed.host, testbed.devtype])\n",
    "table = pd.DataFrame(data, index=range(1, len(data)+1), columns=[\n",
    "    \"Platform\", \"Device\", \"Driver\", \"OpenCL\", \"Operating system\", \"Device type\"])\n",
    "with open(os.path.expanduser(\"~/docs/paper-project_b/build/tab/platforms.tex\"), \"w\") as outfile:\n",
    "    table.to_latex(buf=outfile)\n",
    "!cd ~/docs/paper-project_b/build && git add . && git commit -m \"auto: build/tab/platforms.tex\" && git push\n",
    "table"
   ]
  },
  {
   "cell_type": "markdown",
   "metadata": {},
   "source": [
    "## Runtime Parameters\n",
    "\n",
    "### cl_launcher"
   ]
  },
  {
   "cell_type": "code",
   "execution_count": 5,
   "metadata": {},
   "outputs": [
    {
     "data": {
      "text/html": [
       "<div>\n",
       "<table border=\"1\" class=\"dataframe\">\n",
       "  <thead>\n",
       "    <tr style=\"text-align: right;\">\n",
       "      <th></th>\n",
       "      <th>Global size</th>\n",
       "      <th>Local size</th>\n",
       "      <th>Optimizations</th>\n",
       "      <th>#. CLSmith</th>\n",
       "    </tr>\n",
       "  </thead>\n",
       "  <tbody>\n",
       "    <tr>\n",
       "      <th>4</th>\n",
       "      <td>(1, 1, 1)</td>\n",
       "      <td>(1, 1, 1)</td>\n",
       "      <td>off</td>\n",
       "      <td>20002</td>\n",
       "    </tr>\n",
       "    <tr>\n",
       "      <th>3</th>\n",
       "      <td>(1, 1, 1)</td>\n",
       "      <td>(1, 1, 1)</td>\n",
       "      <td>on</td>\n",
       "      <td>25322</td>\n",
       "    </tr>\n",
       "    <tr>\n",
       "      <th>2</th>\n",
       "      <td>(128, 16, 1)</td>\n",
       "      <td>(32, 1, 1)</td>\n",
       "      <td>off</td>\n",
       "      <td>20002</td>\n",
       "    </tr>\n",
       "    <tr>\n",
       "      <th>1</th>\n",
       "      <td>(128, 16, 1)</td>\n",
       "      <td>(32, 1, 1)</td>\n",
       "      <td>on</td>\n",
       "      <td>20002</td>\n",
       "    </tr>\n",
       "  </tbody>\n",
       "</table>\n",
       "</div>"
      ],
      "text/plain": [
       "    Global size  Local size Optimizations  #. CLSmith\n",
       "4     (1, 1, 1)   (1, 1, 1)           off       20002\n",
       "3     (1, 1, 1)   (1, 1, 1)            on       25322\n",
       "2  (128, 16, 1)  (32, 1, 1)           off       20002\n",
       "1  (128, 16, 1)  (32, 1, 1)            on       20002"
      ]
     },
     "execution_count": 5,
     "metadata": {},
     "output_type": "execute_result"
    }
   ],
   "source": [
    "q = session.query(cl_launcherParams).order_by(\n",
    "        cl_launcherParams.gsize_x, cl_launcherParams.gsize_y, cl_launcherParams.gsize_z,\n",
    "        cl_launcherParams.lsize_x, cl_launcherParams.lsize_y, cl_launcherParams.lsize_z,\n",
    "        cl_launcherParams.optimizations)\n",
    "\n",
    "data = []\n",
    "for param in q:\n",
    "    nresult_param = session.query(CLSmithResult).filter(CLSmithResult.params == param).count()\n",
    "    data.append((\n",
    "        param.id, [param.gsize, param.lsize, param.optimizations_on_off, nresult_param]))\n",
    "i, d = zip(*data)\n",
    "\n",
    "cl_launcher_params = pd.DataFrame(list(d), index=i, columns=[\n",
    "    \"Global size\", \"Local size\", \"Optimizations\", \"#. CLSmith\"])\n",
    "cl_launcher_params"
   ]
  },
  {
   "cell_type": "markdown",
   "metadata": {},
   "source": [
    "### cldrive"
   ]
  },
  {
   "cell_type": "code",
   "execution_count": 6,
   "metadata": {},
   "outputs": [
    {
     "data": {
      "text/html": [
       "<div>\n",
       "<table border=\"1\" class=\"dataframe\">\n",
       "  <thead>\n",
       "    <tr style=\"text-align: right;\">\n",
       "      <th></th>\n",
       "      <th>Size</th>\n",
       "      <th>Generator</th>\n",
       "      <th>Scalar Val</th>\n",
       "      <th>Global size</th>\n",
       "      <th>Local size</th>\n",
       "      <th>Optimizations</th>\n",
       "      <th>#. CLSmith w. cldrive</th>\n",
       "      <th>#. GitHub</th>\n",
       "      <th>#. CLgen</th>\n",
       "    </tr>\n",
       "  </thead>\n",
       "  <tbody>\n",
       "    <tr>\n",
       "      <th>11</th>\n",
       "      <td>256</td>\n",
       "      <td>arange</td>\n",
       "      <td>None</td>\n",
       "      <td>(1, 1, 1)</td>\n",
       "      <td>(1, 1, 1)</td>\n",
       "      <td>off</td>\n",
       "      <td>20002</td>\n",
       "      <td>18476</td>\n",
       "      <td>2000</td>\n",
       "    </tr>\n",
       "    <tr>\n",
       "      <th>10</th>\n",
       "      <td>256</td>\n",
       "      <td>arange</td>\n",
       "      <td>None</td>\n",
       "      <td>(1, 1, 1)</td>\n",
       "      <td>(1, 1, 1)</td>\n",
       "      <td>on</td>\n",
       "      <td>20535</td>\n",
       "      <td>18476</td>\n",
       "      <td>2000</td>\n",
       "    </tr>\n",
       "    <tr>\n",
       "      <th>12</th>\n",
       "      <td>4096</td>\n",
       "      <td>arange</td>\n",
       "      <td>None</td>\n",
       "      <td>(128, 16, 1)</td>\n",
       "      <td>(32, 1, 1)</td>\n",
       "      <td>off</td>\n",
       "      <td>14691</td>\n",
       "      <td>26538</td>\n",
       "      <td>2000</td>\n",
       "    </tr>\n",
       "    <tr>\n",
       "      <th>9</th>\n",
       "      <td>4096</td>\n",
       "      <td>arange</td>\n",
       "      <td>None</td>\n",
       "      <td>(128, 16, 1)</td>\n",
       "      <td>(32, 1, 1)</td>\n",
       "      <td>on</td>\n",
       "      <td>20002</td>\n",
       "      <td>20909</td>\n",
       "      <td>2000</td>\n",
       "    </tr>\n",
       "  </tbody>\n",
       "</table>\n",
       "</div>"
      ],
      "text/plain": [
       "    Size Generator Scalar Val   Global size  Local size Optimizations  \\\n",
       "11   256    arange       None     (1, 1, 1)   (1, 1, 1)           off   \n",
       "10   256    arange       None     (1, 1, 1)   (1, 1, 1)            on   \n",
       "12  4096    arange       None  (128, 16, 1)  (32, 1, 1)           off   \n",
       "9   4096    arange       None  (128, 16, 1)  (32, 1, 1)            on   \n",
       "\n",
       "    #. CLSmith w. cldrive  #. GitHub  #. CLgen  \n",
       "11                  20002      18476      2000  \n",
       "10                  20535      18476      2000  \n",
       "12                  14691      26538      2000  \n",
       "9                   20002      20909      2000  "
      ]
     },
     "execution_count": 6,
     "metadata": {},
     "output_type": "execute_result"
    }
   ],
   "source": [
    "CLDRIVE_TABLE_NAMES = [\"CLSmith w. cldrive\", \"GitHub\", \"CLgen\"]\n",
    "CLDRIVE_TABLES = [cldriveCLSmithResult, GitHubResult, CLgenResult]\n",
    "\n",
    "q = session.query(cldriveParams).order_by(\n",
    "        cldriveParams.size,\n",
    "        cldriveParams.gsize_x, cldriveParams.gsize_y, cldriveParams.gsize_z,\n",
    "        cldriveParams.lsize_x, cldriveParams.lsize_y, cldriveParams.lsize_z,\n",
    "        cldriveParams.generator, cldriveParams.scalar_val, cldriveParams.optimizations)\n",
    "\n",
    "data = []\n",
    "for param in q:\n",
    "    data.append((\n",
    "        param.id,\n",
    "        [param.size, param.generator, param.scalar_val, param.gsize,\n",
    "         param.lsize, param.optimizations_on_off] + [\n",
    "            session.query(t).filter(t.params == param).count()\n",
    "            for t in CLDRIVE_TABLES\n",
    "        ]))\n",
    "i, d = zip(*data)\n",
    "\n",
    "cldrive_params = pd.DataFrame(list(d), index=i, columns=[\n",
    "    \"Size\", \"Generator\", \"Scalar Val\", \"Global size\", \"Local size\",\n",
    "    \"Optimizations\"] + [f\"#. {t}\" for t in CLDRIVE_TABLE_NAMES])\n",
    "cldrive_params"
   ]
  },
  {
   "cell_type": "code",
   "execution_count": 7,
   "metadata": {},
   "outputs": [
    {
     "name": "stdout",
     "output_type": "stream",
     "text": [
      "Current branch master is up to date.\n",
      "On branch master\n",
      "Your branch is up-to-date with 'origin/master'.\n",
      "nothing to commit, working directory clean\n"
     ]
    },
    {
     "data": {
      "text/html": [
       "<div>\n",
       "<table border=\"1\" class=\"dataframe\">\n",
       "  <thead>\n",
       "    <tr style=\"text-align: right;\">\n",
       "      <th></th>\n",
       "      <th>Dataset Size</th>\n",
       "      <th>Global size</th>\n",
       "      <th>Workgroup size</th>\n",
       "      <th>OpenCL Optimizations</th>\n",
       "    </tr>\n",
       "  </thead>\n",
       "  <tbody>\n",
       "    <tr>\n",
       "      <th>1</th>\n",
       "      <td>256</td>\n",
       "      <td>(1, 1, 1)</td>\n",
       "      <td>(1, 1, 1)</td>\n",
       "      <td>off</td>\n",
       "    </tr>\n",
       "    <tr>\n",
       "      <th>2</th>\n",
       "      <td>256</td>\n",
       "      <td>(1, 1, 1)</td>\n",
       "      <td>(1, 1, 1)</td>\n",
       "      <td>on</td>\n",
       "    </tr>\n",
       "    <tr>\n",
       "      <th>3</th>\n",
       "      <td>4096</td>\n",
       "      <td>(128, 16, 1)</td>\n",
       "      <td>(32, 1, 1)</td>\n",
       "      <td>off</td>\n",
       "    </tr>\n",
       "    <tr>\n",
       "      <th>4</th>\n",
       "      <td>4096</td>\n",
       "      <td>(128, 16, 1)</td>\n",
       "      <td>(32, 1, 1)</td>\n",
       "      <td>on</td>\n",
       "    </tr>\n",
       "  </tbody>\n",
       "</table>\n",
       "</div>"
      ],
      "text/plain": [
       "   Dataset Size   Global size Workgroup size OpenCL Optimizations\n",
       "1           256     (1, 1, 1)      (1, 1, 1)                  off\n",
       "2           256     (1, 1, 1)      (1, 1, 1)                   on\n",
       "3          4096  (128, 16, 1)     (32, 1, 1)                  off\n",
       "4          4096  (128, 16, 1)     (32, 1, 1)                   on"
      ]
     },
     "execution_count": 7,
     "metadata": {},
     "output_type": "execute_result"
    }
   ],
   "source": [
    "# push LaTex to Overleaf\n",
    "!cd ~/docs/paper-project_b/ && git pull --rebase\n",
    "data = []\n",
    "for param in q:\n",
    "    data.append([param.size, param.gsize, param.lsize, param.optimizations_on_off])\n",
    "table = pd.DataFrame(data, index=range(1, len(data)+1), columns=[\n",
    "    \"Dataset Size\", \"Global size\", \"Workgroup size\", \"OpenCL Optimizations\"])\n",
    "with open(os.path.expanduser(\"~/docs/paper-project_b/build/tab/cldrive-params.tex\"), \"w\") as outfile:\n",
    "    table.to_latex(buf=outfile)\n",
    "!cd ~/docs/paper-project_b/build && git add . && git commit -m \"auto: build/tab/cldrive-params.tex\" && git push\n",
    "table"
   ]
  },
  {
   "cell_type": "markdown",
   "metadata": {},
   "source": [
    "# Experimental Results"
   ]
  },
  {
   "cell_type": "markdown",
   "metadata": {},
   "source": [
    "## Runtimes\n",
    "\n",
    "Excluding runs which terminated in non-zero status:"
   ]
  },
  {
   "cell_type": "code",
   "execution_count": 8,
   "metadata": {},
   "outputs": [
    {
     "data": {
      "text/html": [
       "<div>\n",
       "<table border=\"1\" class=\"dataframe\">\n",
       "  <thead>\n",
       "    <tr style=\"text-align: right;\">\n",
       "      <th></th>\n",
       "      <th>CLSmith</th>\n",
       "      <th>CLSmith w. cldrive</th>\n",
       "      <th>GitHub</th>\n",
       "      <th>CLgen</th>\n",
       "    </tr>\n",
       "  </thead>\n",
       "  <tbody>\n",
       "    <tr>\n",
       "      <th>Min</th>\n",
       "      <td>0.026003</td>\n",
       "      <td>2.279470</td>\n",
       "      <td>2.346580</td>\n",
       "      <td>2.180390</td>\n",
       "    </tr>\n",
       "    <tr>\n",
       "      <th>Median</th>\n",
       "      <td>1.224455</td>\n",
       "      <td>3.837550</td>\n",
       "      <td>3.769885</td>\n",
       "      <td>5.874140</td>\n",
       "    </tr>\n",
       "    <tr>\n",
       "      <th>Mean</th>\n",
       "      <td>1.913065</td>\n",
       "      <td>4.278828</td>\n",
       "      <td>3.653087</td>\n",
       "      <td>4.262695</td>\n",
       "    </tr>\n",
       "    <tr>\n",
       "      <th>Max</th>\n",
       "      <td>58.667400</td>\n",
       "      <td>47.763300</td>\n",
       "      <td>55.092600</td>\n",
       "      <td>10.941300</td>\n",
       "    </tr>\n",
       "  </tbody>\n",
       "</table>\n",
       "</div>"
      ],
      "text/plain": [
       "          CLSmith  CLSmith w. cldrive     GitHub      CLgen\n",
       "Min      0.026003            2.279470   2.346580   2.180390\n",
       "Median   1.224455            3.837550   3.769885   5.874140\n",
       "Mean     1.913065            4.278828   3.653087   4.262695\n",
       "Max     58.667400           47.763300  55.092600  10.941300"
      ]
     },
     "execution_count": 8,
     "metadata": {},
     "output_type": "execute_result"
    }
   ],
   "source": [
    "import numpy as np\n",
    "\n",
    "runtimes = [np.array(session.query(table.runtime).filter(table.status == 0).all()) for table in TABLES]\n",
    "data = [\n",
    "    (\"Min\", [r.min() for r in runtimes]),\n",
    "    (\"Median\", [np.median(r) for r in runtimes]),\n",
    "    (\"Mean\", [r.mean() for r in runtimes]),\n",
    "    (\"Max\", [r.max() for r in runtimes])\n",
    "]\n",
    "i, d = zip(*data)\n",
    "runtimes = pd.DataFrame(list(d), index=i, columns=TABLE_NAMES)\n",
    "runtimes"
   ]
  },
  {
   "cell_type": "markdown",
   "metadata": {
    "collapsed": true
   },
   "source": [
    "## Outcomes\n",
    "\n",
    "**Write `outcome` and `classification` fields in tables**"
   ]
  },
  {
   "cell_type": "code",
   "execution_count": 51,
   "metadata": {},
   "outputs": [
    {
     "name": "stdout",
     "output_type": "stream",
     "text": [
      "Possible classifications: 'Build failure', 'Invalid testcase', 'Okay', 'Runtime crash', 'Wrong code'\n",
      "CLSmith ...\n"
     ]
    },
    {
     "name": "stderr",
     "output_type": "stream",
     "text": [
      "100% (89613 of 89613) |###############################| Elapsed Time: 0:05:17 Time: 0:05:17\n"
     ]
    },
    {
     "name": "stdout",
     "output_type": "stream",
     "text": [
      "CLSmith w. cldrive ...\n"
     ]
    },
    {
     "name": "stderr",
     "output_type": "stream",
     "text": [
      "100% (75230 of 75230) |###############################| Elapsed Time: 0:00:41 Time: 0:00:41\n"
     ]
    },
    {
     "name": "stdout",
     "output_type": "stream",
     "text": [
      "GitHub ...\n"
     ]
    },
    {
     "name": "stderr",
     "output_type": "stream",
     "text": [
      "100% (84399 of 84399) |###############################| Elapsed Time: 0:01:59 Time: 0:01:59\n"
     ]
    },
    {
     "name": "stdout",
     "output_type": "stream",
     "text": [
      "CLgen ...\n"
     ]
    },
    {
     "name": "stderr",
     "output_type": "stream",
     "text": [
      "100% (8310 of 8310) |#################################| Elapsed Time: 0:00:50 Time: 0:00:50\n"
     ]
    }
   ],
   "source": [
    "from collections import Counter\n",
    "from progressbar import ProgressBar\n",
    "\n",
    "# Group outcomes into less-granular classifications, as in the CLSmith paper.\n",
    "# This table maps <outcome>: <classification>\n",
    "CLASSIFICATIONS = {\n",
    "    '__NOT_IMPLEMENTED_YET__': 'Wrong code',\n",
    "    'CL_BUILD_PROGRAM _FAILURE': 'Build failure',\n",
    "    'CL_INVALID_COMMAND_QUEUE': 'Runtime crash',\n",
    "    'CL_INVALID_KERNEL_NAME': 'Build failure',\n",
    "    'CL_INVALID_VALUE': 'Runtime crash',\n",
    "    'CL_OUT_OF_HOST_MEMORY': 'Runtime crash',\n",
    "    'CL_OUT_OF_RESOURCES': 'Runtime crash',\n",
    "    'cldrive Error': 'Invalid testcase',\n",
    "    'clWaitForEvents()': 'Runtime crash',\n",
    "    'Multiple OpenCL kernels': 'Invalid testcase',\n",
    "    'No OpenCL kernel': 'Invalid testcase',\n",
    "    'Preprocessing Failed': 'Invalid testcase',\n",
    "    'Segmentation Fault': 'Build failure',\n",
    "    'SIGBUS': 'Runtime crash',\n",
    "    'Timeout': 'Invalid testcase',\n",
    "    'Unsupported Program': 'Invalid testcase',\n",
    "    'z_Okay': 'Okay',\n",
    "    'INVALID_WORK_GROUP_SIZE': 'Invalid testcase',\n",
    "    'UnicodeError': 'Invalid testcase',\n",
    "}\n",
    "print(\"Possible classifications:\", \", \".join(f\"'{s}'\" for s in sorted(set(CLASSIFICATIONS.values()))))\n",
    "\n",
    "\n",
    "def lookup_status(status):\n",
    "    return {\n",
    "        -11: \"Segmentation Fault\",\n",
    "        -9: \"Timeout\",\n",
    "        0: \"z_Okay\",\n",
    "        1024: \"Preprocessing Failed\",\n",
    "        1025: \"UnicodeError\",\n",
    "    }[status]\n",
    "\n",
    "\n",
    "def get_cl_launcher_outcome(result):\n",
    "    if result.status == 1:\n",
    "        # exit status of 1 indicates that cl_launcher exited after an OpenCL API call error\n",
    "        prev = None\n",
    "        for line in reversed(result.stderr.split('\\n')):\n",
    "            if line == \"Error found (callback):\":\n",
    "                # Interpret CLSmith error callback messages: the following line describes the error\n",
    "                return prev.split()[0]\n",
    "            elif line.startswith(\"Error\"):\n",
    "                # Interpret CLSmith error messages\n",
    "                return {\n",
    "                    \"Error enqueueing kernel: -6\": \"CL_OUT_OF_HOST_MEMORY\",\n",
    "                    \"Error sending finish command: -36\": \"CL_INVALID_COMMAND_QUEUE\",\n",
    "                    \"Error building program: -11\": \"CL_BUILD_PROGRAM _FAILURE\",\n",
    "                    \"Error creating kernel: -46\": \"CL_INVALID_KERNEL_NAME\",\n",
    "                    \"Error enqueueing kernel: -5\": \"CL_OUT_OF_RESOURCES\",\n",
    "                }.get(line, line)\n",
    "            prev = line\n",
    "        else:  # should never happen\n",
    "            raise LookupError\n",
    "    else:\n",
    "        return lookup_status(result.status)\n",
    "\n",
    "\n",
    "def get_cldrive_outcome(result):\n",
    "    if result.status == 1:\n",
    "        # exit status of 1\n",
    "        line = result.stderr.split('\\n')[-2]  # last line contains the Exception line\n",
    "        if line.startswith('cldrive.args.OpenCLValueError'):\n",
    "            return 'Unsupported Program'\n",
    "        elif line.startswith('ValueError: unsupported data type'):\n",
    "            return 'cldrive Error'\n",
    "        elif line.startswith('TypeError: unsupported operand type'):\n",
    "            return 'cldrive Error'\n",
    "        elif line.startswith('TypeError: _set_args() takes'):\n",
    "            return 'cldrive Error'\n",
    "        elif line.startswith('ValueError: could not broadcast input array from shape'):\n",
    "            return 'cldrive Error'\n",
    "        else:\n",
    "            # This table maps <exception line>: <outcome>\n",
    "            return {\n",
    "                'AssertionError': 'cldrive Error',\n",
    "                'cldrive.driver.PorcelainError: SIGBUS': 'SIGBUS',\n",
    "                'cldrive.driver.PorcelainError: SIGSEGV': 'Segmentation Fault',\n",
    "                'cldrive.driver.Timeout: 60': 'Timeout',\n",
    "                'EOFError: Ran out of input': 'cldrive Error',\n",
    "                'KeyError: \\'outputs\\'': 'cldrive Error',\n",
    "                'LookupError: source contains more than one kernel definition': 'Multiple OpenCL kernels',\n",
    "                'LookupError: source contains no kernel definitions.': 'No OpenCL kernel',\n",
    "                'pyopencl.cffi_cl.LogicError: clEnqueueNDRangeKernel failed: INVALID_WORK_GROUP_SIZE': 'INVALID_WORK_GROUP_SIZE',\n",
    "                'pyopencl.cffi_cl.LogicError: clWaitForEvents failed: <unknown error -9999>': 'clWaitForEvents()',\n",
    "                'pyopencl.cffi_cl.RuntimeError: clEnqueueNDRangeKernel failed: OUT_OF_HOST_MEMORY': 'CL_OUT_OF_HOST_MEMORY',\n",
    "                'pyopencl.cffi_cl.RuntimeError: clEnqueueNDRangeKernel failed: OUT_OF_RESOURCES': 'CL_OUT_OF_RESOURCES',\n",
    "                'RuntimeError': 'cldrive Error',\n",
    "                'ValueError: failed to set kernel args': 'cldrive Error',\n",
    "            }.get(line, line)\n",
    "    else:\n",
    "        return lookup_status(result.status)\n",
    "\n",
    "session.rollback()\n",
    "\n",
    "# cl_launcher result outcomes and classifications\n",
    "print(\"CLSmith ...\")\n",
    "for result in ProgressBar()(session.query(CLSmithResult).all()):\n",
    "    result.outcome = get_cl_launcher_outcome(result)\n",
    "    result.classification = CLASSIFICATIONS[result.outcome]\n",
    "    \n",
    "    # determine if output differs from the majority (if there is one)\n",
    "    if result.status == 0:\n",
    "        outputs = [x[0] for x in session.query(CLSmithResult.stdout)\\\n",
    "            .filter(CLSmithResult.program == result.program,\n",
    "                    CLSmithResult.params == result.params,\n",
    "                    CLSmithResult.status == 0)]\n",
    "        if len(outputs) > 1:\n",
    "            majority_output = Counter(outputs).most_common(1)[0][0]\n",
    "            if result.stdout != majority_output:\n",
    "                result.classification = \"Wrong code\"\n",
    "session.commit()\n",
    "\n",
    "# cldrive results outcomes and classifications\n",
    "for name, table in zip(CLDRIVE_TABLE_NAMES, CLDRIVE_TABLES):\n",
    "    print(f\"{name} ...\")\n",
    "    for result in ProgressBar()(session.query(table).all()):\n",
    "        result.outcome = get_cldrive_outcome(result)\n",
    "        result.classification = CLASSIFICATIONS[result.outcome]\n",
    "        \n",
    "        # determine if output differs from the majority (if there is one)\n",
    "        if result.status == 0:\n",
    "            outputs = [x[0] for x in session.query(table.stdout)\\\n",
    "                .filter(table.program == result.program,\n",
    "                        table.params == result.params,\n",
    "                        table.status == 0)]\n",
    "            if len(outputs) > 1:\n",
    "                majority_output = Counter(outputs).most_common(1)[0][0]\n",
    "                if result.stdout != majority_output:\n",
    "                    result.classification = \"Wrong code\"\n",
    "    session.commit()"
   ]
  },
  {
   "cell_type": "markdown",
   "metadata": {},
   "source": [
    "**Pandas tables of outcomes**"
   ]
  },
  {
   "cell_type": "code",
   "execution_count": 53,
   "metadata": {},
   "outputs": [
    {
     "name": "stdout",
     "output_type": "stream",
     "text": [
      "done.\n"
     ]
    }
   ],
   "source": [
    "outcomes = {}\n",
    "\n",
    "r = []\n",
    "for testbed in session.query(Testbed).all():\n",
    "    nresult = session.query(CLSmithResult).filter(CLSmithResult.testbed == testbed).count()\n",
    "\n",
    "    q = session.query(CLSmithResult.outcome, sql.func.count(CLSmithResult.outcome)).filter(\n",
    "        CLSmithResult.testbed == testbed).group_by(CLSmithResult.outcome).order_by(sql.desc(sql.func.count(CLSmithResult.outcome)))\n",
    "\n",
    "    for outcome, count in q.all():\n",
    "        ratio = (count / nresult) * 100\n",
    "        r.append((DEVICES.get(testbed.device, testbed.device), outcome, count, ratio))\n",
    "outcomes[\"CLSmith\"] = pd.DataFrame(r, columns=[\"Device\", \"Outcome\", \"Count\", \"% of Total Results\"])\n",
    "        \n",
    "for name, table in zip(CLDRIVE_TABLE_NAMES, CLDRIVE_TABLES):\n",
    "    r = []\n",
    "    for testbed in session.query(Testbed).all():\n",
    "        nresult = session.query(table).filter(table.testbed == testbed).count()\n",
    "\n",
    "        q = session.query(table.outcome, sql.func.count(table.outcome)).filter(\n",
    "            table.testbed == testbed).group_by(table.outcome).order_by(\n",
    "                sql.desc(sql.func.count(table.outcome)))\n",
    "\n",
    "        for outcome, count in q.all():\n",
    "            ratio = (count / nresult) * 100\n",
    "            r.append((DEVICES.get(testbed.device, testbed.device), outcome, count, ratio))\n",
    "    outcomes[name] = pd.DataFrame(r, columns=[\"Device\", \"Outcome\", \"Count\", \"% of Total Results\"])\n",
    "\n",
    "print(\"done.\")"
   ]
  },
  {
   "cell_type": "markdown",
   "metadata": {},
   "source": [
    "**Detecting wrong-code errors:**"
   ]
  },
  {
   "cell_type": "code",
   "execution_count": 87,
   "metadata": {},
   "outputs": [
    {
     "name": "stdout",
     "output_type": "stream",
     "text": [
      "done.\n"
     ]
    }
   ],
   "source": [
    "classifications = {}\n",
    "\n",
    "classificationsSort = [\n",
    "    'Invalid testcase',\n",
    "    'Build failure',\n",
    "    'Runtime crash',\n",
    "    'Wrong code',\n",
    "    'Okay'\n",
    "]\n",
    "\n",
    "def escape(val):\n",
    "    if val is None:\n",
    "        return val\n",
    "    else:\n",
    "        return str(classificationsSort.index(val)) + \". \" + val\n",
    "\n",
    "r = []\n",
    "for testbed in session.query(Testbed).all():\n",
    "    nresult = session.query(CLSmithResult).filter(CLSmithResult.testbed == testbed).count()\n",
    "\n",
    "    q = session.query(CLSmithResult.classification, sql.func.count(CLSmithResult.classification)).filter(\n",
    "        CLSmithResult.testbed == testbed).group_by(CLSmithResult.classification).order_by(\n",
    "            sql.desc(sql.func.count(CLSmithResult.classification)))\n",
    "\n",
    "    for val, count in q.all():\n",
    "        ratio = (count / nresult) * 100\n",
    "        r.append((DEVICES.get(testbed.device, testbed.device), escape(val), count, ratio))\n",
    "classifications[\"CLSmith\"] = pd.DataFrame(r, columns=[\"Device\", \"Classification\", \"Count\", \"% of Total Results\"])\n",
    "        \n",
    "for name, table in zip(CLDRIVE_TABLE_NAMES, CLDRIVE_TABLES):\n",
    "    r = []\n",
    "    for testbed in session.query(Testbed).all():\n",
    "        nresult = session.query(table).filter(table.testbed == testbed).count()\n",
    "\n",
    "        q = session.query(table.classification, sql.func.count(table.classification)).filter(\n",
    "            table.testbed == testbed).group_by(table.classification).order_by(\n",
    "                sql.desc(sql.func.count(table.classification)))\n",
    "\n",
    "        for val, count in q.all():\n",
    "            ratio = (count / nresult) * 100\n",
    "            r.append((DEVICES.get(testbed.device, testbed.device), escape(val), count, ratio))\n",
    "    classifications[name] = pd.DataFrame(r, columns=[\"Device\", \"Classification\", \"Count\", \"% of Total Results\"])\n",
    "\n",
    "print(\"done.\")"
   ]
  },
  {
   "cell_type": "code",
   "execution_count": 88,
   "metadata": {},
   "outputs": [
    {
     "data": {
      "image/png": "[encoded data removed]",
      "text/plain": [
       "<matplotlib.figure.Figure at 0x7fa79f4b44a8>"
      ]
     },
     "metadata": {},
     "output_type": "display_data"
    }
   ],
   "source": [
    "import matplotlib.pyplot as plt\n",
    "import seaborn as sns\n",
    "from labm8 import viz\n",
    "%matplotlib inline\n",
    "\n",
    "def plot_outcomes(table, name, dictname=outcomes, key='Outcome'):\n",
    "    ax = dictname[name].pivot('Device', key)['Count'].plot(\n",
    "        kind='bar', stacked=True, colormap=\"Reds_r\", sort_columns=True)\n",
    "\n",
    "    nprog = session.query(table.program_id).group_by(table.program_id).count()\n",
    "    nparam = session.query(table.params_id).group_by(table.params_id).count()\n",
    "    plt.title(f\"{nprog} {name} x {nparam} parameters\")\n",
    "    plt.ylabel(\"Results\")\n",
    "    plt.xlabel(\"\")\n",
    "\n",
    "    plt.ylim(0, nprog * nparam)\n",
    "\n",
    "    # reverse legend order (because plot stacks from bottom to top, and legend goes from top to bottom)\n",
    "    handles, labels = ax.get_legend_handles_labels()\n",
    "    ax.legend(handles[::-1], labels[::-1], loc='center left', bbox_to_anchor=(1, 0.5))\n",
    "\n",
    "    viz.finalise(figsize=(3.5, 8))\n",
    "    \n",
    "plot_outcomes(CLSmithResult, \"CLSmith\", dictname=classifications, key='Classification')"
   ]
  },
  {
   "cell_type": "markdown",
   "metadata": {},
   "source": [
    "### CLSmith"
   ]
  },
  {
   "cell_type": "code",
   "execution_count": 58,
   "metadata": {},
   "outputs": [
    {
     "data": {
      "text/html": [
       "<div>\n",
       "<table border=\"1\" class=\"dataframe\">\n",
       "  <thead>\n",
       "    <tr style=\"text-align: right;\">\n",
       "      <th></th>\n",
       "      <th>Device</th>\n",
       "      <th>Classification</th>\n",
       "      <th>Count</th>\n",
       "      <th>% of Total Results</th>\n",
       "    </tr>\n",
       "  </thead>\n",
       "  <tbody>\n",
       "    <tr>\n",
       "      <th>0</th>\n",
       "      <td>NVIDIA GTX 1080</td>\n",
       "      <td>Okay</td>\n",
       "      <td>32848</td>\n",
       "      <td>82.111789</td>\n",
       "    </tr>\n",
       "    <tr>\n",
       "      <th>1</th>\n",
       "      <td>NVIDIA GTX 1080</td>\n",
       "      <td>Invalid testcase</td>\n",
       "      <td>3754</td>\n",
       "      <td>9.384062</td>\n",
       "    </tr>\n",
       "    <tr>\n",
       "      <th>2</th>\n",
       "      <td>NVIDIA GTX 1080</td>\n",
       "      <td>Build failure</td>\n",
       "      <td>2996</td>\n",
       "      <td>7.489251</td>\n",
       "    </tr>\n",
       "    <tr>\n",
       "      <th>3</th>\n",
       "      <td>NVIDIA GTX 1080</td>\n",
       "      <td>Runtime crash</td>\n",
       "      <td>385</td>\n",
       "      <td>0.962404</td>\n",
       "    </tr>\n",
       "    <tr>\n",
       "      <th>4</th>\n",
       "      <td>NVIDIA GTX 1080</td>\n",
       "      <td>Wrong code</td>\n",
       "      <td>21</td>\n",
       "      <td>0.052495</td>\n",
       "    </tr>\n",
       "    <tr>\n",
       "      <th>5</th>\n",
       "      <td>Intel E5-2620</td>\n",
       "      <td>Okay</td>\n",
       "      <td>28626</td>\n",
       "      <td>71.557844</td>\n",
       "    </tr>\n",
       "    <tr>\n",
       "      <th>6</th>\n",
       "      <td>Intel E5-2620</td>\n",
       "      <td>Build failure</td>\n",
       "      <td>6685</td>\n",
       "      <td>16.710829</td>\n",
       "    </tr>\n",
       "    <tr>\n",
       "      <th>7</th>\n",
       "      <td>Intel E5-2620</td>\n",
       "      <td>Invalid testcase</td>\n",
       "      <td>3311</td>\n",
       "      <td>8.276672</td>\n",
       "    </tr>\n",
       "    <tr>\n",
       "      <th>8</th>\n",
       "      <td>Intel E5-2620</td>\n",
       "      <td>Runtime crash</td>\n",
       "      <td>1382</td>\n",
       "      <td>3.454655</td>\n",
       "    </tr>\n",
       "    <tr>\n",
       "      <th>9</th>\n",
       "      <td>Oclgrind Simulator</td>\n",
       "      <td>Invalid testcase</td>\n",
       "      <td>4783</td>\n",
       "      <td>30.237704</td>\n",
       "    </tr>\n",
       "    <tr>\n",
       "      <th>10</th>\n",
       "      <td>Oclgrind Simulator</td>\n",
       "      <td>Okay</td>\n",
       "      <td>4428</td>\n",
       "      <td>27.993425</td>\n",
       "    </tr>\n",
       "    <tr>\n",
       "      <th>11</th>\n",
       "      <td>Oclgrind Simulator</td>\n",
       "      <td>Build failure</td>\n",
       "      <td>391</td>\n",
       "      <td>2.471867</td>\n",
       "    </tr>\n",
       "    <tr>\n",
       "      <th>12</th>\n",
       "      <td>Oclgrind Simulator</td>\n",
       "      <td>Wrong code</td>\n",
       "      <td>3</td>\n",
       "      <td>0.018966</td>\n",
       "    </tr>\n",
       "    <tr>\n",
       "      <th>13</th>\n",
       "      <td>Oclgrind Simulator</td>\n",
       "      <td>None</td>\n",
       "      <td>0</td>\n",
       "      <td>0.000000</td>\n",
       "    </tr>\n",
       "  </tbody>\n",
       "</table>\n",
       "</div>"
      ],
      "text/plain": [
       "                Device    Classification  Count  % of Total Results\n",
       "0      NVIDIA GTX 1080              Okay  32848           82.111789\n",
       "1      NVIDIA GTX 1080  Invalid testcase   3754            9.384062\n",
       "2      NVIDIA GTX 1080     Build failure   2996            7.489251\n",
       "3      NVIDIA GTX 1080     Runtime crash    385            0.962404\n",
       "4      NVIDIA GTX 1080        Wrong code     21            0.052495\n",
       "5        Intel E5-2620              Okay  28626           71.557844\n",
       "6        Intel E5-2620     Build failure   6685           16.710829\n",
       "7        Intel E5-2620  Invalid testcase   3311            8.276672\n",
       "8        Intel E5-2620     Runtime crash   1382            3.454655\n",
       "9   Oclgrind Simulator  Invalid testcase   4783           30.237704\n",
       "10  Oclgrind Simulator              Okay   4428           27.993425\n",
       "11  Oclgrind Simulator     Build failure    391            2.471867\n",
       "12  Oclgrind Simulator        Wrong code      3            0.018966\n",
       "13  Oclgrind Simulator              None      0            0.000000"
      ]
     },
     "execution_count": 58,
     "metadata": {},
     "output_type": "execute_result"
    }
   ],
   "source": [
    "# outcomes[\"CLSmith\"]\n",
    "classifications[\"CLSmith\"]"
   ]
  },
  {
   "cell_type": "code",
   "execution_count": 57,
   "metadata": {},
   "outputs": [
    {
     "data": {
      "image/png": "[encoded data removed]",
      "text/plain": [
       "<matplotlib.figure.Figure at 0x7fa79e7965c0>"
      ]
     },
     "metadata": {},
     "output_type": "display_data"
    }
   ],
   "source": [
    "plot_outcomes(CLSmithResult, \"CLSmith\", dictname=classifications, key='Classification')"
   ]
  },
  {
   "cell_type": "markdown",
   "metadata": {},
   "source": [
    "### CLSmith w. cldrive"
   ]
  },
  {
   "cell_type": "code",
   "execution_count": 15,
   "metadata": {},
   "outputs": [
    {
     "data": {
      "text/html": [
       "<div>\n",
       "<table border=\"1\" class=\"dataframe\">\n",
       "  <thead>\n",
       "    <tr style=\"text-align: right;\">\n",
       "      <th></th>\n",
       "      <th>Device</th>\n",
       "      <th>Outcome</th>\n",
       "      <th>Count</th>\n",
       "      <th>% of Total Results</th>\n",
       "    </tr>\n",
       "  </thead>\n",
       "  <tbody>\n",
       "    <tr>\n",
       "      <th>0</th>\n",
       "      <td>NVIDIA GTX 1080</td>\n",
       "      <td>Unsupported Program</td>\n",
       "      <td>32899</td>\n",
       "      <td>94.828928</td>\n",
       "    </tr>\n",
       "    <tr>\n",
       "      <th>1</th>\n",
       "      <td>NVIDIA GTX 1080</td>\n",
       "      <td>z_Okay</td>\n",
       "      <td>1655</td>\n",
       "      <td>4.770415</td>\n",
       "    </tr>\n",
       "    <tr>\n",
       "      <th>2</th>\n",
       "      <td>NVIDIA GTX 1080</td>\n",
       "      <td>No OpenCL kernel</td>\n",
       "      <td>64</td>\n",
       "      <td>0.184475</td>\n",
       "    </tr>\n",
       "    <tr>\n",
       "      <th>3</th>\n",
       "      <td>NVIDIA GTX 1080</td>\n",
       "      <td>cldrive Error</td>\n",
       "      <td>56</td>\n",
       "      <td>0.161416</td>\n",
       "    </tr>\n",
       "    <tr>\n",
       "      <th>4</th>\n",
       "      <td>NVIDIA GTX 1080</td>\n",
       "      <td>Timeout</td>\n",
       "      <td>12</td>\n",
       "      <td>0.034589</td>\n",
       "    </tr>\n",
       "    <tr>\n",
       "      <th>5</th>\n",
       "      <td>NVIDIA GTX 1080</td>\n",
       "      <td>clWaitForEvents()</td>\n",
       "      <td>3</td>\n",
       "      <td>0.008647</td>\n",
       "    </tr>\n",
       "    <tr>\n",
       "      <th>6</th>\n",
       "      <td>NVIDIA GTX 1080</td>\n",
       "      <td>CL_OUT_OF_HOST_MEMORY</td>\n",
       "      <td>3</td>\n",
       "      <td>0.008647</td>\n",
       "    </tr>\n",
       "    <tr>\n",
       "      <th>7</th>\n",
       "      <td>NVIDIA GTX 1080</td>\n",
       "      <td>Segmentation Fault</td>\n",
       "      <td>1</td>\n",
       "      <td>0.002882</td>\n",
       "    </tr>\n",
       "    <tr>\n",
       "      <th>8</th>\n",
       "      <td>Intel E5-2620</td>\n",
       "      <td>Unsupported Program</td>\n",
       "      <td>37940</td>\n",
       "      <td>94.840516</td>\n",
       "    </tr>\n",
       "    <tr>\n",
       "      <th>9</th>\n",
       "      <td>Intel E5-2620</td>\n",
       "      <td>z_Okay</td>\n",
       "      <td>1812</td>\n",
       "      <td>4.529547</td>\n",
       "    </tr>\n",
       "    <tr>\n",
       "      <th>10</th>\n",
       "      <td>Intel E5-2620</td>\n",
       "      <td>CL_OUT_OF_RESOURCES</td>\n",
       "      <td>92</td>\n",
       "      <td>0.229977</td>\n",
       "    </tr>\n",
       "    <tr>\n",
       "      <th>11</th>\n",
       "      <td>Intel E5-2620</td>\n",
       "      <td>No OpenCL kernel</td>\n",
       "      <td>80</td>\n",
       "      <td>0.199980</td>\n",
       "    </tr>\n",
       "    <tr>\n",
       "      <th>12</th>\n",
       "      <td>Intel E5-2620</td>\n",
       "      <td>cldrive Error</td>\n",
       "      <td>60</td>\n",
       "      <td>0.149985</td>\n",
       "    </tr>\n",
       "    <tr>\n",
       "      <th>13</th>\n",
       "      <td>Intel E5-2620</td>\n",
       "      <td>Timeout</td>\n",
       "      <td>14</td>\n",
       "      <td>0.034997</td>\n",
       "    </tr>\n",
       "    <tr>\n",
       "      <th>14</th>\n",
       "      <td>Intel E5-2620</td>\n",
       "      <td>Segmentation Fault</td>\n",
       "      <td>6</td>\n",
       "      <td>0.014999</td>\n",
       "    </tr>\n",
       "    <tr>\n",
       "      <th>15</th>\n",
       "      <td>Oclgrind Simulator</td>\n",
       "      <td>Unsupported Program</td>\n",
       "      <td>501</td>\n",
       "      <td>93.996248</td>\n",
       "    </tr>\n",
       "    <tr>\n",
       "      <th>16</th>\n",
       "      <td>Oclgrind Simulator</td>\n",
       "      <td>z_Okay</td>\n",
       "      <td>31</td>\n",
       "      <td>5.816135</td>\n",
       "    </tr>\n",
       "    <tr>\n",
       "      <th>17</th>\n",
       "      <td>Oclgrind Simulator</td>\n",
       "      <td>cldrive Error</td>\n",
       "      <td>1</td>\n",
       "      <td>0.187617</td>\n",
       "    </tr>\n",
       "  </tbody>\n",
       "</table>\n",
       "</div>"
      ],
      "text/plain": [
       "                Device                Outcome  Count  % of Total Results\n",
       "0      NVIDIA GTX 1080    Unsupported Program  32899           94.828928\n",
       "1      NVIDIA GTX 1080                 z_Okay   1655            4.770415\n",
       "2      NVIDIA GTX 1080       No OpenCL kernel     64            0.184475\n",
       "3      NVIDIA GTX 1080          cldrive Error     56            0.161416\n",
       "4      NVIDIA GTX 1080                Timeout     12            0.034589\n",
       "5      NVIDIA GTX 1080      clWaitForEvents()      3            0.008647\n",
       "6      NVIDIA GTX 1080  CL_OUT_OF_HOST_MEMORY      3            0.008647\n",
       "7      NVIDIA GTX 1080     Segmentation Fault      1            0.002882\n",
       "8        Intel E5-2620    Unsupported Program  37940           94.840516\n",
       "9        Intel E5-2620                 z_Okay   1812            4.529547\n",
       "10       Intel E5-2620    CL_OUT_OF_RESOURCES     92            0.229977\n",
       "11       Intel E5-2620       No OpenCL kernel     80            0.199980\n",
       "12       Intel E5-2620          cldrive Error     60            0.149985\n",
       "13       Intel E5-2620                Timeout     14            0.034997\n",
       "14       Intel E5-2620     Segmentation Fault      6            0.014999\n",
       "15  Oclgrind Simulator    Unsupported Program    501           93.996248\n",
       "16  Oclgrind Simulator                 z_Okay     31            5.816135\n",
       "17  Oclgrind Simulator          cldrive Error      1            0.187617"
      ]
     },
     "execution_count": 15,
     "metadata": {},
     "output_type": "execute_result"
    }
   ],
   "source": [
    "outcomes[\"CLSmith w. cldrive\"]\n",
    "# classifications[\"CLSmith w. cldrive\"]"
   ]
  },
  {
   "cell_type": "code",
   "execution_count": 16,
   "metadata": {},
   "outputs": [
    {
     "data": {
      "image/png": "[encoded data removed]",
      "text/plain": [
       "<matplotlib.figure.Figure at 0x7fa7f3a5bc18>"
      ]
     },
     "metadata": {},
     "output_type": "display_data"
    }
   ],
   "source": [
    "plot_outcomes(cldriveCLSmithResult, \"CLSmith w. cldrive\", dictname=classifications, key='Classification')"
   ]
  },
  {
   "cell_type": "markdown",
   "metadata": {},
   "source": [
    "### GitHub"
   ]
  },
  {
   "cell_type": "code",
   "execution_count": 17,
   "metadata": {},
   "outputs": [
    {
     "data": {
      "text/html": [
       "<div>\n",
       "<table border=\"1\" class=\"dataframe\">\n",
       "  <thead>\n",
       "    <tr style=\"text-align: right;\">\n",
       "      <th></th>\n",
       "      <th>Device</th>\n",
       "      <th>Outcome</th>\n",
       "      <th>Count</th>\n",
       "      <th>% of Total Results</th>\n",
       "    </tr>\n",
       "  </thead>\n",
       "  <tbody>\n",
       "    <tr>\n",
       "      <th>0</th>\n",
       "      <td>NVIDIA GTX 1080</td>\n",
       "      <td>Unsupported Program</td>\n",
       "      <td>17594</td>\n",
       "      <td>37.081375</td>\n",
       "    </tr>\n",
       "    <tr>\n",
       "      <th>1</th>\n",
       "      <td>NVIDIA GTX 1080</td>\n",
       "      <td>z_Okay</td>\n",
       "      <td>10019</td>\n",
       "      <td>21.116193</td>\n",
       "    </tr>\n",
       "    <tr>\n",
       "      <th>2</th>\n",
       "      <td>NVIDIA GTX 1080</td>\n",
       "      <td>cldrive Error</td>\n",
       "      <td>6816</td>\n",
       "      <td>14.365503</td>\n",
       "    </tr>\n",
       "    <tr>\n",
       "      <th>3</th>\n",
       "      <td>NVIDIA GTX 1080</td>\n",
       "      <td>Multiple OpenCL kernels</td>\n",
       "      <td>5330</td>\n",
       "      <td>11.233587</td>\n",
       "    </tr>\n",
       "    <tr>\n",
       "      <th>4</th>\n",
       "      <td>NVIDIA GTX 1080</td>\n",
       "      <td>No OpenCL kernel</td>\n",
       "      <td>5018</td>\n",
       "      <td>10.576011</td>\n",
       "    </tr>\n",
       "    <tr>\n",
       "      <th>5</th>\n",
       "      <td>NVIDIA GTX 1080</td>\n",
       "      <td>clWaitForEvents()</td>\n",
       "      <td>1502</td>\n",
       "      <td>3.165637</td>\n",
       "    </tr>\n",
       "    <tr>\n",
       "      <th>6</th>\n",
       "      <td>NVIDIA GTX 1080</td>\n",
       "      <td>Preprocessing Failed</td>\n",
       "      <td>726</td>\n",
       "      <td>1.530128</td>\n",
       "    </tr>\n",
       "    <tr>\n",
       "      <th>7</th>\n",
       "      <td>NVIDIA GTX 1080</td>\n",
       "      <td>INVALID_WORK_GROUP_SIZE</td>\n",
       "      <td>369</td>\n",
       "      <td>0.777710</td>\n",
       "    </tr>\n",
       "    <tr>\n",
       "      <th>8</th>\n",
       "      <td>NVIDIA GTX 1080</td>\n",
       "      <td>Timeout</td>\n",
       "      <td>68</td>\n",
       "      <td>0.143318</td>\n",
       "    </tr>\n",
       "    <tr>\n",
       "      <th>9</th>\n",
       "      <td>NVIDIA GTX 1080</td>\n",
       "      <td>CL_OUT_OF_HOST_MEMORY</td>\n",
       "      <td>3</td>\n",
       "      <td>0.006323</td>\n",
       "    </tr>\n",
       "    <tr>\n",
       "      <th>10</th>\n",
       "      <td>NVIDIA GTX 1080</td>\n",
       "      <td>Segmentation Fault</td>\n",
       "      <td>2</td>\n",
       "      <td>0.004215</td>\n",
       "    </tr>\n",
       "    <tr>\n",
       "      <th>11</th>\n",
       "      <td>Intel E5-2620</td>\n",
       "      <td>Unsupported Program</td>\n",
       "      <td>13348</td>\n",
       "      <td>36.122537</td>\n",
       "    </tr>\n",
       "    <tr>\n",
       "      <th>12</th>\n",
       "      <td>Intel E5-2620</td>\n",
       "      <td>z_Okay</td>\n",
       "      <td>8167</td>\n",
       "      <td>22.101645</td>\n",
       "    </tr>\n",
       "    <tr>\n",
       "      <th>13</th>\n",
       "      <td>Intel E5-2620</td>\n",
       "      <td>cldrive Error</td>\n",
       "      <td>4765</td>\n",
       "      <td>12.895107</td>\n",
       "    </tr>\n",
       "    <tr>\n",
       "      <th>14</th>\n",
       "      <td>Intel E5-2620</td>\n",
       "      <td>Multiple OpenCL kernels</td>\n",
       "      <td>4172</td>\n",
       "      <td>11.290323</td>\n",
       "    </tr>\n",
       "    <tr>\n",
       "      <th>15</th>\n",
       "      <td>Intel E5-2620</td>\n",
       "      <td>No OpenCL kernel</td>\n",
       "      <td>3920</td>\n",
       "      <td>10.608357</td>\n",
       "    </tr>\n",
       "    <tr>\n",
       "      <th>16</th>\n",
       "      <td>Intel E5-2620</td>\n",
       "      <td>Segmentation Fault</td>\n",
       "      <td>1401</td>\n",
       "      <td>3.791405</td>\n",
       "    </tr>\n",
       "    <tr>\n",
       "      <th>17</th>\n",
       "      <td>Intel E5-2620</td>\n",
       "      <td>Preprocessing Failed</td>\n",
       "      <td>728</td>\n",
       "      <td>1.970123</td>\n",
       "    </tr>\n",
       "    <tr>\n",
       "      <th>18</th>\n",
       "      <td>Intel E5-2620</td>\n",
       "      <td>INVALID_WORK_GROUP_SIZE</td>\n",
       "      <td>326</td>\n",
       "      <td>0.882226</td>\n",
       "    </tr>\n",
       "    <tr>\n",
       "      <th>19</th>\n",
       "      <td>Intel E5-2620</td>\n",
       "      <td>Timeout</td>\n",
       "      <td>93</td>\n",
       "      <td>0.251678</td>\n",
       "    </tr>\n",
       "    <tr>\n",
       "      <th>20</th>\n",
       "      <td>Intel E5-2620</td>\n",
       "      <td>CL_OUT_OF_RESOURCES</td>\n",
       "      <td>30</td>\n",
       "      <td>0.081186</td>\n",
       "    </tr>\n",
       "    <tr>\n",
       "      <th>21</th>\n",
       "      <td>Intel E5-2620</td>\n",
       "      <td>SIGBUS</td>\n",
       "      <td>2</td>\n",
       "      <td>0.005412</td>\n",
       "    </tr>\n",
       "  </tbody>\n",
       "</table>\n",
       "</div>"
      ],
      "text/plain": [
       "             Device                  Outcome  Count  % of Total Results\n",
       "0   NVIDIA GTX 1080      Unsupported Program  17594           37.081375\n",
       "1   NVIDIA GTX 1080                   z_Okay  10019           21.116193\n",
       "2   NVIDIA GTX 1080            cldrive Error   6816           14.365503\n",
       "3   NVIDIA GTX 1080  Multiple OpenCL kernels   5330           11.233587\n",
       "4   NVIDIA GTX 1080         No OpenCL kernel   5018           10.576011\n",
       "5   NVIDIA GTX 1080        clWaitForEvents()   1502            3.165637\n",
       "6   NVIDIA GTX 1080     Preprocessing Failed    726            1.530128\n",
       "7   NVIDIA GTX 1080  INVALID_WORK_GROUP_SIZE    369            0.777710\n",
       "8   NVIDIA GTX 1080                  Timeout     68            0.143318\n",
       "9   NVIDIA GTX 1080    CL_OUT_OF_HOST_MEMORY      3            0.006323\n",
       "10  NVIDIA GTX 1080       Segmentation Fault      2            0.004215\n",
       "11    Intel E5-2620      Unsupported Program  13348           36.122537\n",
       "12    Intel E5-2620                   z_Okay   8167           22.101645\n",
       "13    Intel E5-2620            cldrive Error   4765           12.895107\n",
       "14    Intel E5-2620  Multiple OpenCL kernels   4172           11.290323\n",
       "15    Intel E5-2620         No OpenCL kernel   3920           10.608357\n",
       "16    Intel E5-2620       Segmentation Fault   1401            3.791405\n",
       "17    Intel E5-2620     Preprocessing Failed    728            1.970123\n",
       "18    Intel E5-2620  INVALID_WORK_GROUP_SIZE    326            0.882226\n",
       "19    Intel E5-2620                  Timeout     93            0.251678\n",
       "20    Intel E5-2620      CL_OUT_OF_RESOURCES     30            0.081186\n",
       "21    Intel E5-2620                   SIGBUS      2            0.005412"
      ]
     },
     "execution_count": 17,
     "metadata": {},
     "output_type": "execute_result"
    }
   ],
   "source": [
    "outcomes[\"GitHub\"]\n",
    "# classifications[\"GitHub\"]"
   ]
  },
  {
   "cell_type": "code",
   "execution_count": 18,
   "metadata": {},
   "outputs": [
    {
     "data": {
      "image/png": "[encoded data removed]",
      "text/plain": [
       "<matplotlib.figure.Figure at 0x7fa7f2a5f4a8>"
      ]
     },
     "metadata": {},
     "output_type": "display_data"
    }
   ],
   "source": [
    "plot_outcomes(GitHubResult, \"GitHub\", dictname=classifications, key='Classification')"
   ]
  },
  {
   "cell_type": "markdown",
   "metadata": {},
   "source": [
    "### CLgen"
   ]
  },
  {
   "cell_type": "code",
   "execution_count": 26,
   "metadata": {},
   "outputs": [
    {
     "data": {
      "text/html": [
       "<div>\n",
       "<table border=\"1\" class=\"dataframe\">\n",
       "  <thead>\n",
       "    <tr style=\"text-align: right;\">\n",
       "      <th></th>\n",
       "      <th>Device</th>\n",
       "      <th>Outcome</th>\n",
       "      <th>Count</th>\n",
       "      <th>% of Total Results</th>\n",
       "    </tr>\n",
       "  </thead>\n",
       "  <tbody>\n",
       "    <tr>\n",
       "      <th>0</th>\n",
       "      <td>NVIDIA GTX 1080</td>\n",
       "      <td>z_Okay</td>\n",
       "      <td>3994</td>\n",
       "      <td>99.85</td>\n",
       "    </tr>\n",
       "    <tr>\n",
       "      <th>1</th>\n",
       "      <td>NVIDIA GTX 1080</td>\n",
       "      <td>clWaitForEvents()</td>\n",
       "      <td>6</td>\n",
       "      <td>0.15</td>\n",
       "    </tr>\n",
       "    <tr>\n",
       "      <th>2</th>\n",
       "      <td>Intel E5-2620</td>\n",
       "      <td>z_Okay</td>\n",
       "      <td>3984</td>\n",
       "      <td>99.60</td>\n",
       "    </tr>\n",
       "    <tr>\n",
       "      <th>3</th>\n",
       "      <td>Intel E5-2620</td>\n",
       "      <td>Segmentation Fault</td>\n",
       "      <td>16</td>\n",
       "      <td>0.40</td>\n",
       "    </tr>\n",
       "  </tbody>\n",
       "</table>\n",
       "</div>"
      ],
      "text/plain": [
       "            Device             Outcome  Count  % of Total Results\n",
       "0  NVIDIA GTX 1080              z_Okay   3994               99.85\n",
       "1  NVIDIA GTX 1080   clWaitForEvents()      6                0.15\n",
       "2    Intel E5-2620              z_Okay   3984               99.60\n",
       "3    Intel E5-2620  Segmentation Fault     16                0.40"
      ]
     },
     "execution_count": 26,
     "metadata": {},
     "output_type": "execute_result"
    }
   ],
   "source": [
    "outcomes[\"CLgen\"]\n",
    "# classifications[\"CLgen\"]"
   ]
  },
  {
   "cell_type": "code",
   "execution_count": 20,
   "metadata": {},
   "outputs": [
    {
     "data": {
      "image/png": "[encoded data removed]",
      "text/plain": [
       "<matplotlib.figure.Figure at 0x7fa7e69ff7b8>"
      ]
     },
     "metadata": {},
     "output_type": "display_data"
    }
   ],
   "source": [
    "plot_outcomes(CLgenResult, \"CLgen\", dictname=classifications, key='Classification')"
   ]
  },
  {
   "cell_type": "markdown",
   "metadata": {},
   "source": [
    "# Comparing Outputs"
   ]
  },
  {
   "cell_type": "code",
   "execution_count": null,
   "metadata": {
    "collapsed": true
   },
   "outputs": [],
   "source": []
  },
  {
   "cell_type": "markdown",
   "metadata": {},
   "source": [
    "## TODO..."
   ]
  },
  {
   "cell_type": "code",
   "execution_count": 21,
   "metadata": {
    "collapsed": true
   },
   "outputs": [],
   "source": [
    "# q = session.query(CLgenResult).filter(CLgenResult.outcome == \"Segmentation Fault\")\n",
    "# for r in q:\n",
    "#     print(r.program_id)\n",
    "#     print(r.program.src)"
   ]
  },
  {
   "cell_type": "code",
   "execution_count": 22,
   "metadata": {
    "collapsed": true
   },
   "outputs": [],
   "source": [
    "# for param in session.query(CLSmithParams).all():\n",
    "#     suspicious = []\n",
    "\n",
    "#     print(\"Params:\", param)\n",
    "#     programs_with_results = session.query(CLSmithProgram).filter(\n",
    "#         CLSmithProgram.id.in_(session.query(CLSmithResult.program_id).filter(CLSmithResult.params_id == param.id)))\n",
    "#     programs_with_good_results = session.query(CLSmithProgram).filter(\n",
    "#         CLSmithProgram.id.in_(session.query(CLSmithResult.program_id).filter(\n",
    "#             CLSmithResult.params_id == param.id, CLSmithResult.status == 0)))\n",
    "#     ratio_good = programs_with_good_results.count() / programs_with_results.count()\n",
    "\n",
    "#     print(\"  #. programs with results\", programs_with_results.count())\n",
    "#     print(\"  #. programs with good results\", programs_with_good_results.count(), f\"({ratio_good:.1%} of total)\")\n",
    "\n",
    "#     for program in programs_with_good_results.all():\n",
    "#         q = session.query(CLSmithResult).filter(\n",
    "#                 CLSmithResult.program_id == program.id, CLSmithResult.params_id == param.id)\n",
    "\n",
    "#         stdout = set(r.stdout for r in q.all())\n",
    "#         if len(stdout) > 1:\n",
    "#             suspicious.append(q.first().program_id)\n",
    "\n",
    "#     nsuspicious = len(suspicious)\n",
    "#     ratio_suspicious = nsuspicious / programs_with_good_results.count()\n",
    "#     print(f\"  #. suspicious {nsuspicious} ({ratio_suspicious:.1%} of total)\\n\")"
   ]
  }
 ],
 "metadata": {
  "kernelspec": {
   "display_name": "CLgen",
   "language": "python",
   "name": "clgen"
  },
  "language_info": {
   "codemirror_mode": {
    "name": "ipython",
    "version": 3
   },
   "file_extension": ".py",
   "mimetype": "text/x-python",
   "name": "python",
   "nbconvert_exporter": "python",
   "pygments_lexer": "ipython3",
   "version": "3.6.1"
  }
 },
 "nbformat": 4,
 "nbformat_minor": 2
}
