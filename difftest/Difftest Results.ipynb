{
 "cells": [
  {
   "cell_type": "markdown",
   "metadata": {},
   "source": [
    "# Difftest Results\n",
    "\n",
    "Import prereqs and connect to results database:"
   ]
  },
  {
   "cell_type": "code",
   "execution_count": 2,
   "metadata": {},
   "outputs": [
    {
     "data": {
      "text/plain": [
       "'mysql://cc1:3306/project_b'"
      ]
     },
     "execution_count": 2,
     "metadata": {},
     "output_type": "execute_result"
    }
   ],
   "source": [
    "import sqlalchemy as sql\n",
    "import numpy as np\n",
    "import matplotlib.pyplot as plt\n",
    "import seaborn as sns\n",
    "import pandas as pd\n",
    "\n",
    "from collections import OrderedDict\n",
    "from matplotlib.ticker import FuncFormatter\n",
    "from collections import OrderedDict\n",
    "from labm8 import viz\n",
    "\n",
    "%matplotlib inline\n",
    "sns.set(style=\"ticks\", color_codes=True)\n",
    "plt.style.use([\"seaborn-white\", \"seaborn-paper\"])\n",
    "\n",
    "import db\n",
    "from db import *\n",
    "%run util.py\n",
    "\n",
    "hostname = \"cc1\"\n",
    "db.init(hostname)"
   ]
  },
  {
   "cell_type": "markdown",
   "metadata": {},
   "source": [
    "## Overview\n",
    "\n",
    "Summary of testing results:"
   ]
  },
  {
   "cell_type": "code",
   "execution_count": null,
   "metadata": {},
   "outputs": [
    {
     "name": "stdout",
     "output_type": "stream",
     "text": [
      "\u001b[1KCLgen GeForce GTX 780 no-opt results: 80812 time: 156882s9ss"
     ]
    }
   ],
   "source": [
    "def get_device_stats(s, tables, testbed_id, no_opt):\n",
    "    devname = device_str(s.query(Testbed).filter(Testbed.id == testbed_id).first().device)\n",
    "    num_results = results_in_order(s, tables, testbed_id, no_opt,\n",
    "                                   sql.sql.func.count(tables.results.id)).scalar()\n",
    "\n",
    "    if num_results:\n",
    "        _, total_time = results_in_order(s, tables, testbed_id, no_opt, \n",
    "                                         tables.results.id, tables.meta.cumtime, reverse=True).first()\n",
    "    else:\n",
    "        total_time = 0\n",
    "\n",
    "    print(f\"\\r\\033[1K{tables.name} {devname}\",\n",
    "          \"no-opt\" if no_opt else \"opt\",\n",
    "          f\"results: {num_results} time: {total_time:.0f}s\", end=\"\")\n",
    "    return num_results, total_time\n",
    "\n",
    "\n",
    "def get_device_overview(s, testbed_id):\n",
    "    testbed = s.query(Testbed).filter(Testbed.id == testbed_id).first()\n",
    "    \n",
    "    clsmith_noopt_results, clsmith_noopt_time = get_device_stats(s, CLSMITH_TABLES, testbed_id, True)\n",
    "    clsmith_results, clsmith_time = get_device_stats(s, CLSMITH_TABLES, testbed_id, False)\n",
    "\n",
    "    clgen_noopt_results, clgen_noopt_time = get_device_stats(s, CLGEN_TABLES, testbed_id, True)\n",
    "    clgen_results, clgen_time = get_device_stats(s, CLGEN_TABLES, testbed_id, False)\n",
    "    \n",
    "    r1 = OrderedDict()\n",
    "    r1[\"Device\"] = device_str(testbed.device)\n",
    "    r1[\"±\"] = \"-\"\n",
    "    r1[\"CLSmith time\"] = clsmith_noopt_time\n",
    "    r1[\"CLSmith time (hrs)\"] = \"{:.1f}h\".format(clsmith_noopt_time / 3600)\n",
    "    r1[\"CLSmith results\"] = clsmith_noopt_results\n",
    "    r1[\"CLgen time\"] = clgen_noopt_time\n",
    "    r1[\"CLgen time (hrs)\"] = \"{:.1f}h\".format(clgen_noopt_time / 3600)\n",
    "    r1[\"CLgen results\"] = clgen_noopt_results\n",
    "    \n",
    "    r2 = OrderedDict()\n",
    "    r2[\"Device\"] = device_str(testbed.device)\n",
    "    r2[\"±\"] = \"+\"\n",
    "    r2[\"CLSmith time\"] = clsmith_time\n",
    "    r2[\"CLSmith time (hrs)\"] = \"{:.1f}h\".format(clsmith_time / 3600)\n",
    "    r2[\"CLSmith results\"] = clsmith_results\n",
    "    r2[\"CLgen time\"] = clgen_time\n",
    "    r2[\"CLgen time (hrs)\"] = \"{:.1f}h\".format(clgen_time / 3600)\n",
    "    r2[\"CLgen results\"] = clgen_results\n",
    "    \n",
    "    return r1, r2\n",
    "\n",
    "\n",
    "rows = []\n",
    "with Session(commit=False) as s:\n",
    "    for config_id, testbed_id in CONFIGURATIONS:\n",
    "        rows += get_device_overview(s, testbed_id)\n",
    "overview_table = pd.DataFrame(rows)\n",
    "overview_table"
   ]
  },
  {
   "cell_type": "markdown",
   "metadata": {},
   "source": [
    "## Schedule\n",
    "\n",
    "Calculate schedule of remaining jobs which must be ran to meet a minimum time limit."
   ]
  },
  {
   "cell_type": "code",
   "execution_count": null,
   "metadata": {
    "scrolled": true
   },
   "outputs": [],
   "source": [
    "TIME_LIMIT = 48 * 3600\n",
    "\n",
    "schedule = []\n",
    "for _, row in overview_table.iterrows():\n",
    "    for source in [\"CLSmith\", \"CLgen\"]:\n",
    "        if row[f\"{source} time\"] < TIME_LIMIT:\n",
    "            d = OrderedDict()\n",
    "            d[\"Device\"] = row[\"Device\"]\n",
    "            d[\"±\"] = row[\"±\"]\n",
    "            d[\"Job\"] = source\n",
    "            d[\"Remaining time\"] = (TIME_LIMIT - row[f\"{source} time\"])\n",
    "            d[\"Remaining time (hours)\"] = \"{:.1f}h\".format((TIME_LIMIT - row[f\"{source} time\"]) / 3600)\n",
    "            schedule.append(d)\n",
    "    \n",
    "schedule = pd.DataFrame(schedule)\n",
    "schedule.sort_values(by=\"Remaining time\", ascending=False)"
   ]
  },
  {
   "cell_type": "markdown",
   "metadata": {},
   "source": [
    "## Testing Time\n",
    "\n",
    "Plot total testing time of each configuration."
   ]
  },
  {
   "cell_type": "code",
   "execution_count": null,
   "metadata": {},
   "outputs": [],
   "source": [
    "plt.style.use([\"seaborn-white\", \"seaborn-paper\"])\n",
    "\n",
    "def plot_testing_time(table, time_column, title):\n",
    "    sns.barplot(x=\"Device\", y=time_column, data=overview_table, hue=\"±\")\n",
    "\n",
    "    ax = plt.gca()\n",
    "\n",
    "    # X axis\n",
    "    plt.setp(ax.get_xticklabels(), rotation=45)  # rotate x ticks\n",
    "    ax.set_xlabel(\"\")\n",
    "\n",
    "    # Y axis\n",
    "    ax.set_ylim((0, 96 * 3600))\n",
    "    plt.yticks(np.arange(0, 100 * 3600, 12 * 3600))\n",
    "    ax.yaxis.set_major_formatter(FuncFormatter(\n",
    "        lambda x, pos: \"{:.1f}h\".format(x / 3600)))\n",
    "    ax.set_ylabel(\"Testing time (hours)\")\n",
    "    plt.title(title)\n",
    "\n",
    "    plt.axhline(y=24 * 3600, color=\"r\", lw=1, linestyle=\"--\")\n",
    "    plt.axhline(y=48 * 3600, color=\"k\", lw=1, linestyle=\"--\")\n",
    "    plt.axhline(y=72 * 3600, color=\"b\", lw=1, linestyle=\"--\")\n",
    "\n",
    "    viz.finalise(figsize=(6, 4))\n",
    "\n",
    "plot_testing_time(overview_table, \"CLSmith time\", \"CLSmith Testing Time\")\n",
    "plot_testing_time(overview_table, \"CLgen time\", \"CLgen Testing Time\")"
   ]
  },
  {
   "cell_type": "markdown",
   "metadata": {},
   "source": [
    "## Number of Results\n",
    "\n",
    "Plot the number of results for each configuration."
   ]
  },
  {
   "cell_type": "code",
   "execution_count": null,
   "metadata": {},
   "outputs": [],
   "source": [
    "plt.style.use([\"seaborn-white\", \"seaborn-paper\"])\n",
    "\n",
    "def plot_num_results(table, time_column, title):\n",
    "    sns.barplot(x=\"Device\", y=time_column, data=overview_table, hue=\"±\")\n",
    "\n",
    "    ax = plt.gca()\n",
    "\n",
    "    # X axis\n",
    "    plt.setp(ax.get_xticklabels(), rotation=70)  # rotate x ticks\n",
    "    ax.set_xlabel(\"\")\n",
    "\n",
    "    # Y axis\n",
    "    ax.yaxis.set_major_formatter(FuncFormatter(\n",
    "        lambda x, pos: \"{:.1f}k\".format(x / 1000)))\n",
    "    ax.set_ylabel(\"#. Results\")\n",
    "    plt.title(title)\n",
    "\n",
    "    viz.finalise(figsize=(6, 4))\n",
    "\n",
    "plot_num_results(overview_table, \"CLSmith results\", \"#. CLSmith Results\")\n",
    "plot_num_results(overview_table, \"CLgen results\", \"#. CLgen Results\")"
   ]
  },
  {
   "cell_type": "markdown",
   "metadata": {},
   "source": [
    "## Testbeds"
   ]
  },
  {
   "cell_type": "code",
   "execution_count": null,
   "metadata": {},
   "outputs": [],
   "source": [
    "# push LaTex to Overleaf\n",
    "!cd ~/docs/paper-project_b/ && git pull --rebase\n",
    "\n",
    "import os\n",
    "from collections import OrderedDict\n",
    "\n",
    "\n",
    "def get_platform_stats(s, testbed: Testbed):\n",
    "    num_submitted = s.query(sql.sql.func.count(BugReport.id)).filter(BugReport.testbed_id == testbed.id).scalar() or 0\n",
    "\n",
    "    # Total time running CLgen tests:\n",
    "    clgen_time = sum(overview_table.loc[overview_table[\"Device\"] == device_str(testbed.device)][\"CLgen time\"].values)\n",
    "    # print(device_str(testbed.device), \"CLgen\", clgen_time)\n",
    "    \n",
    "    # Total time running CLgen reductions:\n",
    "    reduction_time = s.query(sql.sql.func.sum(CLgenReduction.runtime)).join(CLgenResult)\\\n",
    "        .filter(CLgenResult.testbed_id == testbed.id).scalar() or 0\n",
    "    # print(device_str(testbed.device), \"reduction\", reduction_time)\n",
    "    \n",
    "    # Total time from unstructured testing results:\n",
    "    def get_runtime(table):\n",
    "        return s.query(sql.sql.func.sum(table.runtime)).filter(table.testbed_id == testbed.id).scalar() or 0\n",
    "    other_runtimes = sum(get_runtime(table) for table in [coCLgenResult, cl_launcherCLgenResult])\n",
    "    # print(device_str(testbed.device), \"other\", other_runtimes)\n",
    "\n",
    "    return (\n",
    "        clgen_time + reduction_time + other_runtimes,\n",
    "        num_submitted,\n",
    "    )\n",
    "\n",
    "\n",
    "def get_row(s, config_id, testbed_id):\n",
    "    testbed = s.query(Testbed).filter(Testbed.id == testbed_id).first()\n",
    "    d = OrderedDict()\n",
    "    d[\"#.\"] = config_id\n",
    "    d[\"Platform\"] = platform_str(testbed.platform)\n",
    "    d[\"Device\"] = device_str(testbed.device)\n",
    "    d[\"Driver\"] = driver_str(testbed.driver)\n",
    "    d[\"OpenCL\"] = testbed.opencl\n",
    "    d[\"Operating system\"] = host_str(testbed.host)\n",
    "    d[\"Device type\"] = devtype_str(testbed.devtype)\n",
    "    runtime, submitted = get_platform_stats(s, testbed)\n",
    "    d[\"Testing time\"] = \"{:.0f} hours\".format(round(runtime / 3600))\n",
    "    d[\"B.R. Submitted\"] = submitted\n",
    "    return d\n",
    "\n",
    "with Session(commit=False) as s:\n",
    "    rows = [get_row(s, *x) for x in CONFIGURATIONS]\n",
    "table = pd.DataFrame(rows)\n",
    "with open(os.path.expanduser(\"~/docs/paper-project_b/build/tab/platforms.tex\"), \"w\") as outfile:\n",
    "    print(f\"\"\"\\\n",
    "\\\\begin{{tabular}}{{ cllllll | rr }}\n",
    "\\\\toprule\n",
    "\\\\textbf{{\\\\#. }} & \\\\textbf{{Platform}} & \\\\textbf{{Device}} & \\\\textbf{{Driver}} & \\\\textbf{{OpenCL}} & \n",
    "\\\\textbf{{Operating system}} & \\\\textbf{{Device Type}} & \\\\textbf{{Testing time}} & \\\\textbf{{Bugs Submitted}} \\\\\\\\\n",
    "\\\\midrule\"\"\", file=outfile)\n",
    "    for row in rows:\n",
    "        print(\" & \".join([str(x) for x in row.values()]), \"\\\\\\\\\", file=outfile)\n",
    "    print(f\"\"\"\n",
    "\\\\bottomrule\n",
    "\\\\end{{tabular}}\n",
    "\"\"\", file=outfile)\n",
    "\n",
    "!cd ~/docs/paper-project_b/build && git add . && git commit -m \"auto: build/tab/platforms.tex\" && git push\n",
    "table"
   ]
  },
  {
   "cell_type": "code",
   "execution_count": null,
   "metadata": {},
   "outputs": [],
   "source": [
    "# %run mkmegatable.ipy"
   ]
  },
  {
   "cell_type": "markdown",
   "metadata": {},
   "source": [
    "## Runtimes"
   ]
  },
  {
   "cell_type": "code",
   "execution_count": null,
   "metadata": {
    "collapsed": true
   },
   "outputs": [],
   "source": [
    "# delete cached result:\n",
    "#!rm -fv ../data/difftest/runtimes.csv"
   ]
  },
  {
   "cell_type": "code",
   "execution_count": null,
   "metadata": {
    "collapsed": true
   },
   "outputs": [],
   "source": [
    "import os\n",
    "from labm8 import fs\n",
    "from progressbar import ProgressBar\n",
    "\n",
    "TIME_LIMIT = 24 * 3600\n",
    "\n",
    "def get_runtimes(cache: bool=True):\n",
    "    \"\"\" get runtimes of test case generation, execution, and reduction. cache results to file \"\"\"\n",
    "    cachepath = \"../data/difftest/runtimes.csv\"\n",
    "    TIMEOUT = 60\n",
    "    \n",
    "    if not cache:\n",
    "        fs.rm(cachepath)\n",
    "    \n",
    "    if fs.exists(cachepath):\n",
    "        print(\"loaded from cache\", os.path.getmtime(cachepath))\n",
    "        return pd.read_csv(cachepath)\n",
    "    else:\n",
    "        with open(cachepaxth, \"w\") as outfile:\n",
    "            print(\"Source\", \"Name\", \"Runtime (s)\", file=outfile)\n",
    "            for tables in [CLSMITH_TABLES, CLGEN_TABLES]:\n",
    "                q = s.query(tables.results.runtime,\n",
    "                            tables.programs.runtime,\n",
    "                            sql.sql.func.ifnull(tables.reductions.runtime, 0))\\\n",
    "                    .join(tables.meta)\\\n",
    "                    .join(tables.programs)\\\n",
    "                    .outerjoin(tables.reductions)\\\n",
    "                    .filter(tables.meta.cumtime < TIME_LIMIT)\n",
    "                \n",
    "                for runtime, generation_time, reduction_time in ProgressBar()(q):\n",
    "                    if generation_time < TIMEOUT:\n",
    "                        print(tables.name, \"Generation\", generation_time, file=outfile)\n",
    "                    if runtime < TIMEOUT:\n",
    "                        print(tables.name, \"Runtime\", runtime, file=outfile)\n",
    "                    # no timeout on reductions, but 0 == no reduction\n",
    "                    if reduction_time > 0:\n",
    "                        print(tables.name, \"Reduction\", reduction_time, file=outfile)\n",
    "\n",
    "            print(\"cached new data\")\n",
    "            return pd.read_csv(cachepath)\n",
    "\n",
    "runtimes_table = get_runtimes(cache=True)"
   ]
  },
  {
   "cell_type": "code",
   "execution_count": 7,
   "metadata": {},
   "outputs": [
    {
     "ename": "NameError",
     "evalue": "name 'runtimes_table' is not defined",
     "output_type": "error",
     "traceback": [
      "\u001b[0;31m---------------------------------------------------------------------------\u001b[0m",
      "\u001b[0;31mNameError\u001b[0m                                 Traceback (most recent call last)",
      "\u001b[0;32m<ipython-input-7-74d3f6c9a633>\u001b[0m in \u001b[0;36m<module>\u001b[0;34m()\u001b[0m\n\u001b[1;32m     28\u001b[0m \u001b[0;34m\u001b[0m\u001b[0m\n\u001b[1;32m     29\u001b[0m \u001b[0;34m\u001b[0m\u001b[0m\n\u001b[0;32m---> 30\u001b[0;31m \u001b[0mplot_runtimes\u001b[0m\u001b[0;34m(\u001b[0m\u001b[0mruntimes_table\u001b[0m\u001b[0;34m,\u001b[0m \u001b[0mfigsize\u001b[0m\u001b[0;34m=\u001b[0m\u001b[0;34m(\u001b[0m\u001b[0;36m4\u001b[0m\u001b[0;34m,\u001b[0m \u001b[0;36m3\u001b[0m\u001b[0;34m)\u001b[0m\u001b[0;34m)\u001b[0m\u001b[0;34m\u001b[0m\u001b[0m\n\u001b[0m\u001b[1;32m     31\u001b[0m \u001b[0;34m\u001b[0m\u001b[0m\n\u001b[1;32m     32\u001b[0m \u001b[0;31m# push LaTex to Overleaf\u001b[0m\u001b[0;34m\u001b[0m\u001b[0;34m\u001b[0m\u001b[0m\n",
      "\u001b[0;31mNameError\u001b[0m: name 'runtimes_table' is not defined"
     ]
    }
   ],
   "source": [
    "sns.set(style=\"ticks\")\n",
    "\n",
    "def plot_runtimes(runtimes_table, *args, **kwargs):\n",
    "    # Plot\n",
    "    palette = sns.cubehelix_palette(2, rot=0, light=.75, dark=1)\n",
    "    ax = sns.boxplot(\n",
    "        x=\"Name\", y=\"Runtime (s)\", hue=\"Source\", data=runtimes_table,\n",
    "        width=.75, linewidth=1, fliersize=.5, whis=np.inf, \n",
    "        palette=palette, order=[\"Generation\", \"Execution\", \"Reduction\"])\n",
    "\n",
    "    \n",
    "    # Y axis\n",
    "    ax.set_yscale(\"log\", nonposy='clip')\n",
    "    plt.ylim((0, 10000))\n",
    "\n",
    "    # X axis\n",
    "    plt.xlabel(\"\")\n",
    "    \n",
    "    # Legend\n",
    "    ax.get_legend().set_title(\"\")\n",
    "    plt.legend(loc='upper left')\n",
    "    ax.get_legend().draw_frame(False)\n",
    "    \n",
    "    # Border\n",
    "    sns.despine(ax=ax)\n",
    "\n",
    "    viz.finalise(*args, **kwargs)\n",
    "\n",
    "\n",
    "plot_runtimes(runtimes_table, figsize=(4, 3))\n",
    "\n",
    "# push LaTex to Overleaf\n",
    "!cd ~/docs/paper-project_b/ && git pull --rebase\n",
    "plot_runtimes(runtimes_table, fs.path(\"~/docs/paper-project_b/build/img/runtimes.pdf\"), figsize=(4, 3))\n",
    "!cd ~/docs/paper-project_b/build && git add . && git commit -m \"auto: build/img/runtimes.pdf\" && git push"
   ]
  },
  {
   "cell_type": "markdown",
   "metadata": {},
   "source": [
    "## Kernel sizes"
   ]
  },
  {
   "cell_type": "code",
   "execution_count": null,
   "metadata": {
    "collapsed": true
   },
   "outputs": [],
   "source": [
    "def get_kernel_sizes():    \n",
    "    with Session(commit=False) as s:\n",
    "        # CLSmith times\n",
    "        clsmith = s.query(CLSmithResult.classification, CLSmithProgram.src)\\\n",
    "            .join(CLSmithProgram)\\\n",
    "            .join(CLSmithMeta)\\\n",
    "            .filter(CLSmithResult.classification != None,\n",
    "                    CLSmithResult.classification != \"pass\",\n",
    "                    CLSmithMeta.cumtime < TIME_LIMIT)\n",
    "        clsmith_bc = s.query(CLSmithResult.classification, CLSmithProgram.src)\\\n",
    "            .join(CLSmithProgram)\\\n",
    "            .join(CLSmithMeta)\\\n",
    "            .filter(CLSmithResult.outcome == \"bc\",\n",
    "                    CLSmithMeta.cumtime < TIME_LIMIT)\n",
    "\n",
    "        clgen = s.query(CLgenResult.classification, CLgenProgram.src)\\\n",
    "            .join(CLgenProgram)\\\n",
    "            .join(CLSmithMeta)\\\n",
    "            .filter(CLgenResult.classification != None,\n",
    "                    CLgenResult.classification != \"pass\",\n",
    "                    CLSmithMeta.cumtime < TIME_LIMIT)\n",
    "        clgen_bc = s.query(CLgenResult.classification, CLgenProgram.src)\\\n",
    "            .join(CLgenProgram)\\\n",
    "            .join(CLSmithMeta)\\\n",
    "            .filter(CLgenResult.outcome == \"bc\",\n",
    "                    CLSmithMeta.cumtime < TIME_LIMIT)\n",
    "    \n",
    "    table = (\n",
    "        [(classification, len(src.split('\\n')), \"CLSmith\") for classification, src in clsmith] +\n",
    "        [(\"bc\", len(src.split('\\n')), \"CLSmith\") for _, src in clsmith_bc] +\n",
    "        [(classification, len(src.split('\\n')), \"CLgen\") for classification, src in clgen] +\n",
    "        [(\"bc\", len(src.split('\\n')), \"CLgen\") for _, src in clgen_bc])\n",
    "    \n",
    "    return pd.DataFrame(table, columns=['Classification', 'Line count', 'Source'])\n",
    "\n",
    "kernel_sizes_table = get_kernel_sizes()"
   ]
  },
  {
   "cell_type": "code",
   "execution_count": null,
   "metadata": {
    "collapsed": true
   },
   "outputs": [],
   "source": [
    "def plot_kernel_sizes(table, *args, **kwargs):\n",
    "    sns.set(style=\"ticks\")\n",
    "    palette = sns.cubehelix_palette(2, rot=0, light=.75, dark=1)\n",
    "    ax = sns.boxplot(\n",
    "        x=\"Classification\", y=\"Line count\", hue=\"Source\", data=table,\n",
    "        width=.75, linewidth=1, fliersize=.5, whis=np.inf, \n",
    "        palette=palette, order=[\"w\", \"bf\", \"to\"])\n",
    "\n",
    "    # Y axis\n",
    "    ax.set_yscale(\"log\", nonposy='clip')\n",
    "    # plt.ylim((0, 10000))\n",
    "\n",
    "    # X axis\n",
    "    plt.xlabel(\"\")\n",
    "    \n",
    "    # Legend\n",
    "    ax.get_legend().set_title(\"\")\n",
    "    plt.legend(loc='upper left')\n",
    "    ax.get_legend().draw_frame(False)\n",
    "    \n",
    "    # Border\n",
    "    sns.despine(ax=ax)\n",
    "    \n",
    "    viz.finalise(*args, **kwargs)\n",
    "    \n",
    "plot_kernel_sizes(kernel_sizes_table, figsize=(4, 3))\n",
    "\n",
    "# push LaTex to Overleaf\n",
    "!cd ~/docs/paper-project_b/ && git pull --rebase\n",
    "plot_kernel_sizes(kernel_sizes_table, fs.path(\"~/docs/paper-project_b/build/img/kernel-sizes.pdf\"), figsize=(4, 3))\n",
    "!cd ~/docs/paper-project_b/build && git add . && git commit -m \"auto: build/img/kernel-sizes.pdf\" && git push"
   ]
  },
  {
   "cell_type": "markdown",
   "metadata": {},
   "source": [
    "## Total time"
   ]
  },
  {
   "cell_type": "code",
   "execution_count": null,
   "metadata": {
    "collapsed": true
   },
   "outputs": [],
   "source": [
    "def get_totaltimes():\n",
    "    \n",
    "    def _t(s, results_table, programs_table, reductions_table):\n",
    "        generation_time = sql.sql.func.ifnull(programs_table.runtime, clgen_generation_time)\n",
    "        runtime = results_table.runtime\n",
    "        reduction_time = sql.sql.func.ifnull(reductions_table.runtime, 0)\n",
    "        total_time = generation_time + runtime + reduction_time\n",
    "\n",
    "        q = s.query(total_time)\\\n",
    "            .outerjoin(programs_table)\\\n",
    "            .outerjoin(reductions_table)\\\n",
    "            .filter(results_table.classification != None)\\\n",
    "            .order_by(results_table.date)\n",
    "\n",
    "        times = np.array([row[0] / 3600 for row in q]).cumsum()\n",
    "        return times\n",
    "    \n",
    "    with Session(commit=False) as s:\n",
    "        clsmith_times = _t(s, CLSmithResult, CLSmithProgram, CLSmithReduction)\n",
    "        clgen_times = _t(s, CLgenResult, CLgenProgram, CLgenReduction)\n",
    "\n",
    "    return clsmith_times, clgen_times\n",
    "\n",
    "clsmith_times, clgen_times = get_totaltimes()"
   ]
  },
  {
   "cell_type": "code",
   "execution_count": null,
   "metadata": {
    "collapsed": true
   },
   "outputs": [],
   "source": [
    "def plot_total_tests(clsmith_times, clgen_times, *args, **kwargs):\n",
    "    \n",
    "    def thousands(x, pos):\n",
    "        return \"{:.0f}k\".format(x / 1000)\n",
    "    \n",
    "    ax = plt.gca()\n",
    "    ax.plot(clsmith_times, range(len(clsmith_times)), label=\"CLSmith\")\n",
    "    ax.plot(clgen_times, range(len(clgen_times)), label=\"CLgen\")\n",
    "\n",
    "    ax.set_xlabel(\"Testing time (hours)\")\n",
    "    ax.set_ylabel(\"Completed Test cases\")\n",
    "    \n",
    "    # X axis\n",
    "    ax.set_xlim((0, 48))\n",
    "    \n",
    "    # Y axis\n",
    "    formatter = FuncFormatter(thousands)\n",
    "    ax.set_ylim((0, 100000))\n",
    "    ax.yaxis.set_major_formatter(formatter)\n",
    "    \n",
    "    ax.legend()\n",
    "    ax.get_legend().set_title(\"\")\n",
    "    plt.legend(loc='upper left')\n",
    "    ax.get_legend().draw_frame(False)\n",
    "        \n",
    "    viz.finalise(*args, **kwargs)\n",
    "\n",
    "plot_total_tests(clsmith_times, clgen_times, figsize=(4, 3))\n",
    "\n",
    "# push LaTex to Overleaf\n",
    "!cd ~/docs/paper-project_b/ && git pull --rebase\n",
    "plot_total_tests(clsmith_times, clgen_times, fs.path(\"~/docs/paper-project_b/build/img/total-tests.pdf\"), figsize=(4, 3))\n",
    "!cd ~/docs/paper-project_b/build && git add . && git commit -m \"auto: build/img/total-tests.pdf\" && git push"
   ]
  },
  {
   "cell_type": "code",
   "execution_count": null,
   "metadata": {
    "collapsed": true
   },
   "outputs": [],
   "source": []
  },
  {
   "cell_type": "code",
   "execution_count": null,
   "metadata": {
    "collapsed": true
   },
   "outputs": [],
   "source": []
  }
 ],
 "metadata": {
  "kernelspec": {
   "display_name": "project_b",
   "language": "python",
   "name": "project_b"
  },
  "language_info": {
   "codemirror_mode": {
    "name": "ipython",
    "version": 3
   },
   "file_extension": ".py",
   "mimetype": "text/x-python",
   "name": "python",
   "nbconvert_exporter": "python",
   "pygments_lexer": "ipython3",
   "version": "3.6.1"
  }
 },
 "nbformat": 4,
 "nbformat_minor": 2
}
