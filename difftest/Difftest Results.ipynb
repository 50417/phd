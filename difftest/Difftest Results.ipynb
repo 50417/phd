{
 "cells": [
  {
   "cell_type": "markdown",
   "metadata": {},
   "source": [
    "# Difftest Results\n",
    "\n",
    "Connect to results database:"
   ]
  },
  {
   "cell_type": "code",
   "execution_count": 1,
   "metadata": {},
   "outputs": [
    {
     "data": {
      "text/plain": [
       "'mysql://cc1:3306/project_b'"
      ]
     },
     "execution_count": 1,
     "metadata": {},
     "output_type": "execute_result"
    }
   ],
   "source": [
    "import db\n",
    "from db import *\n",
    "\n",
    "hostname = \"cc1\"\n",
    "db.init(hostname)"
   ]
  },
  {
   "cell_type": "markdown",
   "metadata": {},
   "source": [
    "## Overview"
   ]
  },
  {
   "cell_type": "code",
   "execution_count": 2,
   "metadata": {},
   "outputs": [
    {
     "data": {
      "text/html": [
       "<div>\n",
       "<table border=\"1\" class=\"dataframe\">\n",
       "  <thead>\n",
       "    <tr style=\"text-align: right;\">\n",
       "      <th></th>\n",
       "      <th>CLSmith</th>\n",
       "      <th>CLSmith w. cldrive</th>\n",
       "      <th>GitHub</th>\n",
       "      <th>CLgen</th>\n",
       "    </tr>\n",
       "  </thead>\n",
       "  <tbody>\n",
       "    <tr>\n",
       "      <th>#. Programs</th>\n",
       "      <td>10001</td>\n",
       "      <td>10001</td>\n",
       "      <td>9238</td>\n",
       "      <td>1000</td>\n",
       "    </tr>\n",
       "    <tr>\n",
       "      <th>#. Testbeds</th>\n",
       "      <td>5</td>\n",
       "      <td>3</td>\n",
       "      <td>3</td>\n",
       "      <td>4</td>\n",
       "    </tr>\n",
       "    <tr>\n",
       "      <th>#. Params</th>\n",
       "      <td>4</td>\n",
       "      <td>4</td>\n",
       "      <td>4</td>\n",
       "      <td>4</td>\n",
       "    </tr>\n",
       "    <tr>\n",
       "      <th>#. Results</th>\n",
       "      <td>160197</td>\n",
       "      <td>83713</td>\n",
       "      <td>84615</td>\n",
       "      <td>13000</td>\n",
       "    </tr>\n",
       "  </tbody>\n",
       "</table>\n",
       "</div>"
      ],
      "text/plain": [
       "             CLSmith  CLSmith w. cldrive  GitHub  CLgen\n",
       "#. Programs    10001               10001    9238   1000\n",
       "#. Testbeds        5                   3       3      4\n",
       "#. Params          4                   4       4      4\n",
       "#. Results    160197               83713   84615  13000"
      ]
     },
     "execution_count": 2,
     "metadata": {},
     "output_type": "execute_result"
    }
   ],
   "source": [
    "import pandas as pd\n",
    "\n",
    "session = db.make_session()\n",
    "\n",
    "TABLE_NAMES = [\"CLSmith\", \"CLSmith w. cldrive\", \"GitHub\", \"CLgen\"]\n",
    "TABLES = [CLSmithResult, cldriveCLSmithResult, GitHubResult, CLgenResult]\n",
    "\n",
    "data = [\n",
    "    (\"#. Programs\", [session.query(t.program_id).group_by(t.program_id).count() for t in TABLES]),\n",
    "    (\"#. Testbeds\", [session.query(t.testbed_id).group_by(t.testbed_id).count() for t in TABLES]),\n",
    "    (\"#. Params\", [session.query(t.params_id).group_by(t.params_id).count() for t in TABLES]),\n",
    "    (\"#. Results\", [session.query(t).count() for t in TABLES])\n",
    "]\n",
    "i, d = zip(*data)\n",
    "overview = pd.DataFrame(list(d), index=i, columns=TABLE_NAMES)\n",
    "overview"
   ]
  },
  {
   "cell_type": "markdown",
   "metadata": {},
   "source": [
    "# Experimental Setup"
   ]
  },
  {
   "cell_type": "markdown",
   "metadata": {},
   "source": [
    "### TestBeds\n",
    "\n",
    "A testbed is a combination of host platform and OpenCL device."
   ]
  },
  {
   "cell_type": "code",
   "execution_count": 16,
   "metadata": {},
   "outputs": [
    {
     "data": {
      "text/html": [
       "<div>\n",
       "<table border=\"1\" class=\"dataframe\">\n",
       "  <thead>\n",
       "    <tr style=\"text-align: right;\">\n",
       "      <th></th>\n",
       "      <th>Operating System</th>\n",
       "      <th>Device</th>\n",
       "      <th>Driver</th>\n",
       "      <th>OpenCL</th>\n",
       "      <th>Device type</th>\n",
       "      <th>#. CLSmith</th>\n",
       "      <th>#. CLSmith w. cldrive</th>\n",
       "      <th>#. GitHub</th>\n",
       "      <th>#. CLgen</th>\n",
       "    </tr>\n",
       "  </thead>\n",
       "  <tbody>\n",
       "    <tr>\n",
       "      <th>6842</th>\n",
       "      <td>Ubuntu 16.04 64bit</td>\n",
       "      <td>Intel i5-4570</td>\n",
       "      <td>1.2.0.25</td>\n",
       "      <td>None</td>\n",
       "      <td>None</td>\n",
       "      <td>905</td>\n",
       "      <td>0</td>\n",
       "      <td>0</td>\n",
       "      <td>0</td>\n",
       "    </tr>\n",
       "    <tr>\n",
       "      <th>3</th>\n",
       "      <td>Ubuntu 16.04 64bit</td>\n",
       "      <td>NVIDIA GTX 1080</td>\n",
       "      <td>375.39</td>\n",
       "      <td>1.2</td>\n",
       "      <td>GPU</td>\n",
       "      <td>200020</td>\n",
       "      <td>200020</td>\n",
       "      <td>237235</td>\n",
       "      <td>20000</td>\n",
       "    </tr>\n",
       "    <tr>\n",
       "      <th>9</th>\n",
       "      <td>Ubuntu 16.04 64bit</td>\n",
       "      <td>Intel E5-2620</td>\n",
       "      <td>1.2.0.25</td>\n",
       "      <td>2.0</td>\n",
       "      <td>CPU</td>\n",
       "      <td>200020</td>\n",
       "      <td>200020</td>\n",
       "      <td>184760</td>\n",
       "      <td>20000</td>\n",
       "    </tr>\n",
       "    <tr>\n",
       "      <th>12</th>\n",
       "      <td>Ubuntu 16.04 64bit</td>\n",
       "      <td>Intel E5-2620 (pocl)</td>\n",
       "      <td>0.14</td>\n",
       "      <td>2.0</td>\n",
       "      <td>CPU</td>\n",
       "      <td>200020</td>\n",
       "      <td>0</td>\n",
       "      <td>0</td>\n",
       "      <td>5000</td>\n",
       "    </tr>\n",
       "    <tr>\n",
       "      <th>11</th>\n",
       "      <td>Ubuntu 16.04 64bit</td>\n",
       "      <td>Oclgrind Simulator</td>\n",
       "      <td>16.10</td>\n",
       "      <td>1.2</td>\n",
       "      <td>Emulator</td>\n",
       "      <td>200020</td>\n",
       "      <td>18525</td>\n",
       "      <td>1080</td>\n",
       "      <td>20000</td>\n",
       "    </tr>\n",
       "  </tbody>\n",
       "</table>\n",
       "</div>"
      ],
      "text/plain": [
       "        Operating System                Device    Driver OpenCL Device type  \\\n",
       "6842  Ubuntu 16.04 64bit         Intel i5-4570  1.2.0.25   None        None   \n",
       "3     Ubuntu 16.04 64bit       NVIDIA GTX 1080    375.39    1.2         GPU   \n",
       "9     Ubuntu 16.04 64bit         Intel E5-2620  1.2.0.25    2.0         CPU   \n",
       "12    Ubuntu 16.04 64bit  Intel E5-2620 (pocl)      0.14    2.0         CPU   \n",
       "11    Ubuntu 16.04 64bit    Oclgrind Simulator     16.10    1.2    Emulator   \n",
       "\n",
       "      #. CLSmith  #. CLSmith w. cldrive  #. GitHub  #. CLgen  \n",
       "6842         905                      0          0         0  \n",
       "3         200020                 200020     237235     20000  \n",
       "9         200020                 200020     184760     20000  \n",
       "12        200020                      0          0      5000  \n",
       "11        200020                  18525       1080     20000  "
      ]
     },
     "execution_count": 16,
     "metadata": {},
     "output_type": "execute_result"
    }
   ],
   "source": [
    "import sqlalchemy as sql\n",
    "\n",
    "DEVICES = {  # shorthand device names\n",
    "    \"GeForce GTX 1080\": \"NVIDIA GTX 1080\",\n",
    "    \"Intel(R) Xeon(R) CPU E5-2620 v4 @ 2.10GHz\": \"Intel E5-2620\",\n",
    "    \"Olcgrind Simulator\": \"Oclgrind\",\n",
    "    \"pthread-Intel(R) Xeon(R) CPU E5-2620 v4 @ 2.10GHz\": \"Intel E5-2620 (pocl)\",\n",
    "    \"Intel(R) Core(TM) i5-4570 CPU @ 3.20GHz\": \"Intel i5-4570\",\n",
    "}\n",
    "\n",
    "DRIVERS = {\n",
    "    \"Oclgrind 16.10\": \"16.10\",\n",
    "}\n",
    "\n",
    "PLATFORMS = {\n",
    "    \"Portable Computing Language\": \"POCL\",\n",
    "}\n",
    "\n",
    "q = session.query(Testbed).order_by(sql.func.field(Testbed.devtype, 'GPU', 'CPU', 'Emulator'))\n",
    "\n",
    "data = []\n",
    "for testbed in q:\n",
    "    data.append(\n",
    "        (testbed.id, [\n",
    "            testbed.host, DEVICES.get(testbed.device, testbed.device),\n",
    "            DRIVERS.get(testbed.driver, testbed.driver), testbed.opencl, testbed.devtype] +\n",
    "         [session.query(t.testbed).filter(t.testbed == testbed).count() for t in TABLES]))\n",
    "i, d = zip(*data)\n",
    "testbeds = pd.DataFrame(list(d), index=i, columns=[\"Operating System\", \"Device\", \"Driver\", \"OpenCL\", \"Device type\"] + [f\"#. {t}\" for t in TABLE_NAMES])\n",
    "testbeds"
   ]
  },
  {
   "cell_type": "code",
   "execution_count": 17,
   "metadata": {},
   "outputs": [
    {
     "name": "stdout",
     "output_type": "stream",
     "text": [
      "error: Cannot pull with rebase: You have unstaged changes.\n",
      "[master 72696d3] auto: build/tab/platforms.tex\n",
      " 2 files changed, 22 insertions(+), 21 deletions(-)\n",
      " rewrite build/tab/platforms.tex (92%)\n",
      " rewrite build/tab/results-CLSmith.tex (89%)\n",
      "Counting objects: 6, done.\n",
      "Delta compression using up to 16 threads.\n",
      "Compressing objects: 100% (5/5), done.\n",
      "Writing objects: 100% (6/6), 660 bytes | 0 bytes/s, done.\n",
      "Total 6 (delta 4), reused 0 (delta 0)\n",
      "remote: Resolving deltas: 100% (4/4)\u001b[K\u001b[K\n",
      "remote: Updating references: 100% (1/1)\u001b[K\u001b[K\n",
      "To https://git.overleaf.com/8608915dsywxshwwjmw\n",
      "   1a4902a..72696d3  master -> master\n"
     ]
    },
    {
     "data": {
      "text/html": [
       "<div>\n",
       "<table border=\"1\" class=\"dataframe\">\n",
       "  <thead>\n",
       "    <tr style=\"text-align: right;\">\n",
       "      <th></th>\n",
       "      <th>Platform</th>\n",
       "      <th>Device</th>\n",
       "      <th>Driver</th>\n",
       "      <th>OpenCL</th>\n",
       "      <th>Operating system</th>\n",
       "      <th>Device type</th>\n",
       "    </tr>\n",
       "  </thead>\n",
       "  <tbody>\n",
       "    <tr>\n",
       "      <th>1</th>\n",
       "      <td>NVIDIA CUDA</td>\n",
       "      <td>GeForce GTX 1080</td>\n",
       "      <td>375.39</td>\n",
       "      <td>1.2</td>\n",
       "      <td>Ubuntu 16.04 64bit</td>\n",
       "      <td>GPU</td>\n",
       "    </tr>\n",
       "    <tr>\n",
       "      <th>2</th>\n",
       "      <td>Intel(R) OpenCL</td>\n",
       "      <td>Intel(R) Xeon(R) CPU E5-2620 v4 @ 2.10GHz</td>\n",
       "      <td>1.2.0.25</td>\n",
       "      <td>2.0</td>\n",
       "      <td>Ubuntu 16.04 64bit</td>\n",
       "      <td>CPU</td>\n",
       "    </tr>\n",
       "    <tr>\n",
       "      <th>3</th>\n",
       "      <td>Oclgrind</td>\n",
       "      <td>Oclgrind Simulator</td>\n",
       "      <td>16.10</td>\n",
       "      <td>1.2</td>\n",
       "      <td>Ubuntu 16.04 64bit</td>\n",
       "      <td>Emulator</td>\n",
       "    </tr>\n",
       "    <tr>\n",
       "      <th>4</th>\n",
       "      <td>POCL</td>\n",
       "      <td>pthread-Intel(R) Xeon(R) CPU E5-2620 v4 @ 2.10GHz</td>\n",
       "      <td>0.14</td>\n",
       "      <td>2.0</td>\n",
       "      <td>Ubuntu 16.04 64bit</td>\n",
       "      <td>CPU</td>\n",
       "    </tr>\n",
       "    <tr>\n",
       "      <th>5</th>\n",
       "      <td>Intel(R) OpenCL</td>\n",
       "      <td>Intel(R) Core(TM) i5-4570 CPU @ 3.20GHz</td>\n",
       "      <td>1.2.0.25</td>\n",
       "      <td>None</td>\n",
       "      <td>Ubuntu 16.04 64bit</td>\n",
       "      <td>None</td>\n",
       "    </tr>\n",
       "  </tbody>\n",
       "</table>\n",
       "</div>"
      ],
      "text/plain": [
       "          Platform                                             Device  \\\n",
       "1      NVIDIA CUDA                                   GeForce GTX 1080   \n",
       "2  Intel(R) OpenCL          Intel(R) Xeon(R) CPU E5-2620 v4 @ 2.10GHz   \n",
       "3         Oclgrind                                 Oclgrind Simulator   \n",
       "4             POCL  pthread-Intel(R) Xeon(R) CPU E5-2620 v4 @ 2.10GHz   \n",
       "5  Intel(R) OpenCL            Intel(R) Core(TM) i5-4570 CPU @ 3.20GHz   \n",
       "\n",
       "     Driver OpenCL    Operating system Device type  \n",
       "1    375.39    1.2  Ubuntu 16.04 64bit         GPU  \n",
       "2  1.2.0.25    2.0  Ubuntu 16.04 64bit         CPU  \n",
       "3     16.10    1.2  Ubuntu 16.04 64bit    Emulator  \n",
       "4      0.14    2.0  Ubuntu 16.04 64bit         CPU  \n",
       "5  1.2.0.25   None  Ubuntu 16.04 64bit        None  "
      ]
     },
     "execution_count": 17,
     "metadata": {},
     "output_type": "execute_result"
    }
   ],
   "source": [
    "# push LaTex to Overleaf\n",
    "!cd ~/docs/paper-project_b/ && git pull --rebase\n",
    "import os\n",
    "data = []\n",
    "for testbed in session.query(Testbed):\n",
    "    data.append([\n",
    "        PLATFORMS.get(testbed.platform, testbed.platform), testbed.device, DRIVERS.get(testbed.driver, testbed.driver),\n",
    "        testbed.opencl, testbed.host, testbed.devtype])\n",
    "table = pd.DataFrame(data, index=range(1, len(data)+1), columns=[\n",
    "    \"Platform\", \"Device\", \"Driver\", \"OpenCL\", \"Operating system\", \"Device type\"])\n",
    "with open(os.path.expanduser(\"~/docs/paper-project_b/build/tab/platforms.tex\"), \"w\") as outfile:\n",
    "    table.to_latex(buf=outfile)\n",
    "!cd ~/docs/paper-project_b/build && git add . && git commit -m \"auto: build/tab/platforms.tex\" && git push\n",
    "table"
   ]
  },
  {
   "cell_type": "markdown",
   "metadata": {},
   "source": [
    "## Runtime Parameters\n",
    "\n",
    "### cl_launcher"
   ]
  },
  {
   "cell_type": "code",
   "execution_count": 5,
   "metadata": {},
   "outputs": [
    {
     "data": {
      "text/html": [
       "<div>\n",
       "<table border=\"1\" class=\"dataframe\">\n",
       "  <thead>\n",
       "    <tr style=\"text-align: right;\">\n",
       "      <th></th>\n",
       "      <th>Global size</th>\n",
       "      <th>Local size</th>\n",
       "      <th>Optimizations</th>\n",
       "      <th>#. CLSmith</th>\n",
       "    </tr>\n",
       "  </thead>\n",
       "  <tbody>\n",
       "    <tr>\n",
       "      <th>4</th>\n",
       "      <td>(1, 1, 1)</td>\n",
       "      <td>(1, 1, 1)</td>\n",
       "      <td>off</td>\n",
       "      <td>40004</td>\n",
       "    </tr>\n",
       "    <tr>\n",
       "      <th>3</th>\n",
       "      <td>(1, 1, 1)</td>\n",
       "      <td>(1, 1, 1)</td>\n",
       "      <td>on</td>\n",
       "      <td>40185</td>\n",
       "    </tr>\n",
       "    <tr>\n",
       "      <th>2</th>\n",
       "      <td>(128, 16, 1)</td>\n",
       "      <td>(32, 1, 1)</td>\n",
       "      <td>off</td>\n",
       "      <td>40004</td>\n",
       "    </tr>\n",
       "    <tr>\n",
       "      <th>1</th>\n",
       "      <td>(128, 16, 1)</td>\n",
       "      <td>(32, 1, 1)</td>\n",
       "      <td>on</td>\n",
       "      <td>40004</td>\n",
       "    </tr>\n",
       "  </tbody>\n",
       "</table>\n",
       "</div>"
      ],
      "text/plain": [
       "    Global size  Local size Optimizations  #. CLSmith\n",
       "4     (1, 1, 1)   (1, 1, 1)           off       40004\n",
       "3     (1, 1, 1)   (1, 1, 1)            on       40185\n",
       "2  (128, 16, 1)  (32, 1, 1)           off       40004\n",
       "1  (128, 16, 1)  (32, 1, 1)            on       40004"
      ]
     },
     "execution_count": 5,
     "metadata": {},
     "output_type": "execute_result"
    }
   ],
   "source": [
    "q = session.query(cl_launcherParams).order_by(\n",
    "        cl_launcherParams.gsize_x, cl_launcherParams.gsize_y, cl_launcherParams.gsize_z,\n",
    "        cl_launcherParams.lsize_x, cl_launcherParams.lsize_y, cl_launcherParams.lsize_z,\n",
    "        cl_launcherParams.optimizations)\n",
    "\n",
    "data = []\n",
    "for param in q:\n",
    "    nresult_param = session.query(CLSmithResult).filter(CLSmithResult.params == param).count()\n",
    "    data.append((\n",
    "        param.id, [param.gsize, param.lsize, param.optimizations_on_off, nresult_param]))\n",
    "i, d = zip(*data)\n",
    "\n",
    "cl_launcher_params = pd.DataFrame(list(d), index=i, columns=[\n",
    "    \"Global size\", \"Local size\", \"Optimizations\", \"#. CLSmith\"])\n",
    "cl_launcher_params"
   ]
  },
  {
   "cell_type": "markdown",
   "metadata": {},
   "source": [
    "### cldrive"
   ]
  },
  {
   "cell_type": "code",
   "execution_count": 6,
   "metadata": {},
   "outputs": [
    {
     "data": {
      "text/html": [
       "<div>\n",
       "<table border=\"1\" class=\"dataframe\">\n",
       "  <thead>\n",
       "    <tr style=\"text-align: right;\">\n",
       "      <th></th>\n",
       "      <th>Size</th>\n",
       "      <th>Generator</th>\n",
       "      <th>Scalar Val</th>\n",
       "      <th>Global size</th>\n",
       "      <th>Local size</th>\n",
       "      <th>Optimizations</th>\n",
       "      <th>#. CLSmith w. cldrive</th>\n",
       "      <th>#. GitHub</th>\n",
       "      <th>#. CLgen</th>\n",
       "    </tr>\n",
       "  </thead>\n",
       "  <tbody>\n",
       "    <tr>\n",
       "      <th>11</th>\n",
       "      <td>256</td>\n",
       "      <td>arange</td>\n",
       "      <td>None</td>\n",
       "      <td>(1, 1, 1)</td>\n",
       "      <td>(1, 1, 1)</td>\n",
       "      <td>off</td>\n",
       "      <td>20002</td>\n",
       "      <td>18530</td>\n",
       "      <td>3000</td>\n",
       "    </tr>\n",
       "    <tr>\n",
       "      <th>10</th>\n",
       "      <td>256</td>\n",
       "      <td>arange</td>\n",
       "      <td>None</td>\n",
       "      <td>(1, 1, 1)</td>\n",
       "      <td>(1, 1, 1)</td>\n",
       "      <td>on</td>\n",
       "      <td>23707</td>\n",
       "      <td>18530</td>\n",
       "      <td>4000</td>\n",
       "    </tr>\n",
       "    <tr>\n",
       "      <th>12</th>\n",
       "      <td>4096</td>\n",
       "      <td>arange</td>\n",
       "      <td>None</td>\n",
       "      <td>(128, 16, 1)</td>\n",
       "      <td>(32, 1, 1)</td>\n",
       "      <td>off</td>\n",
       "      <td>20002</td>\n",
       "      <td>26592</td>\n",
       "      <td>3000</td>\n",
       "    </tr>\n",
       "    <tr>\n",
       "      <th>9</th>\n",
       "      <td>4096</td>\n",
       "      <td>arange</td>\n",
       "      <td>None</td>\n",
       "      <td>(128, 16, 1)</td>\n",
       "      <td>(32, 1, 1)</td>\n",
       "      <td>on</td>\n",
       "      <td>20002</td>\n",
       "      <td>20963</td>\n",
       "      <td>3000</td>\n",
       "    </tr>\n",
       "  </tbody>\n",
       "</table>\n",
       "</div>"
      ],
      "text/plain": [
       "    Size Generator Scalar Val   Global size  Local size Optimizations  \\\n",
       "11   256    arange       None     (1, 1, 1)   (1, 1, 1)           off   \n",
       "10   256    arange       None     (1, 1, 1)   (1, 1, 1)            on   \n",
       "12  4096    arange       None  (128, 16, 1)  (32, 1, 1)           off   \n",
       "9   4096    arange       None  (128, 16, 1)  (32, 1, 1)            on   \n",
       "\n",
       "    #. CLSmith w. cldrive  #. GitHub  #. CLgen  \n",
       "11                  20002      18530      3000  \n",
       "10                  23707      18530      4000  \n",
       "12                  20002      26592      3000  \n",
       "9                   20002      20963      3000  "
      ]
     },
     "execution_count": 6,
     "metadata": {},
     "output_type": "execute_result"
    }
   ],
   "source": [
    "CLDRIVE_TABLE_NAMES = [\"CLSmith w. cldrive\", \"GitHub\", \"CLgen\"]\n",
    "CLDRIVE_TABLES = [cldriveCLSmithResult, GitHubResult, CLgenResult]\n",
    "\n",
    "q = session.query(cldriveParams).order_by(\n",
    "        cldriveParams.size,\n",
    "        cldriveParams.gsize_x, cldriveParams.gsize_y, cldriveParams.gsize_z,\n",
    "        cldriveParams.lsize_x, cldriveParams.lsize_y, cldriveParams.lsize_z,\n",
    "        cldriveParams.generator, cldriveParams.scalar_val, cldriveParams.optimizations)\n",
    "\n",
    "data = []\n",
    "for param in q:\n",
    "    data.append((\n",
    "        param.id,\n",
    "        [param.size, param.generator, param.scalar_val, param.gsize,\n",
    "         param.lsize, param.optimizations_on_off] + [\n",
    "            session.query(t).filter(t.params == param).count()\n",
    "            for t in CLDRIVE_TABLES\n",
    "        ]))\n",
    "i, d = zip(*data)\n",
    "\n",
    "cldrive_params = pd.DataFrame(list(d), index=i, columns=[\n",
    "    \"Size\", \"Generator\", \"Scalar Val\", \"Global size\", \"Local size\",\n",
    "    \"Optimizations\"] + [f\"#. {t}\" for t in CLDRIVE_TABLE_NAMES])\n",
    "cldrive_params"
   ]
  },
  {
   "cell_type": "code",
   "execution_count": 7,
   "metadata": {},
   "outputs": [
    {
     "name": "stdout",
     "output_type": "stream",
     "text": [
      "Current branch master is up to date.\n",
      "On branch master\n",
      "Your branch is up-to-date with 'origin/master'.\n",
      "nothing to commit, working directory clean\n"
     ]
    },
    {
     "data": {
      "text/html": [
       "<div>\n",
       "<table border=\"1\" class=\"dataframe\">\n",
       "  <thead>\n",
       "    <tr style=\"text-align: right;\">\n",
       "      <th></th>\n",
       "      <th>Dataset Size</th>\n",
       "      <th>Global size</th>\n",
       "      <th>Workgroup size</th>\n",
       "      <th>OpenCL Optimizations</th>\n",
       "    </tr>\n",
       "  </thead>\n",
       "  <tbody>\n",
       "    <tr>\n",
       "      <th>1</th>\n",
       "      <td>256</td>\n",
       "      <td>(1, 1, 1)</td>\n",
       "      <td>(1, 1, 1)</td>\n",
       "      <td>off</td>\n",
       "    </tr>\n",
       "    <tr>\n",
       "      <th>2</th>\n",
       "      <td>256</td>\n",
       "      <td>(1, 1, 1)</td>\n",
       "      <td>(1, 1, 1)</td>\n",
       "      <td>on</td>\n",
       "    </tr>\n",
       "    <tr>\n",
       "      <th>3</th>\n",
       "      <td>4096</td>\n",
       "      <td>(128, 16, 1)</td>\n",
       "      <td>(32, 1, 1)</td>\n",
       "      <td>off</td>\n",
       "    </tr>\n",
       "    <tr>\n",
       "      <th>4</th>\n",
       "      <td>4096</td>\n",
       "      <td>(128, 16, 1)</td>\n",
       "      <td>(32, 1, 1)</td>\n",
       "      <td>on</td>\n",
       "    </tr>\n",
       "  </tbody>\n",
       "</table>\n",
       "</div>"
      ],
      "text/plain": [
       "   Dataset Size   Global size Workgroup size OpenCL Optimizations\n",
       "1           256     (1, 1, 1)      (1, 1, 1)                  off\n",
       "2           256     (1, 1, 1)      (1, 1, 1)                   on\n",
       "3          4096  (128, 16, 1)     (32, 1, 1)                  off\n",
       "4          4096  (128, 16, 1)     (32, 1, 1)                   on"
      ]
     },
     "execution_count": 7,
     "metadata": {},
     "output_type": "execute_result"
    }
   ],
   "source": [
    "# push LaTex to Overleaf\n",
    "!cd ~/docs/paper-project_b/ && git pull --rebase\n",
    "data = []\n",
    "for param in q:\n",
    "    data.append([param.size, param.gsize, param.lsize, param.optimizations_on_off])\n",
    "table = pd.DataFrame(data, index=range(1, len(data)+1), columns=[\n",
    "    \"Dataset Size\", \"Global size\", \"Workgroup size\", \"OpenCL Optimizations\"])\n",
    "with open(os.path.expanduser(\"~/docs/paper-project_b/build/tab/cldrive-params.tex\"), \"w\") as outfile:\n",
    "    table.to_latex(buf=outfile)\n",
    "!cd ~/docs/paper-project_b/build && git add . && git commit -m \"auto: build/tab/cldrive-params.tex\" && git push\n",
    "table"
   ]
  },
  {
   "cell_type": "markdown",
   "metadata": {},
   "source": [
    "# Experimental Results"
   ]
  },
  {
   "cell_type": "markdown",
   "metadata": {},
   "source": [
    "## Runtimes\n",
    "\n",
    "Excluding runs which terminated in non-zero status:"
   ]
  },
  {
   "cell_type": "code",
   "execution_count": 8,
   "metadata": {},
   "outputs": [
    {
     "data": {
      "text/html": [
       "<div>\n",
       "<table border=\"1\" class=\"dataframe\">\n",
       "  <thead>\n",
       "    <tr style=\"text-align: right;\">\n",
       "      <th></th>\n",
       "      <th>CLSmith</th>\n",
       "      <th>CLSmith w. cldrive</th>\n",
       "      <th>GitHub</th>\n",
       "      <th>CLgen</th>\n",
       "    </tr>\n",
       "  </thead>\n",
       "  <tbody>\n",
       "    <tr>\n",
       "      <th>Min</th>\n",
       "      <td>0.026003</td>\n",
       "      <td>2.279470</td>\n",
       "      <td>2.346580</td>\n",
       "      <td>2.096040</td>\n",
       "    </tr>\n",
       "    <tr>\n",
       "      <th>Median</th>\n",
       "      <td>1.224455</td>\n",
       "      <td>3.837550</td>\n",
       "      <td>3.769885</td>\n",
       "      <td>2.528270</td>\n",
       "    </tr>\n",
       "    <tr>\n",
       "      <th>Mean</th>\n",
       "      <td>1.913065</td>\n",
       "      <td>4.278828</td>\n",
       "      <td>3.653087</td>\n",
       "      <td>3.571162</td>\n",
       "    </tr>\n",
       "    <tr>\n",
       "      <th>Max</th>\n",
       "      <td>58.667400</td>\n",
       "      <td>47.763300</td>\n",
       "      <td>55.092600</td>\n",
       "      <td>46.140600</td>\n",
       "    </tr>\n",
       "  </tbody>\n",
       "</table>\n",
       "</div>"
      ],
      "text/plain": [
       "          CLSmith  CLSmith w. cldrive     GitHub      CLgen\n",
       "Min      0.026003            2.279470   2.346580   2.096040\n",
       "Median   1.224455            3.837550   3.769885   2.528270\n",
       "Mean     1.913065            4.278828   3.653087   3.571162\n",
       "Max     58.667400           47.763300  55.092600  46.140600"
      ]
     },
     "execution_count": 8,
     "metadata": {},
     "output_type": "execute_result"
    }
   ],
   "source": [
    "import numpy as np\n",
    "\n",
    "runtimes = [np.array(session.query(table.runtime).filter(table.status == 0).all()) for table in TABLES]\n",
    "data = [\n",
    "    (\"Min\", [r.min() for r in runtimes]),\n",
    "    (\"Median\", [np.median(r) for r in runtimes]),\n",
    "    (\"Mean\", [r.mean() for r in runtimes]),\n",
    "    (\"Max\", [r.max() for r in runtimes])\n",
    "]\n",
    "i, d = zip(*data)\n",
    "runtimes = pd.DataFrame(list(d), index=i, columns=TABLE_NAMES)\n",
    "runtimes"
   ]
  },
  {
   "cell_type": "markdown",
   "metadata": {
    "collapsed": true
   },
   "source": [
    "## Outcomes & Classifications"
   ]
  },
  {
   "cell_type": "markdown",
   "metadata": {},
   "source": [
    "**Pandas tables of outcomes**"
   ]
  },
  {
   "cell_type": "code",
   "execution_count": 9,
   "metadata": {},
   "outputs": [
    {
     "name": "stdout",
     "output_type": "stream",
     "text": [
      "done.\n"
     ]
    }
   ],
   "source": [
    "outcomes = {}\n",
    "\n",
    "r = []\n",
    "for testbed in session.query(Testbed).all():\n",
    "    nresult = session.query(CLSmithResult).filter(CLSmithResult.testbed == testbed).count()\n",
    "\n",
    "    q = session.query(CLSmithResult.outcome, sql.func.count(CLSmithResult.outcome)).filter(\n",
    "        CLSmithResult.testbed == testbed).group_by(CLSmithResult.outcome).order_by(sql.desc(sql.func.count(CLSmithResult.outcome)))\n",
    "\n",
    "    for outcome, count in q.all():\n",
    "        ratio = (count / nresult) * 100\n",
    "        r.append((DEVICES.get(testbed.device, testbed.device), outcome, count, ratio))\n",
    "outcomes[\"CLSmith\"] = pd.DataFrame(r, columns=[\"Device\", \"Outcome\", \"Count\", \"% of Total Results\"])\n",
    "        \n",
    "for name, table in zip(CLDRIVE_TABLE_NAMES, CLDRIVE_TABLES):\n",
    "    r = []\n",
    "    for testbed in session.query(Testbed).all():\n",
    "        nresult = session.query(table).filter(table.testbed == testbed).count()\n",
    "\n",
    "        q = session.query(table.outcome, sql.func.count(table.outcome)).filter(\n",
    "            table.testbed == testbed).group_by(table.outcome).order_by(\n",
    "                sql.desc(sql.func.count(table.outcome)))\n",
    "\n",
    "        for outcome, count in q.all():\n",
    "            ratio = (count / nresult) * 100\n",
    "            r.append((DEVICES.get(testbed.device, testbed.device), outcome, count, ratio))\n",
    "    outcomes[name] = pd.DataFrame(r, columns=[\"Device\", \"Outcome\", \"Count\", \"% of Total Results\"])\n",
    "\n",
    "print(\"done.\")"
   ]
  },
  {
   "cell_type": "markdown",
   "metadata": {},
   "source": [
    "**Pandas tables of classifications**"
   ]
  },
  {
   "cell_type": "code",
   "execution_count": 10,
   "metadata": {},
   "outputs": [
    {
     "name": "stdout",
     "output_type": "stream",
     "text": [
      "done.\n"
     ]
    }
   ],
   "source": [
    "classifications = {}\n",
    "\n",
    "classificationsSort = [\n",
    "    'Invalid testcase',\n",
    "    'Build failure',\n",
    "    'Runtime crash',\n",
    "    'Wrong code',\n",
    "    'Okay'\n",
    "]\n",
    "\n",
    "def escape(val):\n",
    "    if val is None:\n",
    "        return val\n",
    "    else:\n",
    "        return str(classificationsSort.index(val)) + \". \" + val\n",
    "\n",
    "r = []\n",
    "for testbed in session.query(Testbed).all():\n",
    "    nresult = session.query(CLSmithResult).filter(CLSmithResult.testbed == testbed).count()\n",
    "\n",
    "    q = session.query(CLSmithResult.classification, sql.func.count(CLSmithResult.classification)).filter(\n",
    "        CLSmithResult.testbed == testbed).group_by(CLSmithResult.classification).order_by(\n",
    "            sql.desc(sql.func.count(CLSmithResult.classification)))\n",
    "\n",
    "    for val, count in q.all():\n",
    "        ratio = (count / nresult) * 100\n",
    "        r.append((DEVICES.get(testbed.device, testbed.device), escape(val), count, ratio))\n",
    "classifications[\"CLSmith\"] = pd.DataFrame(r, columns=[\"Device\", \"Classification\", \"Count\", \"% of Total Results\"])\n",
    "        \n",
    "for name, table in zip(CLDRIVE_TABLE_NAMES, CLDRIVE_TABLES):\n",
    "    r = []\n",
    "    for testbed in session.query(Testbed).all():\n",
    "        nresult = session.query(table).filter(table.testbed == testbed).count()\n",
    "\n",
    "        q = session.query(table.classification, sql.func.count(table.classification)).filter(\n",
    "            table.testbed == testbed).group_by(table.classification).order_by(\n",
    "                sql.desc(sql.func.count(table.classification)))\n",
    "\n",
    "        for val, count in q.all():\n",
    "            ratio = (count / nresult) * 100\n",
    "            r.append((DEVICES.get(testbed.device, testbed.device), escape(val), count, ratio))\n",
    "    classifications[name] = pd.DataFrame(r, columns=[\"Device\", \"Classification\", \"Count\", \"% of Total Results\"])\n",
    "\n",
    "print(\"done.\")"
   ]
  },
  {
   "cell_type": "markdown",
   "metadata": {},
   "source": [
    "## Experimental Results"
   ]
  },
  {
   "cell_type": "code",
   "execution_count": 11,
   "metadata": {
    "collapsed": true
   },
   "outputs": [],
   "source": [
    "import matplotlib.pyplot as plt\n",
    "import seaborn as sns\n",
    "from labm8 import viz\n",
    "%matplotlib inline\n",
    "\n",
    "def plot_outcomes(table, name, dictname=outcomes, key='Outcome'):\n",
    "    ax = dictname[name].pivot('Device', key)['Count'].plot(\n",
    "        kind='bar', stacked=True, colormap=\"Reds_r\", sort_columns=True)\n",
    "\n",
    "    nprog = session.query(table.program_id).group_by(table.program_id).count()\n",
    "    nparam = session.query(table.params_id).group_by(table.params_id).count()\n",
    "    plt.title(f\"{nprog} {name} x {nparam} parameters\")\n",
    "    plt.ylabel(\"Results\")\n",
    "    plt.xlabel(\"\")\n",
    "\n",
    "    plt.ylim(0, nprog * nparam)\n",
    "\n",
    "    # reverse legend order (because plot stacks from bottom to top, and legend goes from top to bottom)\n",
    "    handles, labels = ax.get_legend_handles_labels()\n",
    "    ax.legend(handles[::-1], labels[::-1], loc='center left', bbox_to_anchor=(1, 0.5))\n",
    "\n",
    "    viz.finalise(figsize=(3.5, 8))"
   ]
  },
  {
   "cell_type": "code",
   "execution_count": 15,
   "metadata": {},
   "outputs": [
    {
     "name": "stdout",
     "output_type": "stream",
     "text": [
      "Intel(R) Xeon(R) CPU E5-2620 v4 @ 2.10GHz\n"
     ]
    },
    {
     "ename": "NameError",
     "evalue": "name 'PLATFORMS' is not defined",
     "output_type": "error",
     "traceback": [
      "\u001b[0;31m---------------------------------------------------------------------------\u001b[0m",
      "\u001b[0;31mNameError\u001b[0m                                 Traceback (most recent call last)",
      "\u001b[0;32m<ipython-input-15-3db7c71e0abd>\u001b[0m in \u001b[0;36m<module>\u001b[0;34m()\u001b[0m\n\u001b[1;32m     45\u001b[0m \u001b[0;31m#             DRIVERS.get(testbed.driver, testbed.driver), testbed.opencl, testbed.devtype]\u001b[0m\u001b[0;34m\u001b[0m\u001b[0;34m\u001b[0m\u001b[0m\n\u001b[1;32m     46\u001b[0m \u001b[0;34m\u001b[0m\u001b[0m\n\u001b[0;32m---> 47\u001b[0;31m \u001b[0msummarize\u001b[0m\u001b[0;34m(\u001b[0m\u001b[0;34m'CLSmith'\u001b[0m\u001b[0;34m)\u001b[0m\u001b[0;34m\u001b[0m\u001b[0m\n\u001b[0m",
      "\u001b[0;32m<ipython-input-15-3db7c71e0abd>\u001b[0m in \u001b[0;36msummarize\u001b[0;34m(table_name)\u001b[0m\n\u001b[1;32m     24\u001b[0m         \u001b[0mprint\u001b[0m\u001b[0;34m(\u001b[0m\u001b[0mfull_name\u001b[0m\u001b[0;34m)\u001b[0m\u001b[0;34m\u001b[0m\u001b[0m\n\u001b[1;32m     25\u001b[0m         r = [\n\u001b[0;32m---> 26\u001b[0;31m             \u001b[0mPLATFORMS\u001b[0m\u001b[0;34m.\u001b[0m\u001b[0mget\u001b[0m\u001b[0;34m(\u001b[0m\u001b[0mtestbed\u001b[0m\u001b[0;34m.\u001b[0m\u001b[0mplatform\u001b[0m\u001b[0;34m,\u001b[0m \u001b[0mtestbed\u001b[0m\u001b[0;34m.\u001b[0m\u001b[0mplatform\u001b[0m\u001b[0;34m)\u001b[0m\u001b[0;34m,\u001b[0m\u001b[0;34m\u001b[0m\u001b[0m\n\u001b[0m\u001b[1;32m     27\u001b[0m             \u001b[0mget_val\u001b[0m\u001b[0;34m(\u001b[0m\u001b[0;34m'0. Invalid testcase'\u001b[0m\u001b[0;34m)\u001b[0m\u001b[0;34m,\u001b[0m\u001b[0;34m\u001b[0m\u001b[0m\n\u001b[1;32m     28\u001b[0m             \u001b[0mget_val\u001b[0m\u001b[0;34m(\u001b[0m\u001b[0;34m'1. Build failure'\u001b[0m\u001b[0;34m)\u001b[0m\u001b[0;34m,\u001b[0m\u001b[0;34m\u001b[0m\u001b[0m\n",
      "\u001b[0;31mNameError\u001b[0m: name 'PLATFORMS' is not defined"
     ]
    }
   ],
   "source": [
    "def summarize(table_name):\n",
    "    \"\"\" summarize a table of classifications \"\"\"\n",
    "    table = classifications[table_name]\n",
    "\n",
    "    def get_val(classification):\n",
    "        try:\n",
    "            return table.loc[\n",
    "                (table['Device'] == device) & (table['Classification'] == classification)]['Count'].values[0]\n",
    "        except IndexError:\n",
    "            return 0\n",
    "    \n",
    "    columns = ['Device', 'Invalid Testcases', 'Build Failures', 'Runtime Crashes', 'Incorrect Outputs', 'Okay']\n",
    "    devices = sorted(set(table['Device'].values))\n",
    "\n",
    "    d = []    \n",
    "    for device in devices:\n",
    "        lookup = dict((v, k) for k, v in DEVICES.items())\n",
    "        full_name = lookup.get(device, device)\n",
    "        q = session.query(Testbed).filter(Testbed.device == full_name).all()\n",
    "        if len(q) != 1:\n",
    "            raise q\n",
    "        testbed = q[0]\n",
    "        \n",
    "        print(full_name)\n",
    "        r = [\n",
    "            PLATFORMS.get(testbed.platform, testbed.platform),\n",
    "            get_val('0. Invalid testcase'),\n",
    "            get_val('1. Build failure'),\n",
    "            get_val('2. Runtime crash'),\n",
    "            get_val('3. Wrong code'),\n",
    "            get_val('4. Okay'),\n",
    "        ]\n",
    "        d.append(r)\n",
    "    summary = pd.DataFrame(d, columns=columns)\n",
    "\n",
    "    # !cd ~/docs/paper-project_b/ && git pull --rebase >/dev/null\n",
    "    name = '-'.join(table_name.split())\n",
    "    with open(os.path.expanduser(f\"~/docs/paper-project_b/build/tab/results-{name}.tex\"), \"w\") as outfile:\n",
    "        summary.to_latex(buf=outfile)\n",
    "    # !cd ~/docs/paper-project_b/build && git add . && git commit -m \"auto: summarize table\" >/dev/null && git push >/dev/null\n",
    "    return summary\n",
    "\n",
    "# testbed.id, [\n",
    "#             testbed.host, DEVICES.get(testbed.device, testbed.device),\n",
    "#             DRIVERS.get(testbed.driver, testbed.driver), testbed.opencl, testbed.devtype]\n",
    "\n",
    "summarize('CLSmith')"
   ]
  },
  {
   "cell_type": "markdown",
   "metadata": {},
   "source": [
    "### CLSmith"
   ]
  },
  {
   "cell_type": "code",
   "execution_count": null,
   "metadata": {},
   "outputs": [],
   "source": [
    "outcomes[\"CLSmith\"]"
   ]
  },
  {
   "cell_type": "code",
   "execution_count": null,
   "metadata": {},
   "outputs": [],
   "source": [
    "summarize('CLSmith')"
   ]
  },
  {
   "cell_type": "code",
   "execution_count": null,
   "metadata": {},
   "outputs": [],
   "source": [
    "plot_outcomes(CLSmithResult, \"CLSmith\", dictname=classifications, key='Classification')"
   ]
  },
  {
   "cell_type": "markdown",
   "metadata": {},
   "source": [
    "### CLSmith w. cldrive"
   ]
  },
  {
   "cell_type": "code",
   "execution_count": null,
   "metadata": {},
   "outputs": [],
   "source": [
    "outcomes[\"CLSmith w. cldrive\"]"
   ]
  },
  {
   "cell_type": "code",
   "execution_count": null,
   "metadata": {},
   "outputs": [],
   "source": [
    "summarize('CLSmith w. cldrive')"
   ]
  },
  {
   "cell_type": "code",
   "execution_count": null,
   "metadata": {},
   "outputs": [],
   "source": [
    "plot_outcomes(cldriveCLSmithResult, \"CLSmith w. cldrive\", dictname=classifications, key='Classification')"
   ]
  },
  {
   "cell_type": "markdown",
   "metadata": {},
   "source": [
    "### GitHub"
   ]
  },
  {
   "cell_type": "code",
   "execution_count": null,
   "metadata": {},
   "outputs": [],
   "source": [
    "outcomes[\"GitHub\"]"
   ]
  },
  {
   "cell_type": "code",
   "execution_count": null,
   "metadata": {},
   "outputs": [],
   "source": [
    "summarize('GitHub')"
   ]
  },
  {
   "cell_type": "code",
   "execution_count": null,
   "metadata": {},
   "outputs": [],
   "source": [
    "plot_outcomes(GitHubResult, \"GitHub\", dictname=classifications, key='Classification')"
   ]
  },
  {
   "cell_type": "markdown",
   "metadata": {},
   "source": [
    "### CLgen"
   ]
  },
  {
   "cell_type": "code",
   "execution_count": null,
   "metadata": {},
   "outputs": [],
   "source": [
    "outcomes[\"CLgen\"]"
   ]
  },
  {
   "cell_type": "code",
   "execution_count": null,
   "metadata": {},
   "outputs": [],
   "source": [
    "summarize('CLgen')"
   ]
  },
  {
   "cell_type": "code",
   "execution_count": null,
   "metadata": {},
   "outputs": [],
   "source": [
    "plot_outcomes(CLgenResult, \"CLgen\", dictname=classifications, key='Classification')"
   ]
  },
  {
   "cell_type": "code",
   "execution_count": null,
   "metadata": {},
   "outputs": [],
   "source": [
    "# TODO: GpuVERIFY\n",
    "\n",
    "# from clgen import preprocess as clgen\n",
    "\n",
    "# try:\n",
    "#     clgen.gpuverify(\"__kernel void A() {}\", [\"--local_size=64\", \"--num_groups=128\"])\n",
    "#     gpuverified = True\n",
    "# except clgen.GPUVerifyException:\n",
    "#     gpuverified = False\n",
    "    \n",
    "# print(gpuverified)"
   ]
  },
  {
   "cell_type": "code",
   "execution_count": null,
   "metadata": {
    "collapsed": true
   },
   "outputs": [],
   "source": []
  }
 ],
 "metadata": {
  "kernelspec": {
   "display_name": "CLgen",
   "language": "python",
   "name": "clgen"
  },
  "language_info": {
   "codemirror_mode": {
    "name": "ipython",
    "version": 3
   },
   "file_extension": ".py",
   "mimetype": "text/x-python",
   "name": "python",
   "nbconvert_exporter": "python",
   "pygments_lexer": "ipython3",
   "version": "3.6.1"
  }
 },
 "nbformat": 4,
 "nbformat_minor": 2
}
