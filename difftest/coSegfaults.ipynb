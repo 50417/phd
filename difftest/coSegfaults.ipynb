{
 "cells": [
  {
   "cell_type": "markdown",
   "metadata": {},
   "source": [
    "# Compile-only Results"
   ]
  },
  {
   "cell_type": "code",
   "execution_count": 1,
   "metadata": {},
   "outputs": [
    {
     "data": {
      "text/plain": [
       "'mysql://cc1:3306/project_b'"
      ]
     },
     "execution_count": 1,
     "metadata": {},
     "output_type": "execute_result"
    }
   ],
   "source": [
    "import db as db\n",
    "import sqlalchemy as sql\n",
    "from db import *\n",
    "%run util.py\n",
    "\n",
    "hostname = \"cc1\"\n",
    "db.init(hostname)"
   ]
  },
  {
   "cell_type": "code",
   "execution_count": 2,
   "metadata": {
    "collapsed": true
   },
   "outputs": [],
   "source": [
    "TABLE_NAME = \"CLgen\"\n",
    "TABLE = coCLgenResult"
   ]
  },
  {
   "cell_type": "code",
   "execution_count": 3,
   "metadata": {},
   "outputs": [
    {
     "name": "stdout",
     "output_type": "stream",
     "text": [
      "11ed7e305bfa90d6f6bcd31fc9c98e15\n"
     ]
    }
   ],
   "source": [
    "from labm8 import crypto\n",
    "print(crypto.md5_str(TABLE.__name__))"
   ]
  },
  {
   "cell_type": "code",
   "execution_count": 4,
   "metadata": {
    "collapsed": true
   },
   "outputs": [],
   "source": [
    "import cldrive\n",
    "import sys\n",
    "\n",
    "def get_co_report(result_id: int, table=coCLgenResult, report_type: str=\"bf\"):\n",
    "    with Session(commit=False) as s:\n",
    "        result = s.query(table).filter(table.id == result_id).first()\n",
    "\n",
    "        if not result:\n",
    "            raise KeyError(f\"no result with ID {result_id}\")\n",
    "\n",
    "        flags = result.params.to_flags()\n",
    "        program = result.program\n",
    "\n",
    "        # generate bug report\n",
    "        now = datetime.datetime.utcnow().isoformat()\n",
    "\n",
    "        bug_type = {\n",
    "            \"bf\": \"compilation failure\",\n",
    "            \"c\": \"runtime crash\"\n",
    "        }[report_type]\n",
    "\n",
    "        report_id = crypto.md5_str(table.__name__) + \"-\" + str(result.id)\n",
    "        result_output = '\\n'.join([f'//   {line}' for line in result.stderr.strip().split('\\n')\n",
    "                                   if not line.startswith(\"+ \")])\n",
    "        header = f\"\"\"\n",
    "// bug report {report_id}.c\n",
    "// \n",
    "// Metadata:\n",
    "//   OpenCL platform:        {result.testbed.platform}\n",
    "//   OpenCL device:          {result.testbed.device}\n",
    "//   Driver version:         {result.testbed.driver}\n",
    "//   OpenCL version:         {result.testbed.opencl}\n",
    "//   Host operating system:  {result.testbed.host}\n",
    "//   OpenCL optimizations:   {result.params.optimizations_on_off}\n",
    "//\n",
    "// Output:\n",
    "{result_output}\n",
    "//   [Return code {result.status}]\n",
    "//\\\n",
    "\"\"\"\n",
    "        src = cldrive.emit_c(\n",
    "            env=cldrive.make_env(),\n",
    "            src=result.program.src,\n",
    "            compile_only=True,\n",
    "            create_kernel=result.params.build_kernel,\n",
    "            gsize=None, lsize=None, inputs=None,\n",
    "        )\n",
    "        return (header + src).strip()"
   ]
  },
  {
   "cell_type": "markdown",
   "metadata": {},
   "source": [
    "Segfaults:"
   ]
  },
  {
   "cell_type": "code",
   "execution_count": 5,
   "metadata": {},
   "outputs": [
    {
     "name": "stdout",
     "output_type": "stream",
     "text": [
      "done\n",
      "0 duplicates flagged\n"
     ]
    }
   ],
   "source": [
    "from collections import defaultdict\n",
    "from labm8 import fs\n",
    "\n",
    "outbox = fs.path(\"outbox\", \"coCLgenResults\", \"segfaults\")\n",
    "fs.mkdir(outbox)\n",
    "with Session(commit=True) as s:\n",
    "    q = s.query(TABLE)\\\n",
    "        .filter(TABLE.status == 139,\n",
    "                sql.or_(TABLE.submitted == None, TABLE.submitted == 0),\n",
    "                sql.or_(TABLE.dupe == None, TABLE.dupe == 0))\\\n",
    "        .order_by(TABLE.id)\n",
    "\n",
    "    dupes = 0\n",
    "    errs = set()\n",
    "    for result in q:\n",
    "        key = result.testbed_id, result.program_id\n",
    "\n",
    "        if key in errs:\n",
    "            dupes += 1\n",
    "            result.dupe = 1\n",
    "            continue\n",
    "        errs.add(key)\n",
    "\n",
    "        vendor = PLATFORMS_2_VENDORS[result.testbed.platform]\n",
    "        outpath = fs.path(outbox, f\"bug-report-{vendor}-{result.id}.c\")            \n",
    "\n",
    "        report = get_co_report(**{\n",
    "            \"result_id\": result.id,\n",
    "            \"table\": coCLgenResult,\n",
    "        })\n",
    "\n",
    "        with open(outpath, \"w\") as outfile:\n",
    "            print(report, file=outfile)\n",
    "        result.submitted = 1\n",
    "        print(outpath)\n",
    "print(\"done\")\n",
    "print(f\"{dupes} duplicates flagged\")"
   ]
  },
  {
   "cell_type": "code",
   "execution_count": 14,
   "metadata": {},
   "outputs": [
    {
     "name": "stdout",
     "output_type": "stream",
     "text": [
      "0\n"
     ]
    }
   ],
   "source": [
    "with Session(commit=True) as s:\n",
    "    q = s.query(TABLE)\\\n",
    "        .filter(TABLE.classification == \"Build failure\",\n",
    "                sql.or_(TABLE.submitted == None, TABLE.submitted == 0),\n",
    "                sql.or_(TABLE.dupe == None, TABLE.dupe == 0))\\\n",
    "        .order_by(TABLE.id)\n",
    "\n",
    "    print(q.count())\n",
    "    for result in q:\n",
    "        print(result.stderr, '\\n')"
   ]
  },
  {
   "cell_type": "code",
   "execution_count": null,
   "metadata": {
    "collapsed": true
   },
   "outputs": [],
   "source": []
  }
 ],
 "metadata": {
  "kernelspec": {
   "display_name": "project_b",
   "language": "python",
   "name": "project_b"
  },
  "language_info": {
   "codemirror_mode": {
    "name": "ipython",
    "version": 3
   },
   "file_extension": ".py",
   "mimetype": "text/x-python",
   "name": "python",
   "nbconvert_exporter": "python",
   "pygments_lexer": "ipython3",
   "version": "3.6.1"
  }
 },
 "nbformat": 4,
 "nbformat_minor": 2
}
