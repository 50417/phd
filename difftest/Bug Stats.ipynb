{
 "cells": [
  {
   "cell_type": "markdown",
   "metadata": {},
   "source": [
    "## Number of bug reports submitted"
   ]
  },
  {
   "cell_type": "code",
   "execution_count": 49,
   "metadata": {},
   "outputs": [
    {
     "data": {
      "image/png": "[encoded data removed]",
      "text/plain": [
       "<matplotlib.figure.Figure at 0x7fec28de3588>"
      ]
     },
     "metadata": {},
     "output_type": "display_data"
    }
   ],
   "source": [
    "import re\n",
    "import dateutil.parser\n",
    "import pandas as pd\n",
    "import matplotlib\n",
    "import matplotlib.dates as mdates\n",
    "import seaborn as sns\n",
    "\n",
    "from labm8 import fs\n",
    "from labm8 import viz\n",
    "from matplotlib import pyplot as plt\n",
    "\n",
    "%matplotlib inline\n",
    "sns.set(style=\"ticks\", color_codes=True)\n",
    "plt.style.use([\"seaborn-white\", \"seaborn-paper\"])\n",
    "matplotlib.rcParams['figure.dpi'] = 120\n",
    "\n",
    "def lc(path):\n",
    "    with open(path) as infile:\n",
    "        return len(infile.readlines())\n",
    "    \n",
    "def lc_by_vendor(path):\n",
    "    counts = dict()\n",
    "    with open(path) as infile:\n",
    "        for line in infile:\n",
    "            m = re.search(\"bug-report-([^-]+)-\", line)\n",
    "            vendor = m.group(1).capitalize()\n",
    "            counts[vendor] = counts.get(vendor, 0) + 1\n",
    "    counts[\"Total\"] = sum(counts.values())\n",
    "    return counts\n",
    "\n",
    "dates, data = [], []\n",
    "for log in fs.ls(\"../data/bug-reports/.logs\", abspaths=True):\n",
    "    date = dateutil.parser.parse(fs.basename(log).replace(\".txt\", \"\"))\n",
    "    dates.append(date)\n",
    "    data.append(lc_by_vendor(log))\n",
    "\n",
    "ax = pd.DataFrame(data, index=dates).plot()\n",
    "ax.xaxis.set_major_locator(mdates.DayLocator())\n",
    "ax.xaxis.set_major_formatter(mdates.DateFormatter('%b-%d'))\n",
    "ax.get_legend().draw_frame(True)\n",
    "plt.ylabel(\"Number of bug reports\")\n",
    "viz.finalise(figsize=(6, 3))"
   ]
  },
  {
   "cell_type": "code",
   "execution_count": 59,
   "metadata": {},
   "outputs": [
    {
     "data": {
      "image/png": "[encoded data removed]",
      "text/plain": [
       "<matplotlib.figure.Figure at 0x7fec2a123978>"
      ]
     },
     "metadata": {},
     "output_type": "display_data"
    },
    {
     "name": "stdout",
     "output_type": "stream",
     "text": [
      "Current branch master is up to date.\n",
      "[INFO  ] Wrote /home/cec/docs/paper-project_b/build/img/kernel-sizes.pdf\n",
      "[master 7f9e386] auto: build/img/kernel-sizes.pdf\n",
      " 1 file changed, 0 insertions(+), 0 deletions(-)\n",
      "Counting objects: 5, done.\n",
      "Delta compression using up to 16 threads.\n",
      "Compressing objects: 100% (4/4), done.\n",
      "Writing objects: 100% (5/5), 3.03 KiB | 0 bytes/s, done.\n",
      "Total 5 (delta 2), reused 0 (delta 0)\n",
      "remote: Resolving deltas: 100% (2/2)\u001b[K\u001b[K\n",
      "remote: Updating references: 100% (1/1)\u001b[K\u001b[K\n",
      "To https://git.overleaf.com/8608915dsywxshwwjmw\n",
      "   31765dd..7f9e386  master -> master\n"
     ]
    }
   ],
   "source": [
    "import db as db\n",
    "import sqlalchemy as sql\n",
    "\n",
    "from db import *\n",
    "%run util.py\n",
    "\n",
    "hostname = \"cc1\"\n",
    "db.init(hostname)\n",
    "\n",
    "TABLES = [\n",
    "    (coCLgenResult, \"Compiler errors\"),\n",
    "    (cl_launcherCLgenResult, \"Miscompilation\"),\n",
    "]\n",
    "\n",
    "data = []\n",
    "with Session(commit=False) as s:\n",
    "    for table, name in TABLES:\n",
    "        q = s.query(table).filter(table.submitted)\n",
    "        data += [{\n",
    "            \"Bug type\": classification_to_paper(result.classification), \n",
    "            \"Kernel Line Count\": len(result.program.src.strip().split('\\n'))\n",
    "        } for result in q]\n",
    "\n",
    "for file in fs.ls(fs.path(\"~/src/project_b/data/clreduce\"), recursive=True, abspaths=True):\n",
    "    if file.endswith(\".red.cl\"):\n",
    "        data += [{\"Bug type\": \"reduced\", \"Kernel Line Count\": lc(file)}]\n",
    "    if file.endswith(\".red.cl.orig\"):\n",
    "        data += [{\"Bug type\": \"unreduced\", \"Kernel Line Count\": lc(file)}]\n",
    "\n",
    "table = pd.DataFrame(data)\n",
    "\n",
    "def plot(table, *args, **kwargs):\n",
    "    ax = sns.boxplot(x=\"Bug type\", y=\"Kernel Line Count\", data=table)\n",
    "    \n",
    "    # yaxis\n",
    "    ax.set_yscale(\"log\")\n",
    "    \n",
    "    # x axis\n",
    "    plt.xlabel(\"\")\n",
    "    plt.axvline(x=plt.xlim()[1] - 2, color=\"k\", lw=1, linestyle=\"--\")\n",
    "    \n",
    "    viz.finalise(*args, **kwargs)\n",
    "\n",
    "plot(table, figsize=(3.5, 3))\n",
    "\n",
    "# push LaTex to Overleaf\n",
    "!cd ~/docs/paper-project_b/ && git pull --rebase && mkdir -pv build/img\n",
    "plot(table, fs.path(\"~/docs/paper-project_b/build/img/kernel-sizes.pdf\"), figsize=(3.5, 3))\n",
    "!cd ~/docs/paper-project_b/build && git add . && git commit -m \"auto: build/img/kernel-sizes.pdf\" && git push"
   ]
  },
  {
   "cell_type": "code",
   "execution_count": 54,
   "metadata": {},
   "outputs": [
    {
     "data": {
      "text/html": [
       "<div>\n",
       "<table border=\"1\" class=\"dataframe\">\n",
       "  <thead>\n",
       "    <tr style=\"text-align: right;\">\n",
       "      <th></th>\n",
       "      <th>Kernel Line Count</th>\n",
       "    </tr>\n",
       "    <tr>\n",
       "      <th>Bug type</th>\n",
       "      <th></th>\n",
       "    </tr>\n",
       "  </thead>\n",
       "  <tbody>\n",
       "    <tr>\n",
       "      <th>bf</th>\n",
       "      <td>12</td>\n",
       "    </tr>\n",
       "    <tr>\n",
       "      <th>c</th>\n",
       "      <td>4</td>\n",
       "    </tr>\n",
       "    <tr>\n",
       "      <th>reduced</th>\n",
       "      <td>49</td>\n",
       "    </tr>\n",
       "    <tr>\n",
       "      <th>unreduced</th>\n",
       "      <td>906</td>\n",
       "    </tr>\n",
       "    <tr>\n",
       "      <th>w</th>\n",
       "      <td>4</td>\n",
       "    </tr>\n",
       "  </tbody>\n",
       "</table>\n",
       "</div>"
      ],
      "text/plain": [
       "           Kernel Line Count\n",
       "Bug type                    \n",
       "bf                        12\n",
       "c                          4\n",
       "reduced                   49\n",
       "unreduced                906\n",
       "w                          4"
      ]
     },
     "execution_count": 54,
     "metadata": {},
     "output_type": "execute_result"
    }
   ],
   "source": [
    "table.groupby(\"Bug type\").median()"
   ]
  },
  {
   "cell_type": "code",
   "execution_count": null,
   "metadata": {
    "collapsed": true
   },
   "outputs": [],
   "source": [
    "data = []\n",
    "for file in fs.ls(fs.path(\"~/src/project_b/data/clreduce\"), recursive=True, abspaths=True):\n",
    "    if file.endswith(\".red.cl\"):\n",
    "        data += [{\"Bug type\": \"CLSmith\", \"Kernel Line Count\": lc(file)}]\n",
    "\n",
    "#ax = sns.boxplot(x=\"Bug\")"
   ]
  }
 ],
 "metadata": {
  "kernelspec": {
   "display_name": "project_b",
   "language": "python",
   "name": "project_b"
  },
  "language_info": {
   "codemirror_mode": {
    "name": "ipython",
    "version": 3
   },
   "file_extension": ".py",
   "mimetype": "text/x-python",
   "name": "python",
   "nbconvert_exporter": "python",
   "pygments_lexer": "ipython3",
   "version": "3.6.1"
  }
 },
 "nbformat": 4,
 "nbformat_minor": 2
}
