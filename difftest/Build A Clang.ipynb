{
 "cells": [
  {
   "cell_type": "markdown",
   "metadata": {},
   "source": [
    "# Build a Clang"
   ]
  },
  {
   "cell_type": "code",
   "execution_count": 1,
   "metadata": {},
   "outputs": [
    {
     "data": {
      "text/plain": [
       "'mysql://cc1:3306/project_b'"
      ]
     },
     "execution_count": 1,
     "metadata": {},
     "output_type": "execute_result"
    }
   ],
   "source": [
    "import sqlalchemy as sql\n",
    "import numpy as np\n",
    "import matplotlib.pyplot as plt\n",
    "import seaborn as sns\n",
    "import pandas as pd\n",
    "import os\n",
    "import datetime\n",
    "import humanize\n",
    "\n",
    "from collections import OrderedDict\n",
    "from matplotlib.ticker import FuncFormatter\n",
    "from collections import OrderedDict\n",
    "from labm8 import fs, viz\n",
    "\n",
    "def cache_time(path):\n",
    "    modified = datetime.datetime.fromtimestamp(os.path.getmtime(path))\n",
    "    diff = datetime.datetime.now() - modified\n",
    "    return humanize.naturaltime(diff) + \" ({})\".format(modified)\n",
    "\n",
    "%matplotlib inline\n",
    "sns.set(style=\"ticks\", color_codes=True)\n",
    "plt.style.use([\"seaborn-white\", \"seaborn-paper\"])\n",
    "\n",
    "import db\n",
    "from db import *\n",
    "%run util.py\n",
    "\n",
    "NUM_PROGRAMS = 75000\n",
    "\n",
    "hostname = \"cc1\"\n",
    "db.init(hostname)"
   ]
  },
  {
   "cell_type": "code",
   "execution_count": 41,
   "metadata": {},
   "outputs": [
    {
     "data": {
      "text/html": [
       "<div>\n",
       "<table border=\"1\" class=\"dataframe\">\n",
       "  <thead>\n",
       "    <tr style=\"text-align: right;\">\n",
       "      <th></th>\n",
       "      <th>Version</th>\n",
       "      <th>#. Results</th>\n",
       "      <th>#. Crashes</th>\n",
       "      <th>Ratio</th>\n",
       "      <th>#. Assertions</th>\n",
       "    </tr>\n",
       "  </thead>\n",
       "  <tbody>\n",
       "    <tr>\n",
       "      <th>0</th>\n",
       "      <td>3.4.2</td>\n",
       "      <td>25000</td>\n",
       "      <td>0</td>\n",
       "      <td>0.000000</td>\n",
       "      <td>0</td>\n",
       "    </tr>\n",
       "    <tr>\n",
       "      <th>1</th>\n",
       "      <td>3.5.2</td>\n",
       "      <td>75000</td>\n",
       "      <td>176</td>\n",
       "      <td>0.002347</td>\n",
       "      <td>2</td>\n",
       "    </tr>\n",
       "    <tr>\n",
       "      <th>2</th>\n",
       "      <td>3.6.2</td>\n",
       "      <td>75000</td>\n",
       "      <td>3196</td>\n",
       "      <td>0.042613</td>\n",
       "      <td>3</td>\n",
       "    </tr>\n",
       "    <tr>\n",
       "      <th>3</th>\n",
       "      <td>3.7.1</td>\n",
       "      <td>75000</td>\n",
       "      <td>1370</td>\n",
       "      <td>0.018267</td>\n",
       "      <td>2</td>\n",
       "    </tr>\n",
       "    <tr>\n",
       "      <th>4</th>\n",
       "      <td>3.8.1</td>\n",
       "      <td>75000</td>\n",
       "      <td>1347</td>\n",
       "      <td>0.017960</td>\n",
       "      <td>2</td>\n",
       "    </tr>\n",
       "    <tr>\n",
       "      <th>5</th>\n",
       "      <td>3.9.1</td>\n",
       "      <td>75000</td>\n",
       "      <td>429</td>\n",
       "      <td>0.005720</td>\n",
       "      <td>2</td>\n",
       "    </tr>\n",
       "    <tr>\n",
       "      <th>6</th>\n",
       "      <td>4.0.1</td>\n",
       "      <td>75000</td>\n",
       "      <td>542</td>\n",
       "      <td>0.007227</td>\n",
       "      <td>2</td>\n",
       "    </tr>\n",
       "    <tr>\n",
       "      <th>7</th>\n",
       "      <td>5.0.0</td>\n",
       "      <td>75000</td>\n",
       "      <td>96</td>\n",
       "      <td>0.001280</td>\n",
       "      <td>1</td>\n",
       "    </tr>\n",
       "    <tr>\n",
       "      <th>8</th>\n",
       "      <td>6.0.0</td>\n",
       "      <td>75000</td>\n",
       "      <td>121</td>\n",
       "      <td>0.001613</td>\n",
       "      <td>3</td>\n",
       "    </tr>\n",
       "  </tbody>\n",
       "</table>\n",
       "</div>"
      ],
      "text/plain": [
       "  Version  #. Results  #. Crashes     Ratio  #. Assertions\n",
       "0   3.4.2       25000           0  0.000000              0\n",
       "1   3.5.2       75000         176  0.002347              2\n",
       "2   3.6.2       75000        3196  0.042613              3\n",
       "3   3.7.1       75000        1370  0.018267              2\n",
       "4   3.8.1       75000        1347  0.017960              2\n",
       "5   3.9.1       75000         429  0.005720              2\n",
       "6   4.0.1       75000         542  0.007227              2\n",
       "7   5.0.0       75000          96  0.001280              1\n",
       "8   6.0.0       75000         121  0.001613              3"
      ]
     },
     "execution_count": 41,
     "metadata": {},
     "output_type": "execute_result"
    }
   ],
   "source": [
    "def get_crash_ratio_table():\n",
    "    rows = []\n",
    "    with Session(commit=False) as s:\n",
    "        clangs = s.query(CLgenClangResult.clang)\\\n",
    "                    .distinct()\\\n",
    "                    .order_by(CLgenClangResult.clang)\n",
    "\n",
    "        for clang, in clangs:\n",
    "            # results for this clang\n",
    "            q = s.query(CLgenClangResult.id)\\\n",
    "                .filter(CLgenClangResult.clang == clang)\\\n",
    "                .order_by(CLgenClangResult.program_id)\n",
    "\n",
    "            num_crashes = q.filter(CLgenClangResult.status != 0,\n",
    "                                   CLgenClangResult.status != 1)\\\n",
    "                            .limit(NUM_PROGRAMS).count()\n",
    "            num_programs = q.limit(NUM_PROGRAMS).count()\n",
    "            \n",
    "            assertions = s.query(CLgenClangAssertion.id)\\\n",
    "                .join(CLgenClangStderr)\\\n",
    "                .join(CLgenClangResult)\\\n",
    "                .filter(CLgenClangResult.clang == clang)\\\n",
    "                .distinct()\\\n",
    "                .count()\n",
    "                \n",
    "            unreachables = s.query(CLgenClangUnreachable.id)\\\n",
    "                .join(CLgenClangStderr)\\\n",
    "                .join(CLgenClangResult)\\\n",
    "                .filter(CLgenClangResult.clang == clang)\\\n",
    "                .distinct()\\\n",
    "                .count()\n",
    "                \n",
    "            terminate = s.query(CLgenClangTerminate.id)\\\n",
    "                .join(CLgenClangStderr)\\\n",
    "                .join(CLgenClangResult)\\\n",
    "                .filter(CLgenClangResult.clang == clang)\\\n",
    "                .distinct()\\\n",
    "                .count()\n",
    "\n",
    "            ratio = num_crashes / num_programs\n",
    "            rows.append([clang, num_programs, num_crashes, ratio, assertions, unreachables, terminates])\n",
    "    return pd.DataFrame(rows, columns=[\"Version\", \"#. Results\", \"#. Crashes\", \"Ratio\", \"#. Assertions\"])\n",
    "\n",
    "ratio_table = get_crash_ratio_table()\n",
    "ratio_table"
   ]
  },
  {
   "cell_type": "code",
   "execution_count": 37,
   "metadata": {},
   "outputs": [
    {
     "name": "stderr",
     "output_type": "stream",
     "text": [
      "/home/cec/src/project_b/env/python3.6/lib/python3.6/site-packages/matplotlib/scale.py:101: RuntimeWarning: invalid value encountered in less_equal\n",
      "  a[a <= 0.0] = 1e-300\n"
     ]
    },
    {
     "data": {
      "image/png": "[encoded data removed]",
      "text/plain": [
       "<matplotlib.figure.Figure at 0x7f93f018be10>"
      ]
     },
     "metadata": {},
     "output_type": "display_data"
    },
    {
     "name": "stdout",
     "output_type": "stream",
     "text": [
      "Current branch master is up to date.\n",
      "[INFO  ] Wrote /home/cec/docs/paper-project_b/build/img/clang-crashes.pdf\n",
      "[master fe5bd5d] auto: build/img/clang-crashes.pdf\n",
      " 1 file changed, 0 insertions(+), 0 deletions(-)\n",
      "Counting objects: 5, done.\n",
      "Delta compression using up to 16 threads.\n",
      "Compressing objects: 100% (5/5), done.\n",
      "Writing objects: 100% (5/5), 444 bytes | 0 bytes/s, done.\n",
      "Total 5 (delta 3), reused 0 (delta 0)\n",
      "remote: Resolving deltas: 100% (3/3)\u001b[K\u001b[K\n",
      "remote: Updating references: 100% (1/1)\u001b[K\u001b[K\n",
      "To https://git.overleaf.com/8608915dsywxshwwjmw\n",
      "   b086803..fe5bd5d  master -> master\n"
     ]
    }
   ],
   "source": [
    "sns.set(style=\"ticks\")\n",
    "\n",
    "def plot_crash_rate(*args, **kwargs):\n",
    "    ax = sns.barplot(x=\"Version\", y='Ratio', data=ratio_table, color='gray')\n",
    "\n",
    "    # X axis\n",
    "    plt.xlabel(\"LLVM Version\")\n",
    "    plt.setp(ax.get_xticklabels(), rotation=90)  # rotate x ticks\n",
    "\n",
    "    # Y axis\n",
    "    plt.ylabel(\"Crash Error Rate (log %)\")\n",
    "    ax.set_yscale(\"log\", nonposy='clip')\n",
    "    ax.set_yticklabels(['{:3.2f}%'.format(x*100) for x in ax.get_yticks()])\n",
    "    # plt.ylim((0,None))\n",
    "    \n",
    "    # Border\n",
    "    sns.despine(ax=ax)\n",
    "    \n",
    "    viz.finalise(*args, **kwargs)\n",
    "\n",
    "plot_crash_rate(figsize=(4, 3))\n",
    "\n",
    "# push LaTex to Overleaf\n",
    "!cd ~/docs/paper-project_b/ && git pull --rebase\n",
    "plot_crash_rate(fs.path(\"~/docs/paper-project_b/build/img/clang-crashes.pdf\"), figsize=(4, 3))\n",
    "!cd ~/docs/paper-project_b/build && git add . && git commit -m \"auto: build/img/clang-crashes.pdf\" && git push"
   ]
  },
  {
   "cell_type": "code",
   "execution_count": null,
   "metadata": {
    "collapsed": true
   },
   "outputs": [],
   "source": []
  }
 ],
 "metadata": {
  "kernelspec": {
   "display_name": "project_b",
   "language": "python",
   "name": "project_b"
  },
  "language_info": {
   "codemirror_mode": {
    "name": "ipython",
    "version": 3
   },
   "file_extension": ".py",
   "mimetype": "text/x-python",
   "name": "python",
   "nbconvert_exporter": "python",
   "pygments_lexer": "ipython3",
   "version": "3.6.1"
  }
 },
 "nbformat": 4,
 "nbformat_minor": 2
}
